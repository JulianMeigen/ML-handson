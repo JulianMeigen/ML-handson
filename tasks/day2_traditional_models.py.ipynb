{
 "cells": [
  {
   "metadata": {},
   "cell_type": "markdown",
   "source": [
    "# Training tree-based models for time series forecasting\n",
    "\n",
    "After working with the ARIMA model yesterday, today you will use the same data to fit a Random Forest (RF) and XGBoost model on it.\n",
    "\n",
    "Throughout the seminar, we will use the following splits for training, validation, and testing. Make sure to keep the tests unseen until the final evaluation (information leakage):\n",
    "\n",
    "- Training set: 2009-2013\n",
    "- Validation set: 2014\n",
    "- Test set: 2015-2016\n",
    "\n",
    "Required python packages: pandas, numpy, matplotlib, scikit-learn, xgboost"
   ],
   "id": "bef004b1812c2d2b"
  },
  {
   "metadata": {},
   "cell_type": "markdown",
   "source": [
    "## Task 1: Feature Engineering\n",
    "\n",
    "For random forest and xgboost, engineer features for the flu-trends dataset by incorporating lagged values (e.g., 8 weeks); ensure that your feature engineering process does not introduce information from future data points into past records.\n",
    "\n",
    "> For instance, use the past 8 weeks to predict the next week.X-columns: FluVisits_t-8, FluVisits_t-7, ..., FluVisits_t-1\n",
    ">\n",
    "> You can also predict more than one week ahead. Then you need to shift the next samples accordingly.X-columns: FluVisits_t-8, FluVisits_t-7, ..., FluVisits_t-1\n",
    "Y-columns: FluVisits_t, FluVisits_t+1, FluVisits_t+2"
   ],
   "id": "2fd587e050d8faef"
  },
  {
   "metadata": {},
   "cell_type": "markdown",
   "source": [
    "```python\n",
    " def create_features(data: pd.DataFrame, target_column: str, feature_length: int = 8, prediction_length: int = 2) -> Tuple[np.ndarray, np.ndarray]:\n",
    "    ...\n",
    "    return X, y\n",
    "```"
   ],
   "id": "44d3af2cc83756ac"
  },
  {
   "metadata": {},
   "cell_type": "code",
   "outputs": [],
   "execution_count": null,
   "source": "",
   "id": "5fe411871402377f"
  },
  {
   "metadata": {},
   "cell_type": "markdown",
   "source": [
    "## Task 2: Fitting the models\n",
    "\n",
    "Task 2.1: Fit a Random Forest model to the data. Evaluate the model using the test set."
   ],
   "id": "fd60069eff3dd8d5"
  },
  {
   "metadata": {},
   "cell_type": "code",
   "outputs": [],
   "execution_count": null,
   "source": "",
   "id": "d1ee8664483835e6"
  },
  {
   "metadata": {},
   "cell_type": "markdown",
   "source": "Task 2.2: Fit a XGBoost model to the data. Evaluate the model using the test set.",
   "id": "3db1c8cc6be1d38"
  },
  {
   "metadata": {},
   "cell_type": "code",
   "outputs": [],
   "execution_count": null,
   "source": "",
   "id": "80c7b40eb748d247"
  },
  {
   "metadata": {},
   "cell_type": "markdown",
   "source": "Describe the performance of the models and compare them in a few sentences. How do they perform in comparison to each other?",
   "id": "c70f947cd3edb342"
  },
  {
   "metadata": {},
   "cell_type": "markdown",
   "source": [
    "## Task 3: Hyperparameter tuning via grid search\n",
    "\n",
    "Tune the hyperparameters of the Random Forest and XGBoost models using grid search. Focus on the following hyperparameters:\n",
    "\n",
    "Random Forest:\n",
    "- n_estimators\n",
    "- max_depth\n",
    "- ...\n",
    "\n",
    "XGBoost:\n",
    "- gamma\n",
    "- max_depth\n",
    "- eta\n",
    "- ...\n",
    "\n",
    "Optimize the hyperparameters using the validation set and the refit the models using the best hyperparameters on the entire training set and evaluate them on the test set."
   ],
   "id": "124f2160d331cd30"
  },
  {
   "metadata": {},
   "cell_type": "code",
   "outputs": [],
   "execution_count": null,
   "source": "",
   "id": "a52eb76733e2d3e6"
  },
  {
   "metadata": {},
   "cell_type": "markdown",
   "source": [
    "## Task 4: Time series cross-validation\n",
    "\n",
    "Implement a time series cross-validation strategy to optimize the hyperparameters of the models. Except for the cross-validation strategy, the procedure is the same as in Task 3. You only need to define different training and validation sets before performing the grid search. In the end, you take the parameters that performed best across all folds and refit the models on the entire training set and evaluate them on the test set."
   ],
   "id": "b805a5907d893860"
  },
  {
   "metadata": {},
   "cell_type": "code",
   "outputs": [],
   "execution_count": null,
   "source": "",
   "id": "1ce1d23d4622a83f"
  },
  {
   "metadata": {},
   "cell_type": "markdown",
   "source": [
    "# Optional Task:\n",
    "- Take a look which other features could be good predictors for the flu visits. How does including additional features impact the overall model performance?"
   ],
   "id": "866b4fd6d6067c12"
  }
 ],
 "metadata": {
  "kernelspec": {
   "display_name": "Python 3",
   "language": "python",
   "name": "python3"
  },
  "language_info": {
   "codemirror_mode": {
    "name": "ipython",
    "version": 2
   },
   "file_extension": ".py",
   "mimetype": "text/x-python",
   "name": "python",
   "nbconvert_exporter": "python",
   "pygments_lexer": "ipython2",
   "version": "2.7.6"
  }
 },
 "nbformat": 4,
 "nbformat_minor": 5
}
