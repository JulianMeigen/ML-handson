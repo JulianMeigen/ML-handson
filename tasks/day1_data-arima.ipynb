{
 "cells": [
  {
   "cell_type": "markdown",
   "id": "qPlMqd2J2Mzw",
   "metadata": {
    "id": "qPlMqd2J2Mzw"
   },
   "source": [
    "## Flu trends dataset: Understanding your data and applying the ARIMA model\n",
    "\n",
    "This notebook contains the tasks to analyze the flu trends dataset and to apply the ARIMA model on it. The dataset contains the Google Trends data for various flu-related search terms as well as the weekly office visits for the flu (FluVisits column). You can find the dataset in data/flu_trends.csv. Install required packages and complete the notebook.\n",
    "\n",
    "Throughout the seminar, we will use the following splits for training, validation, and testing. Make sure to keep the tests unseen until the final evaluation (information leakage):\n",
    "- Training set: 2009-2013\n",
    "- Validation set: 2014\n",
    "- Test set: 2015-2016\n",
    "\n",
    "Required python packages: pandas, numpy, matplotlib, scikit-learn, statsmodels, pmdarima"
   ]
  },
  {
   "cell_type": "code",
   "execution_count": null,
   "id": "cbefee51",
   "metadata": {},
   "outputs": [],
   "source": [
    "# Install required packages"
   ]
  },
  {
   "cell_type": "code",
   "execution_count": null,
   "id": "099923bc",
   "metadata": {},
   "outputs": [],
   "source": [
    "# imports\n",
    "import pandas as pd\n",
    "import numpy as np\n",
    "..."
   ]
  },
  {
   "cell_type": "markdown",
   "id": "x-idKX0y2Mzz",
   "metadata": {
    "id": "x-idKX0y2Mzz"
   },
   "source": [
    "\n",
    "## Task 1: Data Exploration"
   ]
  },
  {
   "cell_type": "markdown",
   "id": "8oNzZaXw2Mzz",
   "metadata": {
    "id": "8oNzZaXw2Mzz"
   },
   "source": [
    "**Task 1.1:** Load the dataset and display the first few rows to understand the structure of the data. Check the data types of each column and convert the week column to a more usable datetime format."
   ]
  },
  {
   "cell_type": "code",
   "execution_count": null,
   "id": "52dc9bb2",
   "metadata": {},
   "outputs": [],
   "source": []
  },
  {
   "cell_type": "markdown",
   "id": "iQM4rM2k2Mzz",
   "metadata": {
    "id": "iQM4rM2k2Mzz"
   },
   "source": [
    "**Task 1.2:** Are there any missing values in the dataset? If so, how would you handle them?"
   ]
  },
  {
   "cell_type": "code",
   "execution_count": null,
   "id": "c1ff94b6",
   "metadata": {},
   "outputs": [],
   "source": []
  },
  {
   "cell_type": "markdown",
   "id": "yFLVQdtf2Mz0",
   "metadata": {
    "id": "yFLVQdtf2Mz0"
   },
   "source": [
    "**Task 1.3:** Provide summary statistics for the dataset."
   ]
  },
  {
   "cell_type": "code",
   "execution_count": null,
   "id": "2e0baffa",
   "metadata": {},
   "outputs": [],
   "source": []
  },
  {
   "cell_type": "markdown",
   "id": "c159769e",
   "metadata": {},
   "source": [
    "**Task 1.4:** Plot the weekly FluVisits over time to visualize trends and patterns. Compare with a few of the search trends. What do you observe?"
   ]
  },
  {
   "cell_type": "code",
   "execution_count": null,
   "id": "598110df",
   "metadata": {},
   "outputs": [],
   "source": []
  },
  {
   "cell_type": "markdown",
   "id": "zXdvYjG32Mz0",
   "metadata": {
    "id": "zXdvYjG32Mz0"
   },
   "source": [
    "**Task 1.5:** Group the data by month and calculate the average number for each month. Create a bar plot to visualize the monthly averages, which will help identify any seasonal patterns. Check how the number of cases develops over the years.\n"
   ]
  },
  {
   "cell_type": "code",
   "execution_count": null,
   "id": "79b62dde",
   "metadata": {},
   "outputs": [],
   "source": []
  },
  {
   "cell_type": "markdown",
   "id": "gOJjbWZh2Mz0",
   "metadata": {
    "id": "gOJjbWZh2Mz0"
   },
   "source": [
    "## Task 2: Stationarity and Autocorrelation"
   ]
  },
  {
   "cell_type": "markdown",
   "id": "29d43847",
   "metadata": {},
   "source": [
    "**Task 2.1:** Apply the Augmented Dickey-Fuller test to check for stationarity. Explain the results and the implications for time series modeling."
   ]
  },
  {
   "cell_type": "code",
   "execution_count": null,
   "id": "e244bd7e",
   "metadata": {},
   "outputs": [],
   "source": []
  },
  {
   "cell_type": "markdown",
   "id": "Oq3pbor62Mz1",
   "metadata": {
    "id": "Oq3pbor62Mz1"
   },
   "source": [
    "**Task 2.2:** Investigate Autocorrelation by plotting the Autocorrelation Function (ACF) and the partial Autocorrelation Function (PACF) for the FluVisits column. Determine appropriate values for the AR (p) and MA (q) parameters of the ARIMA model based on these plots.\n",
    "\n",
    "> Hint: The statsmodels package provides usesful functions for that purpose.  \n",
    "> If you want to read more about the ACF and PACF, you can check this [link](https://machinelearningmastery.com/gentle-introduction-autocorrelation-partial-autocorrelation/)."
   ]
  },
  {
   "cell_type": "code",
   "execution_count": null,
   "id": "21ea657b",
   "metadata": {},
   "outputs": [],
   "source": []
  },
  {
   "cell_type": "markdown",
   "id": "7ab135be",
   "metadata": {},
   "source": [
    "Explain your visualizations and findings. Specifically, comment on the trends, seasonality, and autocorrelation. Explain why it is important to do these checks before applying the ARIMA model."
   ]
  },
  {
   "cell_type": "markdown",
   "id": "29f0fa7e",
   "metadata": {},
   "source": [
    "**Task 2.3:** Create lag plots for the FluVisits column to visualize the relationship between the current value and its past values. Comment on the patterns you observe in the lag plots."
   ]
  },
  {
   "cell_type": "markdown",
   "id": "_IKbtsU52Mz1",
   "metadata": {
    "id": "_IKbtsU52Mz1"
   },
   "source": [
    "## Task 3: Application of the AR(I)MA Model"
   ]
  },
  {
   "cell_type": "markdown",
   "id": "70157221",
   "metadata": {
    "id": "70157221"
   },
   "source": [
    "The ARIMA (AutoRegressive Integrated Moving Average) model is a popular time series forecasting model that combines three components:\n",
    "\n",
    "1. **AR (AutoRegressive)**: Uses the dependent relationship between an observation and some number of lagged observations.\n",
    "2. **I (Integrated)**: Represents the differencing of raw observations to allow the time series to become stationary.\n",
    "3. **MA (Moving Average)**: Uses the dependency between an observation and a residual error from a moving average model applied to lagged observations.\n",
    "\n",
    "ARIMA is denoted as ARIMA(p,d,q), where:\n",
    "- p: The order of the autoregressive term\n",
    "- d: The number of differencing required to make the time series stationary\n",
    "- q: The order of the moving average term\n",
    "\n",
    "For further information, you can refer to e.g. this [tutorial](https://www.machinelearningplus.com/time-series/arima-model-time-series-forecasting-python/). \n",
    "\n",
    "Many Python packages provide implementations for the ARIMA model, but in this seminar, we will use the [pmdarima](pmdarima) package. The pmdarima package provides an easy-to-use interface for the ARIMA model and automatically selects the best parameters."
   ]
  },
  {
   "cell_type": "markdown",
   "id": "8d87621e",
   "metadata": {},
   "source": [
    "**Task 3.1:** Prepare your data for the ARIMA model. In the upcoming days, you will use the years 2015-2016 for testing and therefore you should also get the predictions for these years with the ARIMA model. Prepare the data accordingly. What input is expected by the model?"
   ]
  },
  {
   "cell_type": "code",
   "execution_count": null,
   "id": "4f68aec4",
   "metadata": {},
   "outputs": [],
   "source": []
  },
  {
   "cell_type": "markdown",
   "id": "d7f42676",
   "metadata": {},
   "source": [
    "**Task 3.2:** Use the auto_arima function from the pmdarima package to find the best parameters for the ARIMA model."
   ]
  },
  {
   "cell_type": "markdown",
   "id": "64d8573b",
   "metadata": {},
   "source": []
  },
  {
   "cell_type": "markdown",
   "id": "dd09547b",
   "metadata": {},
   "source": [
    "**Task 3.3:** Fit the ARIMA model with the best parameters and make predictions for the test set (2015-2016). Evaluate the model using suitable metrics."
   ]
  },
  {
   "cell_type": "markdown",
   "id": "9046db0d",
   "metadata": {},
   "source": []
  },
  {
   "cell_type": "markdown",
   "id": "36cd993e",
   "metadata": {},
   "source": [
    "**Task 3.4:** Plot the actual vs. predicted values for the test set to visualize the model's performance."
   ]
  },
  {
   "cell_type": "markdown",
   "metadata": {},
   "source": [
    "## Optional tasks\n",
    "\n",
    "- Include search terms as covariates (exogenous features) in the model. Experiment with different combinations of search terms and evaluate the model's performance.\n",
    "- Apply Facebook's Prophet model to the same dataset and compare its performance with the ARIMA model."
   ]
  },
  {
   "cell_type": "markdown",
   "metadata": {},
   "source": []
  }
 ],
 "metadata": {
  "colab": {
   "provenance": []
  },
  "kernelspec": {
   "display_name": "Python 3 (ipykernel)",
   "language": "python",
   "name": "python3"
  },
  "language_info": {
   "codemirror_mode": {
    "name": "ipython",
    "version": 3
   },
   "file_extension": ".py",
   "mimetype": "text/x-python",
   "name": "python",
   "nbconvert_exporter": "python",
   "pygments_lexer": "ipython3",
   "version": "3.11.4"
  }
 },
 "nbformat": 4,
 "nbformat_minor": 5
}
