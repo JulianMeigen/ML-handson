{
 "cells": [
  {
   "cell_type": "markdown",
   "id": "c8fcebf3",
   "metadata": {},
   "source": [
    "# Download Julians Drive folder with Subgraphs into Google Colab"
   ]
  },
  {
   "cell_type": "code",
   "execution_count": null,
   "id": "7dd7e602",
   "metadata": {},
   "outputs": [],
   "source": [
    "!gdown --folder https://drive.google.com/drive/folders/1VESm-JaHEqPJmM23iLW1mEJsuI2mLBdx?usp=sharing"
   ]
  },
  {
   "cell_type": "markdown",
   "id": "26f9feeb",
   "metadata": {},
   "source": [
    "# Load Subgraph"
   ]
  },
  {
   "cell_type": "code",
   "execution_count": null,
   "id": "675d175e",
   "metadata": {},
   "outputs": [],
   "source": [
    "import torch\n",
    "import torch_geometric\n",
    "\n",
    "path_big = \"/content/ML-HandsOn/subgraph.pt\"\n",
    "path_small = \"/content/ML-HandsOn/subgraph_hop_1.pt\"\n",
    "\n",
    "dataset = torch.load(path_big, weights_only=False)\n",
    "\n",
    "subgraph = dataset[\"graph\"]\n",
    "\n",
    "print(subgraph)"
   ]
  }
 ],
 "metadata": {
  "kernelspec": {
   "display_name": "mlhandson",
   "language": "python",
   "name": "python3"
  },
  "language_info": {
   "codemirror_mode": {
    "name": "ipython",
    "version": 3
   },
   "file_extension": ".py",
   "mimetype": "text/x-python",
   "name": "python",
   "nbconvert_exporter": "python",
   "pygments_lexer": "ipython3",
   "version": "3.12.8"
  }
 },
 "nbformat": 4,
 "nbformat_minor": 5
}
