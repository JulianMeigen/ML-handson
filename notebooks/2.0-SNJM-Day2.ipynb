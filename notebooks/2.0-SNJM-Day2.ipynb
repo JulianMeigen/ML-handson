{
 "cells": [
  {
   "cell_type": "markdown",
   "id": "5811f0a7",
   "metadata": {},
   "source": [
    "# Training tree-based models for time series forecasting\n",
    "\n",
    "After working with the ARIMA model yesterday, today you will use the same data to fit a Random Forest (RF) and XGBoost model on it.\n",
    "\n",
    "Throughout the seminar, we will use the following splits for training, validation, and testing. Make sure to keep the tests unseen until the final evaluation (information leakage):\n",
    "\n",
    "- Training set: 2009-2013\n",
    "- Validation set: 2014\n",
    "- Test set: 2015-2016\n",
    "\n",
    "Required python packages: pandas, numpy, matplotlib, scikit-learn, xgboost"
   ]
  },
  {
   "cell_type": "markdown",
   "id": "1a00f709",
   "metadata": {},
   "source": [
    "## Task 1: Feature Engineering\n",
    "\n",
    "For random forest and xgboost, engineer features for the flu-trends dataset by incorporating lagged values (e.g., 8 weeks); ensure that your feature engineering process does not introduce information from future data points into past records.\n",
    "\n",
    "> For instance, use the past 8 weeks to predict the next week.X-columns: FluVisits_t-8, FluVisits_t-7, ..., FluVisits_t-1\n",
    ">\n",
    "> You can also predict more than one week ahead. Then you need to shift the next samples accordingly.X-columns: FluVisits_t-8, FluVisits_t-7, ..., FluVisits_t-1\n",
    "Y-columns: FluVisits_t, FluVisits_t+1, FluVisits_t+2"
   ]
  },
  {
   "cell_type": "markdown",
   "id": "fffe0b60",
   "metadata": {},
   "source": [
    "```python\n",
    " def create_features(data: pd.DataFrame, target_column: str, feature_length: int = 8, prediction_length: int = 2) -> Tuple[np.ndarray, np.ndarray]:\n",
    "    ...\n",
    "    return X, y\n",
    "```"
   ]
  },
  {
   "cell_type": "code",
   "execution_count": null,
   "id": "065ec8c9",
   "metadata": {},
   "outputs": [],
   "source": []
  },
  {
   "cell_type": "markdown",
   "id": "7fd0a544",
   "metadata": {},
   "source": [
    "## Task 2: Fitting the models\n",
    "\n",
    "Task 2.1: Fit a Random Forest model to the data. Evaluate the model using the test set."
   ]
  },
  {
   "cell_type": "code",
   "execution_count": null,
   "id": "e124bf1d",
   "metadata": {},
   "outputs": [],
   "source": []
  },
  {
   "cell_type": "markdown",
   "id": "7aff02de",
   "metadata": {},
   "source": [
    "Task 2.2: Fit a XGBoost model to the data. Evaluate the model using the test set."
   ]
  },
  {
   "cell_type": "code",
   "execution_count": null,
   "id": "bb3b7487",
   "metadata": {},
   "outputs": [],
   "source": []
  },
  {
   "cell_type": "markdown",
   "id": "596b82d8",
   "metadata": {},
   "source": [
    "Describe the performance of the models and compare them in a few sentences. How do they perform in comparison to each other?"
   ]
  },
  {
   "cell_type": "markdown",
   "id": "a3ae78a1",
   "metadata": {},
   "source": [
    "## Task 3: Hyperparameter tuning via grid search\n",
    "\n",
    "Tune the hyperparameters of the Random Forest and XGBoost models using grid search. Focus on the following hyperparameters:\n",
    "\n",
    "Random Forest:\n",
    "- n_estimators\n",
    "- max_depth\n",
    "- ...\n",
    "\n",
    "XGBoost:\n",
    "- gamma\n",
    "- max_depth\n",
    "- eta\n",
    "- ...\n",
    "\n",
    "Optimize the hyperparameters using the validation set and the refit the models using the best hyperparameters on the entire training set and evaluate them on the test set."
   ]
  },
  {
   "cell_type": "code",
   "execution_count": null,
   "id": "90b256f2",
   "metadata": {},
   "outputs": [],
   "source": []
  },
  {
   "cell_type": "markdown",
   "id": "6b26dfa0",
   "metadata": {},
   "source": [
    "## Task 4: Time series cross-validation\n",
    "\n",
    "Implement a time series cross-validation strategy to optimize the hyperparameters of the models. Except for the cross-validation strategy, the procedure is the same as in Task 3. You only need to define different training and validation sets before performing the grid search. In the end, you take the parameters that performed best across all folds and refit the models on the entire training set and evaluate them on the test set."
   ]
  },
  {
   "cell_type": "code",
   "execution_count": null,
   "id": "952497e9",
   "metadata": {},
   "outputs": [],
   "source": []
  },
  {
   "cell_type": "markdown",
   "id": "dd6b19dc",
   "metadata": {},
   "source": [
    "# Optional Task:\n",
    "- Take a look which other features could be good predictors for the flu visits. How does including additional features impact the overall model performance?"
   ]
  }
 ],
 "metadata": {
  "language_info": {
   "name": "python"
  }
 },
 "nbformat": 4,
 "nbformat_minor": 5
}
