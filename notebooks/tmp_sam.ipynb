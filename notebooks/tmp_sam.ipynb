{
 "cells": [
  {
   "cell_type": "markdown",
   "id": "48b5fed1",
   "metadata": {},
   "source": [
    "# Assignment Day 9\n",
    "\n",
    "## Team members:\n",
    "- Samuel Nebgen s6sanebg@uni-bonn.de\n",
    "- Muhammad Humza Arain s27marai@uni-bonn.de\n",
    "- Julian Meigen s82jmeig@uni-bonn.de\n",
    "\n",
    "## 18.09.2025\n",
    "\n",
    "Contributions were made by all team members in around the same amount, either based on discussions or coding."
   ]
  },
  {
   "cell_type": "markdown",
   "id": "0f7a5745",
   "metadata": {},
   "source": [
    "# Task 1: Load the Mutagenicity dataset from TUDatasets (https://chrsmrrs.github.io/datasets/docs/datasets/)\n"
   ]
  },
  {
   "cell_type": "code",
   "execution_count": 1,
   "id": "82c69b2a",
   "metadata": {},
   "outputs": [],
   "source": [
    "import os\n",
    "import numpy as np\n",
    "import pandas as pd\n",
    "import matplotlib.pyplot as plt\n"
   ]
  },
  {
   "cell_type": "code",
   "execution_count": 2,
   "id": "d02dac90",
   "metadata": {},
   "outputs": [
    {
     "name": "stderr",
     "output_type": "stream",
     "text": [
      "c:\\Users\\samue\\Documents\\Life Science Informatics\\Semester 2\\Machine Learning hands on\\ML-handson\\.venv\\Lib\\site-packages\\torch_geometric\\typing.py:68: UserWarning: An issue occurred while importing 'pyg-lib'. Disabling its usage. Stacktrace: Could not find module 'C:\\Users\\samue\\Documents\\Life Science Informatics\\Semester 2\\Machine Learning hands on\\ML-handson\\.venv\\Lib\\site-packages\\libpyg.pyd' (or one of its dependencies). Try using the full path with constructor syntax.\n",
      "  warnings.warn(f\"An issue occurred while importing 'pyg-lib'. \"\n",
      "c:\\Users\\samue\\Documents\\Life Science Informatics\\Semester 2\\Machine Learning hands on\\ML-handson\\.venv\\Lib\\site-packages\\torch_geometric\\typing.py:97: UserWarning: An issue occurred while importing 'torch-cluster'. Disabling its usage. Stacktrace: Could not find module 'C:\\Users\\samue\\Documents\\Life Science Informatics\\Semester 2\\Machine Learning hands on\\ML-handson\\.venv\\Lib\\site-packages\\torch_cluster\\_fps_cpu.pyd' (or one of its dependencies). Try using the full path with constructor syntax.\n",
      "  warnings.warn(f\"An issue occurred while importing 'torch-cluster'. \"\n",
      "c:\\Users\\samue\\Documents\\Life Science Informatics\\Semester 2\\Machine Learning hands on\\ML-handson\\.venv\\Lib\\site-packages\\torch_geometric\\typing.py:124: UserWarning: An issue occurred while importing 'torch-sparse'. Disabling its usage. Stacktrace: Could not find module 'C:\\Users\\samue\\Documents\\Life Science Informatics\\Semester 2\\Machine Learning hands on\\ML-handson\\.venv\\Lib\\site-packages\\torch_sparse\\_convert_cpu.pyd' (or one of its dependencies). Try using the full path with constructor syntax.\n",
      "  warnings.warn(f\"An issue occurred while importing 'torch-sparse'. \"\n"
     ]
    }
   ],
   "source": [
    "from torch_geometric.datasets import TUDataset"
   ]
  },
  {
   "cell_type": "code",
   "execution_count": 3,
   "id": "737190f9",
   "metadata": {},
   "outputs": [],
   "source": [
    "save_data_path = os.path.join(\"..\", \"data\", \"interim\")\n",
    "dataset = TUDataset(root=save_data_path, name=\"Mutagenicity\")"
   ]
  },
  {
   "cell_type": "code",
   "execution_count": 26,
   "id": "aee80488",
   "metadata": {},
   "outputs": [
    {
     "name": "stdout",
     "output_type": "stream",
     "text": [
      "Graph 0 has 16 nodes and 32 edges.\n",
      "Graph 1 has 72 nodes and 154 edges.\n",
      "Graph 2 has 14 nodes and 26 edges.\n",
      "Graph 3 has 36 nodes and 76 edges.\n",
      "Graph 4 has 41 nodes and 86 edges.\n",
      "Graph 5 has 11 nodes and 22 edges.\n",
      "Graph 6 has 35 nodes and 72 edges.\n",
      "Graph 7 has 8 nodes and 14 edges.\n",
      "Graph 8 has 46 nodes and 90 edges.\n",
      "Graph 9 has 50 nodes and 108 edges.\n",
      "Graph 10 has 28 nodes and 58 edges.\n"
     ]
    }
   ],
   "source": [
    "len(list(dataset))\n",
    "for i in range(0, 11):\n",
    "    print(f'Graph {i} has {dataset[i].num_nodes} nodes and {dataset[i].num_edges} edges.')\n"
   ]
  },
  {
   "cell_type": "code",
   "execution_count": 23,
   "id": "5182c275",
   "metadata": {},
   "outputs": [
    {
     "data": {
      "text/plain": [
       "torch.Size([131488, 14])"
      ]
     },
     "execution_count": 23,
     "metadata": {},
     "output_type": "execute_result"
    }
   ],
   "source": [
    "dataset.x.shape"
   ]
  },
  {
   "cell_type": "code",
   "execution_count": 45,
   "id": "391c853e",
   "metadata": {},
   "outputs": [
    {
     "name": "stdout",
     "output_type": "stream",
     "text": [
      "The dataset contains 1936 non-mutagen and 2401 mutagen molecules.\n"
     ]
    }
   ],
   "source": [
    "count_non_mutagen= 0\n",
    "count_mutagen = 0\n",
    "\n",
    "for i in range (len(list(dataset))):\n",
    "    \n",
    "    if int(dataset[i].y[0]) == 1:\n",
    "        count_non_mutagen += 1\n",
    "    else:\n",
    "        count_mutagen += 1\n",
    "\n",
    "print(f'The dataset contains {count_non_mutagen} non-mutagen and {count_mutagen} mutagen molecules.')\n"
   ]
  },
  {
   "cell_type": "markdown",
   "id": "a09990a7",
   "metadata": {},
   "source": [
    "# Task 2: Visualize the data by drawing the molecule graph of one sample.\n"
   ]
  },
  {
   "cell_type": "markdown",
   "id": "edd7929e",
   "metadata": {},
   "source": [
    "### Using the predefined Code"
   ]
  },
  {
   "cell_type": "code",
   "execution_count": 5,
   "id": "1e12aa44",
   "metadata": {},
   "outputs": [],
   "source": [
    "import networkx as nx\n",
    "import numpy as np\n",
    "import matplotlib.pyplot as plt\n",
    "\n",
    "from torch_geometric.utils import to_networkx\n",
    "\n",
    "\n",
    "def draw_molecule(g, edge_mask=None, draw_edge_labels=False):\n",
    "    g = g.copy().to_undirected()\n",
    "    node_labels = {}\n",
    "    for u, data in g.nodes(data=True):\n",
    "        node_labels[u] = data['name']\n",
    "    pos = nx.planar_layout(g)\n",
    "    pos = nx.spring_layout(g, pos=pos)\n",
    "    if edge_mask is None:\n",
    "        edge_color = 'black'\n",
    "        widths = None\n",
    "    else:\n",
    "        edge_color = [edge_mask[(u, v)] for u, v in g.edges()]\n",
    "        widths = [x * 10 for x in edge_color]\n",
    "    nx.draw(g, pos=pos, labels=node_labels, width=widths,\n",
    "            edge_color=edge_color, edge_cmap=plt.cm.Blues,\n",
    "            node_color='azure')\n",
    "    \n",
    "    if draw_edge_labels and edge_mask is not None:\n",
    "        edge_labels = {k: ('%.2f' % v) for k, v in edge_mask.items()}    \n",
    "        nx.draw_networkx_edge_labels(g, pos, edge_labels=edge_labels,\n",
    "                                    font_color='red')\n",
    "    plt.show()\n",
    "\n",
    "\n",
    "def to_molecule(data):\n",
    "    ATOM_MAP = ['C', 'O', 'Cl', 'H', 'N', 'F',\n",
    "                'Br', 'S', 'P', 'I', 'Na', 'K', 'Li', 'Ca']\n",
    "    g = to_networkx(data, node_attrs=['x'])\n",
    "    for u, data in g.nodes(data=True):\n",
    "        data['name'] = ATOM_MAP[data['x'].index(1.0)]\n",
    "        del data['x']\n",
    "    return g"
   ]
  },
  {
   "cell_type": "code",
   "execution_count": 13,
   "id": "f5ceef3b",
   "metadata": {},
   "outputs": [
    {
     "data": {
      "image/png": "[encoded data removed]",
      "text/plain": [
       "<Figure size 640x480 with 1 Axes>"
      ]
     },
     "metadata": {},
     "output_type": "display_data"
    }
   ],
   "source": [
    "G = to_molecule(dataset[0])\n",
    "draw_molecule(G)"
   ]
  },
  {
   "cell_type": "markdown",
   "id": "36a69301",
   "metadata": {},
   "source": [
    "### Only using Netwokx"
   ]
  },
  {
   "cell_type": "code",
   "execution_count": 7,
   "id": "af0a8b9f",
   "metadata": {},
   "outputs": [
    {
     "data": {
      "image/png": "[encoded data removed]",
      "text/plain": [
       "<Figure size 640x480 with 1 Axes>"
      ]
     },
     "metadata": {},
     "output_type": "display_data"
    }
   ],
   "source": [
    "nx.draw(G)"
   ]
  },
  {
   "cell_type": "markdown",
   "id": "2b1b8565",
   "metadata": {},
   "source": [
    "# Task 3: Train a GNN model with 5 convolutional layers with pytorch-geometric.\n"
   ]
  },
  {
   "cell_type": "markdown",
   "id": "838300d9",
   "metadata": {},
   "source": [
    "## a. Define the model.\n"
   ]
  },
  {
   "cell_type": "code",
   "execution_count": null,
   "id": "37141dde",
   "metadata": {},
   "outputs": [],
   "source": [
    "import torch\n",
    "import torch.nn.functional as F\n",
    "from torch_geometric.nn import GCNConv, global_mean_pool"
   ]
  },
  {
   "cell_type": "code",
   "execution_count": null,
   "id": "096c8758",
   "metadata": {},
   "outputs": [],
   "source": [
    "import torch\n",
    "import torch.nn.functional as F\n",
    "from torch import nn\n",
    "\n",
    "from torch_geometric.nn import (\n",
    "    GINEConv,            # supports edge_attr via edge_dim\n",
    "    global_mean_pool,\n",
    "    BatchNorm\n",
    ")\n",
    "from torch_geometric.loader import DataLoader  # <-- PyG DataLoader\n",
    "\n",
    "\n",
    "class GCN(torch.nn.Module):\n",
    "    def __init__(self, in_channels, hidden_channels, out_channels, edge_dim, dropout=0.5):\n",
    "        super(GCN, self).__init__()\n",
    "        self.dropout = dropout\n",
    "\n",
    "        # small helper to build the MLP used inside GINEConv\n",
    "        def mlp(in_dim, out_dim):\n",
    "            return nn.Sequential(\n",
    "                nn.Linear(in_dim, out_dim),\n",
    "                nn.ReLU(),\n",
    "                nn.Linear(out_dim, out_dim),\n",
    "            )\n",
    "\n",
    "        # Convs that respect edge_attr (multi-d) via edge_dim\n",
    "        self.conv1 = GINEConv(mlp(in_channels, hidden_channels), edge_dim=edge_dim)\n",
    "        self.bn1   = BatchNorm(hidden_channels)\n",
    "\n",
    "        self.conv2 = GINEConv(mlp(hidden_channels, hidden_channels), edge_dim=edge_dim)\n",
    "        self.bn2   = BatchNorm(hidden_channels)\n",
    "\n",
    "        self.conv3 = GINEConv(mlp(hidden_channels, hidden_channels), edge_dim=edge_dim)\n",
    "        self.bn3   = BatchNorm(hidden_channels)\n",
    "\n",
    "        self.conv4 = GINEConv(mlp(hidden_channels, hidden_channels), edge_dim=edge_dim)\n",
    "        self.bn4   = BatchNorm(hidden_channels)\n",
    "\n",
    "        self.conv5 = GINEConv(mlp(hidden_channels, hidden_channels), edge_dim=edge_dim)\n",
    "        self.bn5   = BatchNorm(hidden_channels)\n",
    "\n",
    "        # Readout head (richer than direct pooling to logits)\n",
    "        self.head = nn.Sequential(\n",
    "            nn.Linear(hidden_channels, hidden_channels),\n",
    "            nn.ReLU(),\n",
    "            nn.Dropout(self.dropout),\n",
    "            nn.Linear(hidden_channels, out_channels),\n",
    "        )\n",
    "\n",
    "    def forward(self, graph):\n",
    "        x, edge_index, edge_attr, batch = graph.x, graph.edge_index, graph.edge_attr, graph.batch\n",
    "\n",
    "        x = self.conv1(x, edge_index, edge_attr); x = self.bn1(x); x = F.relu(x); x = F.dropout(x, p=self.dropout, training=self.training)\n",
    "        h = x #sdaving the h for residual skip connections\n",
    "        x = self.conv2(x, edge_index, edge_attr); x = self.bn2(x); x = F.relu(x)\n",
    "        x = (x + h) / 2; x = F.dropout(x, p=self.dropout, training=self.training)\n",
    "        h = x\n",
    "        x = self.conv3(x, edge_index, edge_attr); x = self.bn3(x); x = F.relu(x)\n",
    "        x = (x + h) / 2; x = F.dropout(x, p=self.dropout, training=self.training)\n",
    "        h = x\n",
    "        x = self.conv4(x, edge_index, edge_attr); x = self.bn4(x); x = F.relu(x)\n",
    "        x = (x + h) / 2; x = F.dropout(x, p=self.dropout, training=self.training)\n",
    "        h = x\n",
    "        x = self.conv5(x, edge_index, edge_attr); x = self.bn5(x); x = F.relu(x)\n",
    "        x = (x + h) / 2\n",
    "\n",
    "        # graph-level pooling + head\n",
    "        x = global_mean_pool(x, batch)\n",
    "        x = self.head(x)  # logits [num_graphs, num_classes]\n",
    "        return x\n",
    "\n",
    "    "
   ]
  },
  {
   "cell_type": "markdown",
   "id": "a0c1fe97",
   "metadata": {},
   "source": [
    "## b. Define the train and test function.\n"
   ]
  },
  {
   "cell_type": "code",
   "execution_count": 48,
   "id": "4f3ddb69",
   "metadata": {},
   "outputs": [],
   "source": [
    "# first split the data using a stratified split\n",
    "from torch_geometric.loader import DataLoader  # fixed\n",
    "from torch.utils.data import Subset\n",
    "from sklearn.model_selection import train_test_split\n",
    "import numpy as np\n",
    "\n",
    "y = np.array([int(data.y) for data in dataset])\n",
    "idx = np.arange(len(dataset))\n",
    "\n",
    "train_idx, test_idx = train_test_split(\n",
    "    idx, test_size=0.2, random_state=42, stratify=y\n",
    ")\n",
    "\n",
    "train_dataset = Subset(dataset, train_idx.tolist())\n",
    "test_dataset  = Subset(dataset, test_idx.tolist())\n",
    "\n",
    "train_loader = DataLoader(train_dataset, batch_size=64, shuffle=True)\n",
    "test_loader  = DataLoader(test_dataset,  batch_size=128, shuffle=False)\n"
   ]
  },
  {
   "cell_type": "code",
   "execution_count": null,
   "id": "16b5a055",
   "metadata": {},
   "outputs": [],
   "source": [
    "# defining the training function\n",
    "\n",
    "def train_one_epoch(model, loader, optimizer, device):\n",
    "    model.train()\n",
    "    total_loss, total, correct = 0.0, 0, 0\n",
    "    for batch in loader:\n",
    "        batch = batch.to(device)\n",
    "        optimizer.zero_grad()\n",
    "        out = model(batch)\n",
    "        loss = F.cross_entropy(out, batch.y)\n",
    "        loss.backward()\n",
    "        optimizer.step()\n",
    "\n",
    "        total_loss += float(loss) * batch.y.size(0)\n",
    "        pred = out.argmax(dim=1)\n",
    "        correct += int((pred == batch.y).sum())\n",
    "        total += batch.y.size(0)\n",
    "    return total_loss / total, correct / total"
   ]
  },
  {
   "cell_type": "code",
   "execution_count": 50,
   "id": "e9506986",
   "metadata": {},
   "outputs": [],
   "source": [
    "#defining the test/evaluate function\n",
    "\n",
    "@torch.no_grad()\n",
    "def evaluate(model, loader, device):\n",
    "    model.eval()\n",
    "    total_loss, total, correct = 0.0, 0, 0\n",
    "    for batch in loader:\n",
    "        batch = batch.to(device)\n",
    "        out = model(batch)\n",
    "        loss = F.cross_entropy(out, batch.y)\n",
    "        total_loss += float(loss) * batch.y.size(0)\n",
    "        pred = out.argmax(dim=1)\n",
    "        correct += int((pred == batch.y).sum())\n",
    "        total += batch.y.size(0)\n",
    "    return total_loss / total, correct / total"
   ]
  },
  {
   "cell_type": "markdown",
   "id": "02d2ab3c",
   "metadata": {},
   "source": [
    "## c. Train the model for 100 epochs.\n"
   ]
  },
  {
   "cell_type": "code",
   "execution_count": 49,
   "id": "fdc929bd",
   "metadata": {},
   "outputs": [
    {
     "name": "stderr",
     "output_type": "stream",
     "text": [
      "C:\\Users\\samue\\AppData\\Local\\Temp\\ipykernel_21012\\359362569.py:12: UserWarning: Converting a tensor with requires_grad=True to a scalar may lead to unexpected behavior.\n",
      "Consider using tensor.detach() first. (Triggered internally at C:\\actions-runner\\_work\\pytorch\\pytorch\\pytorch\\torch\\csrc\\autograd\\generated\\python_variable_methods.cpp:836.)\n",
      "  total_loss += float(loss) * batch.y.size(0)\n"
     ]
    },
    {
     "name": "stdout",
     "output_type": "stream",
     "text": [
      "Epoch 001 | train_loss 0.6268 acc 0.6460 | test_loss 0.6095 acc 0.6221\n",
      "Epoch 002 | train_loss 0.5773 acc 0.6904 | test_loss 0.6055 acc 0.6624\n",
      "Epoch 003 | train_loss 0.5550 acc 0.7140 | test_loss 0.5420 acc 0.7166\n",
      "Epoch 004 | train_loss 0.5457 acc 0.7334 | test_loss 0.6082 acc 0.6935\n",
      "Epoch 005 | train_loss 0.5450 acc 0.7290 | test_loss 0.5263 acc 0.7500\n",
      "Epoch 006 | train_loss 0.5394 acc 0.7336 | test_loss 0.5270 acc 0.7408\n",
      "Epoch 007 | train_loss 0.5300 acc 0.7345 | test_loss 0.5359 acc 0.7465\n",
      "Epoch 008 | train_loss 0.5263 acc 0.7394 | test_loss 0.5011 acc 0.7719\n",
      "Epoch 009 | train_loss 0.5292 acc 0.7481 | test_loss 0.5398 acc 0.7488\n",
      "Epoch 010 | train_loss 0.5155 acc 0.7564 | test_loss 0.4919 acc 0.7788\n",
      "Epoch 011 | train_loss 0.5124 acc 0.7579 | test_loss 0.5037 acc 0.7604\n",
      "Epoch 012 | train_loss 0.5080 acc 0.7593 | test_loss 0.4823 acc 0.7880\n",
      "Epoch 013 | train_loss 0.5036 acc 0.7610 | test_loss 0.5025 acc 0.7707\n",
      "Epoch 014 | train_loss 0.5056 acc 0.7688 | test_loss 0.4956 acc 0.7765\n",
      "Epoch 015 | train_loss 0.4969 acc 0.7731 | test_loss 0.5172 acc 0.7442\n",
      "Epoch 016 | train_loss 0.5152 acc 0.7593 | test_loss 0.4827 acc 0.7753\n",
      "Epoch 017 | train_loss 0.4966 acc 0.7723 | test_loss 0.4999 acc 0.7730\n",
      "Epoch 018 | train_loss 0.4926 acc 0.7760 | test_loss 0.4784 acc 0.7696\n",
      "Epoch 019 | train_loss 0.4885 acc 0.7826 | test_loss 0.5057 acc 0.7558\n",
      "Epoch 020 | train_loss 0.4926 acc 0.7763 | test_loss 0.4792 acc 0.7892\n",
      "Epoch 021 | train_loss 0.4905 acc 0.7809 | test_loss 0.4713 acc 0.7972\n",
      "Epoch 022 | train_loss 0.4888 acc 0.7754 | test_loss 0.4779 acc 0.7869\n",
      "Epoch 023 | train_loss 0.4866 acc 0.7798 | test_loss 0.5022 acc 0.7604\n",
      "Epoch 024 | train_loss 0.4915 acc 0.7769 | test_loss 0.4774 acc 0.7753\n",
      "Epoch 025 | train_loss 0.4809 acc 0.7887 | test_loss 0.4579 acc 0.7938\n",
      "Epoch 026 | train_loss 0.4900 acc 0.7809 | test_loss 0.4849 acc 0.7800\n",
      "Epoch 027 | train_loss 0.4779 acc 0.7899 | test_loss 0.4691 acc 0.7823\n",
      "Epoch 028 | train_loss 0.4789 acc 0.7847 | test_loss 0.4631 acc 0.7823\n",
      "Epoch 029 | train_loss 0.4824 acc 0.7855 | test_loss 0.4653 acc 0.7834\n",
      "Epoch 030 | train_loss 0.4710 acc 0.7956 | test_loss 0.4524 acc 0.8018\n",
      "Epoch 031 | train_loss 0.4705 acc 0.7910 | test_loss 0.4723 acc 0.7719\n",
      "Epoch 032 | train_loss 0.4684 acc 0.7962 | test_loss 0.4634 acc 0.7926\n",
      "Epoch 033 | train_loss 0.4637 acc 0.7991 | test_loss 0.4687 acc 0.7972\n",
      "Epoch 034 | train_loss 0.4653 acc 0.7965 | test_loss 0.4611 acc 0.8007\n",
      "Epoch 035 | train_loss 0.4672 acc 0.7942 | test_loss 0.4624 acc 0.7892\n",
      "Epoch 036 | train_loss 0.4610 acc 0.8031 | test_loss 0.4582 acc 0.7938\n",
      "Epoch 037 | train_loss 0.4589 acc 0.8005 | test_loss 0.4667 acc 0.7995\n",
      "Epoch 038 | train_loss 0.4466 acc 0.8129 | test_loss 0.4543 acc 0.8041\n",
      "Epoch 039 | train_loss 0.4632 acc 0.8031 | test_loss 0.4577 acc 0.7984\n",
      "Epoch 040 | train_loss 0.4563 acc 0.8020 | test_loss 0.4537 acc 0.7961\n",
      "Epoch 041 | train_loss 0.4524 acc 0.8028 | test_loss 0.4622 acc 0.7949\n",
      "Epoch 042 | train_loss 0.4654 acc 0.7976 | test_loss 0.4579 acc 0.7926\n",
      "Epoch 043 | train_loss 0.4571 acc 0.8051 | test_loss 0.4604 acc 0.7892\n",
      "Epoch 044 | train_loss 0.4661 acc 0.7965 | test_loss 0.4510 acc 0.7926\n",
      "Epoch 045 | train_loss 0.4536 acc 0.8118 | test_loss 0.4637 acc 0.7926\n",
      "Epoch 046 | train_loss 0.4530 acc 0.8126 | test_loss 0.4556 acc 0.8041\n",
      "Epoch 047 | train_loss 0.4496 acc 0.8028 | test_loss 0.4471 acc 0.8018\n",
      "Epoch 048 | train_loss 0.4442 acc 0.8118 | test_loss 0.4557 acc 0.8088\n",
      "Epoch 049 | train_loss 0.4457 acc 0.8135 | test_loss 0.4601 acc 0.7949\n",
      "Epoch 050 | train_loss 0.4482 acc 0.8126 | test_loss 0.4497 acc 0.7961\n",
      "Epoch 051 | train_loss 0.4529 acc 0.8017 | test_loss 0.4639 acc 0.7834\n",
      "Epoch 052 | train_loss 0.4441 acc 0.8037 | test_loss 0.4666 acc 0.7742\n",
      "Epoch 053 | train_loss 0.4568 acc 0.8040 | test_loss 0.4509 acc 0.7984\n",
      "Epoch 054 | train_loss 0.4458 acc 0.8109 | test_loss 0.4358 acc 0.8076\n",
      "Epoch 055 | train_loss 0.4434 acc 0.8080 | test_loss 0.4555 acc 0.7995\n",
      "Epoch 056 | train_loss 0.4405 acc 0.8175 | test_loss 0.4523 acc 0.7984\n",
      "Epoch 057 | train_loss 0.4400 acc 0.8095 | test_loss 0.4465 acc 0.8041\n",
      "Epoch 058 | train_loss 0.4495 acc 0.8063 | test_loss 0.4431 acc 0.8018\n",
      "Epoch 059 | train_loss 0.4489 acc 0.8089 | test_loss 0.4487 acc 0.8065\n",
      "Epoch 060 | train_loss 0.4413 acc 0.8092 | test_loss 0.4498 acc 0.7995\n",
      "Epoch 061 | train_loss 0.4457 acc 0.8100 | test_loss 0.4525 acc 0.8007\n",
      "Epoch 062 | train_loss 0.4379 acc 0.8158 | test_loss 0.4474 acc 0.7995\n",
      "Epoch 063 | train_loss 0.4420 acc 0.8092 | test_loss 0.4474 acc 0.7926\n",
      "Epoch 064 | train_loss 0.4346 acc 0.8146 | test_loss 0.4478 acc 0.8099\n",
      "Epoch 065 | train_loss 0.4417 acc 0.8152 | test_loss 0.4484 acc 0.7972\n",
      "Epoch 066 | train_loss 0.4329 acc 0.8144 | test_loss 0.4439 acc 0.8030\n",
      "Epoch 067 | train_loss 0.4315 acc 0.8158 | test_loss 0.4817 acc 0.7880\n",
      "Epoch 068 | train_loss 0.4363 acc 0.8175 | test_loss 0.4430 acc 0.7995\n",
      "Epoch 069 | train_loss 0.4352 acc 0.8155 | test_loss 0.4416 acc 0.7984\n",
      "Epoch 070 | train_loss 0.4291 acc 0.8167 | test_loss 0.4529 acc 0.8065\n",
      "Epoch 071 | train_loss 0.4364 acc 0.8071 | test_loss 0.4453 acc 0.8053\n",
      "Epoch 072 | train_loss 0.4363 acc 0.8106 | test_loss 0.4399 acc 0.8099\n",
      "Epoch 073 | train_loss 0.4321 acc 0.8152 | test_loss 0.4468 acc 0.8007\n",
      "Epoch 074 | train_loss 0.4362 acc 0.8089 | test_loss 0.4489 acc 0.8076\n",
      "Epoch 075 | train_loss 0.4324 acc 0.8155 | test_loss 0.4331 acc 0.8134\n",
      "Epoch 076 | train_loss 0.4306 acc 0.8221 | test_loss 0.4392 acc 0.8065\n",
      "Epoch 077 | train_loss 0.4309 acc 0.8118 | test_loss 0.4354 acc 0.8088\n",
      "Epoch 078 | train_loss 0.4278 acc 0.8187 | test_loss 0.4584 acc 0.7995\n",
      "Epoch 079 | train_loss 0.4257 acc 0.8195 | test_loss 0.4391 acc 0.8122\n",
      "Epoch 080 | train_loss 0.4193 acc 0.8233 | test_loss 0.4436 acc 0.8122\n",
      "Epoch 081 | train_loss 0.4273 acc 0.8167 | test_loss 0.4337 acc 0.8053\n",
      "Epoch 082 | train_loss 0.4170 acc 0.8291 | test_loss 0.4528 acc 0.7949\n",
      "Epoch 083 | train_loss 0.4246 acc 0.8224 | test_loss 0.4548 acc 0.7972\n",
      "Epoch 084 | train_loss 0.4244 acc 0.8216 | test_loss 0.4399 acc 0.8145\n",
      "Epoch 085 | train_loss 0.4188 acc 0.8270 | test_loss 0.4355 acc 0.8088\n",
      "Epoch 086 | train_loss 0.4249 acc 0.8204 | test_loss 0.4463 acc 0.7903\n",
      "Epoch 087 | train_loss 0.4079 acc 0.8285 | test_loss 0.4495 acc 0.8065\n",
      "Epoch 088 | train_loss 0.4191 acc 0.8314 | test_loss 0.4456 acc 0.8088\n",
      "Epoch 089 | train_loss 0.4261 acc 0.8233 | test_loss 0.4518 acc 0.7984\n",
      "Epoch 090 | train_loss 0.4118 acc 0.8219 | test_loss 0.4418 acc 0.8134\n",
      "Epoch 091 | train_loss 0.4175 acc 0.8207 | test_loss 0.4442 acc 0.8111\n",
      "Epoch 092 | train_loss 0.4179 acc 0.8233 | test_loss 0.4370 acc 0.8076\n",
      "Epoch 093 | train_loss 0.4131 acc 0.8296 | test_loss 0.4510 acc 0.7926\n",
      "Epoch 094 | train_loss 0.4142 acc 0.8285 | test_loss 0.4460 acc 0.7938\n",
      "Epoch 095 | train_loss 0.4230 acc 0.8233 | test_loss 0.4469 acc 0.8030\n",
      "Epoch 096 | train_loss 0.4163 acc 0.8299 | test_loss 0.4245 acc 0.8122\n",
      "Epoch 097 | train_loss 0.4089 acc 0.8288 | test_loss 0.4394 acc 0.8076\n",
      "Epoch 098 | train_loss 0.4170 acc 0.8233 | test_loss 0.4478 acc 0.7961\n",
      "Epoch 099 | train_loss 0.4148 acc 0.8276 | test_loss 0.4336 acc 0.8065\n",
      "Epoch 100 | train_loss 0.4137 acc 0.8265 | test_loss 0.4653 acc 0.7972\n"
     ]
    }
   ],
   "source": [
    "def fit(model, train_loader, test_loader, epochs=100, lr=1e-3, weight_decay=5e-4, device=None):\n",
    "    device = device or (\"cuda\" if torch.cuda.is_available() else \"cpu\")\n",
    "    model = model.to(device)\n",
    "    optimizer = torch.optim.Adam(model.parameters(), lr=lr, weight_decay=weight_decay)\n",
    "\n",
    "    for epoch in range(1, epochs + 1):\n",
    "        tr_loss, tr_acc = train_one_epoch(model, train_loader, optimizer, device)\n",
    "        te_loss, te_acc = evaluate(model, test_loader, device)\n",
    "        print(f\"Epoch {epoch:03d} | train_loss {tr_loss:.4f} acc {tr_acc:.4f} | \"\n",
    "              f\"test_loss {te_loss:.4f} acc {te_acc:.4f}\")\n",
    "\n",
    "edge_dim = dataset[0].edge_attr.size(-1)\n",
    "num_classes = 2\n",
    "model = GCN(in_channels=dataset.num_node_features,\n",
    "            hidden_channels=128,\n",
    "            out_channels=num_classes,\n",
    "            edge_dim=edge_dim,\n",
    "            dropout=0.5)\n",
    "\n",
    "fit(model, train_loader, test_loader, epochs=100, lr=1e-3, weight_decay=5e-4)\n"
   ]
  },
  {
   "cell_type": "markdown",
   "id": "27c39c68",
   "metadata": {},
   "source": [
    "# Task 4: Explain the predictions using the captum package (https://captum.ai/) with the method Integrated Gradients.\n"
   ]
  },
  {
   "cell_type": "markdown",
   "id": "416919d9",
   "metadata": {},
   "source": [
    "## a. Familiarize yourself with the method, and the captum package (https://captum.ai/docs/extension/integrated_gradients). Summarize the method in your own words (5-8sentences).\n"
   ]
  },
  {
   "cell_type": "markdown",
   "id": "ea3cbef4",
   "metadata": {},
   "source": [
    "Captums Integrated Gradients is a technique used to interpret the importance that individual input features have on a model's predictions. The technique works by comparing a models output for a given, randomly chosen input to a so called baseline input, which is typically a zeroed out version of the original input (e.g. a black image for image data, uninformative Graph with no Edges). The method computes the gradients of the model's output with respect to the input features, and integrates these gradients along a path from the baseline to the actual input. This means, that at every step along the path, the gradient is calculated and summed up to get a total importance score for each feature. At the end, the result is an attribution score for each input feature, showing how much that feature contributed to the difference between the model’s output at the baseline and the model’s output at the real input.\n",
    "\n",
    "https://arxiv.org/pdf/1703.01365"
   ]
  },
  {
   "cell_type": "markdown",
   "id": "f1b85766",
   "metadata": {},
   "source": [
    "\n",
    "## b. Calculate the attributions of the input to the model’s predictions.\n"
   ]
  },
  {
   "cell_type": "code",
   "execution_count": 54,
   "id": "10336201",
   "metadata": {},
   "outputs": [],
   "source": [
    "import captum\n",
    "from captum.attr import Saliency, IntegratedGradients\n"
   ]
  },
  {
   "cell_type": "code",
   "execution_count": null,
   "id": "3f1f3da1",
   "metadata": {},
   "outputs": [
    {
     "data": {
      "image/png": "[encoded data removed]",
      "text/plain": [
       "<Figure size 1000x500 with 1 Axes>"
      ]
     },
     "metadata": {},
     "output_type": "display_data"
    }
   ],
   "source": [
    "from torch_geometric.data import Data\n",
    "from captum.attr import Saliency, IntegratedGradients\n",
    "import numpy as np\n",
    "\n",
    "# --- helper: add batch info if missing (needed by global_mean_pool) ---\n",
    "def ensure_batch_on_data(data):\n",
    "    if not hasattr(data, \"batch\") or data.batch is None:\n",
    "        data.batch = torch.zeros(data.num_nodes, dtype=torch.long)\n",
    "    return data\n",
    "\n",
    "def model_forward(edge_mask, data):\n",
    "    data = ensure_batch_on_data(data)\n",
    "\n",
    "    # scale edge_attr by mask\n",
    "    edge_attr = data.edge_attr\n",
    "    edge_mask = edge_mask.view(-1, 1)           # shape [E,1] for broadcasting\n",
    "    masked_edge_attr = edge_attr * edge_mask\n",
    "\n",
    "    # build new data object with masked edges\n",
    "    graph = Data(\n",
    "        x=data.x,\n",
    "        edge_index=data.edge_index,\n",
    "        edge_attr=masked_edge_attr,\n",
    "        batch=data.batch,\n",
    "    )\n",
    "\n",
    "    logits = model(graph)   # [num_graphs, num_classes]\n",
    "    return logits\n",
    "\n",
    "def explain(data, target=0):\n",
    "    data = ensure_batch_on_data(data)\n",
    "\n",
    "    E = data.edge_index.size(1)\n",
    "    input_mask = torch.ones(E, requires_grad=True)\n",
    "\n",
    "    model.eval()\n",
    "\n",
    "    \n",
    "    ig = IntegratedGradients(model_forward)\n",
    "    mask = ig.attribute(\n",
    "            input_mask,\n",
    "            target=target,\n",
    "            additional_forward_args=(data,),\n",
    "            internal_batch_size=min(256, E)\n",
    "        )\n",
    "    \n",
    "\n",
    "    edge_mask = np.abs(mask.detach().numpy())\n",
    "    if edge_mask.max() > 0:\n",
    "        edge_mask = edge_mask / edge_mask.max()\n",
    "    return edge_mask\n",
    "\n",
    "\n",
    "data = random.choice([t for t in test_dataset if not t.y.item()])\n",
    "mol = to_molecule(data)\n",
    "\n",
    "edge_mask = explain( data, target=0)\n",
    "edge_mask_dict = aggregate_edge_directions(edge_mask, data)\n",
    "plt.figure(figsize=(10, 5))\n",
    "plt.title('IntegratedGradients')\n",
    "draw_molecule(mol, edge_mask_dict)"
   ]
  },
  {
   "cell_type": "markdown",
   "id": "fa859198",
   "metadata": {},
   "source": [
    "## c. Visualize your results. Which were the most important inputs for a prediction?\n"
   ]
  },
  {
   "cell_type": "markdown",
   "id": "5428e1f9",
   "metadata": {},
   "source": [
    "See above for the visualization. The most important inputs for the prediction are the thickest and darkest edges in the Graph. In this example, the most important edges are the ones between N and O, because NO2 is a known mutagenic group."
   ]
  },
  {
   "cell_type": "markdown",
   "id": "0e72c9f8",
   "metadata": {},
   "source": [
    "# Task 5: Use the GNNExplainer from pytorch-geometric to explain the model’s predictions.\n"
   ]
  },
  {
   "cell_type": "markdown",
   "id": "b60707d2",
   "metadata": {},
   "source": [
    "## a. Familiarize yourself with the method (https://arxiv.org/pdf/1903.03894 ). Summarize the method in your own words (5-8 sentences).\n"
   ]
  },
  {
   "cell_type": "markdown",
   "id": "78058cda",
   "metadata": {},
   "source": [
    "The GNNExplainer is an explainability tool that tries to create a subgraph and a subset of node features that are the most important for a GNNs prediction. In practice, GNNExplainer tries to find a subgraph that maximizes the mutual information between the prediction of the GNN on the full grpah and the prediction of the GNN on the subgraph. It learns a mask over the edges and the node features. Every Node and Edge gets a score between 0 and 1, that describes how much it will be considered in the prediction. The goal is, to find a mask that minimizes the size of the subgraph, while still keeping the same prediction as the full graph. Gradient descent is used to optimize the mask. The final result is a subgraph and a subset of node features that are the most important for the GNNs prediction."
   ]
  },
  {
   "cell_type": "markdown",
   "id": "2a759ef3",
   "metadata": {},
   "source": [
    "## b. Visualize your results. Choose an interesting prediction and show the most important input."
   ]
  }
 ],
 "metadata": {
  "kernelspec": {
   "display_name": ".venv",
   "language": "python",
   "name": "python3"
  },
  "language_info": {
   "codemirror_mode": {
    "name": "ipython",
    "version": 3
   },
   "file_extension": ".py",
   "mimetype": "text/x-python",
   "name": "python",
   "nbconvert_exporter": "python",
   "pygments_lexer": "ipython3",
   "version": "3.12.7"
  }
 },
 "nbformat": 4,
 "nbformat_minor": 5
}
