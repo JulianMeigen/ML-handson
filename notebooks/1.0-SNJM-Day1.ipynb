{
 "cells": [
  {
   "cell_type": "markdown",
   "id": "cacc8433",
   "metadata": {},
   "source": [
    "## Flu trends dataset: Understanding your data and applying the ARIMA model\n",
    "\n",
    "This notebook contains the tasks to analyze the flu trends dataset and to apply the ARIMA model on it. The dataset contains the Google Trends data for various flu-related search terms as well as the weekly office visits for the flu (FluVisits column). You can find the dataset in data/flu_trends.csv. Install required packages and complete the notebook.\n",
    "\n",
    "Throughout the seminar, we will use the following splits for training, validation, and testing. Make sure to keep the tests unseen until the final evaluation (information leakage):\n",
    "- Training set: 2009-2013\n",
    "- Validation set: 2014\n",
    "- Test set: 2015-2016\n",
    "\n",
    "Required python packages: pandas, numpy, matplotlib, scikit-learn, statsmodels, pmdarima"
   ]
  },
  {
   "cell_type": "code",
   "execution_count": null,
   "id": "4dc124e8",
   "metadata": {},
   "outputs": [],
   "source": [
    "# Install required packages"
   ]
  },
  {
   "cell_type": "code",
   "execution_count": null,
   "id": "d3711bba",
   "metadata": {},
   "outputs": [],
   "source": [
    "# imports\n",
    "import pandas as pd\n",
    "import numpy as np\n",
    "..."
   ]
  },
  {
   "cell_type": "markdown",
   "id": "d8d1abe9",
   "metadata": {},
   "source": [
    "\n",
    "## Task 1: Data Exploration"
   ]
  },
  {
   "cell_type": "markdown",
   "id": "3216835f",
   "metadata": {},
   "source": [
    "**Task 1.1:** Load the dataset and display the first few rows to understand the structure of the data. Check the data types of each column and convert the week column to a more usable datetime format."
   ]
  },
  {
   "cell_type": "code",
   "execution_count": null,
   "id": "2f98c5f2",
   "metadata": {},
   "outputs": [],
   "source": []
  },
  {
   "cell_type": "markdown",
   "id": "fa99fa8e",
   "metadata": {},
   "source": [
    "**Task 1.2:** Are there any missing values in the dataset? If so, how would you handle them?"
   ]
  },
  {
   "cell_type": "code",
   "execution_count": null,
   "id": "572f9bf6",
   "metadata": {},
   "outputs": [],
   "source": []
  },
  {
   "cell_type": "markdown",
   "id": "87e2b6f8",
   "metadata": {},
   "source": [
    "**Task 1.3:** Provide summary statistics for the dataset."
   ]
  },
  {
   "cell_type": "code",
   "execution_count": null,
   "id": "1101e6fe",
   "metadata": {},
   "outputs": [],
   "source": []
  },
  {
   "cell_type": "markdown",
   "id": "aa9ca212",
   "metadata": {},
   "source": [
    "**Task 1.4:** Plot the weekly FluVisits over time to visualize trends and patterns. Compare with a few of the search trends. What do you observe?"
   ]
  },
  {
   "cell_type": "code",
   "execution_count": null,
   "id": "6f6a0fc4",
   "metadata": {},
   "outputs": [],
   "source": []
  },
  {
   "cell_type": "markdown",
   "id": "61a4abdb",
   "metadata": {},
   "source": [
    "**Task 1.5:** Group the data by month and calculate the average number for each month. Create a bar plot to visualize the monthly averages, which will help identify any seasonal patterns. Check how the number of cases develops over the years.\n"
   ]
  },
  {
   "cell_type": "code",
   "execution_count": null,
   "id": "554f7ec2",
   "metadata": {},
   "outputs": [],
   "source": []
  },
  {
   "cell_type": "markdown",
   "id": "9d0a7cfd",
   "metadata": {},
   "source": [
    "## Task 2: Stationarity and Autocorrelation"
   ]
  },
  {
   "cell_type": "markdown",
   "id": "7607555f",
   "metadata": {},
   "source": [
    "**Task 2.1:** Apply the Augmented Dickey-Fuller test to check for stationarity. Explain the results and the implications for time series modeling."
   ]
  },
  {
   "cell_type": "code",
   "execution_count": null,
   "id": "f2210edc",
   "metadata": {},
   "outputs": [],
   "source": []
  },
  {
   "cell_type": "markdown",
   "id": "5dd22446",
   "metadata": {},
   "source": [
    "**Task 2.2:** Investigate Autocorrelation by plotting the Autocorrelation Function (ACF) and the partial Autocorrelation Function (PACF) for the FluVisits column. Determine appropriate values for the AR (p) and MA (q) parameters of the ARIMA model based on these plots.\n",
    "\n",
    "> Hint: The statsmodels package provides usesful functions for that purpose.  \n",
    "> If you want to read more about the ACF and PACF, you can check this [link](https://machinelearningmastery.com/gentle-introduction-autocorrelation-partial-autocorrelation/)."
   ]
  },
  {
   "cell_type": "code",
   "execution_count": null,
   "id": "2ee1d569",
   "metadata": {},
   "outputs": [],
   "source": []
  },
  {
   "cell_type": "markdown",
   "id": "3b746702",
   "metadata": {},
   "source": [
    "Explain your visualizations and findings. Specifically, comment on the trends, seasonality, and autocorrelation. Explain why it is important to do these checks before applying the ARIMA model."
   ]
  },
  {
   "cell_type": "markdown",
   "id": "02382920",
   "metadata": {},
   "source": [
    "**Task 2.3:** Create lag plots for the FluVisits column to visualize the relationship between the current value and its past values. Comment on the patterns you observe in the lag plots."
   ]
  },
  {
   "cell_type": "markdown",
   "id": "568693bd",
   "metadata": {},
   "source": [
    "## Task 3: Application of the AR(I)MA Model"
   ]
  },
  {
   "cell_type": "markdown",
   "id": "b38a1ac2",
   "metadata": {},
   "source": [
    "The ARIMA (AutoRegressive Integrated Moving Average) model is a popular time series forecasting model that combines three components:\n",
    "\n",
    "1. **AR (AutoRegressive)**: Uses the dependent relationship between an observation and some number of lagged observations.\n",
    "2. **I (Integrated)**: Represents the differencing of raw observations to allow the time series to become stationary.\n",
    "3. **MA (Moving Average)**: Uses the dependency between an observation and a residual error from a moving average model applied to lagged observations.\n",
    "\n",
    "ARIMA is denoted as ARIMA(p,d,q), where:\n",
    "- p: The order of the autoregressive term\n",
    "- d: The number of differencing required to make the time series stationary\n",
    "- q: The order of the moving average term\n",
    "\n",
    "For further information, you can refer to e.g. this [tutorial](https://www.machinelearningplus.com/time-series/arima-model-time-series-forecasting-python/). \n",
    "\n",
    "Many Python packages provide implementations for the ARIMA model, but in this seminar, we will use the [pmdarima](pmdarima) package. The pmdarima package provides an easy-to-use interface for the ARIMA model and automatically selects the best parameters."
   ]
  },
  {
   "cell_type": "markdown",
   "id": "7d4b697f",
   "metadata": {},
   "source": [
    "**Task 3.1:** Prepare your data for the ARIMA model. In the upcoming days, you will use the years 2015-2016 for testing and therefore you should also get the predictions for these years with the ARIMA model. Prepare the data accordingly. What input is expected by the model?"
   ]
  },
  {
   "cell_type": "code",
   "execution_count": null,
   "id": "dca60312",
   "metadata": {},
   "outputs": [],
   "source": []
  },
  {
   "cell_type": "markdown",
   "id": "daaaf6cc",
   "metadata": {},
   "source": [
    "**Task 3.2:** Use the auto_arima function from the pmdarima package to find the best parameters for the ARIMA model."
   ]
  },
  {
   "cell_type": "markdown",
   "id": "0019affc",
   "metadata": {},
   "source": []
  },
  {
   "cell_type": "markdown",
   "id": "8e89e0ed",
   "metadata": {},
   "source": [
    "**Task 3.3:** Fit the ARIMA model with the best parameters and make predictions for the test set (2015-2016). Evaluate the model using suitable metrics."
   ]
  },
  {
   "cell_type": "markdown",
   "id": "5cdc0f6f",
   "metadata": {},
   "source": []
  },
  {
   "cell_type": "markdown",
   "id": "dff0aef1",
   "metadata": {},
   "source": [
    "**Task 3.4:** Plot the actual vs. predicted values for the test set to visualize the model's performance."
   ]
  },
  {
   "cell_type": "markdown",
   "id": "c7b70969",
   "metadata": {},
   "source": [
    "## Optional tasks\n",
    "\n",
    "- Include search terms as covariates (exogenous features) in the model. Experiment with different combinations of search terms and evaluate the model's performance.\n",
    "- Apply Facebook's Prophet model to the same dataset and compare its performance with the ARIMA model."
   ]
  },
  {
   "cell_type": "markdown",
   "id": "50bb50a7",
   "metadata": {},
   "source": []
  }
 ],
 "metadata": {
  "language_info": {
   "name": "python"
  }
 },
 "nbformat": 4,
 "nbformat_minor": 5
}
