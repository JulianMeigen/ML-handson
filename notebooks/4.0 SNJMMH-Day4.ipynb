{
 "cells": [
  {
   "cell_type": "markdown",
   "metadata": {},
   "source": [
    "# Anomaly Detection in ECG data\n",
    "\n",
    "This notebook provides tasks to identify anomalies in an ECG data set. Download the dataset from the lab google drive.\n",
    "\n",
    "Required Python packages: pandas, numpy, matplotlib, pytorch"
   ]
  },
  {
   "cell_type": "markdown",
   "metadata": {},
   "source": [
    "## Task 1: Load an visualize the data\n",
    "\n",
    "Download the csv from the link provided above and load it into a pandas dataframe. Visualize the data of normal (label 1) vs abnormal (label 0) ECG signals. \n",
    "\n",
    "What are the differences for both? Visualize an average normal and abnormal ECG (with standart derivations)."
   ]
  },
  {
   "metadata": {},
   "cell_type": "code",
   "outputs": [],
   "execution_count": null,
   "source": [
    "import pandas as pd\n",
    "\n",
    "dataframe = pd.read_csv(\n",
    "    \"http://storage.googleapis.com/download.tensorflow.org/data/ecg.csv\", header=None\n",
    ")\n",
    "raw_data = dataframe.values"
   ]
  },
  {
   "cell_type": "markdown",
   "metadata": {
    "vscode": {
     "languageId": "plaintext"
    }
   },
   "source": [
    "## Task 2: Train a Autoencoder for normal (training data)\n",
    "\n",
    "Split your data into a (stratified) 80/20 split. Use the normal records of your train data to fit an Autoencoder model. You may use Optuna to find the optimal parametrization of your model.\n",
    "\n",
    "Visulaize the training/test loss of your model.\n"
   ]
  },
  {
   "cell_type": "markdown",
   "metadata": {},
   "source": [
    "## Task 3: Treshold your test data & evaluate your model\n",
    "\n",
    "For any single normal and abnormal test data point, plot the time series, the decoded autoencoder reconstruction and the error as the area between these 2 plots. Compute the absolute error as the absolute of the integral of both graphs.\n",
    "\n",
    "Plot a histogram of the training/test loss and - based on your findings - generate a treshold to differentiate between normal/anormal test data samples. Based on your predictions, report the performance of your model. \n",
    "\n",
    "\n"
   ]
  },
  {
   "cell_type": "markdown",
   "metadata": {},
   "source": []
  }
 ],
 "metadata": {
  "kernelspec": {
   "display_name": "Python 3",
   "language": "python",
   "name": "python3"
  },
  "language_info": {
   "codemirror_mode": {
    "name": "ipython",
    "version": 3
   },
   "file_extension": ".py",
   "mimetype": "text/x-python",
   "name": "python",
   "nbconvert_exporter": "python",
   "pygments_lexer": "ipython3",
   "version": "3.7.4"
  }
 },
 "nbformat": 4,
 "nbformat_minor": 2
}
