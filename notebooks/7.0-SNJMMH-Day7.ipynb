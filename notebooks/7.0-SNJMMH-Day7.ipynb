{
 "cells": [
  {
   "cell_type": "markdown",
   "id": "d7e28cad",
   "metadata": {},
   "source": [
    "# Assignment Day 7\n",
    "\n",
    "## Team members:\n",
    "- Samuel Nebgen s6sanebg@uni-bonn.de\n",
    "- Muhammad Humza Arain s27marai@uni-bonn.de\n",
    "- Julian Meigen s82jmeig@uni-bonn.de\n",
    "\n",
    "## 16.09.2025\n",
    "\n",
    "Contributions were made by all team members in around the same amount, either based on discussions or coding."
   ]
  },
  {
   "cell_type": "markdown",
   "id": "9d575080",
   "metadata": {},
   "source": [
    "# Task 1 Perform a node labeling task with a Graph ML model"
   ]
  },
  {
   "cell_type": "markdown",
   "id": "6869181a",
   "metadata": {},
   "source": [
    "## a) Load the graph dataset (ogbn-proteins) into pytorch-geometric"
   ]
  },
  {
   "cell_type": "markdown",
   "id": "adb891a2",
   "metadata": {},
   "source": [
    "## b) Create a train, val, test split on the nodes or load the masks via pytorch-geometric."
   ]
  },
  {
   "cell_type": "markdown",
   "id": "c2e4f3ec",
   "metadata": {},
   "source": [
    "### i. Create a subgraph if the computation is too expensive."
   ]
  },
  {
   "cell_type": "markdown",
   "id": "be9b9d6f",
   "metadata": {},
   "source": [
    "## c) Initialize the graph with random node embeddings."
   ]
  },
  {
   "cell_type": "markdown",
   "id": "8ed30d82",
   "metadata": {},
   "source": [
    "## d) Define a graph convolutional neural network class with two layers using pytorch-geometric.."
   ]
  },
  {
   "cell_type": "markdown",
   "id": "17ea0a7b",
   "metadata": {},
   "source": [
    "### i. Train your model on the train dataset using an optimizer and a loss function for a multilabel classification task for 100 epochs"
   ]
  },
  {
   "cell_type": "markdown",
   "id": "db51457f",
   "metadata": {},
   "source": [
    "### ii. Test your model on the test set and evaluate it with accuracy, AUROC, precision, recall and F1 score."
   ]
  },
  {
   "cell_type": "markdown",
   "id": "999eb937",
   "metadata": {},
   "source": [
    "## e) Set up a hyperparameter optimization pipeline with nested 5-fold cross-validation"
   ]
  },
  {
   "cell_type": "markdown",
   "id": "c0330797",
   "metadata": {},
   "source": [
    "### i. Familiarize yourself with the hyperparameter optimization package optuna (https://optuna.org/ )"
   ]
  },
  {
   "cell_type": "markdown",
   "id": "949b44b6",
   "metadata": {},
   "source": [
    "### ii. Integrate the logging package mlflow (https://mlflow.org/) to log your metrics."
   ]
  },
  {
   "cell_type": "markdown",
   "id": "06568c19",
   "metadata": {},
   "source": [
    "### iii. Train and test your models and report the evaluation metrics with mean and std for the nested CV."
   ]
  },
  {
   "cell_type": "markdown",
   "id": "bdd638c2",
   "metadata": {},
   "source": []
  }
 ],
 "metadata": {
  "language_info": {
   "name": "python"
  }
 },
 "nbformat": 4,
 "nbformat_minor": 5
}
