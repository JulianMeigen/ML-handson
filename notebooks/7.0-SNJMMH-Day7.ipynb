{
  "cells": [
    {
      "cell_type": "markdown",
      "metadata": {
        "colab_type": "text",
        "id": "view-in-github"
      },
      "source": [
        "<a href=\"https://colab.research.google.com/github/JulianMeigen/ML-handson/blob/main/notebooks/7.0-SNJMMH-Day7.ipynb\" target=\"_parent\"><img src=\"https://colab.research.google.com/assets/colab-badge.svg\" alt=\"Open In Colab\"/></a>"
      ]
    },
    {
      "cell_type": "markdown",
      "id": "d7e28cad",
      "metadata": {
        "id": "d7e28cad"
      },
      "source": [
        "# Assignment Day 7\n",
        "\n",
        "## Team members:\n",
        "- Samuel Nebgen s6sanebg@uni-bonn.de\n",
        "- Muhammad Humza Arain s27marai@uni-bonn.de\n",
        "- Julian Meigen s82jmeig@uni-bonn.de\n",
        "\n",
        "## 16.09.2025\n",
        "\n",
        "Contributions were made by all team members in around the same amount, either based on discussions or coding."
      ]
    },
    {
      "cell_type": "code",
      "execution_count": 1,
      "id": "LMu2EYgDpjh1",
      "metadata": {
        "colab": {
          "base_uri": "https://localhost:8080/"
        },
        "id": "LMu2EYgDpjh1",
        "outputId": "97109d19-5667-4ae6-f593-2d96f022b465"
      },
      "outputs": [
        {
          "name": "stdout",
          "output_type": "stream",
          "text": [
            "Retrieving folder contents\n",
            "Processing file 1i6W9fI3sGEn6V9xBlt2MxlonZXOTLZjg load-subgraph_doc.ipynb\n",
            "Processing file 1qZpQzFMRzuYQ0xoQJcUNe7CRBMS2mRmz subgraph_hop_1.pt\n",
            "Processing file 1iz_FOBs9k7m9z3lDtRIXzRkd92tL_EK- subgraph.pt\n",
            "Retrieving folder contents completed\n",
            "Building directory structure\n",
            "Building directory structure completed\n",
            "Downloading...\n",
            "From: https://drive.google.com/uc?id=1i6W9fI3sGEn6V9xBlt2MxlonZXOTLZjg\n",
            "To: /content/ML-HandsOn/load-subgraph_doc.ipynb\n",
            "100% 2.92k/2.92k [00:00<00:00, 8.80MB/s]\n",
            "Downloading...\n",
            "From: https://drive.google.com/uc?id=1qZpQzFMRzuYQ0xoQJcUNe7CRBMS2mRmz\n",
            "To: /content/ML-HandsOn/subgraph_hop_1.pt\n",
            "100% 10.5M/10.5M [00:00<00:00, 31.5MB/s]\n",
            "Downloading...\n",
            "From (original): https://drive.google.com/uc?id=1iz_FOBs9k7m9z3lDtRIXzRkd92tL_EK-\n",
            "From (redirected): https://drive.google.com/uc?id=1iz_FOBs9k7m9z3lDtRIXzRkd92tL_EK-&confirm=t&uuid=afcba1af-c8f4-4589-a2ce-e8edcfa6b6fd\n",
            "To: /content/ML-HandsOn/subgraph.pt\n",
            "100% 1.64G/1.64G [00:21<00:00, 74.5MB/s]\n",
            "Download completed\n"
          ]
        }
      ],
      "source": [
        "!gdown --folder https://drive.google.com/drive/folders/1VESm-JaHEqPJmM23iLW1mEJsuI2mLBdx?usp=sharing"
      ]
    },
    {
      "cell_type": "code",
      "execution_count": 2,
      "id": "Ivyr61KCaemq",
      "metadata": {
        "colab": {
          "base_uri": "https://localhost:8080/"
        },
        "id": "Ivyr61KCaemq",
        "outputId": "dca04c78-8bf4-4a37-be85-a1fbdc4fc011"
      },
      "outputs": [
        {
          "name": "stdout",
          "output_type": "stream",
          "text": [
            "Requirement already satisfied: torch_geometric in /usr/local/lib/python3.12/dist-packages (2.6.1)\n",
            "Requirement already satisfied: aiohttp in /usr/local/lib/python3.12/dist-packages (from torch_geometric) (3.12.15)\n",
            "Requirement already satisfied: fsspec in /usr/local/lib/python3.12/dist-packages (from torch_geometric) (2025.3.0)\n",
            "Requirement already satisfied: jinja2 in /usr/local/lib/python3.12/dist-packages (from torch_geometric) (3.1.6)\n",
            "Requirement already satisfied: numpy in /usr/local/lib/python3.12/dist-packages (from torch_geometric) (2.0.2)\n",
            "Requirement already satisfied: psutil>=5.8.0 in /usr/local/lib/python3.12/dist-packages (from torch_geometric) (5.9.5)\n",
            "Requirement already satisfied: pyparsing in /usr/local/lib/python3.12/dist-packages (from torch_geometric) (3.2.3)\n",
            "Requirement already satisfied: requests in /usr/local/lib/python3.12/dist-packages (from torch_geometric) (2.32.4)\n",
            "Requirement already satisfied: tqdm in /usr/local/lib/python3.12/dist-packages (from torch_geometric) (4.67.1)\n",
            "Requirement already satisfied: aiohappyeyeballs>=2.5.0 in /usr/local/lib/python3.12/dist-packages (from aiohttp->torch_geometric) (2.6.1)\n",
            "Requirement already satisfied: aiosignal>=1.4.0 in /usr/local/lib/python3.12/dist-packages (from aiohttp->torch_geometric) (1.4.0)\n",
            "Requirement already satisfied: attrs>=17.3.0 in /usr/local/lib/python3.12/dist-packages (from aiohttp->torch_geometric) (25.3.0)\n",
            "Requirement already satisfied: frozenlist>=1.1.1 in /usr/local/lib/python3.12/dist-packages (from aiohttp->torch_geometric) (1.7.0)\n",
            "Requirement already satisfied: multidict<7.0,>=4.5 in /usr/local/lib/python3.12/dist-packages (from aiohttp->torch_geometric) (6.6.4)\n",
            "Requirement already satisfied: propcache>=0.2.0 in /usr/local/lib/python3.12/dist-packages (from aiohttp->torch_geometric) (0.3.2)\n",
            "Requirement already satisfied: yarl<2.0,>=1.17.0 in /usr/local/lib/python3.12/dist-packages (from aiohttp->torch_geometric) (1.20.1)\n",
            "Requirement already satisfied: MarkupSafe>=2.0 in /usr/local/lib/python3.12/dist-packages (from jinja2->torch_geometric) (3.0.2)\n",
            "Requirement already satisfied: charset_normalizer<4,>=2 in /usr/local/lib/python3.12/dist-packages (from requests->torch_geometric) (3.4.3)\n",
            "Requirement already satisfied: idna<4,>=2.5 in /usr/local/lib/python3.12/dist-packages (from requests->torch_geometric) (3.10)\n",
            "Requirement already satisfied: urllib3<3,>=1.21.1 in /usr/local/lib/python3.12/dist-packages (from requests->torch_geometric) (2.5.0)\n",
            "Requirement already satisfied: certifi>=2017.4.17 in /usr/local/lib/python3.12/dist-packages (from requests->torch_geometric) (2025.8.3)\n",
            "Requirement already satisfied: typing-extensions>=4.2 in /usr/local/lib/python3.12/dist-packages (from aiosignal>=1.4.0->aiohttp->torch_geometric) (4.15.0)\n"
          ]
        }
      ],
      "source": [
        "!pip install torch_geometric"
      ]
    },
    {
      "cell_type": "code",
      "execution_count": 3,
      "id": "udctacDr0tZ3",
      "metadata": {
        "id": "udctacDr0tZ3"
      },
      "outputs": [],
      "source": [
        "import torch\n",
        "import torch_geometric\n",
        "import numpy as np\n",
        "import pandas as pd\n",
        "import networkx as nx\n",
        "import plotly\n",
        "from torch_geometric.utils import to_networkx\n",
        "from torch.nn import Embedding\n",
        "import torch.nn.functional as F\n",
        "from torch_geometric.nn import GCNConv"
      ]
    },
    {
      "cell_type": "markdown",
      "id": "9d575080",
      "metadata": {
        "id": "9d575080"
      },
      "source": [
        "# Task 1 Perform a node labeling task with a Graph ML model"
      ]
    },
    {
      "cell_type": "markdown",
      "id": "6869181a",
      "metadata": {
        "id": "6869181a"
      },
      "source": [
        "## a) Load the graph dataset (ogbn-proteins) into pytorch-geometric\n",
        "\n",
        "We are directly using a Subgraph"
      ]
    },
    {
      "cell_type": "code",
      "execution_count": 4,
      "id": "AMYvOlq0Oai9",
      "metadata": {
        "colab": {
          "base_uri": "https://localhost:8080/"
        },
        "id": "AMYvOlq0Oai9",
        "outputId": "b5f9af74-909c-45e2-8221-4014b5efd80c"
      },
      "outputs": [
        {
          "name": "stdout",
          "output_type": "stream",
          "text": [
            "Data(num_nodes=942, edge_index=[2, 200414], edge_attr=[200414, 8], node_species=[942, 1], y=[942, 112])\n"
          ]
        }
      ],
      "source": [
        "import torch\n",
        "import torch_geometric\n",
        "\n",
        "path_big = \"/content/ML-HandsOn/subgraph.pt\"\n",
        "path_small = \"/content/ML-HandsOn/subgraph_hop_1.pt\"\n",
        "\n",
        "dataset = torch.load(path_small, weights_only=False)\n",
        "\n",
        "data = dataset[\"graph\"]\n",
        "\n",
        "print(data)"
      ]
    },
    {
      "cell_type": "code",
      "execution_count": 5,
      "id": "PLGZSjgMQLwW",
      "metadata": {
        "colab": {
          "base_uri": "https://localhost:8080/"
        },
        "id": "PLGZSjgMQLwW",
        "outputId": "7667b721-81a0-4394-a466-62c8e541f2ca"
      },
      "outputs": [
        {
          "name": "stdout",
          "output_type": "stream",
          "text": [
            "Graph with 942 nodes and 100207 edges\n"
          ]
        }
      ],
      "source": [
        "G = to_networkx(data, to_undirected=True)\n",
        "print(G)"
      ]
    },
    {
      "cell_type": "markdown",
      "id": "adb891a2",
      "metadata": {
        "id": "adb891a2"
      },
      "source": [
        "## b) Create a train, val, test split on the nodes or load the masks via pytorch-geometric."
      ]
    },
    {
      "cell_type": "markdown",
      "id": "c2e4f3ec",
      "metadata": {
        "id": "c2e4f3ec"
      },
      "source": [
        "### i. Create a subgraph if the computation is too expensive."
      ]
    },
    {
      "cell_type": "code",
      "execution_count": 6,
      "id": "xOKEF5ISN1y2",
      "metadata": {
        "colab": {
          "base_uri": "https://localhost:8080/"
        },
        "id": "xOKEF5ISN1y2",
        "outputId": "da2b9702-6855-4aa5-d3dd-8ba97701f87d"
      },
      "outputs": [
        {
          "name": "stdout",
          "output_type": "stream",
          "text": [
            "tensor([[1, 1, 1,  ..., 0, 0, 0],\n",
            "        [1, 1, 1,  ..., 0, 0, 0],\n",
            "        [1, 1, 1,  ..., 0, 0, 0],\n",
            "        ...,\n",
            "        [0, 0, 0,  ..., 0, 0, 0],\n",
            "        [1, 1, 1,  ..., 0, 0, 0],\n",
            "        [1, 1, 1,  ..., 0, 0, 0]])\n"
          ]
        }
      ],
      "source": [
        "num_nodes = data.num_nodes\n",
        "perm = torch.randperm(num_nodes)\n",
        "\n",
        "train_size = int(0.7 * num_nodes)\n",
        "val_size = int(0.15 * num_nodes)\n",
        "\n",
        "train_mask = torch.zeros(num_nodes, dtype=torch.bool)\n",
        "val_mask = torch.zeros(num_nodes, dtype=torch.bool)\n",
        "test_mask = torch.zeros(num_nodes, dtype=torch.bool)\n",
        "\n",
        "train_mask[perm[:train_size]] = True\n",
        "val_mask[perm[train_size:train_size + val_size]] = True\n",
        "test_mask[perm[train_size + val_size:]] = True\n",
        "\n",
        "data.train_mask = train_mask\n",
        "data.val_mask = val_mask\n",
        "data.test_mask = test_mask\n",
        "\n",
        "print(data.y)"
      ]
    },
    {
      "cell_type": "code",
      "execution_count": 7,
      "id": "_4mXk0BvSgBk",
      "metadata": {
        "colab": {
          "base_uri": "https://localhost:8080/"
        },
        "id": "_4mXk0BvSgBk",
        "outputId": "536586a2-7bed-45df-a030-f2a53c25353a"
      },
      "outputs": [
        {
          "name": "stdout",
          "output_type": "stream",
          "text": [
            "659\n",
            "141\n",
            "142\n"
          ]
        }
      ],
      "source": [
        "print(len(data.y[data.train_mask]))\n",
        "print(len(data.y[data.val_mask]))\n",
        "print(len(data.y[data.test_mask]))"
      ]
    },
    {
      "cell_type": "markdown",
      "id": "be9b9d6f",
      "metadata": {
        "id": "be9b9d6f"
      },
      "source": [
        "## c) Initialize the graph with random node embeddings."
      ]
    },
    {
      "cell_type": "code",
      "execution_count": 7,
      "id": "bwuG7Sljr1Nb",
      "metadata": {
        "id": "bwuG7Sljr1Nb"
      },
      "outputs": [],
      "source": []
    },
    {
      "cell_type": "code",
      "execution_count": 8,
      "id": "3i_8zJXRT_P0",
      "metadata": {
        "id": "3i_8zJXRT_P0"
      },
      "outputs": [],
      "source": [
        "number_nodes = data.num_nodes\n",
        "embedding_dim = 64\n",
        "x = torch.empty((num_nodes, embedding_dim))  # empty tensor\n",
        "torch.nn.init.xavier_uniform_(x)  # Xavier uniform initialization\n",
        "data.x = x"
      ]
    },
    {
      "cell_type": "code",
      "execution_count": 9,
      "id": "vXrSAbHZjVpW",
      "metadata": {
        "colab": {
          "base_uri": "https://localhost:8080/"
        },
        "id": "vXrSAbHZjVpW",
        "outputId": "c3c26c15-cecc-48be-a462-f009a1af5617"
      },
      "outputs": [
        {
          "name": "stderr",
          "output_type": "stream",
          "text": [
            "/tmp/ipython-input-1119004356.py:2: UserWarning: To copy construct from a tensor, it is recommended to use sourceTensor.detach().clone() or sourceTensor.detach().clone().requires_grad_(True), rather than torch.tensor(sourceTensor).\n",
            "  train_idx = torch.tensor(node_idx[data.train_mask.numpy()])\n",
            "/tmp/ipython-input-1119004356.py:3: UserWarning: To copy construct from a tensor, it is recommended to use sourceTensor.detach().clone() or sourceTensor.detach().clone().requires_grad_(True), rather than torch.tensor(sourceTensor).\n",
            "  test_idx = torch.tensor(node_idx[data.test_mask.numpy()])\n",
            "/tmp/ipython-input-1119004356.py:4: UserWarning: To copy construct from a tensor, it is recommended to use sourceTensor.detach().clone() or sourceTensor.detach().clone().requires_grad_(True), rather than torch.tensor(sourceTensor).\n",
            "  val_idx = torch.tensor(node_idx[data.val_mask.numpy()])\n"
          ]
        }
      ],
      "source": [
        "node_idx = data.edge_index.flatten().unique()\n",
        "train_idx = torch.tensor(node_idx[data.train_mask.numpy()])\n",
        "test_idx = torch.tensor(node_idx[data.test_mask.numpy()])\n",
        "val_idx = torch.tensor(node_idx[data.val_mask.numpy()])\n",
        "\n",
        "train_subgraph = data.subgraph(train_idx)\n",
        "test_subgraph = data.subgraph(test_idx)\n",
        "val_subgraph = data.subgraph(val_idx)"
      ]
    },
    {
      "cell_type": "markdown",
      "id": "8ed30d82",
      "metadata": {
        "id": "8ed30d82"
      },
      "source": [
        "## d) Define a graph convolutional neural network class with two layers using pytorch-geometric.."
      ]
    },
    {
      "cell_type": "code",
      "execution_count": 10,
      "id": "X4YJgz5RV81h",
      "metadata": {
        "id": "X4YJgz5RV81h"
      },
      "outputs": [],
      "source": [
        "class GCN(torch.nn.Module):\n",
        "    def __init__(self, num_nodes, embedding_dim, hidden_dim, out_dim, drop_out=0.5):\n",
        "        super().__init__()\n",
        "        # Project raw input features -> embedding_dim so embedding_dim is a latent size\n",
        "        self.input_proj = torch.nn.Linear(num_nodes, embedding_dim)\n",
        "        self.conv1 = GCNConv(embedding_dim, hidden_dim)\n",
        "        self.conv2 = GCNConv(hidden_dim, out_dim)\n",
        "        self.dropout = torch.nn.Dropout(drop_out)\n",
        "\n",
        "    def forward(self, x, edge_index):\n",
        "        # apply GCN layers\n",
        "        x = self.conv1(x, edge_index)\n",
        "        x = F.relu(x)\n",
        "        x = F.dropout(x)\n",
        "        x = self.conv2(x, edge_index)\n",
        "\n",
        "        return F.log_softmax(x, dim=1)"
      ]
    },
    {
      "cell_type": "code",
      "execution_count": 11,
      "id": "VCcuHNZ2Xfxr",
      "metadata": {
        "id": "VCcuHNZ2Xfxr"
      },
      "outputs": [],
      "source": [
        "model_gcn = GCN(num_nodes=data.num_nodes, embedding_dim=64, hidden_dim=128, out_dim=112)"
      ]
    },
    {
      "cell_type": "markdown",
      "id": "17ea0a7b",
      "metadata": {
        "id": "17ea0a7b"
      },
      "source": [
        "### i. Train your model on the train dataset using an optimizer and a loss function for a multilabel classification task for 100 epochs"
      ]
    },
    {
      "cell_type": "code",
      "execution_count": 12,
      "id": "d9QvaRtBiXbF",
      "metadata": {
        "colab": {
          "base_uri": "https://localhost:8080/"
        },
        "id": "d9QvaRtBiXbF",
        "outputId": "c43f55ea-3bc7-4315-de1d-2b8810a44ecd"
      },
      "outputs": [
        {
          "name": "stdout",
          "output_type": "stream",
          "text": [
            "Epoch 001, Loss: 147.4101\n",
            "Epoch 010, Loss: 142.0090\n",
            "Epoch 020, Loss: 141.1376\n",
            "Epoch 030, Loss: 140.7409\n",
            "Epoch 040, Loss: 140.3083\n",
            "Epoch 050, Loss: 139.9596\n",
            "Epoch 060, Loss: 139.6259\n",
            "Epoch 070, Loss: 139.3822\n",
            "Epoch 080, Loss: 139.0911\n",
            "Epoch 090, Loss: 138.9003\n",
            "Epoch 100, Loss: 138.6884\n"
          ]
        }
      ],
      "source": [
        "# Optimizer and loss\n",
        "optimizer = torch.optim.Adam(model_gcn.parameters(), lr=0.01, weight_decay=5e-4)\n",
        "criterion = torch.nn.CrossEntropyLoss()\n",
        "\n",
        "# Training loop\n",
        "epochs = 100\n",
        "model_gcn.train()\n",
        "for epoch in range(1, epochs + 1):\n",
        "    optimizer.zero_grad()\n",
        "    out = model_gcn(data.x, train_subgraph.edge_index)  # forward pass\n",
        "    loss = criterion(out, data.y.float())        # multi-label BCE loss\n",
        "    loss.backward()                       # backward pass\n",
        "    optimizer.step()                      # update parameters\n",
        "\n",
        "    if epoch % 10 == 0 or epoch == 1:\n",
        "        print(f\"Epoch {epoch:03d}, Loss: {loss.item():.4f}\")"
      ]
    },
    {
      "cell_type": "markdown",
      "id": "db51457f",
      "metadata": {
        "id": "db51457f"
      },
      "source": [
        "### ii. Test your model on the test set and evaluate it with accuracy, AUROC, precision, recall and F1 score."
      ]
    },
    {
      "cell_type": "code",
      "execution_count": 13,
      "id": "1C9Z1wzHq2WK",
      "metadata": {
        "id": "1C9Z1wzHq2WK"
      },
      "outputs": [],
      "source": [
        "from sklearn.metrics import accuracy_score, roc_auc_score, precision_score, recall_score, f1_score"
      ]
    },
    {
      "cell_type": "code",
      "execution_count": 14,
      "id": "5ALJsTVMk2_y",
      "metadata": {
        "colab": {
          "base_uri": "https://localhost:8080/"
        },
        "id": "5ALJsTVMk2_y",
        "outputId": "bea26823-7777-4591-c761-fe5a50b4646e"
      },
      "outputs": [
        {
          "name": "stdout",
          "output_type": "stream",
          "text": [
            "Test Accuracy:  0.0423\n",
            "Test AUROC:     0.6284\n",
            "Test Precision: 0.0000\n",
            "Test Recall:    0.0000\n",
            "Test F1 Score:  0.0000\n"
          ]
        }
      ],
      "source": [
        "model_gcn.eval()\n",
        "with torch.no_grad():\n",
        "    logits = model_gcn(data.x, test_subgraph.edge_index)          # raw logits\n",
        "    probs = torch.sigmoid(logits)                   # convert to probabilities\n",
        "    preds = (probs > 0.5).int()                     # threshold at 0.5\n",
        "\n",
        "    y_true = data.y[test_mask].numpy()\n",
        "    y_pred = preds[test_mask].numpy()\n",
        "    y_prob = probs[test_mask].numpy()\n",
        "\n",
        "# Accuracy (exact match per node)\n",
        "accuracy = accuracy_score(y_true, y_pred)\n",
        "\n",
        "# AUROC (per class, average='macro')\n",
        "auroc = roc_auc_score(y_true, y_prob, average='macro')\n",
        "\n",
        "# Precision, Recall, F1 (micro-averaged)\n",
        "precision = precision_score(y_true, y_pred, average='micro', zero_division=0)\n",
        "recall = recall_score(y_true, y_pred, average='micro', zero_division=0)\n",
        "f1 = f1_score(y_true, y_pred, average='micro', zero_division=0)\n",
        "\n",
        "print(f\"Test Accuracy:  {accuracy:.4f}\")\n",
        "print(f\"Test AUROC:     {auroc:.4f}\")\n",
        "print(f\"Test Precision: {precision:.4f}\")\n",
        "print(f\"Test Recall:    {recall:.4f}\")\n",
        "print(f\"Test F1 Score:  {f1:.4f}\")"
      ]
    },
    {
      "cell_type": "markdown",
      "id": "IVdAkpJLtE8c",
      "metadata": {
        "id": "IVdAkpJLtE8c"
      },
      "source": [
        "### Outer Cross-valiudation with Stratifiedkfold"
      ]
    },
    {
      "cell_type": "code",
      "execution_count": 15,
      "id": "YAFIKasdqYsC",
      "metadata": {
        "id": "YAFIKasdqYsC"
      },
      "outputs": [],
      "source": [
        "from sklearn.model_selection import StratifiedKFold"
      ]
    },
    {
      "cell_type": "code",
      "execution_count": 15,
      "id": "t35mySw2t-UR",
      "metadata": {
        "id": "t35mySw2t-UR"
      },
      "outputs": [],
      "source": []
    },
    {
      "cell_type": "code",
      "execution_count": 16,
      "id": "VHvRf5VLtWmH",
      "metadata": {
        "colab": {
          "base_uri": "https://localhost:8080/"
        },
        "id": "VHvRf5VLtWmH",
        "outputId": "2764a64c-4295-4f52-ebbb-67fb2abcdfc3"
      },
      "outputs": [
        {
          "name": "stderr",
          "output_type": "stream",
          "text": [
            "/usr/local/lib/python3.12/dist-packages/sklearn/model_selection/_split.py:805: UserWarning: The least populated class in y has only 1 members, which is less than n_splits=5.\n",
            "  warnings.warn(\n"
          ]
        },
        {
          "name": "stdout",
          "output_type": "stream",
          "text": [
            "-----\n",
            "-----\n",
            "-----\n",
            "-----\n",
            "-----\n"
          ]
        }
      ],
      "source": [
        "nodes_idx = data.edge_index.flatten().unique()\n",
        "y = data.node_species.squeeze()\n",
        "\n",
        "skf = StratifiedKFold(n_splits=5, shuffle=True, random_state=42)\n",
        "\n",
        "accuracys = []\n",
        "aurocs = []\n",
        "precisions = []\n",
        "recalls = []\n",
        "f1s = []\n",
        "for train_idx, test_idx in skf.split(nodes_idx, y):\n",
        "  train_subgraph = data.subgraph(torch.tensor(train_idx))\n",
        "  test_subgraph = data.subgraph(torch.tensor(test_idx))\n",
        "\n",
        "  # Train the model\n",
        "  optimizer = torch.optim.Adam(model_gcn.parameters(), lr=0.01, weight_decay=5e-4)\n",
        "  criterion = torch.nn.CrossEntropyLoss()\n",
        "\n",
        "  # Training loop\n",
        "  epochs = 100\n",
        "  model_gcn.train()\n",
        "  for epoch in range(1, epochs + 1):\n",
        "      optimizer.zero_grad()\n",
        "      out = model_gcn(data.x, train_subgraph.edge_index)  # forward pass\n",
        "      loss = criterion(out, data.y.float())        # multi-label BCE loss\n",
        "      loss.backward()                       # backward pass\n",
        "      optimizer.step()                      # update parameters\n",
        "\n",
        "  # Evaluate the model\n",
        "  model_gcn.eval()\n",
        "  with torch.no_grad():\n",
        "      logits = model_gcn(data.x, test_subgraph.edge_index)          # raw logits\n",
        "      probs = torch.sigmoid(logits)                   # convert to probabilities\n",
        "      preds = (probs > 0.5).int()                     # threshold at 0.5\n",
        "\n",
        "      y_true = data.y[test_mask].numpy()\n",
        "      y_pred = preds[test_mask].numpy()\n",
        "      y_prob = probs[test_mask].numpy()\n",
        "\n",
        "      # Accuracy (exact match per node)\n",
        "      accuracy = accuracy_score(y_true, y_pred)\n",
        "      accuracys.append(accuracy)\n",
        "\n",
        "      # AUROC (per class, average='macro')\n",
        "      auroc = roc_auc_score(y_true, y_prob, average='macro')\n",
        "      aurocs.append(auroc)\n",
        "\n",
        "      # Precision, Recall, F1 (micro-averaged)\n",
        "      precision = precision_score(y_true, y_pred, average='micro', zero_division=0)\n",
        "      precisions.append(precision)\n",
        "      recall = recall_score(y_true, y_pred, average='micro', zero_division=0)\n",
        "      recalls.append(recall)\n",
        "      f1 = f1_score(y_true, y_pred, average='micro', zero_division=0)\n",
        "      f1s.append(f1)\n",
        "      print(\"-----\")"
      ]
    },
    {
      "cell_type": "code",
      "execution_count": 17,
      "id": "NuKqtFQhxHVY",
      "metadata": {
        "colab": {
          "base_uri": "https://localhost:8080/"
        },
        "id": "NuKqtFQhxHVY",
        "outputId": "f71f772c-c889-4753-afe6-a8523a3ec068"
      },
      "outputs": [
        {
          "name": "stdout",
          "output_type": "stream",
          "text": [
            "Test Accuracy:  0.0423\n",
            "Test AUROC:     0.6455\n",
            "Test Precision: 0.0000\n",
            "Test Recall:    0.0000\n",
            "Test F1 Score:  0.0000\n"
          ]
        }
      ],
      "source": [
        "\n",
        "print(f\"Test Accuracy:  {np.mean(accuracys):.4f}\")\n",
        "print(f\"Test AUROC:     {np.mean(aurocs):.4f}\")\n",
        "print(f\"Test Precision: {np.mean(precisions):.4f}\")\n",
        "print(f\"Test Recall:    {np.mean(recalls):.4f}\")\n",
        "print(f\"Test F1 Score:  {np.mean(f1s):.4f}\")"
      ]
    },
    {
      "cell_type": "markdown",
      "id": "999eb937",
      "metadata": {
        "id": "999eb937"
      },
      "source": [
        "## e) Set up a hyperparameter optimization pipeline with nested 5-fold cross-validation"
      ]
    },
    {
      "cell_type": "markdown",
      "id": "c0330797",
      "metadata": {
        "id": "c0330797"
      },
      "source": [
        "### i. Familiarize yourself with the hyperparameter optimization package optuna (https://optuna.org/ )"
      ]
    },
    {
      "cell_type": "code",
      "execution_count": 18,
      "id": "PWvPZAnLXQsW",
      "metadata": {
        "colab": {
          "base_uri": "https://localhost:8080/"
        },
        "id": "PWvPZAnLXQsW",
        "outputId": "8f6bdfe9-7706-4909-d252-5cdd12dced03"
      },
      "outputs": [
        {
          "name": "stdout",
          "output_type": "stream",
          "text": [
            "Requirement already satisfied: optuna in /usr/local/lib/python3.12/dist-packages (4.5.0)\n",
            "Requirement already satisfied: alembic>=1.5.0 in /usr/local/lib/python3.12/dist-packages (from optuna) (1.16.5)\n",
            "Requirement already satisfied: colorlog in /usr/local/lib/python3.12/dist-packages (from optuna) (6.9.0)\n",
            "Requirement already satisfied: numpy in /usr/local/lib/python3.12/dist-packages (from optuna) (2.0.2)\n",
            "Requirement already satisfied: packaging>=20.0 in /usr/local/lib/python3.12/dist-packages (from optuna) (25.0)\n",
            "Requirement already satisfied: sqlalchemy>=1.4.2 in /usr/local/lib/python3.12/dist-packages (from optuna) (2.0.43)\n",
            "Requirement already satisfied: tqdm in /usr/local/lib/python3.12/dist-packages (from optuna) (4.67.1)\n",
            "Requirement already satisfied: PyYAML in /usr/local/lib/python3.12/dist-packages (from optuna) (6.0.2)\n",
            "Requirement already satisfied: Mako in /usr/local/lib/python3.12/dist-packages (from alembic>=1.5.0->optuna) (1.3.10)\n",
            "Requirement already satisfied: typing-extensions>=4.12 in /usr/local/lib/python3.12/dist-packages (from alembic>=1.5.0->optuna) (4.15.0)\n",
            "Requirement already satisfied: greenlet>=1 in /usr/local/lib/python3.12/dist-packages (from sqlalchemy>=1.4.2->optuna) (3.2.4)\n",
            "Requirement already satisfied: MarkupSafe>=0.9.2 in /usr/local/lib/python3.12/dist-packages (from Mako->alembic>=1.5.0->optuna) (3.0.2)\n"
          ]
        }
      ],
      "source": [
        "!pip install optuna"
      ]
    },
    {
      "cell_type": "code",
      "execution_count": 19,
      "id": "Xa_IoU4gXSp1",
      "metadata": {
        "id": "Xa_IoU4gXSp1"
      },
      "outputs": [],
      "source": [
        "import optuna"
      ]
    },
    {
      "cell_type": "code",
      "execution_count": 26,
      "id": "pvEDeDDl29qU",
      "metadata": {
        "id": "pvEDeDDl29qU"
      },
      "outputs": [],
      "source": [
        "class GCNoptimization:\n",
        "    def __init__(self, data, train_subdata, val_subdata, study_name=\"GCN_optimization\"):\n",
        "        self.data = data\n",
        "        self.train_subdata = train_subdata\n",
        "        self.val_subdata = val_subdata\n",
        "\n",
        "        self.study_name = study_name\n",
        "        self.storage_name = \"sqlite:///{}.db\".format(self.study_name)\n",
        "        self.study = optuna.create_study(study_name=self.study_name, storage=self.storage_name, load_if_exists=True)\n",
        "\n",
        "    def objective(self, trial):\n",
        "        # Define the hyperparameters to optimize\n",
        "\n",
        "        dropout = trial.suggest_float(\"dropout\", 0.0, 0.7)\n",
        "        hidden_dim = trial.suggest_int(\"hidden_dim\", 16, 256)\n",
        "        embedding_dim = trial.suggest_int(\"embedding_dim\", 16, 256)\n",
        "\n",
        "        # Create the GCN model with the suggested hyperparameters\n",
        "        model = GCN(num_nodes=data.num_nodes, embedding_dim=embedding_dim, hidden_dim=hidden_dim, out_dim=112, drop_out=dropout)\n",
        "\n",
        "        x = torch.empty((num_nodes, embedding_dim))  # empty tensor\n",
        "        torch.nn.init.xavier_uniform_(x)  # Xavier uniform initialization\n",
        "\n",
        "        # Train the model\n",
        "        optimizer = torch.optim.Adam(model_gcn.parameters(), lr=0.01, weight_decay=5e-4)\n",
        "        criterion = torch.nn.CrossEntropyLoss()\n",
        "\n",
        "        # Training loop\n",
        "        epochs = 100\n",
        "        model.train()\n",
        "        for epoch in range(1, epochs + 1):\n",
        "            optimizer.zero_grad()\n",
        "\n",
        "            out = model(x, self.train_subdata.edge_index)  # forward pass\n",
        "            loss = criterion(out, data.y.float())        # multi-label BCE loss\n",
        "            loss.backward()                       # backward pass\n",
        "            optimizer.step()                      # update parameters\n",
        "\n",
        "\n",
        "        # Validate the model\n",
        "        model.eval()\n",
        "        with torch.no_grad():\n",
        "            logits = model(x, self.val_subdata.edge_index)          # raw logits\n",
        "            probs = torch.sigmoid(logits)                   # convert to probabilities\n",
        "            preds = (probs > 0.5).int()                     # threshold at 0.5\n",
        "\n",
        "            y_true = data.y[test_mask].numpy()\n",
        "            y_pred = preds[test_mask].numpy()\n",
        "            y_prob = probs[test_mask].numpy()\n",
        "\n",
        "            # Accuracy (exact match per node)\n",
        "            accuracy = accuracy_score(y_true, y_pred)\n",
        "\n",
        "            # AUROC (per class, average='macro')\n",
        "            auroc = roc_auc_score(y_true, y_prob, average='macro')\n",
        "\n",
        "            return auroc\n",
        "\n"
      ]
    },
    {
      "cell_type": "markdown",
      "id": "949b44b6",
      "metadata": {
        "id": "949b44b6"
      },
      "source": [
        "### ii. Integrate the logging package mlflow (https://mlflow.org/) to log your metrics."
      ]
    },
    {
      "cell_type": "code",
      "execution_count": 21,
      "id": "US472ByzzOlT",
      "metadata": {
        "id": "US472ByzzOlT"
      },
      "outputs": [],
      "source": [
        "%pip install wandb -q"
      ]
    },
    {
      "cell_type": "code",
      "execution_count": 27,
      "id": "gYKlEImA0tDG",
      "metadata": {
        "id": "gYKlEImA0tDG"
      },
      "outputs": [],
      "source": [
        " #Ignore excessive warnings\n",
        "import logging\n",
        "logging.propagate = False\n",
        "logging.getLogger().setLevel(logging.ERROR)\n",
        "\n",
        "# WandB – Import the wandb library\n",
        "import wandb"
      ]
    },
    {
      "cell_type": "code",
      "execution_count": 23,
      "id": "DKEoxPS505VQ",
      "metadata": {
        "colab": {
          "base_uri": "https://localhost:8080/"
        },
        "id": "DKEoxPS505VQ",
        "outputId": "33f8e6cc-344c-4260-c231-4af84afc9c55"
      },
      "outputs": [
        {
          "name": "stdout",
          "output_type": "stream",
          "text": [
            "\u001b[34m\u001b[1mwandb\u001b[0m: Currently logged in as: \u001b[33mjulian-meigen\u001b[0m (\u001b[33mjulian-meigen-university-of-bonn\u001b[0m) to \u001b[32mhttps://api.wandb.ai\u001b[0m. Use \u001b[1m`wandb login --relogin`\u001b[0m to force relogin\n"
          ]
        }
      ],
      "source": [
        "# WandB – Login to your wandb account so you can log all your metrics\n",
        "#!wandb login"
      ]
    },
    {
      "cell_type": "code",
      "execution_count": 23,
      "id": "8GETLWDF1zFJ",
      "metadata": {
        "id": "8GETLWDF1zFJ"
      },
      "outputs": [],
      "source": []
    },
    {
      "cell_type": "markdown",
      "id": "06568c19",
      "metadata": {
        "id": "06568c19"
      },
      "source": [
        "### iii. Train and test your models and report the evaluation metrics with mean and std for the nested CV."
      ]
    },
    {
      "cell_type": "code",
      "execution_count": 33,
      "id": "gbCoCXJ7XZR3",
      "metadata": {
        "colab": {
          "base_uri": "https://localhost:8080/"
        },
        "id": "gbCoCXJ7XZR3",
        "outputId": "065d7261-1db8-4c9b-ca9d-98b7eb9f14e6"
      },
      "outputs": [
        {
          "name": "stderr",
          "output_type": "stream",
          "text": [
            "/usr/local/lib/python3.12/dist-packages/sklearn/model_selection/_split.py:805: UserWarning: The least populated class in y has only 1 members, which is less than n_splits=5.\n",
            "  warnings.warn(\n",
            "/usr/local/lib/python3.12/dist-packages/sklearn/model_selection/_split.py:805: UserWarning: The least populated class in y has only 1 members, which is less than n_splits=5.\n",
            "  warnings.warn(\n",
            "[I 2025-09-16 17:34:28,920] Using an existing study with name 'GCN_optimization' instead of creating a new one.\n"
          ]
        },
        {
          "name": "stdout",
          "output_type": "stream",
          "text": [
            "===== Outer Fold 1/5 =====\n"
          ]
        },
        {
          "name": "stderr",
          "output_type": "stream",
          "text": [
            "[I 2025-09-16 17:34:31,433] Trial 53 finished with value: 0.5049824703244515 and parameters: {'dropout': 0.2582042945495541, 'hidden_dim': 213, 'embedding_dim': 174}. Best is trial 38 with value: 0.508987628268384.\n",
            "[I 2025-09-16 17:34:33,260] Trial 54 finished with value: 0.4988901186887929 and parameters: {'dropout': 0.44165976174164334, 'hidden_dim': 60, 'embedding_dim': 250}. Best is trial 38 with value: 0.508987628268384.\n",
            "[I 2025-09-16 17:34:37,150] Trial 55 finished with value: 0.49935117207007984 and parameters: {'dropout': 0.4566947603435956, 'hidden_dim': 77, 'embedding_dim': 245}. Best is trial 38 with value: 0.508987628268384.\n",
            "[I 2025-09-16 17:34:40,125] Trial 56 finished with value: 0.4926771733212158 and parameters: {'dropout': 0.3178045991910758, 'hidden_dim': 93, 'embedding_dim': 227}. Best is trial 38 with value: 0.508987628268384.\n",
            "[I 2025-09-16 17:34:41,734] Trial 57 finished with value: 0.5011743770101306 and parameters: {'dropout': 0.356233179902026, 'hidden_dim': 68, 'embedding_dim': 238}. Best is trial 38 with value: 0.508987628268384.\n",
            "[I 2025-09-16 17:34:43,021] Trial 58 finished with value: 0.5028702957576234 and parameters: {'dropout': 0.5123688659524737, 'hidden_dim': 26, 'embedding_dim': 214}. Best is trial 38 with value: 0.508987628268384.\n",
            "[I 2025-09-16 17:34:44,826] Trial 59 finished with value: 0.5058098481901364 and parameters: {'dropout': 0.017168530105041255, 'hidden_dim': 110, 'embedding_dim': 110}. Best is trial 38 with value: 0.508987628268384.\n",
            "[I 2025-09-16 17:34:46,769] Trial 60 finished with value: 0.48993806453926514 and parameters: {'dropout': 0.011017950063878484, 'hidden_dim': 125, 'embedding_dim': 108}. Best is trial 38 with value: 0.508987628268384.\n",
            "[I 2025-09-16 17:34:48,770] Trial 61 finished with value: 0.49018494163476706 and parameters: {'dropout': 0.04264011587941895, 'hidden_dim': 110, 'embedding_dim': 119}. Best is trial 38 with value: 0.508987628268384.\n",
            "[I 2025-09-16 17:34:50,987] Trial 62 finished with value: 0.49794618319502554 and parameters: {'dropout': 0.15389240546850952, 'hidden_dim': 89, 'embedding_dim': 87}. Best is trial 38 with value: 0.508987628268384.\n",
            "[I 2025-09-16 17:34:56,741] Using an existing study with name 'GCN_optimization' instead of creating a new one.\n",
            "[I 2025-09-16 17:34:58,607] Trial 63 finished with value: 0.5073087726445865 and parameters: {'dropout': 0.022496146766411512, 'hidden_dim': 153, 'embedding_dim': 140}. Best is trial 38 with value: 0.508987628268384.\n",
            "[I 2025-09-16 17:35:00,393] Trial 64 finished with value: 0.503118714590347 and parameters: {'dropout': 0.01597746939860999, 'hidden_dim': 145, 'embedding_dim': 138}. Best is trial 38 with value: 0.508987628268384.\n",
            "[I 2025-09-16 17:35:02,698] Trial 65 finished with value: 0.499799990470677 and parameters: {'dropout': 0.07663644895761142, 'hidden_dim': 123, 'embedding_dim': 161}. Best is trial 38 with value: 0.508987628268384.\n",
            "[I 2025-09-16 17:35:04,836] Trial 66 finished with value: 0.5041428340183847 and parameters: {'dropout': 0.032706429852118246, 'hidden_dim': 149, 'embedding_dim': 109}. Best is trial 38 with value: 0.508987628268384.\n",
            "[I 2025-09-16 17:35:06,382] Trial 67 finished with value: 0.5097313487821145 and parameters: {'dropout': 0.12112269810783827, 'hidden_dim': 101, 'embedding_dim': 149}. Best is trial 67 with value: 0.5097313487821145.\n",
            "[I 2025-09-16 17:35:08,568] Trial 68 finished with value: 0.5036543207169454 and parameters: {'dropout': 0.17121274177415136, 'hidden_dim': 187, 'embedding_dim': 148}. Best is trial 67 with value: 0.5097313487821145.\n",
            "[I 2025-09-16 17:35:10,208] Trial 69 finished with value: 0.5025275343528489 and parameters: {'dropout': 0.12154674976550256, 'hidden_dim': 132, 'embedding_dim': 126}. Best is trial 67 with value: 0.5097313487821145.\n",
            "[I 2025-09-16 17:35:12,081] Trial 70 finished with value: 0.49904363725502493 and parameters: {'dropout': 0.09280783453753079, 'hidden_dim': 156, 'embedding_dim': 138}. Best is trial 67 with value: 0.5097313487821145.\n",
            "[I 2025-09-16 17:35:14,160] Trial 71 finished with value: 0.5045048981749675 and parameters: {'dropout': 0.240524164321606, 'hidden_dim': 168, 'embedding_dim': 170}. Best is trial 67 with value: 0.5097313487821145.\n",
            "[I 2025-09-16 17:35:16,369] Trial 72 finished with value: 0.4940624346004219 and parameters: {'dropout': 0.05060010550924381, 'hidden_dim': 101, 'embedding_dim': 186}. Best is trial 67 with value: 0.5097313487821145.\n",
            "[I 2025-09-16 17:35:18,607] Using an existing study with name 'GCN_optimization' instead of creating a new one.\n",
            "[I 2025-09-16 17:35:20,842] Trial 73 finished with value: 0.495636997471059 and parameters: {'dropout': 0.411495868883757, 'hidden_dim': 192, 'embedding_dim': 198}. Best is trial 67 with value: 0.5097313487821145.\n",
            "[I 2025-09-16 17:35:22,393] Trial 74 finished with value: 0.5010252496309083 and parameters: {'dropout': 0.06334300822924953, 'hidden_dim': 108, 'embedding_dim': 115}. Best is trial 67 with value: 0.5097313487821145.\n",
            "[I 2025-09-16 17:35:23,785] Trial 75 finished with value: 0.49645710232127904 and parameters: {'dropout': 0.11128130868860603, 'hidden_dim': 73, 'embedding_dim': 89}. Best is trial 67 with value: 0.5097313487821145.\n",
            "[I 2025-09-16 17:35:25,388] Trial 76 finished with value: 0.5022108312276407 and parameters: {'dropout': 0.021886936771418477, 'hidden_dim': 115, 'embedding_dim': 154}. Best is trial 67 with value: 0.5097313487821145.\n",
            "[I 2025-09-16 17:35:26,873] Trial 77 finished with value: 0.4936936608037212 and parameters: {'dropout': 0.1487618295710751, 'hidden_dim': 86, 'embedding_dim': 123}. Best is trial 67 with value: 0.5097313487821145.\n",
            "[I 2025-09-16 17:35:30,145] Trial 78 finished with value: 0.4959262042683525 and parameters: {'dropout': 0.0024580610665471125, 'hidden_dim': 217, 'embedding_dim': 131}. Best is trial 67 with value: 0.5097313487821145.\n",
            "[I 2025-09-16 17:35:32,864] Trial 79 finished with value: 0.4959893663842945 and parameters: {'dropout': 0.3064232900448375, 'hidden_dim': 130, 'embedding_dim': 103}. Best is trial 67 with value: 0.5097313487821145.\n",
            "[I 2025-09-16 17:35:35,331] Trial 80 finished with value: 0.4975360741111902 and parameters: {'dropout': 0.08706545263651852, 'hidden_dim': 236, 'embedding_dim': 46}. Best is trial 67 with value: 0.5097313487821145.\n",
            "[I 2025-09-16 17:35:36,909] Trial 81 finished with value: 0.5081759889795546 and parameters: {'dropout': 0.12748830297524325, 'hidden_dim': 96, 'embedding_dim': 143}. Best is trial 67 with value: 0.5097313487821145.\n",
            "[I 2025-09-16 17:35:38,186] Trial 82 finished with value: 0.5001956321394347 and parameters: {'dropout': 0.21340804211517345, 'hidden_dim': 57, 'embedding_dim': 147}. Best is trial 67 with value: 0.5097313487821145.\n",
            "[I 2025-09-16 17:35:41,733] Using an existing study with name 'GCN_optimization' instead of creating a new one.\n",
            "[I 2025-09-16 17:35:43,714] Trial 83 finished with value: 0.5047364250525923 and parameters: {'dropout': 0.17995536267580534, 'hidden_dim': 94, 'embedding_dim': 160}. Best is trial 67 with value: 0.5097313487821145.\n",
            "[I 2025-09-16 17:35:45,254] Trial 84 finished with value: 0.5059829603158116 and parameters: {'dropout': 0.13428773880102568, 'hidden_dim': 108, 'embedding_dim': 142}. Best is trial 67 with value: 0.5097313487821145.\n",
            "[I 2025-09-16 17:35:46,752] Trial 85 finished with value: 0.5053727137261399 and parameters: {'dropout': 0.1330814610902058, 'hidden_dim': 97, 'embedding_dim': 142}. Best is trial 67 with value: 0.5097313487821145.\n",
            "[I 2025-09-16 17:35:48,318] Trial 86 finished with value: 0.4973115029076335 and parameters: {'dropout': 0.3410635415078136, 'hidden_dim': 105, 'embedding_dim': 154}. Best is trial 67 with value: 0.5097313487821145.\n",
            "[I 2025-09-16 17:35:49,808] Trial 87 finished with value: 0.49206881033187144 and parameters: {'dropout': 0.11972908402579464, 'hidden_dim': 117, 'embedding_dim': 129}. Best is trial 67 with value: 0.5097313487821145.\n",
            "[I 2025-09-16 17:35:51,235] Trial 88 finished with value: 0.5090807737640354 and parameters: {'dropout': 0.37936842775516244, 'hidden_dim': 86, 'embedding_dim': 138}. Best is trial 67 with value: 0.5097313487821145.\n",
            "[I 2025-09-16 17:35:52,680] Trial 89 finished with value: 0.49557127326009714 and parameters: {'dropout': 0.37483788299457854, 'hidden_dim': 83, 'embedding_dim': 136}. Best is trial 67 with value: 0.5097313487821145.\n",
            "[I 2025-09-16 17:35:54,028] Trial 90 finished with value: 0.49147979336060715 and parameters: {'dropout': 0.40756379199252046, 'hidden_dim': 48, 'embedding_dim': 121}. Best is trial 67 with value: 0.5097313487821145.\n",
            "[I 2025-09-16 17:35:56,975] Trial 91 finished with value: 0.5048498735571821 and parameters: {'dropout': 0.16350788445551437, 'hidden_dim': 69, 'embedding_dim': 184}. Best is trial 67 with value: 0.5097313487821145.\n",
            "[I 2025-09-16 17:35:58,333] Trial 92 finished with value: 0.506270382313893 and parameters: {'dropout': 0.2698099265354609, 'hidden_dim': 76, 'embedding_dim': 166}. Best is trial 67 with value: 0.5097313487821145.\n",
            "[I 2025-09-16 17:36:00,349] Using an existing study with name 'GCN_optimization' instead of creating a new one.\n",
            "[I 2025-09-16 17:36:03,101] Trial 93 finished with value: 0.48964979428608146 and parameters: {'dropout': 0.3859269093516039, 'hidden_dim': 173, 'embedding_dim': 153}. Best is trial 67 with value: 0.5097313487821145.\n",
            "[I 2025-09-16 17:36:04,523] Trial 94 finished with value: 0.5021537081409034 and parameters: {'dropout': 0.33743037606924553, 'hidden_dim': 80, 'embedding_dim': 163}. Best is trial 67 with value: 0.5097313487821145.\n",
            "[I 2025-09-16 17:36:05,870] Trial 95 finished with value: 0.49675439580727054 and parameters: {'dropout': 0.27088952466375166, 'hidden_dim': 72, 'embedding_dim': 172}. Best is trial 67 with value: 0.5097313487821145.\n",
            "[I 2025-09-16 17:36:07,713] Trial 96 finished with value: 0.49609229922774506 and parameters: {'dropout': 0.3624657317085588, 'hidden_dim': 87, 'embedding_dim': 148}. Best is trial 67 with value: 0.5097313487821145.\n",
            "[I 2025-09-16 17:36:09,679] Trial 97 finished with value: 0.5016755936211922 and parameters: {'dropout': 0.23110603095895008, 'hidden_dim': 63, 'embedding_dim': 179}. Best is trial 67 with value: 0.5097313487821145.\n",
            "[I 2025-09-16 17:36:10,856] Trial 98 finished with value: 0.49716852980516013 and parameters: {'dropout': 0.3072638071952817, 'hidden_dim': 40, 'embedding_dim': 134}. Best is trial 67 with value: 0.5097313487821145.\n",
            "[I 2025-09-16 17:36:12,356] Trial 99 finished with value: 0.49567558908543974 and parameters: {'dropout': 0.2789883046645033, 'hidden_dim': 79, 'embedding_dim': 166}. Best is trial 67 with value: 0.5097313487821145.\n",
            "[I 2025-09-16 17:36:13,928] Trial 100 finished with value: 0.4992783415156481 and parameters: {'dropout': 0.19355875137089085, 'hidden_dim': 95, 'embedding_dim': 127}. Best is trial 67 with value: 0.5097313487821145.\n",
            "[I 2025-09-16 17:36:15,058] Trial 101 finished with value: 0.4979603921980152 and parameters: {'dropout': 0.3119715534112136, 'hidden_dim': 29, 'embedding_dim': 202}. Best is trial 67 with value: 0.5097313487821145.\n",
            "[I 2025-09-16 17:36:16,333] Trial 102 finished with value: 0.503426584689897 and parameters: {'dropout': 0.469655899069616, 'hidden_dim': 56, 'embedding_dim': 140}. Best is trial 67 with value: 0.5097313487821145.\n",
            "/usr/local/lib/python3.12/dist-packages/sklearn/model_selection/_split.py:805: UserWarning: The least populated class in y has only 1 members, which is less than n_splits=5.\n",
            "  warnings.warn(\n",
            "[I 2025-09-16 17:36:18,400] Using an existing study with name 'GCN_optimization' instead of creating a new one.\n"
          ]
        },
        {
          "name": "stdout",
          "output_type": "stream",
          "text": [
            "===== Outer Fold 2/5 =====\n"
          ]
        },
        {
          "name": "stderr",
          "output_type": "stream",
          "text": [
            "[I 2025-09-16 17:36:19,720] Trial 103 finished with value: 0.4985666337332931 and parameters: {'dropout': 0.4200858801579007, 'hidden_dim': 102, 'embedding_dim': 115}. Best is trial 67 with value: 0.5097313487821145.\n",
            "[I 2025-09-16 17:36:21,446] Trial 104 finished with value: 0.5026659192995443 and parameters: {'dropout': 0.1368768856689699, 'hidden_dim': 89, 'embedding_dim': 158}. Best is trial 67 with value: 0.5097313487821145.\n",
            "[I 2025-09-16 17:36:23,246] Trial 105 finished with value: 0.5039388626073279 and parameters: {'dropout': 0.057974434513208314, 'hidden_dim': 116, 'embedding_dim': 143}. Best is trial 67 with value: 0.5097313487821145.\n",
            "[I 2025-09-16 17:36:24,503] Trial 106 finished with value: 0.5086933603128126 and parameters: {'dropout': 0.24887988964743274, 'hidden_dim': 92, 'embedding_dim': 151}. Best is trial 67 with value: 0.5097313487821145.\n",
            "[I 2025-09-16 17:36:25,632] Trial 107 finished with value: 0.49801062618643777 and parameters: {'dropout': 0.2580755699076845, 'hidden_dim': 73, 'embedding_dim': 150}. Best is trial 67 with value: 0.5097313487821145.\n",
            "[I 2025-09-16 17:36:26,937] Trial 108 finished with value: 0.498477036471545 and parameters: {'dropout': 0.19272131635262457, 'hidden_dim': 92, 'embedding_dim': 136}. Best is trial 67 with value: 0.5097313487821145.\n",
            "[I 2025-09-16 17:36:29,251] Trial 109 finished with value: 0.4832370746417351 and parameters: {'dropout': 0.23961136712247738, 'hidden_dim': 251, 'embedding_dim': 121}. Best is trial 67 with value: 0.5097313487821145.\n",
            "[I 2025-09-16 17:36:30,505] Trial 110 finished with value: 0.5049939517452616 and parameters: {'dropout': 0.3256524247176802, 'hidden_dim': 84, 'embedding_dim': 103}. Best is trial 67 with value: 0.5097313487821145.\n",
            "[I 2025-09-16 17:36:32,087] Trial 111 finished with value: 0.5080515465678925 and parameters: {'dropout': 0.2941260766039401, 'hidden_dim': 139, 'embedding_dim': 168}. Best is trial 67 with value: 0.5097313487821145.\n",
            "[I 2025-09-16 17:36:33,861] Trial 112 finished with value: 0.49950835315272535 and parameters: {'dropout': 0.3505508605516822, 'hidden_dim': 141, 'embedding_dim': 131}. Best is trial 67 with value: 0.5097313487821145.\n",
            "[I 2025-09-16 17:36:36,005] Using an existing study with name 'GCN_optimization' instead of creating a new one.\n",
            "[I 2025-09-16 17:36:37,785] Trial 113 finished with value: 0.487895588669016 and parameters: {'dropout': 0.2959588790460337, 'hidden_dim': 159, 'embedding_dim': 97}. Best is trial 67 with value: 0.5097313487821145.\n",
            "[I 2025-09-16 17:36:39,224] Trial 114 finished with value: 0.5050888329708381 and parameters: {'dropout': 0.2784748532590949, 'hidden_dim': 128, 'embedding_dim': 169}. Best is trial 67 with value: 0.5097313487821145.\n",
            "[I 2025-09-16 17:36:40,874] Trial 115 finished with value: 0.4977157898043722 and parameters: {'dropout': 0.2205133551883795, 'hidden_dim': 151, 'embedding_dim': 156}. Best is trial 67 with value: 0.5097313487821145.\n",
            "[I 2025-09-16 17:36:42,418] Trial 116 finished with value: 0.4971725723376794 and parameters: {'dropout': 0.3713523716814505, 'hidden_dim': 137, 'embedding_dim': 163}. Best is trial 67 with value: 0.5097313487821145.\n",
            "[I 2025-09-16 17:36:44,316] Trial 117 finished with value: 0.4985790219569556 and parameters: {'dropout': 0.38978258946293515, 'hidden_dim': 198, 'embedding_dim': 146}. Best is trial 67 with value: 0.5097313487821145.\n",
            "[I 2025-09-16 17:36:45,609] Trial 118 finished with value: 0.49962394036387187 and parameters: {'dropout': 0.25434806463910653, 'hidden_dim': 100, 'embedding_dim': 151}. Best is trial 67 with value: 0.5097313487821145.\n",
            "[I 2025-09-16 17:36:48,193] Trial 119 finished with value: 0.4866143713246017 and parameters: {'dropout': 0.10046099425510127, 'hidden_dim': 214, 'embedding_dim': 177}. Best is trial 67 with value: 0.5097313487821145.\n",
            "[I 2025-09-16 17:36:49,990] Trial 120 finished with value: 0.502598165026115 and parameters: {'dropout': 0.2907882981315078, 'hidden_dim': 120, 'embedding_dim': 216}. Best is trial 67 with value: 0.5097313487821145.\n",
            "[I 2025-09-16 17:36:51,124] Trial 121 finished with value: 0.48853741641753995 and parameters: {'dropout': 0.25072663460098454, 'hidden_dim': 75, 'embedding_dim': 112}. Best is trial 67 with value: 0.5097313487821145.\n",
            "[I 2025-09-16 17:36:52,231] Trial 122 finished with value: 0.4976895332958744 and parameters: {'dropout': 0.20430129494018767, 'hidden_dim': 66, 'embedding_dim': 126}. Best is trial 67 with value: 0.5097313487821145.\n",
            "[I 2025-09-16 17:36:53,860] Using an existing study with name 'GCN_optimization' instead of creating a new one.\n",
            "[I 2025-09-16 17:36:55,579] Trial 123 finished with value: 0.496787508882828 and parameters: {'dropout': 0.3231899324499094, 'hidden_dim': 179, 'embedding_dim': 17}. Best is trial 67 with value: 0.5097313487821145.\n",
            "[I 2025-09-16 17:36:56,916] Trial 124 finished with value: 0.5011405841275594 and parameters: {'dropout': 0.11811251276437239, 'hidden_dim': 105, 'embedding_dim': 142}. Best is trial 67 with value: 0.5097313487821145.\n",
            "[I 2025-09-16 17:36:58,219] Trial 125 finished with value: 0.4908531057618091 and parameters: {'dropout': 0.14250252330462565, 'hidden_dim': 97, 'embedding_dim': 139}. Best is trial 67 with value: 0.5097313487821145.\n",
            "[I 2025-09-16 17:36:59,623] Trial 126 finished with value: 0.4989468724746325 and parameters: {'dropout': 0.08166493396837868, 'hidden_dim': 111, 'embedding_dim': 145}. Best is trial 67 with value: 0.5097313487821145.\n",
            "[I 2025-09-16 17:37:01,405] Trial 127 finished with value: 0.495714207374208 and parameters: {'dropout': 0.1268419159943635, 'hidden_dim': 90, 'embedding_dim': 158}. Best is trial 67 with value: 0.5097313487821145.\n",
            "[I 2025-09-16 17:37:03,147] Trial 128 finished with value: 0.5035704383859596 and parameters: {'dropout': 0.15897935969963573, 'hidden_dim': 105, 'embedding_dim': 166}. Best is trial 67 with value: 0.5097313487821145.\n",
            "[I 2025-09-16 17:37:04,678] Trial 129 finished with value: 0.49600826555048366 and parameters: {'dropout': 0.10253197012095552, 'hidden_dim': 144, 'embedding_dim': 132}. Best is trial 67 with value: 0.5097313487821145.\n",
            "[I 2025-09-16 17:37:05,929] Trial 130 finished with value: 0.5039243311534483 and parameters: {'dropout': 0.17497709195999717, 'hidden_dim': 81, 'embedding_dim': 151}. Best is trial 67 with value: 0.5097313487821145.\n",
            "[I 2025-09-16 17:37:07,206] Trial 131 finished with value: 0.5016825705115745 and parameters: {'dropout': 0.034572282914917166, 'hidden_dim': 86, 'embedding_dim': 188}. Best is trial 67 with value: 0.5097313487821145.\n",
            "[I 2025-09-16 17:37:09,397] Trial 132 finished with value: 0.49661851772966376 and parameters: {'dropout': 0.07081740883576967, 'hidden_dim': 229, 'embedding_dim': 182}. Best is trial 67 with value: 0.5097313487821145.\n",
            "[I 2025-09-16 17:37:11,104] Using an existing study with name 'GCN_optimization' instead of creating a new one.\n",
            "[I 2025-09-16 17:37:13,252] Trial 133 finished with value: 0.5003068631216928 and parameters: {'dropout': 0.34401476868421876, 'hidden_dim': 134, 'embedding_dim': 118}. Best is trial 67 with value: 0.5097313487821145.\n",
            "[I 2025-09-16 17:37:15,443] Trial 134 finished with value: 0.4997342986266985 and parameters: {'dropout': 0.000546249720291242, 'hidden_dim': 126, 'embedding_dim': 109}. Best is trial 67 with value: 0.5097313487821145.\n",
            "[I 2025-09-16 17:37:17,200] Trial 135 finished with value: 0.5044977856344208 and parameters: {'dropout': 0.019139201622955588, 'hidden_dim': 107, 'embedding_dim': 125}. Best is trial 67 with value: 0.5097313487821145.\n",
            "[I 2025-09-16 17:37:18,496] Trial 136 finished with value: 0.5040606104288995 and parameters: {'dropout': 0.0883518001402301, 'hidden_dim': 97, 'embedding_dim': 134}. Best is trial 67 with value: 0.5097313487821145.\n",
            "[I 2025-09-16 17:37:20,661] Trial 137 finished with value: 0.5059811444579928 and parameters: {'dropout': 0.2711281601087693, 'hidden_dim': 256, 'embedding_dim': 111}. Best is trial 67 with value: 0.5097313487821145.\n",
            "[I 2025-09-16 17:37:22,904] Trial 138 finished with value: 0.5052240155241309 and parameters: {'dropout': 0.2668586180083101, 'hidden_dim': 244, 'embedding_dim': 146}. Best is trial 67 with value: 0.5097313487821145.\n",
            "[I 2025-09-16 17:37:25,228] Trial 139 finished with value: 0.5020765103607195 and parameters: {'dropout': 0.30485724955167437, 'hidden_dim': 254, 'embedding_dim': 174}. Best is trial 67 with value: 0.5097313487821145.\n",
            "[I 2025-09-16 17:37:27,530] Trial 140 finished with value: 0.503778146450582 and parameters: {'dropout': 0.2281747188519397, 'hidden_dim': 223, 'embedding_dim': 140}. Best is trial 67 with value: 0.5097313487821145.\n",
            "[I 2025-09-16 17:37:30,317] Trial 141 finished with value: 0.498318559243554 and parameters: {'dropout': 0.3914275436531044, 'hidden_dim': 238, 'embedding_dim': 90}. Best is trial 67 with value: 0.5097313487821145.\n",
            "[I 2025-09-16 17:37:31,585] Trial 142 finished with value: 0.4914294024920182 and parameters: {'dropout': 0.2742880460154534, 'hidden_dim': 93, 'embedding_dim': 113}. Best is trial 67 with value: 0.5097313487821145.\n",
            "[I 2025-09-16 17:37:33,112] Using an existing study with name 'GCN_optimization' instead of creating a new one.\n",
            "[I 2025-09-16 17:37:34,881] Trial 143 finished with value: 0.49986569525422514 and parameters: {'dropout': 0.36191438195712683, 'hidden_dim': 163, 'embedding_dim': 154}. Best is trial 67 with value: 0.5097313487821145.\n",
            "[I 2025-09-16 17:37:36,202] Trial 144 finished with value: 0.49260378722670267 and parameters: {'dropout': 0.24272989567980477, 'hidden_dim': 115, 'embedding_dim': 106}. Best is trial 67 with value: 0.5097313487821145.\n",
            "[I 2025-09-16 17:37:37,492] Trial 145 finished with value: 0.4965935106174367 and parameters: {'dropout': 0.049129579998860806, 'hidden_dim': 112, 'embedding_dim': 99}. Best is trial 67 with value: 0.5097313487821145.\n",
            "[I 2025-09-16 17:37:38,777] Trial 146 finished with value: 0.5020094926892589 and parameters: {'dropout': 0.33355136313934464, 'hidden_dim': 100, 'embedding_dim': 122}. Best is trial 67 with value: 0.5097313487821145.\n",
            "[I 2025-09-16 17:37:39,979] Trial 147 finished with value: 0.5015394853820149 and parameters: {'dropout': 0.109952954964218, 'hidden_dim': 78, 'embedding_dim': 162}. Best is trial 67 with value: 0.5097313487821145.\n",
            "[I 2025-09-16 17:37:41,922] Trial 148 finished with value: 0.49452620171066614 and parameters: {'dropout': 0.2955442816143116, 'hidden_dim': 122, 'embedding_dim': 118}. Best is trial 67 with value: 0.5097313487821145.\n",
            "[I 2025-09-16 17:37:43,565] Trial 149 finished with value: 0.5000247358275803 and parameters: {'dropout': 0.0625707308591796, 'hidden_dim': 91, 'embedding_dim': 130}. Best is trial 67 with value: 0.5097313487821145.\n",
            "[I 2025-09-16 17:37:44,807] Trial 150 finished with value: 0.504311674695134 and parameters: {'dropout': 0.14475778003765605, 'hidden_dim': 85, 'embedding_dim': 137}. Best is trial 67 with value: 0.5097313487821145.\n",
            "[I 2025-09-16 17:37:45,944] Trial 151 finished with value: 0.5065234094914757 and parameters: {'dropout': 0.03417377096294843, 'hidden_dim': 71, 'embedding_dim': 107}. Best is trial 67 with value: 0.5097313487821145.\n",
            "[I 2025-09-16 17:37:47,047] Trial 152 finished with value: 0.5075126844671498 and parameters: {'dropout': 0.6517932770359143, 'hidden_dim': 67, 'embedding_dim': 93}. Best is trial 67 with value: 0.5097313487821145.\n",
            "/usr/local/lib/python3.12/dist-packages/sklearn/model_selection/_split.py:805: UserWarning: The least populated class in y has only 1 members, which is less than n_splits=5.\n",
            "  warnings.warn(\n",
            "[I 2025-09-16 17:37:49,736] Using an existing study with name 'GCN_optimization' instead of creating a new one.\n"
          ]
        },
        {
          "name": "stdout",
          "output_type": "stream",
          "text": [
            "===== Outer Fold 3/5 =====\n"
          ]
        },
        {
          "name": "stderr",
          "output_type": "stream",
          "text": [
            "[I 2025-09-16 17:37:51,188] Trial 153 finished with value: 0.4995947751424922 and parameters: {'dropout': 0.628950628808157, 'hidden_dim': 62, 'embedding_dim': 77}. Best is trial 67 with value: 0.5097313487821145.\n",
            "[I 2025-09-16 17:37:52,197] Trial 154 finished with value: 0.50490651302594 and parameters: {'dropout': 0.5620025439052871, 'hidden_dim': 69, 'embedding_dim': 92}. Best is trial 67 with value: 0.5097313487821145.\n",
            "[I 2025-09-16 17:37:53,155] Trial 155 finished with value: 0.4996147686918978 and parameters: {'dropout': 0.5438637320994978, 'hidden_dim': 57, 'embedding_dim': 102}. Best is trial 67 with value: 0.5097313487821145.\n",
            "[I 2025-09-16 17:37:54,407] Trial 156 finished with value: 0.5042659627795466 and parameters: {'dropout': 0.6519631482556404, 'hidden_dim': 49, 'embedding_dim': 82}. Best is trial 67 with value: 0.5097313487821145.\n",
            "[I 2025-09-16 17:37:55,905] Trial 157 finished with value: 0.5050330685645873 and parameters: {'dropout': 0.28652858528176584, 'hidden_dim': 81, 'embedding_dim': 97}. Best is trial 67 with value: 0.5097313487821145.\n",
            "[I 2025-09-16 17:37:56,893] Trial 158 finished with value: 0.49246284355782816 and parameters: {'dropout': 0.16670388504060935, 'hidden_dim': 22, 'embedding_dim': 148}. Best is trial 67 with value: 0.5097313487821145.\n",
            "[I 2025-09-16 17:37:57,999] Trial 159 finished with value: 0.5121717471387698 and parameters: {'dropout': 0.03242195785751334, 'hidden_dim': 75, 'embedding_dim': 231}. Best is trial 159 with value: 0.5121717471387698.\n",
            "[I 2025-09-16 17:37:59,084] Trial 160 finished with value: 0.5030119361174442 and parameters: {'dropout': 0.03415694294286474, 'hidden_dim': 73, 'embedding_dim': 222}. Best is trial 159 with value: 0.5121717471387698.\n",
            "[I 2025-09-16 17:38:00,143] Trial 161 finished with value: 0.5004097535481732 and parameters: {'dropout': 0.02714607989538642, 'hidden_dim': 69, 'embedding_dim': 204}. Best is trial 159 with value: 0.5121717471387698.\n",
            "[I 2025-09-16 17:38:01,288] Trial 162 finished with value: 0.4994804121908864 and parameters: {'dropout': 0.04574883746364039, 'hidden_dim': 77, 'embedding_dim': 250}. Best is trial 159 with value: 0.5121717471387698.\n",
            "[I 2025-09-16 17:38:02,633] Using an existing study with name 'GCN_optimization' instead of creating a new one.\n",
            "[I 2025-09-16 17:38:03,692] Trial 163 finished with value: 0.5022474668895686 and parameters: {'dropout': 0.6852879434884176, 'hidden_dim': 62, 'embedding_dim': 159}. Best is trial 159 with value: 0.5121717471387698.\n",
            "[I 2025-09-16 17:38:04,774] Trial 164 finished with value: 0.4939949058083289 and parameters: {'dropout': 0.12790283509632422, 'hidden_dim': 87, 'embedding_dim': 106}. Best is trial 159 with value: 0.5121717471387698.\n",
            "[I 2025-09-16 17:38:06,260] Trial 165 finished with value: 0.49389112655470274 and parameters: {'dropout': 0.09711785396887812, 'hidden_dim': 151, 'embedding_dim': 144}. Best is trial 159 with value: 0.5121717471387698.\n",
            "[I 2025-09-16 17:38:08,693] Trial 166 finished with value: 0.4854561877425821 and parameters: {'dropout': 0.26130196549196905, 'hidden_dim': 208, 'embedding_dim': 113}. Best is trial 159 with value: 0.5121717471387698.\n",
            "[I 2025-09-16 17:38:09,978] Trial 167 finished with value: 0.5020712489267998 and parameters: {'dropout': 0.4342763250204444, 'hidden_dim': 76, 'embedding_dim': 128}. Best is trial 159 with value: 0.5121717471387698.\n",
            "[I 2025-09-16 17:38:10,845] Trial 168 finished with value: 0.5063007386609801 and parameters: {'dropout': 0.08268082089855773, 'hidden_dim': 35, 'embedding_dim': 226}. Best is trial 159 with value: 0.5121717471387698.\n",
            "[I 2025-09-16 17:38:11,727] Trial 169 finished with value: 0.49760953394908686 and parameters: {'dropout': 0.07710910354550822, 'hidden_dim': 35, 'embedding_dim': 231}. Best is trial 159 with value: 0.5121717471387698.\n",
            "[I 2025-09-16 17:38:12,560] Trial 170 finished with value: 0.49426318378232653 and parameters: {'dropout': 0.06313630011015975, 'hidden_dim': 29, 'embedding_dim': 228}. Best is trial 159 with value: 0.5121717471387698.\n",
            "[I 2025-09-16 17:38:13,472] Trial 171 finished with value: 0.502248441274279 and parameters: {'dropout': 0.11162682079338392, 'hidden_dim': 39, 'embedding_dim': 237}. Best is trial 159 with value: 0.5121717471387698.\n",
            "[I 2025-09-16 17:38:14,402] Trial 172 finished with value: 0.4919787868756873 and parameters: {'dropout': 0.09060343277684055, 'hidden_dim': 44, 'embedding_dim': 244}. Best is trial 159 with value: 0.5121717471387698.\n",
            "[I 2025-09-16 17:38:15,710] Using an existing study with name 'GCN_optimization' instead of creating a new one.\n",
            "[I 2025-09-16 17:38:16,721] Trial 173 finished with value: 0.5052627911810356 and parameters: {'dropout': 0.016240786461923323, 'hidden_dim': 53, 'embedding_dim': 152}. Best is trial 159 with value: 0.5121717471387698.\n",
            "[I 2025-09-16 17:38:18,919] Trial 174 finished with value: 0.5155898492952439 and parameters: {'dropout': 0.13298974404950223, 'hidden_dim': 247, 'embedding_dim': 211}. Best is trial 174 with value: 0.5155898492952439.\n",
            "[I 2025-09-16 17:38:20,304] Trial 175 finished with value: 0.4938054545615553 and parameters: {'dropout': 0.1433149249970047, 'hidden_dim': 94, 'embedding_dim': 208}. Best is trial 174 with value: 0.5155898492952439.\n",
            "[I 2025-09-16 17:38:21,870] Trial 176 finished with value: 0.4989169550636768 and parameters: {'dropout': 0.12484266681522775, 'hidden_dim': 82, 'embedding_dim': 231}. Best is trial 174 with value: 0.5155898492952439.\n",
            "[I 2025-09-16 17:38:22,991] Trial 177 finished with value: 0.4979997011344225 and parameters: {'dropout': 0.10411263584137251, 'hidden_dim': 33, 'embedding_dim': 212}. Best is trial 174 with value: 0.5155898492952439.\n",
            "[I 2025-09-16 17:38:24,959] Trial 178 finished with value: 0.5006423192800742 and parameters: {'dropout': 0.1562979163671209, 'hidden_dim': 220, 'embedding_dim': 200}. Best is trial 174 with value: 0.5155898492952439.\n",
            "[I 2025-09-16 17:38:27,126] Trial 179 finished with value: 0.5028490369331428 and parameters: {'dropout': 0.11836760453364636, 'hidden_dim': 248, 'embedding_dim': 227}. Best is trial 174 with value: 0.5155898492952439.\n",
            "[I 2025-09-16 17:38:28,144] Trial 180 finished with value: 0.5010444169765541 and parameters: {'dropout': 0.03957370329095147, 'hidden_dim': 66, 'embedding_dim': 221}. Best is trial 174 with value: 0.5155898492952439.\n",
            "[I 2025-09-16 17:38:29,225] Trial 181 finished with value: 0.4965092359766355 and parameters: {'dropout': 0.5041172075996132, 'hidden_dim': 88, 'embedding_dim': 140}. Best is trial 174 with value: 0.5155898492952439.\n",
            "[I 2025-09-16 17:38:31,001] Trial 182 finished with value: 0.4972526958867548 and parameters: {'dropout': 0.0747184506707793, 'hidden_dim': 192, 'embedding_dim': 220}. Best is trial 174 with value: 0.5155898492952439.\n",
            "[I 2025-09-16 17:38:35,880] Using an existing study with name 'GCN_optimization' instead of creating a new one.\n",
            "[I 2025-09-16 17:38:37,079] Trial 183 finished with value: 0.5012477739830701 and parameters: {'dropout': 0.13567561238304848, 'hidden_dim': 99, 'embedding_dim': 134}. Best is trial 174 with value: 0.5155898492952439.\n",
            "[I 2025-09-16 17:38:39,246] Trial 184 finished with value: 0.4992346136358717 and parameters: {'dropout': 0.24975587296697518, 'hidden_dim': 254, 'embedding_dim': 214}. Best is trial 174 with value: 0.5155898492952439.\n",
            "[I 2025-09-16 17:38:41,220] Trial 185 finished with value: 0.5091336549396475 and parameters: {'dropout': 0.2743250109714863, 'hidden_dim': 239, 'embedding_dim': 144}. Best is trial 174 with value: 0.5155898492952439.\n",
            "[I 2025-09-16 17:38:43,136] Trial 186 finished with value: 0.501006936832183 and parameters: {'dropout': 0.05545397665838005, 'hidden_dim': 232, 'embedding_dim': 144}. Best is trial 174 with value: 0.5155898492952439.\n",
            "[I 2025-09-16 17:38:45,214] Trial 187 finished with value: 0.5040748629294078 and parameters: {'dropout': 0.006879326390558868, 'hidden_dim': 247, 'embedding_dim': 151}. Best is trial 174 with value: 0.5155898492952439.\n",
            "[I 2025-09-16 17:38:47,873] Trial 188 finished with value: 0.4953664065575764 and parameters: {'dropout': 0.3200539326873586, 'hidden_dim': 242, 'embedding_dim': 195}. Best is trial 174 with value: 0.5155898492952439.\n",
            "[I 2025-09-16 17:38:49,205] Trial 189 finished with value: 0.4922797524580843 and parameters: {'dropout': 0.307267987386144, 'hidden_dim': 70, 'embedding_dim': 156}. Best is trial 174 with value: 0.5155898492952439.\n",
            "[I 2025-09-16 17:38:50,285] Trial 190 finished with value: 0.5018750126466195 and parameters: {'dropout': 0.13232877880251517, 'hidden_dim': 83, 'embedding_dim': 139}. Best is trial 174 with value: 0.5155898492952439.\n",
            "[I 2025-09-16 17:38:52,327] Trial 191 finished with value: 0.4975820840658932 and parameters: {'dropout': 0.15306670643498163, 'hidden_dim': 237, 'embedding_dim': 170}. Best is trial 174 with value: 0.5155898492952439.\n",
            "[I 2025-09-16 17:38:53,367] Trial 192 finished with value: 0.49850779324368893 and parameters: {'dropout': 0.37688493888917596, 'hidden_dim': 77, 'embedding_dim': 146}. Best is trial 174 with value: 0.5155898492952439.\n",
            "[I 2025-09-16 17:38:55,905] Using an existing study with name 'GCN_optimization' instead of creating a new one.\n",
            "[I 2025-09-16 17:38:57,060] Trial 193 finished with value: 0.5036276083544676 and parameters: {'dropout': 0.2856937190952011, 'hidden_dim': 92, 'embedding_dim': 137}. Best is trial 174 with value: 0.5155898492952439.\n",
            "[I 2025-09-16 17:38:59,194] Trial 194 finished with value: 0.494102263349325 and parameters: {'dropout': 0.23429729522219198, 'hidden_dim': 254, 'embedding_dim': 119}. Best is trial 174 with value: 0.5155898492952439.\n",
            "[I 2025-09-16 17:39:02,227] Trial 195 finished with value: 0.5061734140304743 and parameters: {'dropout': 0.27022073146786113, 'hidden_dim': 246, 'embedding_dim': 239}. Best is trial 174 with value: 0.5155898492952439.\n",
            "[I 2025-09-16 17:39:04,322] Trial 196 finished with value: 0.5029255747892529 and parameters: {'dropout': 0.2619628268146811, 'hidden_dim': 232, 'embedding_dim': 239}. Best is trial 174 with value: 0.5155898492952439.\n",
            "[I 2025-09-16 17:39:06,590] Trial 197 finished with value: 0.4975939462630876 and parameters: {'dropout': 0.27502004938280494, 'hidden_dim': 245, 'embedding_dim': 254}. Best is trial 174 with value: 0.5155898492952439.\n",
            "[I 2025-09-16 17:39:08,769] Trial 198 finished with value: 0.5025763033758845 and parameters: {'dropout': 0.59750360684683, 'hidden_dim': 238, 'embedding_dim': 235}. Best is trial 174 with value: 0.5155898492952439.\n",
            "[I 2025-09-16 17:39:10,945] Trial 199 finished with value: 0.49920409018000717 and parameters: {'dropout': 0.09009336609677651, 'hidden_dim': 243, 'embedding_dim': 241}. Best is trial 174 with value: 0.5155898492952439.\n",
            "[I 2025-09-16 17:39:13,596] Trial 200 finished with value: 0.5063692904538116 and parameters: {'dropout': 0.349903130497213, 'hidden_dim': 250, 'embedding_dim': 231}. Best is trial 174 with value: 0.5155898492952439.\n",
            "[I 2025-09-16 17:39:16,283] Trial 201 finished with value: 0.49798719556791315 and parameters: {'dropout': 0.3502686172877814, 'hidden_dim': 249, 'embedding_dim': 233}. Best is trial 174 with value: 0.5155898492952439.\n",
            "[I 2025-09-16 17:39:18,347] Trial 202 finished with value: 0.5077423158807639 and parameters: {'dropout': 0.3986969124311573, 'hidden_dim': 240, 'embedding_dim': 244}. Best is trial 174 with value: 0.5155898492952439.\n",
            "/usr/local/lib/python3.12/dist-packages/sklearn/model_selection/_split.py:805: UserWarning: The least populated class in y has only 1 members, which is less than n_splits=5.\n",
            "  warnings.warn(\n",
            "[I 2025-09-16 17:39:21,979] Using an existing study with name 'GCN_optimization' instead of creating a new one.\n"
          ]
        },
        {
          "name": "stdout",
          "output_type": "stream",
          "text": [
            "===== Outer Fold 4/5 =====\n"
          ]
        },
        {
          "name": "stderr",
          "output_type": "stream",
          "text": [
            "[I 2025-09-16 17:39:23,030] Trial 203 finished with value: 0.5034790637473235 and parameters: {'dropout': 0.3963906308643895, 'hidden_dim': 72, 'embedding_dim': 246}. Best is trial 174 with value: 0.5155898492952439.\n",
            "[I 2025-09-16 17:39:24,909] Trial 204 finished with value: 0.5017521439170015 and parameters: {'dropout': 0.3693544926040989, 'hidden_dim': 228, 'embedding_dim': 224}. Best is trial 174 with value: 0.5155898492952439.\n",
            "[I 2025-09-16 17:39:27,588] Trial 205 finished with value: 0.4872452125451102 and parameters: {'dropout': 0.33119569913097213, 'hidden_dim': 235, 'embedding_dim': 243}. Best is trial 174 with value: 0.5155898492952439.\n",
            "[I 2025-09-16 17:39:29,856] Trial 206 finished with value: 0.48745536473191375 and parameters: {'dropout': 0.35793996182446947, 'hidden_dim': 241, 'embedding_dim': 236}. Best is trial 174 with value: 0.5155898492952439.\n",
            "[I 2025-09-16 17:39:31,938] Trial 207 finished with value: 0.4954464274304645 and parameters: {'dropout': 0.415136426490386, 'hidden_dim': 250, 'embedding_dim': 250}. Best is trial 174 with value: 0.5155898492952439.\n",
            "[I 2025-09-16 17:39:33,880] Trial 208 finished with value: 0.4930728022117276 and parameters: {'dropout': 0.4532161741584255, 'hidden_dim': 238, 'embedding_dim': 218}. Best is trial 174 with value: 0.5155898492952439.\n",
            "[I 2025-09-16 17:39:34,561] Trial 209 finished with value: 0.4954865929079479 and parameters: {'dropout': 0.34654521832634255, 'hidden_dim': 16, 'embedding_dim': 233}. Best is trial 174 with value: 0.5155898492952439.\n",
            "[I 2025-09-16 17:39:36,128] Trial 210 finished with value: 0.5101654559602186 and parameters: {'dropout': 0.3019911402372558, 'hidden_dim': 171, 'embedding_dim': 230}. Best is trial 174 with value: 0.5155898492952439.\n",
            "[I 2025-09-16 17:39:37,182] Trial 211 finished with value: 0.4900804970115335 and parameters: {'dropout': 0.31043962049567714, 'hidden_dim': 79, 'embedding_dim': 230}. Best is trial 174 with value: 0.5155898492952439.\n",
            "[I 2025-09-16 17:39:38,890] Trial 212 finished with value: 0.5094180379457066 and parameters: {'dropout': 0.2943888823920831, 'hidden_dim': 176, 'embedding_dim': 208}. Best is trial 174 with value: 0.5155898492952439.\n",
            "[I 2025-09-16 17:39:41,968] Using an existing study with name 'GCN_optimization' instead of creating a new one.\n",
            "[I 2025-09-16 17:39:43,572] Trial 213 finished with value: 0.4892105855763206 and parameters: {'dropout': 0.29671684889104855, 'hidden_dim': 177, 'embedding_dim': 208}. Best is trial 174 with value: 0.5155898492952439.\n",
            "[I 2025-09-16 17:39:45,226] Trial 214 finished with value: 0.5084524833492489 and parameters: {'dropout': 0.31698127706906815, 'hidden_dim': 183, 'embedding_dim': 223}. Best is trial 174 with value: 0.5155898492952439.\n",
            "[I 2025-09-16 17:39:46,780] Trial 215 finished with value: 0.4954199648752645 and parameters: {'dropout': 0.32159054810952536, 'hidden_dim': 184, 'embedding_dim': 224}. Best is trial 174 with value: 0.5155898492952439.\n",
            "[I 2025-09-16 17:39:48,339] Trial 216 finished with value: 0.5049409876834364 and parameters: {'dropout': 0.3314149860768413, 'hidden_dim': 167, 'embedding_dim': 217}. Best is trial 174 with value: 0.5155898492952439.\n",
            "[I 2025-09-16 17:39:49,898] Trial 217 finished with value: 0.5038179545983137 and parameters: {'dropout': 0.30091843732377394, 'hidden_dim': 173, 'embedding_dim': 209}. Best is trial 174 with value: 0.5155898492952439.\n",
            "[I 2025-09-16 17:39:51,551] Trial 218 finished with value: 0.5054310619394861 and parameters: {'dropout': 0.383911971488089, 'hidden_dim': 198, 'embedding_dim': 204}. Best is trial 174 with value: 0.5155898492952439.\n",
            "[I 2025-09-16 17:39:53,775] Trial 219 finished with value: 0.4962758780070696 and parameters: {'dropout': 0.33932954883340366, 'hidden_dim': 171, 'embedding_dim': 227}. Best is trial 174 with value: 0.5155898492952439.\n",
            "[I 2025-09-16 17:39:55,731] Trial 220 finished with value: 0.5013220287174278 and parameters: {'dropout': 0.28971145114731295, 'hidden_dim': 192, 'embedding_dim': 217}. Best is trial 174 with value: 0.5155898492952439.\n",
            "[I 2025-09-16 17:39:57,353] Trial 221 finished with value: 0.5014822733679952 and parameters: {'dropout': 0.030948561435954, 'hidden_dim': 181, 'embedding_dim': 223}. Best is trial 174 with value: 0.5155898492952439.\n",
            "[I 2025-09-16 17:39:58,795] Trial 222 finished with value: 0.49779691756370575 and parameters: {'dropout': 0.35837971358469967, 'hidden_dim': 160, 'embedding_dim': 195}. Best is trial 174 with value: 0.5155898492952439.\n",
            "[I 2025-09-16 17:40:01,042] Using an existing study with name 'GCN_optimization' instead of creating a new one.\n",
            "[I 2025-09-16 17:40:02,733] Trial 223 finished with value: 0.5028239142784325 and parameters: {'dropout': 0.36725442445112494, 'hidden_dim': 177, 'embedding_dim': 211}. Best is trial 174 with value: 0.5155898492952439.\n",
            "[I 2025-09-16 17:40:04,204] Trial 224 finished with value: 0.4922587110947614 and parameters: {'dropout': 0.31782883747208185, 'hidden_dim': 153, 'embedding_dim': 227}. Best is trial 174 with value: 0.5155898492952439.\n",
            "[I 2025-09-16 17:40:06,152] Trial 225 finished with value: 0.4982084010935645 and parameters: {'dropout': 0.30199824312785256, 'hidden_dim': 188, 'embedding_dim': 151}. Best is trial 174 with value: 0.5155898492952439.\n",
            "[I 2025-09-16 17:40:08,352] Trial 226 finished with value: 0.5051799035023048 and parameters: {'dropout': 0.2795670384568541, 'hidden_dim': 185, 'embedding_dim': 163}. Best is trial 174 with value: 0.5155898492952439.\n",
            "[I 2025-09-16 17:40:09,832] Trial 227 finished with value: 0.4983943669317582 and parameters: {'dropout': 0.2888841959427778, 'hidden_dim': 166, 'embedding_dim': 147}. Best is trial 174 with value: 0.5155898492952439.\n",
            "[I 2025-09-16 17:40:11,184] Trial 228 finished with value: 0.4990272335044449 and parameters: {'dropout': 0.1143891005764229, 'hidden_dim': 139, 'embedding_dim': 157}. Best is trial 174 with value: 0.5155898492952439.\n",
            "[I 2025-09-16 17:40:12,616] Trial 229 finished with value: 0.5023581218959989 and parameters: {'dropout': 0.25112523672134063, 'hidden_dim': 170, 'embedding_dim': 72}. Best is trial 174 with value: 0.5155898492952439.\n",
            "[I 2025-09-16 17:40:13,651] Trial 230 finished with value: 0.505681065480985 and parameters: {'dropout': 0.31055943992467044, 'hidden_dim': 84, 'embedding_dim': 131}. Best is trial 174 with value: 0.5155898492952439.\n",
            "[I 2025-09-16 17:40:14,557] Trial 231 finished with value: 0.5013276388239654 and parameters: {'dropout': 0.3355970926859383, 'hidden_dim': 65, 'embedding_dim': 87}. Best is trial 174 with value: 0.5155898492952439.\n",
            "[I 2025-09-16 17:40:15,586] Trial 232 finished with value: 0.4962907509222011 and parameters: {'dropout': 0.3208702592351982, 'hidden_dim': 88, 'embedding_dim': 144}. Best is trial 174 with value: 0.5155898492952439.\n",
            "[I 2025-09-16 17:40:17,872] Using an existing study with name 'GCN_optimization' instead of creating a new one.\n",
            "[I 2025-09-16 17:40:19,348] Trial 233 finished with value: 0.5000546468699131 and parameters: {'dropout': 0.018171851410013158, 'hidden_dim': 75, 'embedding_dim': 213}. Best is trial 174 with value: 0.5155898492952439.\n",
            "[I 2025-09-16 17:40:21,347] Trial 234 finished with value: 0.49640961634227143 and parameters: {'dropout': 0.2747499855444422, 'hidden_dim': 147, 'embedding_dim': 232}. Best is trial 174 with value: 0.5155898492952439.\n",
            "[I 2025-09-16 17:40:23,441] Trial 235 finished with value: 0.4992090927295686 and parameters: {'dropout': 0.2831504423787168, 'hidden_dim': 245, 'embedding_dim': 240}. Best is trial 174 with value: 0.5155898492952439.\n",
            "[I 2025-09-16 17:40:25,095] Trial 236 finished with value: 0.5036478703531041 and parameters: {'dropout': 0.2659817025568597, 'hidden_dim': 181, 'embedding_dim': 228}. Best is trial 174 with value: 0.5155898492952439.\n",
            "[I 2025-09-16 17:40:27,158] Trial 237 finished with value: 0.49295804730023984 and parameters: {'dropout': 0.26676139415070144, 'hidden_dim': 252, 'embedding_dim': 237}. Best is trial 174 with value: 0.5155898492952439.\n",
            "[I 2025-09-16 17:40:29,261] Trial 238 finished with value: 0.49391356128862546 and parameters: {'dropout': 0.24310679366261953, 'hidden_dim': 247, 'embedding_dim': 245}. Best is trial 174 with value: 0.5155898492952439.\n",
            "[I 2025-09-16 17:40:31,219] Trial 239 finished with value: 0.49570814726606727 and parameters: {'dropout': 0.2185031122524836, 'hidden_dim': 240, 'embedding_dim': 236}. Best is trial 174 with value: 0.5155898492952439.\n",
            "[I 2025-09-16 17:40:32,691] Trial 240 finished with value: 0.4992878841126721 and parameters: {'dropout': 0.29888165627568625, 'hidden_dim': 96, 'embedding_dim': 136}. Best is trial 174 with value: 0.5155898492952439.\n",
            "[I 2025-09-16 17:40:33,787] Trial 241 finished with value: 0.49880292766180384 and parameters: {'dropout': 0.40409961789360316, 'hidden_dim': 23, 'embedding_dim': 221}. Best is trial 174 with value: 0.5155898492952439.\n",
            "[I 2025-09-16 17:40:35,440] Trial 242 finished with value: 0.5012674659408684 and parameters: {'dropout': 0.10324953281866936, 'hidden_dim': 143, 'embedding_dim': 256}. Best is trial 174 with value: 0.5155898492952439.\n",
            "[I 2025-09-16 17:40:37,744] Using an existing study with name 'GCN_optimization' instead of creating a new one.\n",
            "[I 2025-09-16 17:40:39,667] Trial 243 finished with value: 0.5035331393683778 and parameters: {'dropout': 0.044900581583454946, 'hidden_dim': 234, 'embedding_dim': 94}. Best is trial 174 with value: 0.5155898492952439.\n",
            "[I 2025-09-16 17:40:40,755] Trial 244 finished with value: 0.5072759677073916 and parameters: {'dropout': 0.12599036595187685, 'hidden_dim': 100, 'embedding_dim': 142}. Best is trial 174 with value: 0.5155898492952439.\n",
            "[I 2025-09-16 17:40:41,807] Trial 245 finished with value: 0.4959149943193904 and parameters: {'dropout': 0.11564180268278532, 'hidden_dim': 92, 'embedding_dim': 142}. Best is trial 174 with value: 0.5155898492952439.\n",
            "[I 2025-09-16 17:40:42,903] Trial 246 finished with value: 0.5050889471603568 and parameters: {'dropout': 0.12360858107030441, 'hidden_dim': 101, 'embedding_dim': 148}. Best is trial 174 with value: 0.5155898492952439.\n",
            "[I 2025-09-16 17:40:43,729] Trial 247 finished with value: 0.5007634131289554 and parameters: {'dropout': 0.14380262351748233, 'hidden_dim': 43, 'embedding_dim': 142}. Best is trial 174 with value: 0.5155898492952439.\n",
            "[I 2025-09-16 17:40:46,102] Trial 248 finished with value: 0.4865549948250197 and parameters: {'dropout': 0.26047297353811444, 'hidden_dim': 243, 'embedding_dim': 124}. Best is trial 174 with value: 0.5155898492952439.\n",
            "[I 2025-09-16 17:40:47,635] Trial 249 finished with value: 0.4993513019001791 and parameters: {'dropout': 0.38150250695638094, 'hidden_dim': 83, 'embedding_dim': 154}. Best is trial 174 with value: 0.5155898492952439.\n",
            "[I 2025-09-16 17:40:49,445] Trial 250 finished with value: 0.5027033826390627 and parameters: {'dropout': 0.13146162199587522, 'hidden_dim': 204, 'embedding_dim': 240}. Best is trial 174 with value: 0.5155898492952439.\n",
            "[I 2025-09-16 17:40:50,884] Trial 251 finished with value: 0.4980751234999629 and parameters: {'dropout': 0.2847776072551322, 'hidden_dim': 162, 'embedding_dim': 133}. Best is trial 174 with value: 0.5155898492952439.\n",
            "[I 2025-09-16 17:40:52,747] Trial 252 finished with value: 0.4991308600825782 and parameters: {'dropout': 0.09800174586549515, 'hidden_dim': 256, 'embedding_dim': 102}. Best is trial 174 with value: 0.5155898492952439.\n",
            "/usr/local/lib/python3.12/dist-packages/sklearn/model_selection/_split.py:805: UserWarning: The least populated class in y has only 1 members, which is less than n_splits=5.\n",
            "  warnings.warn(\n",
            "[I 2025-09-16 17:40:55,142] Using an existing study with name 'GCN_optimization' instead of creating a new one.\n"
          ]
        },
        {
          "name": "stdout",
          "output_type": "stream",
          "text": [
            "===== Outer Fold 5/5 =====\n"
          ]
        },
        {
          "name": "stderr",
          "output_type": "stream",
          "text": [
            "[I 2025-09-16 17:40:56,660] Trial 253 finished with value: 0.5005814622623123 and parameters: {'dropout': 0.34142579600782785, 'hidden_dim': 71, 'embedding_dim': 230}. Best is trial 174 with value: 0.5155898492952439.\n",
            "[I 2025-09-16 17:40:58,109] Trial 254 finished with value: 0.5065550104198779 and parameters: {'dropout': 0.3518704970249195, 'hidden_dim': 156, 'embedding_dim': 149}. Best is trial 174 with value: 0.5155898492952439.\n",
            "[I 2025-09-16 17:41:00,127] Trial 255 finished with value: 0.4978145812210299 and parameters: {'dropout': 0.3473940734816067, 'hidden_dim': 176, 'embedding_dim': 149}. Best is trial 174 with value: 0.5155898492952439.\n",
            "[I 2025-09-16 17:41:01,718] Trial 256 finished with value: 0.49949596516499456 and parameters: {'dropout': 0.36841731544950773, 'hidden_dim': 156, 'embedding_dim': 153}. Best is trial 174 with value: 0.5155898492952439.\n",
            "[I 2025-09-16 17:41:02,998] Trial 257 finished with value: 0.5022545791130709 and parameters: {'dropout': 0.3578153398456887, 'hidden_dim': 133, 'embedding_dim': 191}. Best is trial 174 with value: 0.5155898492952439.\n",
            "[I 2025-09-16 17:41:04,079] Trial 258 finished with value: 0.4944885213741496 and parameters: {'dropout': 0.30843834762242095, 'hidden_dim': 104, 'embedding_dim': 139}. Best is trial 174 with value: 0.5155898492952439.\n",
            "[I 2025-09-16 17:41:05,423] Trial 259 finished with value: 0.49867530411193933 and parameters: {'dropout': 0.06602015789861948, 'hidden_dim': 154, 'embedding_dim': 159}. Best is trial 174 with value: 0.5155898492952439.\n",
            "[I 2025-09-16 17:41:06,296] Trial 260 finished with value: 0.5030514297373923 and parameters: {'dropout': 0.025688297129171606, 'hidden_dim': 59, 'embedding_dim': 149}. Best is trial 174 with value: 0.5155898492952439.\n",
            "[I 2025-09-16 17:41:07,417] Trial 261 finished with value: 0.502760464048744 and parameters: {'dropout': 0.6957678553291453, 'hidden_dim': 97, 'embedding_dim': 203}. Best is trial 174 with value: 0.5155898492952439.\n",
            "[I 2025-09-16 17:41:08,677] Trial 262 finished with value: 0.5010809936162872 and parameters: {'dropout': 0.32719736964453805, 'hidden_dim': 146, 'embedding_dim': 144}. Best is trial 174 with value: 0.5155898492952439.\n",
            "[I 2025-09-16 17:41:10,913] Using an existing study with name 'GCN_optimization' instead of creating a new one.\n",
            "[I 2025-09-16 17:41:12,430] Trial 263 finished with value: 0.4948709068533223 and parameters: {'dropout': 0.08031566177916868, 'hidden_dim': 78, 'embedding_dim': 168}. Best is trial 174 with value: 0.5155898492952439.\n",
            "[I 2025-09-16 17:41:13,592] Trial 264 finished with value: 0.4994455685526727 and parameters: {'dropout': 0.1119456765540947, 'hidden_dim': 50, 'embedding_dim': 136}. Best is trial 174 with value: 0.5155898492952439.\n",
            "[I 2025-09-16 17:41:14,795] Trial 265 finished with value: 0.505369239940485 and parameters: {'dropout': 0.18473697313152052, 'hidden_dim': 91, 'embedding_dim': 178}. Best is trial 174 with value: 0.5155898492952439.\n",
            "[I 2025-09-16 17:41:16,230] Trial 266 finished with value: 0.4936269502168 and parameters: {'dropout': 0.35101936634656056, 'hidden_dim': 171, 'embedding_dim': 140}. Best is trial 174 with value: 0.5155898492952439.\n",
            "[I 2025-09-16 17:41:16,998] Trial 267 finished with value: 0.4991555314448029 and parameters: {'dropout': 0.005109917532437291, 'hidden_dim': 38, 'embedding_dim': 107}. Best is trial 174 with value: 0.5155898492952439.\n",
            "[I 2025-09-16 17:41:17,987] Trial 268 finished with value: 0.496197327201014 and parameters: {'dropout': 0.38113090779194214, 'hidden_dim': 74, 'embedding_dim': 217}. Best is trial 174 with value: 0.5155898492952439.\n",
            "[I 2025-09-16 17:41:19,450] Trial 269 finished with value: 0.5080237765768618 and parameters: {'dropout': 0.1569833020437037, 'hidden_dim': 164, 'embedding_dim': 226}. Best is trial 174 with value: 0.5155898492952439.\n",
            "[I 2025-09-16 17:41:20,936] Trial 270 finished with value: 0.5057024163510082 and parameters: {'dropout': 0.1702692018826111, 'hidden_dim': 165, 'embedding_dim': 222}. Best is trial 174 with value: 0.5155898492952439.\n",
            "[I 2025-09-16 17:41:22,383] Trial 271 finished with value: 0.49968302597381575 and parameters: {'dropout': 0.14239960733297494, 'hidden_dim': 155, 'embedding_dim': 226}. Best is trial 174 with value: 0.5155898492952439.\n",
            "[I 2025-09-16 17:41:23,743] Trial 272 finished with value: 0.5027191588725267 and parameters: {'dropout': 0.12603569170158807, 'hidden_dim': 158, 'embedding_dim': 128}. Best is trial 174 with value: 0.5155898492952439.\n",
            "[I 2025-09-16 17:41:26,686] Using an existing study with name 'GCN_optimization' instead of creating a new one.\n",
            "[I 2025-09-16 17:41:28,410] Trial 273 finished with value: 0.5002238868255763 and parameters: {'dropout': 0.1634013564018426, 'hidden_dim': 163, 'embedding_dim': 214}. Best is trial 174 with value: 0.5155898492952439.\n",
            "[I 2025-09-16 17:41:29,810] Trial 274 finished with value: 0.4910157821102375 and parameters: {'dropout': 0.1284545553850588, 'hidden_dim': 160, 'embedding_dim': 231}. Best is trial 174 with value: 0.5155898492952439.\n",
            "[I 2025-09-16 17:41:31,205] Trial 275 finished with value: 0.49946434683143337 and parameters: {'dropout': 0.14603572610340726, 'hidden_dim': 169, 'embedding_dim': 145}. Best is trial 174 with value: 0.5155898492952439.\n",
            "[I 2025-09-16 17:41:32,573] Trial 276 finished with value: 0.49823411602715967 and parameters: {'dropout': 0.10415554318181469, 'hidden_dim': 174, 'embedding_dim': 117}. Best is trial 174 with value: 0.5155898492952439.\n",
            "[I 2025-09-16 17:41:33,304] Trial 277 finished with value: 0.49484643723661864 and parameters: {'dropout': 0.33033751913302145, 'hidden_dim': 31, 'embedding_dim': 225}. Best is trial 174 with value: 0.5155898492952439.\n",
            "[I 2025-09-16 17:41:34,299] Trial 278 finished with value: 0.4967499539788075 and parameters: {'dropout': 0.051964483428781974, 'hidden_dim': 88, 'embedding_dim': 206}. Best is trial 174 with value: 0.5155898492952439.\n",
            "[I 2025-09-16 17:41:35,827] Trial 279 finished with value: 0.5058973897169096 and parameters: {'dropout': 0.3154372076433801, 'hidden_dim': 181, 'embedding_dim': 198}. Best is trial 174 with value: 0.5155898492952439.\n",
            "[I 2025-09-16 17:41:37,084] Trial 280 finished with value: 0.4986133705882932 and parameters: {'dropout': 0.08996420168036187, 'hidden_dim': 148, 'embedding_dim': 134}. Best is trial 174 with value: 0.5155898492952439.\n",
            "[I 2025-09-16 17:41:39,310] Trial 281 finished with value: 0.49533992684491 and parameters: {'dropout': 0.03492465511543618, 'hidden_dim': 187, 'embedding_dim': 219}. Best is trial 174 with value: 0.5155898492952439.\n",
            "[I 2025-09-16 17:41:41,404] Trial 282 finished with value: 0.5022757863726991 and parameters: {'dropout': 0.15498578452553516, 'hidden_dim': 226, 'embedding_dim': 150}. Best is trial 174 with value: 0.5155898492952439.\n",
            "[I 2025-09-16 17:41:43,504] Using an existing study with name 'GCN_optimization' instead of creating a new one.\n",
            "[I 2025-09-16 17:41:45,267] Trial 283 finished with value: 0.5088550323931198 and parameters: {'dropout': 0.11333859846678877, 'hidden_dim': 167, 'embedding_dim': 58}. Best is trial 174 with value: 0.5155898492952439.\n",
            "[I 2025-09-16 17:41:47,240] Trial 284 finished with value: 0.49299580275595317 and parameters: {'dropout': 0.20637957901566967, 'hidden_dim': 166, 'embedding_dim': 140}. Best is trial 174 with value: 0.5155898492952439.\n",
            "[I 2025-09-16 17:41:48,695] Trial 285 finished with value: 0.5117872925483996 and parameters: {'dropout': 0.532390688320725, 'hidden_dim': 175, 'embedding_dim': 122}. Best is trial 174 with value: 0.5155898492952439.\n",
            "[I 2025-09-16 17:41:50,063] Trial 286 finished with value: 0.5031478024690736 and parameters: {'dropout': 0.6089789981065638, 'hidden_dim': 173, 'embedding_dim': 115}. Best is trial 174 with value: 0.5155898492952439.\n",
            "[I 2025-09-16 17:41:51,709] Trial 287 finished with value: 0.49682306177095736 and parameters: {'dropout': 0.11523289274433152, 'hidden_dim': 168, 'embedding_dim': 54}. Best is trial 174 with value: 0.5155898492952439.\n",
            "[I 2025-09-16 17:41:53,635] Trial 288 finished with value: 0.5006054644299408 and parameters: {'dropout': 0.6397919666011155, 'hidden_dim': 180, 'embedding_dim': 46}. Best is trial 174 with value: 0.5155898492952439.\n",
            "[I 2025-09-16 17:41:55,121] Trial 289 finished with value: 0.49568548856441647 and parameters: {'dropout': 0.5723707494733785, 'hidden_dim': 175, 'embedding_dim': 123}. Best is trial 174 with value: 0.5155898492952439.\n",
            "[I 2025-09-16 17:41:56,417] Trial 290 finished with value: 0.5071834243791924 and parameters: {'dropout': 0.5407590755950086, 'hidden_dim': 160, 'embedding_dim': 121}. Best is trial 174 with value: 0.5155898492952439.\n",
            "[I 2025-09-16 17:41:57,788] Trial 291 finished with value: 0.49911321947971476 and parameters: {'dropout': 0.48042698651645743, 'hidden_dim': 170, 'embedding_dim': 126}. Best is trial 174 with value: 0.5155898492952439.\n",
            "[I 2025-09-16 17:41:59,075] Trial 292 finished with value: 0.5122218617053572 and parameters: {'dropout': 0.5170192697688798, 'hidden_dim': 154, 'embedding_dim': 130}. Best is trial 174 with value: 0.5155898492952439.\n",
            "[I 2025-09-16 17:42:01,234] Using an existing study with name 'GCN_optimization' instead of creating a new one.\n",
            "[I 2025-09-16 17:42:02,657] Trial 293 finished with value: 0.5082165626892642 and parameters: {'dropout': 0.533064257897674, 'hidden_dim': 158, 'embedding_dim': 129}. Best is trial 174 with value: 0.5155898492952439.\n",
            "[I 2025-09-16 17:42:04,177] Trial 294 finished with value: 0.5029759656848095 and parameters: {'dropout': 0.6710875162954715, 'hidden_dim': 162, 'embedding_dim': 128}. Best is trial 174 with value: 0.5155898492952439.\n",
            "[I 2025-09-16 17:42:06,039] Trial 295 finished with value: 0.5084442689884664 and parameters: {'dropout': 0.528121368347045, 'hidden_dim': 151, 'embedding_dim': 119}. Best is trial 174 with value: 0.5155898492952439.\n",
            "[I 2025-09-16 17:42:07,518] Trial 296 finished with value: 0.5031988294432127 and parameters: {'dropout': 0.5342539598829233, 'hidden_dim': 151, 'embedding_dim': 33}. Best is trial 174 with value: 0.5155898492952439.\n",
            "[I 2025-09-16 17:42:08,790] Trial 297 finished with value: 0.4989486654382927 and parameters: {'dropout': 0.5169077917199189, 'hidden_dim': 152, 'embedding_dim': 120}. Best is trial 174 with value: 0.5155898492952439.\n",
            "[I 2025-09-16 17:42:10,105] Trial 298 finished with value: 0.5047205493357072 and parameters: {'dropout': 0.5490169685727552, 'hidden_dim': 158, 'embedding_dim': 122}. Best is trial 174 with value: 0.5155898492952439.\n",
            "[I 2025-09-16 17:42:11,471] Trial 299 finished with value: 0.4993434497571744 and parameters: {'dropout': 0.4992661916915604, 'hidden_dim': 163, 'embedding_dim': 131}. Best is trial 174 with value: 0.5155898492952439.\n",
            "[I 2025-09-16 17:42:12,681] Trial 300 finished with value: 0.5027968291644676 and parameters: {'dropout': 0.5226201093315315, 'hidden_dim': 139, 'embedding_dim': 112}. Best is trial 174 with value: 0.5155898492952439.\n",
            "[I 2025-09-16 17:42:13,916] Trial 301 finished with value: 0.5012090154481712 and parameters: {'dropout': 0.5416433139496262, 'hidden_dim': 149, 'embedding_dim': 67}. Best is trial 174 with value: 0.5155898492952439.\n",
            "[I 2025-09-16 17:42:15,288] Trial 302 finished with value: 0.4971185827556585 and parameters: {'dropout': 0.5750303322841065, 'hidden_dim': 160, 'embedding_dim': 123}. Best is trial 174 with value: 0.5155898492952439.\n"
          ]
        }
      ],
      "source": [
        "nodes_idx = data.edge_index.flatten().unique()\n",
        "y = data.node_species.squeeze()\n",
        "\n",
        "n_splits_outer = 5\n",
        "outer_skf = StratifiedKFold(n_splits=n_splits_outer, shuffle=True, random_state=42)\n",
        "\n",
        "auroc_scores = []\n",
        "for fold, (trainval_idx, test_idx) in enumerate(outer_skf.split(nodes_idx, y)):\n",
        "            print(f\"===== Outer Fold {fold+1}/{n_splits_outer} =====\")\n",
        "            outer_train_subgraph = data.subgraph(torch.tensor(train_idx))\n",
        "            outer_test_subgraph = data.subgraph(torch.tensor(test_idx))\n",
        "\n",
        "\n",
        "            # Inner CV for hyperparameter tuning\n",
        "            nodes_idx_train = outer_train_subgraph.edge_index.flatten().unique()\n",
        "            y_train = outer_train_subgraph.node_species.squeeze()\n",
        "\n",
        "            inner_skf = StratifiedKFold(n_splits=5, shuffle=True, random_state=42)\n",
        "            best_accuracy = 0\n",
        "            best_params = None\n",
        "            for train_idx, val_idx in inner_skf.split(nodes_idx_train, y_train):\n",
        "                inner_train_subgraph = train_subgraph.subgraph(torch.tensor(train_idx))\n",
        "                val_subgraph = train_subgraph.subgraph(torch.tensor(val_idx))\n",
        "\n",
        "                # Optuna\n",
        "                gcn_opt = GCNoptimization(data, inner_train_subgraph, val_subgraph)\n",
        "                study = gcn_opt.study\n",
        "                study.optimize(gcn_opt.objective, n_trials=10)\n",
        "                best_params = study.best_params\n",
        "\n",
        "\n",
        "                # Train the model with the best hyperparameters\n",
        "                model = GCN(num_nodes=data.num_nodes,\n",
        "                            embedding_dim=best_params[\"embedding_dim\"],\n",
        "                            hidden_dim=best_params[\"hidden_dim\"],\n",
        "                            out_dim=112,\n",
        "                            drop_out=best_params[\"dropout\"])\n",
        "\n",
        "                x_fin = torch.empty((data.num_nodes, best_params[\"embedding_dim\"]))  # empty tensor\n",
        "                torch.nn.init.xavier_uniform_(x)  # Xavier uniform initialization\n",
        "\n",
        "                optimizer = torch.optim.Adam(model.parameters(), lr=0.01, weight_decay=5e-4)\n",
        "                criterion = torch.nn.BCEWithLogitsLoss()\n",
        "\n",
        "                for epoch in range(100):\n",
        "                  model.train()\n",
        "                  optimizer.zero_grad()\n",
        "                  out = model(x_fin, outer_train_subgraph.edge_index)\n",
        "                  loss = criterion(out, data.y.float())\n",
        "                  loss.backward()\n",
        "                  optimizer.step()\n",
        "\n",
        "\n",
        "                # Test Evaluation\n",
        "                model.eval()\n",
        "                with torch.no_grad():\n",
        "                    logits = model(x_fin, outer_test_subgraph.edge_index)\n",
        "                    probs = torch.sigmoid(logits)\n",
        "                    preds = (probs > 0.5).int()\n",
        "\n",
        "                    y_true = data.y[test_mask].numpy()\n",
        "                    y_pred = preds[test_mask].numpy()\n",
        "                    y_prob = probs[test_mask].numpy()\n",
        "\n",
        "                    # Accuracy (exact match per node)\n",
        "                    accuracy = accuracy_score(y_true, y_pred)\n",
        "\n",
        "                    # AUROC (per class, average='macro')\n",
        "                    auroc = roc_auc_score(y_true, y_prob, average='macro')\n",
        "                    auroc_scores.append(auroc)\n",
        "\n",
        "\n",
        "\n",
        "\n"
      ]
    },
    {
      "cell_type": "code",
      "execution_count": 34,
      "id": "E_A_zndrl6vp",
      "metadata": {
        "colab": {
          "base_uri": "https://localhost:8080/"
        },
        "id": "E_A_zndrl6vp",
        "outputId": "97779efb-ee6f-4daa-e066-c61b0d65acbd"
      },
      "outputs": [
        {
          "name": "stdout",
          "output_type": "stream",
          "text": [
            "Mean AUROC: 0.5176\n"
          ]
        }
      ],
      "source": [
        "print(f\"Mean AUROC: {np.mean(auroc_scores):.4f}\")\n"
      ]
    },
    {
      "cell_type": "markdown",
      "id": "bdd638c2",
      "metadata": {
        "id": "bdd638c2"
      },
      "source": []
    }
  ],
  "metadata": {
    "accelerator": "GPU",
    "colab": {
      "gpuType": "T4",
      "include_colab_link": true,
      "provenance": []
    },
    "kernelspec": {
      "display_name": "mlhandson",
      "language": "python",
      "name": "python3"
    },
    "language_info": {
      "name": "python",
      "version": "3.12.8"
    }
  },
  "nbformat": 4,
  "nbformat_minor": 5
}
