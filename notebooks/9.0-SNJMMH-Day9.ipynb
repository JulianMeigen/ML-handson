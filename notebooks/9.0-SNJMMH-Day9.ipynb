{
 "cells": [
  {
   "cell_type": "markdown",
   "id": "d7b06561",
   "metadata": {},
   "source": [
    "# Assignment Day 9\n",
    "\n",
    "## Team members:\n",
    "- Samuel Nebgen s6sanebg@uni-bonn.de\n",
    "- Muhammad Humza Arain s27marai@uni-bonn.de\n",
    "- Julian Meigen s82jmeig@uni-bonn.de\n",
    "\n",
    "## 18.09.2025\n",
    "\n",
    "Contributions were made by all team members in around the same amount, either based on discussions or coding."
   ]
  },
  {
   "cell_type": "markdown",
   "id": "3efa19de",
   "metadata": {},
   "source": [
    "# Task 1: Load the Mutagenicity dataset from TUDatasets (https://chrsmrrs.github.io/datasets/docs/datasets/)\n"
   ]
  },
  {
   "cell_type": "markdown",
   "id": "6aa54c29",
   "metadata": {},
   "source": [
    "# Task 2: Visualize the data by drawing the molecule graph of one sample.\n"
   ]
  },
  {
   "cell_type": "markdown",
   "id": "95d323d6",
   "metadata": {},
   "source": [
    "# Task 3: Train a GNN model with 5 convolutional layers with pytorch-geometric.\n"
   ]
  },
  {
   "cell_type": "markdown",
   "id": "af91653c",
   "metadata": {},
   "source": [
    "## a. Define the model.\n"
   ]
  },
  {
   "cell_type": "markdown",
   "id": "deaee04d",
   "metadata": {},
   "source": [
    "## b. Define the train and test function.\n"
   ]
  },
  {
   "cell_type": "markdown",
   "id": "614bb55a",
   "metadata": {},
   "source": [
    "## c. Train the model for 100 epochs.\n"
   ]
  },
  {
   "cell_type": "markdown",
   "id": "dd8ad5cf",
   "metadata": {},
   "source": [
    "# Task 4: Explain the predictions using the captum package (https://captum.ai/) with the method Integrated Gradients.\n"
   ]
  },
  {
   "cell_type": "markdown",
   "id": "6f80616e",
   "metadata": {},
   "source": [
    "## a. Familiarize yourself with the method, and the captum package (https://captum.ai/docs/extension/integrated_gradients). Summarize the method in your own words (5-8sentences).\n"
   ]
  },
  {
   "cell_type": "markdown",
   "id": "2303c1ab",
   "metadata": {},
   "source": [
    "\n",
    "## b. Calculate the attributions of the input to the model’s predictions.\n"
   ]
  },
  {
   "cell_type": "markdown",
   "id": "29c3442d",
   "metadata": {},
   "source": [
    "## c. Visualize your results. Which were the most important inputs for a prediction?\n"
   ]
  },
  {
   "cell_type": "markdown",
   "id": "a1345685",
   "metadata": {},
   "source": [
    "# Task 5: Use the GNNExplainer from pytorch-geometric to explain the model’s predictions.\n"
   ]
  },
  {
   "cell_type": "markdown",
   "id": "443eb701",
   "metadata": {},
   "source": [
    "## a. Familiarize yourself with the method (https://arxiv.org/pdf/1903.03894 ). Summarize the method in your own words (5-8 sentences).\n"
   ]
  },
  {
   "cell_type": "markdown",
   "id": "bbbc8407",
   "metadata": {},
   "source": [
    "## b. Visualize your results. Choose an interesting prediction and show the most important input."
   ]
  }
 ],
 "metadata": {
  "language_info": {
   "name": "python"
  }
 },
 "nbformat": 4,
 "nbformat_minor": 5
}
