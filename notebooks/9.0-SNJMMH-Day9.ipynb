{
 "cells": [
  {
   "cell_type": "markdown",
   "id": "a4fd64ad",
   "metadata": {},
   "source": [
    "# Assignment Day 9\n",
    "\n",
    "## Team members:\n",
    "- Samuel Nebgen s6sanebg@uni-bonn.de\n",
    "- Muhammad Humza Arain s27marai@uni-bonn.de\n",
    "- Julian Meigen s82jmeig@uni-bonn.de\n",
    "\n",
    "## 18.09.2025\n",
    "\n",
    "Contributions were made by all team members in around the same amount, either based on discussions or coding."
   ]
  },
  {
   "cell_type": "markdown",
   "id": "e93e9896",
   "metadata": {},
   "source": [
    "# Task 1: Load the Mutagenicity dataset from TUDatasets (https://chrsmrrs.github.io/datasets/docs/datasets/)\n"
   ]
  },
  {
   "cell_type": "code",
   "execution_count": null,
   "id": "c98516f7",
   "metadata": {},
   "outputs": [],
   "source": [
    "import os\n",
    "import numpy as np\n",
    "import pandas as pd\n",
    "import matplotlib.pyplot as plt\n"
   ]
  },
  {
   "cell_type": "code",
   "execution_count": null,
   "id": "21aac313",
   "metadata": {},
   "outputs": [],
   "source": [
    "from torch_geometric.datasets import TUDataset"
   ]
  },
  {
   "cell_type": "code",
   "execution_count": null,
   "id": "2a2168a8",
   "metadata": {},
   "outputs": [
    {
     "name": "stderr",
     "output_type": "stream",
     "text": [
      "Downloading https://www.chrsmrrs.com/graphkerneldatasets/MUTAG.zip\n",
      "Processing...\n",
      "Done!\n"
     ]
    }
   ],
   "source": [
    "save_data_path = os.path.join(\"..\", \"data\", \"interim\", \"TUDataset\", \"MUTAG\")\n",
    "dataset = TUDataset(root=save_data_path, name=\"MUTAG\")"
   ]
  },
  {
   "cell_type": "code",
   "execution_count": null,
   "id": "c2e0c680",
   "metadata": {},
   "outputs": [
    {
     "data": {
      "text/plain": [
       "MUTAG(188)"
      ]
     },
     "metadata": {},
     "output_type": "display_data"
    }
   ],
   "source": [
    "dataset"
   ]
  },
  {
   "cell_type": "markdown",
   "id": "4acb22dd",
   "metadata": {},
   "source": [
    "# Task 2: Visualize the data by drawing the molecule graph of one sample.\n"
   ]
  },
  {
   "cell_type": "code",
   "execution_count": null,
   "id": "d84dba22",
   "metadata": {},
   "outputs": [],
   "source": []
  },
  {
   "cell_type": "markdown",
   "id": "d66e3f9d",
   "metadata": {},
   "source": [
    "# Task 3: Train a GNN model with 5 convolutional layers with pytorch-geometric.\n"
   ]
  },
  {
   "cell_type": "markdown",
   "id": "5efe7c2d",
   "metadata": {},
   "source": [
    "## a. Define the model.\n"
   ]
  },
  {
   "cell_type": "markdown",
   "id": "6e6d7bb5",
   "metadata": {},
   "source": [
    "## b. Define the train and test function.\n"
   ]
  },
  {
   "cell_type": "markdown",
   "id": "2b51c057",
   "metadata": {},
   "source": [
    "## c. Train the model for 100 epochs.\n"
   ]
  },
  {
   "cell_type": "markdown",
   "id": "66e12b25",
   "metadata": {},
   "source": [
    "# Task 4: Explain the predictions using the captum package (https://captum.ai/) with the method Integrated Gradients.\n"
   ]
  },
  {
   "cell_type": "markdown",
   "id": "4ac4229e",
   "metadata": {},
   "source": [
    "## a. Familiarize yourself with the method, and the captum package (https://captum.ai/docs/extension/integrated_gradients). Summarize the method in your own words (5-8sentences).\n"
   ]
  },
  {
   "cell_type": "markdown",
   "id": "f3c2a426",
   "metadata": {},
   "source": [
    "\n",
    "## b. Calculate the attributions of the input to the model’s predictions.\n"
   ]
  },
  {
   "cell_type": "markdown",
   "id": "1692b1ec",
   "metadata": {},
   "source": [
    "## c. Visualize your results. Which were the most important inputs for a prediction?\n"
   ]
  },
  {
   "cell_type": "markdown",
   "id": "be428ce6",
   "metadata": {},
   "source": [
    "# Task 5: Use the GNNExplainer from pytorch-geometric to explain the model’s predictions.\n"
   ]
  },
  {
   "cell_type": "markdown",
   "id": "2cb23c0e",
   "metadata": {},
   "source": [
    "## a. Familiarize yourself with the method (https://arxiv.org/pdf/1903.03894 ). Summarize the method in your own words (5-8 sentences).\n"
   ]
  },
  {
   "cell_type": "markdown",
   "id": "741d748c",
   "metadata": {},
   "source": [
    "## b. Visualize your results. Choose an interesting prediction and show the most important input."
   ]
  }
 ],
 "metadata": {
  "language_info": {
   "name": "python"
  }
 },
 "nbformat": 4,
 "nbformat_minor": 5
}
