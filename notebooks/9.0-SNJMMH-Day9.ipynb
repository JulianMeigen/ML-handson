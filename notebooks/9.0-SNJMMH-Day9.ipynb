{
 "cells": [
  {
   "cell_type": "markdown",
   "id": "a4fd64ad",
   "metadata": {},
   "source": [
    "# Assignment Day 9\n",
    "\n",
    "## Team members:\n",
    "- Samuel Nebgen s6sanebg@uni-bonn.de\n",
    "- Muhammad Humza Arain s27marai@uni-bonn.de\n",
    "- Julian Meigen s82jmeig@uni-bonn.de\n",
    "\n",
    "## 18.09.2025\n",
    "\n",
    "Contributions were made by all team members in around the same amount, either based on discussions or coding."
   ]
  },
  {
   "cell_type": "markdown",
   "id": "e93e9896",
   "metadata": {},
   "source": [
    "# Task 1: Load the Mutagenicity dataset from TUDatasets (https://chrsmrrs.github.io/datasets/docs/datasets/)\n"
   ]
  },
  {
   "cell_type": "code",
   "execution_count": 1,
   "id": "c98516f7",
   "metadata": {},
   "outputs": [],
   "source": [
    "import os\n",
    "import numpy as np\n",
    "import pandas as pd\n",
    "import matplotlib.pyplot as plt\n"
   ]
  },
  {
   "cell_type": "code",
   "execution_count": 2,
   "id": "21aac313",
   "metadata": {},
   "outputs": [
    {
     "name": "stderr",
     "output_type": "stream",
     "text": [
      "c:\\Users\\samue\\Documents\\Life Science Informatics\\Semester 2\\Machine Learning hands on\\ML-handson\\.venv\\Lib\\site-packages\\torch_geometric\\typing.py:68: UserWarning: An issue occurred while importing 'pyg-lib'. Disabling its usage. Stacktrace: Could not find module 'C:\\Users\\samue\\Documents\\Life Science Informatics\\Semester 2\\Machine Learning hands on\\ML-handson\\.venv\\Lib\\site-packages\\libpyg.pyd' (or one of its dependencies). Try using the full path with constructor syntax.\n",
      "  warnings.warn(f\"An issue occurred while importing 'pyg-lib'. \"\n",
      "c:\\Users\\samue\\Documents\\Life Science Informatics\\Semester 2\\Machine Learning hands on\\ML-handson\\.venv\\Lib\\site-packages\\torch_geometric\\typing.py:97: UserWarning: An issue occurred while importing 'torch-cluster'. Disabling its usage. Stacktrace: Could not find module 'C:\\Users\\samue\\Documents\\Life Science Informatics\\Semester 2\\Machine Learning hands on\\ML-handson\\.venv\\Lib\\site-packages\\torch_cluster\\_fps_cpu.pyd' (or one of its dependencies). Try using the full path with constructor syntax.\n",
      "  warnings.warn(f\"An issue occurred while importing 'torch-cluster'. \"\n",
      "c:\\Users\\samue\\Documents\\Life Science Informatics\\Semester 2\\Machine Learning hands on\\ML-handson\\.venv\\Lib\\site-packages\\torch_geometric\\typing.py:124: UserWarning: An issue occurred while importing 'torch-sparse'. Disabling its usage. Stacktrace: Could not find module 'C:\\Users\\samue\\Documents\\Life Science Informatics\\Semester 2\\Machine Learning hands on\\ML-handson\\.venv\\Lib\\site-packages\\torch_sparse\\_convert_cpu.pyd' (or one of its dependencies). Try using the full path with constructor syntax.\n",
      "  warnings.warn(f\"An issue occurred while importing 'torch-sparse'. \"\n"
     ]
    }
   ],
   "source": [
    "from torch_geometric.datasets import TUDataset"
   ]
  },
  {
   "cell_type": "code",
   "execution_count": 3,
   "id": "2a2168a8",
   "metadata": {},
   "outputs": [
    {
     "name": "stderr",
     "output_type": "stream",
     "text": [
      "Downloading https://www.chrsmrrs.com/graphkerneldatasets/MUTAG.zip\n",
      "Processing...\n",
      "Done!\n"
     ]
    }
   ],
   "source": [
    "save_data_path = os.path.join(\"..\", \"data\", \"interim\", \"TUDataset\")\n",
    "dataset = TUDataset(root=save_data_path, name=\"MUTAG\")"
   ]
  },
  {
   "cell_type": "code",
   "execution_count": 4,
   "id": "c2e0c680",
   "metadata": {},
   "outputs": [
    {
     "data": {
      "text/plain": [
       "MUTAG(188)"
      ]
     },
     "execution_count": 4,
     "metadata": {},
     "output_type": "execute_result"
    }
   ],
   "source": [
    "dataset"
   ]
  },
  {
   "cell_type": "markdown",
   "id": "4acb22dd",
   "metadata": {},
   "source": [
    "# Task 2: Visualize the data by drawing the molecule graph of one sample.\n"
   ]
  },
  {
   "cell_type": "code",
   "execution_count": null,
   "id": "d84dba22",
   "metadata": {},
   "outputs": [],
   "source": []
  },
  {
   "cell_type": "markdown",
   "id": "d66e3f9d",
   "metadata": {},
   "source": [
    "# Task 3: Train a GNN model with 5 convolutional layers with pytorch-geometric.\n"
   ]
  },
  {
   "cell_type": "markdown",
   "id": "5efe7c2d",
   "metadata": {},
   "source": [
    "## a. Define the model.\n"
   ]
  },
  {
   "cell_type": "markdown",
   "id": "6e6d7bb5",
   "metadata": {},
   "source": [
    "## b. Define the train and test function.\n"
   ]
  },
  {
   "cell_type": "markdown",
   "id": "2b51c057",
   "metadata": {},
   "source": [
    "## c. Train the model for 100 epochs.\n"
   ]
  },
  {
   "cell_type": "markdown",
   "id": "66e12b25",
   "metadata": {},
   "source": [
    "# Task 4: Explain the predictions using the captum package (https://captum.ai/) with the method Integrated Gradients.\n"
   ]
  },
  {
   "cell_type": "markdown",
   "id": "4ac4229e",
   "metadata": {},
   "source": [
    "## a. Familiarize yourself with the method, and the captum package (https://captum.ai/docs/extension/integrated_gradients). Summarize the method in your own words (5-8sentences).\n"
   ]
  },
  {
   "cell_type": "markdown",
   "id": "f3c2a426",
   "metadata": {},
   "source": [
    "\n",
    "## b. Calculate the attributions of the input to the model’s predictions.\n"
   ]
  },
  {
   "cell_type": "markdown",
   "id": "1692b1ec",
   "metadata": {},
   "source": [
    "## c. Visualize your results. Which were the most important inputs for a prediction?\n"
   ]
  },
  {
   "cell_type": "markdown",
   "id": "be428ce6",
   "metadata": {},
   "source": [
    "# Task 5: Use the GNNExplainer from pytorch-geometric to explain the model’s predictions.\n"
   ]
  },
  {
   "cell_type": "markdown",
   "id": "2cb23c0e",
   "metadata": {},
   "source": [
    "## a. Familiarize yourself with the method (https://arxiv.org/pdf/1903.03894 ). Summarize the method in your own words (5-8 sentences).\n"
   ]
  },
  {
   "cell_type": "markdown",
   "id": "741d748c",
   "metadata": {},
   "source": [
    "## b. Visualize your results. Choose an interesting prediction and show the most important input."
   ]
  }
 ],
 "metadata": {
  "kernelspec": {
   "display_name": ".venv",
   "language": "python",
   "name": "python3"
  },
  "language_info": {
   "codemirror_mode": {
    "name": "ipython",
    "version": 3
   },
   "file_extension": ".py",
   "mimetype": "text/x-python",
   "name": "python",
   "nbconvert_exporter": "python",
   "pygments_lexer": "ipython3",
   "version": "3.12.7"
  }
 },
 "nbformat": 4,
 "nbformat_minor": 5
}
