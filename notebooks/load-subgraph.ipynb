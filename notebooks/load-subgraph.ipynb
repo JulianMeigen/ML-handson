{
 "cells": [
  {
   "cell_type": "code",
   "execution_count": 11,
   "id": "e59cbe57",
   "metadata": {},
   "outputs": [
    {
     "name": "stdout",
     "output_type": "stream",
     "text": [
      "Saved: 10824 nodes, 5754852 edges\n"
     ]
    }
   ],
   "source": [
    "import torch\n",
    "from ogb.nodeproppred import PygNodePropPredDataset\n",
    "from torch_geometric.utils import k_hop_subgraph\n",
    "from torch_geometric.data import Data\n",
    "\n",
    "# (Optional) safe one-time patch; or remove entirely\n",
    "if getattr(torch.load, \"__name__\", \"\") != \"_torch_load_allow_pickle\":\n",
    "    _torch_load_orig = torch.load\n",
    "    def _torch_load_allow_pickle(*args, **kwargs):\n",
    "        kwargs.setdefault(\"weights_only\", False)\n",
    "        return _torch_load_orig(*args, **kwargs)\n",
    "    torch.load = _torch_load_allow_pickle\n",
    "\n",
    "dataset = PygNodePropPredDataset(name=\"ogbn-proteins\")\n",
    "data: Data = dataset[0]\n",
    "split_idx = dataset.get_idx_split()\n",
    "\n",
    "def make_khop_subgraph(data, split_idx, target_nodes=50_000, max_k=4, seed_idx=None):\n",
    "    train_idx = split_idx[\"train\"]\n",
    "    if seed_idx is None:\n",
    "        seed_idx = train_idx[torch.randint(0, train_idx.numel(), (1,)).item()]\n",
    "    # --- FIX: use node_idx ---\n",
    "    node_idx = torch.tensor([seed_idx], dtype=torch.long)\n",
    "\n",
    "    for k in range(1, max_k + 1):\n",
    "        sub_nodes, sub_edge_index, _, edge_mask = k_hop_subgraph(\n",
    "            node_idx=node_idx, num_hops=k, edge_index=data.edge_index, relabel_nodes=True\n",
    "        )\n",
    "        if sub_nodes.numel() >= target_nodes or k == max_k:\n",
    "            break\n",
    "\n",
    "    x_sub = getattr(data, \"x\", None)\n",
    "    if x_sub is not None:\n",
    "        x_sub = x_sub[sub_nodes]\n",
    "\n",
    "    y_sub = getattr(data, \"y\", None)\n",
    "    if y_sub is not None:\n",
    "        y_sub = y_sub[sub_nodes]\n",
    "\n",
    "    edge_attr = getattr(data, \"edge_attr\", None)\n",
    "    if edge_attr is not None:\n",
    "        edge_attr = edge_attr[edge_mask]\n",
    "\n",
    "    sub_data = Data(\n",
    "        x=x_sub,\n",
    "        edge_index=sub_edge_index,\n",
    "        edge_attr=edge_attr,\n",
    "        y=y_sub,\n",
    "        num_nodes=sub_nodes.numel(),\n",
    "    )\n",
    "    sub_data.original_n_id = sub_nodes\n",
    "\n",
    "    # remap splits\n",
    "    remap = -torch.ones(data.num_nodes, dtype=torch.long)\n",
    "    remap[sub_nodes] = torch.arange(sub_nodes.numel())\n",
    "    split_sub = {}\n",
    "    for part in [\"train\", \"valid\", \"test\"]:\n",
    "        idx = split_idx[part]\n",
    "        kept = remap[idx]\n",
    "        split_sub[part] = kept[kept >= 0]\n",
    "\n",
    "    return sub_data, split_sub\n",
    "\n",
    "sub_data, split_sub = make_khop_subgraph(data, split_idx, target_nodes=1000, max_k=400)\n",
    "\n",
    "bundle = {\"data\": sub_data, \"split_idx\": split_sub,\n",
    "          \"meta\": {\"source\": \"ogbn-proteins\",\n",
    "                   \"note\": \"Connected k-hop subgraph around a training node; indices remapped\"}}\n",
    "torch.save(bundle, \"ogbn_proteins_subgraph.pt\")\n",
    "print(\"Saved:\", sub_data.num_nodes, \"nodes,\", sub_data.edge_index.size(1), \"edges\")\n"
   ]
  },
  {
   "cell_type": "code",
   "execution_count": 12,
   "id": "51841695",
   "metadata": {},
   "outputs": [
    {
     "name": "stdout",
     "output_type": "stream",
     "text": [
      "Graph with 10824 nodes and 2877426 edges\n",
      "Number of connected components:1\n"
     ]
    }
   ],
   "source": [
    "import networkx as nx\n",
    "from torch_geometric.utils import to_networkx\n",
    "\n",
    "# Convert to NetworkX (undirected, if you want a simple graph view)\n",
    "G = to_networkx(sub_data, to_undirected=True)\n",
    "\n",
    "print(G)  # basic info\n",
    "print(f'Number of connected components:{nx.number_connected_components(G)}')"
   ]
  },
  {
   "cell_type": "code",
   "execution_count": null,
   "id": "d4b5aa34",
   "metadata": {},
   "outputs": [],
   "source": []
  }
 ],
 "metadata": {
  "kernelspec": {
   "display_name": ".venv",
   "language": "python",
   "name": "python3"
  },
  "language_info": {
   "codemirror_mode": {
    "name": "ipython",
    "version": 3
   },
   "file_extension": ".py",
   "mimetype": "text/x-python",
   "name": "python",
   "nbconvert_exporter": "python",
   "pygments_lexer": "ipython3",
   "version": "3.12.7"
  }
 },
 "nbformat": 4,
 "nbformat_minor": 5
}
