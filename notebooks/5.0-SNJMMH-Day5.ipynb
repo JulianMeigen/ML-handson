{
 "cells": [
  {
   "cell_type": "markdown",
   "id": "1f38c92e",
   "metadata": {},
   "source": [
    "# Assignment Day 5\n",
    "\n",
    "## Team members:\n",
    "- Samuel Nebgen s6sanebg@uni-bonn.de\n",
    "- Muhammad Humza Arain s27marai@uni-bonn.de\n",
    "- Julian Meigen s82jmeig@uni-bonn.de\n",
    "\n",
    "## 12.09.2025\n",
    "\n",
    "Contributions were made by all team members in around the same amount, either based on discussions or coding."
   ]
  },
  {
   "cell_type": "markdown",
   "id": "b2e3160b",
   "metadata": {},
   "source": [
    "# Predicting Time-To-Event for a Breast Cancer Data Set\n",
    "\n",
    "This notebook provides the tasks of predicting the time-to-event for a breast cancer dataset. The dataset is originally from [here](https://archive.ics.uci.edu/dataset/16/breast+cancer+wisconsin+prognostic), but a formatted version is available in the Github repository.\n",
    "\n",
    "The dataset contains numerous patient characteristics and an indicator of whether or not the cancer has recurred. The task is to predict the time-to-event for the patients.\n",
    "\n",
    "The main tasks are: \n",
    "\n",
    "- Load the dataset & explore the data\n",
    "- Plot Kaplan-Meier survival curves\n",
    "- Fit a Cox proportional hazards model\n",
    "- Implement a DeepSurv model\n",
    "- Compare model performance"
   ]
  },
  {
   "cell_type": "markdown",
   "id": "2d5cee21",
   "metadata": {},
   "source": [
    "## Task 1: Load the dataset & explore the data\n",
    "\n",
    "The data set is available in the Github repository. Load the dataset and look at the features. You can look at some features and see if they are associated with recurrence or not."
   ]
  },
  {
   "cell_type": "code",
   "execution_count": 1,
   "id": "5be4a8e1",
   "metadata": {},
   "outputs": [],
   "source": [
    "available_columns = [\n",
    "    \"id\",\n",
    "    \"outcome\",\n",
    "    \"time\",\n",
    "    \"radius_mean\",\n",
    "    \"texture_mean\",\n",
    "    \"perimeter_mean\",\n",
    "    \"area_mean\",\n",
    "    \"smoothness_mean\",\n",
    "    \"compactness_mean\",\n",
    "    \"concavity_mean\",\n",
    "    \"concave_points_mean\",\n",
    "    \"symmetry_mean\",\n",
    "    \"fractal_dimension_mean\",\n",
    "    \"radius_se\",\n",
    "    \"texture_se\",\n",
    "    \"perimeter_se\",\n",
    "    \"area_se\",\n",
    "    \"smoothness_se\",\n",
    "    \"compactness_se\",\n",
    "    \"concavity_se\",\n",
    "    \"concave_points_se\",\n",
    "    \"symmetry_se\",\n",
    "    \"fractal_dimension_se\",\n",
    "    \"radius_worst\",\n",
    "    \"texture_worst\",\n",
    "    \"perimeter_worst\",\n",
    "    \"area_worst\",\n",
    "    \"smoothness_worst\",\n",
    "    \"compactness_worst\",\n",
    "    \"concavity_worst\",\n",
    "    \"concave_points_worst\",\n",
    "    \"symmetry_worst\",\n",
    "    \"fractal_dimension_worst\",\n",
    "    \"tumor_size\",\n",
    "    \"lymph_node_status\",\n",
    "]"
   ]
  },
  {
   "cell_type": "markdown",
   "id": "3392bf7a",
   "metadata": {},
   "source": []
  },
  {
   "cell_type": "markdown",
   "id": "cfd23388",
   "metadata": {},
   "source": [
    "## Task 2: Generate Kaplan-Meier Survival Curves\n",
    "\n",
    "Kaplan-Meier survival curves are a good way to visualize survival data. Generate the Kaplan-Meier survival curves for the data set. You can use the `lifelines' library for this task.\n",
    "\n",
    "You should generate the survival curves for the following characteristics\n",
    "\n",
    "- Tumor size (greater or less than the median)\n",
    "- Number of lymph nodes (0, <5, >=5)\n",
    "- Recurrence-free survival (RFS)\n",
    "\n",
    "You can also generate the survival curves for the features you consider important."
   ]
  },
  {
   "cell_type": "code",
   "execution_count": null,
   "id": "997602f6",
   "metadata": {},
   "outputs": [],
   "source": []
  },
  {
   "cell_type": "markdown",
   "id": "a3cef2e6",
   "metadata": {},
   "source": [
    "## Task 3: Fit a Cox Proportional Hazards model\n",
    "\n",
    "The Cox Proportional Hazards model is a popular model for predicting time-to-event. Fit a Cox Proportional Hazards model to the data set. You can use the `lifelines' library for this task.\n",
    "\n",
    "You should perform cross-validation to evaluate the performance of the model. You can use the C-index as an evaluation metric. See the documentation of the `lifelines' library to see how to perform a cross-validation. Finally, generate a boxplot of the C-index values."
   ]
  },
  {
   "cell_type": "code",
   "execution_count": null,
   "id": "de1376aa",
   "metadata": {},
   "outputs": [],
   "source": []
  },
  {
   "cell_type": "markdown",
   "id": "b24c260f",
   "metadata": {},
   "source": [
    "## Task 4: Implement a DeepSurv model\n",
    "\n",
    "DeepSurv is a deep learning model for time-to-event prediction. Implement this model, evaluate its performance using cross-validation, and generate a box plot of the C-index values.\n",
    "\n",
    "1. First, you need to create an appropriate **Dataset** class that returns the features, the time-to-event, and the event indicator.\n",
    "2. Then you need a neural network model that takes the features as input and returns the predicted hazard ratio.\n",
    "3. You need to implement a training and evaluation loop for the model. As a loss function, you can use the `neg_partial_log_likelihood` from the `torchsurv` library.\n",
    "4. You need to put everything together and run a cross-validation to evaluate the performance of the model. Evaluate the performance in each fold using the C-index.\n",
    "\n",
    "Notes: \n",
    "- Remember to scale the features before feeding them into the model.\n",
    "- Do not optimize the hyperparameters of the model. In this case, you would need to implement nested cross-validation, which is beyond the scope of this notebook. You can use a learning rate of 0.01 and 50 epochs for training. If your model does not perform well, try using two linear layers of 32 units each and a ReLU activation function. The final output dimension should be 1."
   ]
  },
  {
   "cell_type": "code",
   "execution_count": null,
   "id": "f3e95a4d",
   "metadata": {},
   "outputs": [],
   "source": []
  },
  {
   "cell_type": "markdown",
   "id": "8c86ac54",
   "metadata": {},
   "source": [
    "## Task 5: Describe your results\n",
    "\n"
   ]
  },
  {
   "cell_type": "markdown",
   "id": "c1ac238d",
   "metadata": {},
   "source": []
  },
  {
   "cell_type": "markdown",
   "id": "6d2999ad",
   "metadata": {},
   "source": [
    "## Optional\n",
    "\n",
    "- Add a feature selection method to the Cox Proportional Hazards model.\n",
    "- Attempt to implement nested cross-validation to optimize the hyperparameters of the DeepSurv model."
   ]
  },
  {
   "cell_type": "markdown",
   "id": "a82e394a",
   "metadata": {},
   "source": []
  }
 ],
 "metadata": {
  "kernelspec": {
   "display_name": "mlhandson",
   "language": "python",
   "name": "python3"
  },
  "language_info": {
   "codemirror_mode": {
    "name": "ipython",
    "version": 3
   },
   "file_extension": ".py",
   "mimetype": "text/x-python",
   "name": "python",
   "nbconvert_exporter": "python",
   "pygments_lexer": "ipython3",
   "version": "3.12.8"
  }
 },
 "nbformat": 4,
 "nbformat_minor": 5
}
