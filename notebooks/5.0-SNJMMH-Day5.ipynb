{
 "cells": [
  {
   "cell_type": "markdown",
   "id": "1f38c92e",
   "metadata": {},
   "source": [
    "# Assignment Day 5\n",
    "\n",
    "## Team members:\n",
    "- Samuel Nebgen s6sanebg@uni-bonn.de\n",
    "- Muhammad Humza Arain s27marai@uni-bonn.de\n",
    "- Julian Meigen s82jmeig@uni-bonn.de\n",
    "\n",
    "## 12.09.2025\n",
    "\n",
    "Contributions were made by all team members in around the same amount, either based on discussions or coding."
   ]
  },
  {
   "cell_type": "markdown",
   "id": "542ce340",
   "metadata": {},
   "source": []
  }
 ],
 "metadata": {
  "language_info": {
   "name": "python"
  }
 },
 "nbformat": 4,
 "nbformat_minor": 5
}
