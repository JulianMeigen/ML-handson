{
 "cells": [
  {
   "cell_type": "markdown",
   "id": "8324da69",
   "metadata": {},
   "source": [
    "# Assignment Day 8\n",
    "\n",
    "## Team members:\n",
    "- Samuel Nebgen s6sanebg@uni-bonn.de\n",
    "- Muhammad Humza Arain s27marai@uni-bonn.de\n",
    "- Julian Meigen s82jmeig@uni-bonn.de\n",
    "\n",
    "## 17.09.2025\n",
    "\n",
    "Contributions were made by all team members in around the same amount, either based on discussions or coding."
   ]
  },
  {
   "cell_type": "markdown",
   "id": "ee97f648",
   "metadata": {},
   "source": [
    "# Task 1: Understand the dataset"
   ]
  },
  {
   "cell_type": "markdown",
   "id": "36810ffa",
   "metadata": {},
   "source": [
    "## a) Load the dataset Hungarian Chickenpox"
   ]
  },
  {
   "cell_type": "code",
   "execution_count": null,
   "id": "37338bad",
   "metadata": {},
   "outputs": [],
   "source": [
    "!gdown --folder https://drive.google.com/drive/folders/1VESm-JaHEqPJmM23iLW1mEJsuI2mLBdx?usp=sharing/Day_8"
   ]
  },
  {
   "cell_type": "markdown",
   "id": "f2a9b95c",
   "metadata": {},
   "source": [
    "## b) Identify the number of edges, nodes, and temporal features."
   ]
  },
  {
   "cell_type": "markdown",
   "id": "25cbef27",
   "metadata": {},
   "source": [
    "## c) Plot the adjacency matrix of the counties."
   ]
  },
  {
   "cell_type": "markdown",
   "id": "51e92d6c",
   "metadata": {},
   "source": [
    "# Task 2: Load the dataset into pytorch-geometric-temporal."
   ]
  },
  {
   "cell_type": "markdown",
   "id": "5a97f822",
   "metadata": {},
   "source": [
    "## a) Load the dataset with the class: ChickenpoxDatasetLoader"
   ]
  },
  {
   "cell_type": "markdown",
   "id": "f3a74c01",
   "metadata": {},
   "source": [
    "## b) Identify the differences between loading the raw dataset from Task 1 and the processed dataset from this task."
   ]
  },
  {
   "cell_type": "markdown",
   "id": "fc5fd359",
   "metadata": {},
   "source": [
    "# Task 3: Define a model using pytorch-geometric-temporal"
   ]
  },
  {
   "cell_type": "markdown",
   "id": "4de86c09",
   "metadata": {},
   "source": [
    "## i. Split the dataset into train and test."
   ]
  },
  {
   "cell_type": "markdown",
   "id": "b5308468",
   "metadata": {},
   "source": [
    "\n",
    "## ii. Train your model on the training dataset\n"
   ]
  },
  {
   "cell_type": "markdown",
   "id": "85c75a2e",
   "metadata": {},
   "source": [
    "\n",
    "## iii. Test your model on the test dataset and evaluate it for MSE."
   ]
  },
  {
   "cell_type": "markdown",
   "id": "0137770b",
   "metadata": {},
   "source": [
    "# Task 4: Set up a hyperparameter optimization pipeline with nested 5-fold cross-validation."
   ]
  },
  {
   "cell_type": "markdown",
   "id": "84f4ef05",
   "metadata": {},
   "source": [
    "## i. Familiarize yourself with the hyperparameter optimization package optuna (https://optuna.org/ ).\n"
   ]
  },
  {
   "cell_type": "markdown",
   "id": "c6364058",
   "metadata": {},
   "source": [
    "## ii. Integrate the logging package mlflow (https://mlflow.org/) to log your metrics.\n"
   ]
  },
  {
   "cell_type": "markdown",
   "id": "651142fc",
   "metadata": {},
   "source": [
    "## iii. Train and test your models and report the evaluation metrics with mean and standard deviation for the nested CV."
   ]
  },
  {
   "cell_type": "markdown",
   "id": "90338265",
   "metadata": {},
   "source": [
    "# Task 5: Test implementations of 3 different models (such as GConvLSTM, GConvGRU, STGCN, DCRNN) and find out the best performing model\n"
   ]
  },
  {
   "cell_type": "markdown",
   "id": "52968a38",
   "metadata": {},
   "source": [
    "# Task 6: Compare your results with the following study: https://arxiv.org/abs/2102.08100"
   ]
  }
 ],
 "metadata": {
  "kernelspec": {
   "display_name": "mlhandson",
   "language": "python",
   "name": "python3"
  },
  "language_info": {
   "name": "python",
   "version": "3.12.8"
  }
 },
 "nbformat": 4,
 "nbformat_minor": 5
}
