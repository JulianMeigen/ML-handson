{
  "cells": [
    {
      "cell_type": "markdown",
      "metadata": {
        "id": "view-in-github",
        "colab_type": "text"
      },
      "source": [
        "<a href=\"https://colab.research.google.com/github/JulianMeigen/ML-handson/blob/main/notebooks/8.0-SNJMMH-Day8.ipynb\" target=\"_parent\"><img src=\"https://colab.research.google.com/assets/colab-badge.svg\" alt=\"Open In Colab\"/></a>"
      ]
    },
    {
      "cell_type": "markdown",
      "id": "8324da69",
      "metadata": {
        "id": "8324da69"
      },
      "source": [
        "# Assignment Day 8\n",
        "\n",
        "## Team members:\n",
        "- Samuel Nebgen s6sanebg@uni-bonn.de\n",
        "- Muhammad Humza Arain s27marai@uni-bonn.de\n",
        "- Julian Meigen s82jmeig@uni-bonn.de\n",
        "\n",
        "## 17.09.2025\n",
        "\n",
        "Contributions were made by all team members in around the same amount, either based on discussions or coding."
      ]
    },
    {
      "cell_type": "markdown",
      "id": "ee97f648",
      "metadata": {
        "id": "ee97f648"
      },
      "source": [
        "# Task 1: Understand the dataset"
      ]
    },
    {
      "cell_type": "code",
      "execution_count": 1,
      "id": "37338bad",
      "metadata": {
        "colab": {
          "base_uri": "https://localhost:8080/"
        },
        "id": "37338bad",
        "outputId": "84c67dbb-83a1-47fb-fe64-bd8481a0c015"
      },
      "outputs": [
        {
          "output_type": "stream",
          "name": "stdout",
          "text": [
            "Retrieving folder contents\n",
            "Retrieving folder 1w_3J7hXOKd4IEEkQp25c0-3-IU1Qqmzp Day_8\n",
            "Processing file 1i-YvTQv7dO4EhsZoIFbQj6WJWRNdTZ16 hungary_chickenpox.csv\n",
            "Processing file 1idipHj2FqgyKfhDqVne3xRyVxW5gnqEq hungary_county_edges.csv\n",
            "Processing file 1i6W9fI3sGEn6V9xBlt2MxlonZXOTLZjg load-subgraph_doc.ipynb\n",
            "Processing file 1qZpQzFMRzuYQ0xoQJcUNe7CRBMS2mRmz subgraph_hop_1.pt\n",
            "Processing file 1iz_FOBs9k7m9z3lDtRIXzRkd92tL_EK- subgraph.pt\n",
            "Retrieving folder contents completed\n",
            "Building directory structure\n",
            "Building directory structure completed\n",
            "Downloading...\n",
            "From: https://drive.google.com/uc?id=1i-YvTQv7dO4EhsZoIFbQj6WJWRNdTZ16\n",
            "To: /content/ML-HandsOn/Day_8/hungary_chickenpox.csv\n",
            "100% 35.1k/35.1k [00:00<00:00, 72.7MB/s]\n",
            "Downloading...\n",
            "From: https://drive.google.com/uc?id=1idipHj2FqgyKfhDqVne3xRyVxW5gnqEq\n",
            "To: /content/ML-HandsOn/Day_8/hungary_county_edges.csv\n",
            "100% 1.85k/1.85k [00:00<00:00, 8.44MB/s]\n",
            "Downloading...\n",
            "From: https://drive.google.com/uc?id=1i6W9fI3sGEn6V9xBlt2MxlonZXOTLZjg\n",
            "To: /content/ML-HandsOn/load-subgraph_doc.ipynb\n",
            "100% 2.92k/2.92k [00:00<00:00, 13.9MB/s]\n",
            "Downloading...\n",
            "From: https://drive.google.com/uc?id=1qZpQzFMRzuYQ0xoQJcUNe7CRBMS2mRmz\n",
            "To: /content/ML-HandsOn/subgraph_hop_1.pt\n",
            "100% 10.5M/10.5M [00:00<00:00, 16.8MB/s]\n",
            "Downloading...\n",
            "From (original): https://drive.google.com/uc?id=1iz_FOBs9k7m9z3lDtRIXzRkd92tL_EK-\n",
            "From (redirected): https://drive.google.com/uc?id=1iz_FOBs9k7m9z3lDtRIXzRkd92tL_EK-&confirm=t&uuid=0f1547e2-b8b2-4161-9afd-cb619f079d59\n",
            "To: /content/ML-HandsOn/subgraph.pt\n",
            "100% 1.64G/1.64G [00:18<00:00, 87.1MB/s]\n",
            "Download completed\n"
          ]
        }
      ],
      "source": [
        "!gdown --folder https://drive.google.com/drive/folders/1VESm-JaHEqPJmM23iLW1mEJsuI2mLBdx?usp=sharing/Day_8"
      ]
    },
    {
      "cell_type": "markdown",
      "id": "36810ffa",
      "metadata": {
        "id": "36810ffa"
      },
      "source": [
        "## a) Load the dataset Hungarian Chickenpox"
      ]
    },
    {
      "cell_type": "markdown",
      "id": "f2a9b95c",
      "metadata": {
        "id": "f2a9b95c"
      },
      "source": [
        "## b) Identify the number of edges, nodes, and temporal features."
      ]
    },
    {
      "cell_type": "markdown",
      "id": "25cbef27",
      "metadata": {
        "id": "25cbef27"
      },
      "source": [
        "## c) Plot the adjacency matrix of the counties."
      ]
    },
    {
      "cell_type": "markdown",
      "id": "51e92d6c",
      "metadata": {
        "id": "51e92d6c"
      },
      "source": [
        "# Task 2: Load the dataset into pytorch-geometric-temporal."
      ]
    },
    {
      "cell_type": "markdown",
      "id": "5a97f822",
      "metadata": {
        "id": "5a97f822"
      },
      "source": [
        "## a) Load the dataset with the class: ChickenpoxDatasetLoader"
      ]
    },
    {
      "cell_type": "markdown",
      "id": "f3a74c01",
      "metadata": {
        "id": "f3a74c01"
      },
      "source": [
        "## b) Identify the differences between loading the raw dataset from Task 1 and the processed dataset from this task."
      ]
    },
    {
      "cell_type": "markdown",
      "id": "fc5fd359",
      "metadata": {
        "id": "fc5fd359"
      },
      "source": [
        "# Task 3: Define a model using pytorch-geometric-temporal"
      ]
    },
    {
      "cell_type": "markdown",
      "id": "4de86c09",
      "metadata": {
        "id": "4de86c09"
      },
      "source": [
        "## i. Split the dataset into train and test."
      ]
    },
    {
      "cell_type": "markdown",
      "id": "b5308468",
      "metadata": {
        "id": "b5308468"
      },
      "source": [
        "\n",
        "## ii. Train your model on the training dataset\n"
      ]
    },
    {
      "cell_type": "markdown",
      "id": "85c75a2e",
      "metadata": {
        "id": "85c75a2e"
      },
      "source": [
        "\n",
        "## iii. Test your model on the test dataset and evaluate it for MSE."
      ]
    },
    {
      "cell_type": "markdown",
      "id": "0137770b",
      "metadata": {
        "id": "0137770b"
      },
      "source": [
        "# Task 4: Set up a hyperparameter optimization pipeline with nested 5-fold cross-validation."
      ]
    },
    {
      "cell_type": "markdown",
      "id": "84f4ef05",
      "metadata": {
        "id": "84f4ef05"
      },
      "source": [
        "## i. Familiarize yourself with the hyperparameter optimization package optuna (https://optuna.org/ ).\n"
      ]
    },
    {
      "cell_type": "markdown",
      "id": "c6364058",
      "metadata": {
        "id": "c6364058"
      },
      "source": [
        "## ii. Integrate the logging package mlflow (https://mlflow.org/) to log your metrics.\n"
      ]
    },
    {
      "cell_type": "markdown",
      "id": "651142fc",
      "metadata": {
        "id": "651142fc"
      },
      "source": [
        "## iii. Train and test your models and report the evaluation metrics with mean and standard deviation for the nested CV."
      ]
    },
    {
      "cell_type": "markdown",
      "id": "90338265",
      "metadata": {
        "id": "90338265"
      },
      "source": [
        "# Task 5: Test implementations of 3 different models (such as GConvLSTM, GConvGRU, STGCN, DCRNN) and find out the best performing model\n"
      ]
    },
    {
      "cell_type": "markdown",
      "id": "52968a38",
      "metadata": {
        "id": "52968a38"
      },
      "source": [
        "# Task 6: Compare your results with the following study: https://arxiv.org/abs/2102.08100"
      ]
    }
  ],
  "metadata": {
    "kernelspec": {
      "display_name": "mlhandson",
      "language": "python",
      "name": "python3"
    },
    "language_info": {
      "name": "python",
      "version": "3.12.8"
    },
    "colab": {
      "provenance": [],
      "include_colab_link": true
    }
  },
  "nbformat": 4,
  "nbformat_minor": 5
}