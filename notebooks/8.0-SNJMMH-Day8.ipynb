{
  "cells": [
    {
      "cell_type": "markdown",
      "metadata": {
        "id": "view-in-github",
        "colab_type": "text"
      },
      "source": [
        "<a href=\"https://colab.research.google.com/github/JulianMeigen/ML-handson/blob/main/notebooks/8.0-SNJMMH-Day8.ipynb\" target=\"_parent\"><img src=\"https://colab.research.google.com/assets/colab-badge.svg\" alt=\"Open In Colab\"/></a>"
      ]
    },
    {
      "cell_type": "markdown",
      "id": "8324da69",
      "metadata": {
        "id": "8324da69"
      },
      "source": [
        "# Assignment Day 8\n",
        "\n",
        "## Team members:\n",
        "- Samuel Nebgen s6sanebg@uni-bonn.de\n",
        "- Muhammad Humza Arain s27marai@uni-bonn.de\n",
        "- Julian Meigen s82jmeig@uni-bonn.de\n",
        "\n",
        "## 17.09.2025\n",
        "\n",
        "Contributions were made by all team members in around the same amount, either based on discussions or coding."
      ]
    },
    {
      "cell_type": "markdown",
      "id": "ee97f648",
      "metadata": {
        "id": "ee97f648"
      },
      "source": [
        "# Task 1: Understand the dataset"
      ]
    },
    {
      "cell_type": "code",
      "execution_count": 3,
      "id": "37338bad",
      "metadata": {
        "colab": {
          "base_uri": "https://localhost:8080/"
        },
        "id": "37338bad",
        "outputId": "70ee2f44-806c-433d-808f-49d0c22400e6"
      },
      "outputs": [
        {
          "output_type": "stream",
          "name": "stdout",
          "text": [
            "Retrieving folder contents\n",
            "Processing file 1i-YvTQv7dO4EhsZoIFbQj6WJWRNdTZ16 hungary_chickenpox.csv\n",
            "Processing file 1idipHj2FqgyKfhDqVne3xRyVxW5gnqEq hungary_county_edges.csv\n",
            "Retrieving folder contents completed\n",
            "Building directory structure\n",
            "Building directory structure completed\n",
            "Downloading...\n",
            "From: https://drive.google.com/uc?id=1i-YvTQv7dO4EhsZoIFbQj6WJWRNdTZ16\n",
            "To: /content/Day_8/hungary_chickenpox.csv\n",
            "100% 35.1k/35.1k [00:00<00:00, 78.1MB/s]\n",
            "Downloading...\n",
            "From: https://drive.google.com/uc?id=1idipHj2FqgyKfhDqVne3xRyVxW5gnqEq\n",
            "To: /content/Day_8/hungary_county_edges.csv\n",
            "100% 1.85k/1.85k [00:00<00:00, 7.68MB/s]\n",
            "Download completed\n"
          ]
        }
      ],
      "source": [
        "!gdown --folder https://drive.google.com/drive/folders/1w_3J7hXOKd4IEEkQp25c0-3-IU1Qqmzp?usp=sharing"
      ]
    },
    {
      "cell_type": "markdown",
      "id": "36810ffa",
      "metadata": {
        "id": "36810ffa"
      },
      "source": [
        "## a) Load the dataset Hungarian Chickenpox"
      ]
    },
    {
      "cell_type": "code",
      "source": [
        "import pandas as pd\n",
        "import numpy as np\n",
        "import matplotlib.pyplot as plt\n",
        "import seaborn as sns\n",
        "\n",
        "import torch\n",
        "import os\n",
        "\n"
      ],
      "metadata": {
        "id": "Q4eDhs9o06KK"
      },
      "id": "Q4eDhs9o06KK",
      "execution_count": 4,
      "outputs": []
    },
    {
      "cell_type": "code",
      "source": [
        "chickenpox_features_dataset = pd.read_csv(os.path.join('Day_8', 'hungary_chickenpox.csv'), index_col=0)\n",
        "chickenpox_edges_dataset = pd.read_csv(os.path.join('Day_8', 'hungary_county_edges.csv'))"
      ],
      "metadata": {
        "id": "KYUqjhLn09QZ"
      },
      "id": "KYUqjhLn09QZ",
      "execution_count": 5,
      "outputs": []
    },
    {
      "cell_type": "markdown",
      "id": "f2a9b95c",
      "metadata": {
        "id": "f2a9b95c"
      },
      "source": [
        "## b) Identify the number of edges, nodes, and temporal features."
      ]
    },
    {
      "cell_type": "code",
      "source": [
        "print(f'The number of edges in the dataset is {chickenpox_edges_dataset.shape[0]}')"
      ],
      "metadata": {
        "id": "RiOsjZWX3M37",
        "outputId": "98806834-128a-4c52-8e3d-e5523ad4f199",
        "colab": {
          "base_uri": "https://localhost:8080/"
        }
      },
      "id": "RiOsjZWX3M37",
      "execution_count": 6,
      "outputs": [
        {
          "output_type": "stream",
          "name": "stdout",
          "text": [
            "The number of edges in the dataset is 102\n"
          ]
        }
      ]
    },
    {
      "cell_type": "code",
      "source": [
        "print(f'The number of nodes in the dataset is {chickenpox_features_dataset.shape[1]}')\n"
      ],
      "metadata": {
        "id": "p8tUAzou3OOj",
        "outputId": "1d886854-3f5d-43d5-b3da-76b37abc5031",
        "colab": {
          "base_uri": "https://localhost:8080/"
        }
      },
      "id": "p8tUAzou3OOj",
      "execution_count": 7,
      "outputs": [
        {
          "output_type": "stream",
          "name": "stdout",
          "text": [
            "The number of nodes in the dataset is 20\n"
          ]
        }
      ]
    },
    {
      "cell_type": "code",
      "source": [
        "print(f'The number of temporal features is {chickenpox_features_dataset.shape[0]}')"
      ],
      "metadata": {
        "id": "904RTsgi3Ry4",
        "outputId": "91b5f8c8-5bc2-4e81-aa84-33281d0519bd",
        "colab": {
          "base_uri": "https://localhost:8080/"
        }
      },
      "id": "904RTsgi3Ry4",
      "execution_count": 8,
      "outputs": [
        {
          "output_type": "stream",
          "name": "stdout",
          "text": [
            "The number of temporal features is 522\n"
          ]
        }
      ]
    },
    {
      "cell_type": "markdown",
      "id": "25cbef27",
      "metadata": {
        "id": "25cbef27"
      },
      "source": [
        "## c) Plot the adjacency matrix of the counties."
      ]
    },
    {
      "cell_type": "code",
      "source": [
        "adjacency_matrix = np.zeros((chickenpox_features_dataset.shape[1], chickenpox_features_dataset.shape[1]))\n",
        "\n",
        "for id_1, id_2 in zip(chickenpox_edges_dataset['id_1'], chickenpox_edges_dataset['id_2']):\n",
        "    adjacency_matrix[id_1, id_2] = 1\n",
        "    adjacency_matrix[id_2, id_1] = 1\n",
        "\n",
        "\n",
        "header = list(chickenpox_edges_dataset['name_1'].unique())\n",
        "index = list(chickenpox_edges_dataset['name_1'].unique())\n",
        "adjacency_df = pd.DataFrame(data = adjacency_matrix, columns=header, index=index)\n",
        "\n",
        "adjacency_df"
      ],
      "metadata": {
        "id": "bqObNoNv3XAS",
        "outputId": "2e819a1b-00f7-4ded-b887-b180ba7b0506",
        "colab": {
          "base_uri": "https://localhost:8080/",
          "height": 677
        }
      },
      "id": "bqObNoNv3XAS",
      "execution_count": 9,
      "outputs": [
        {
          "output_type": "execute_result",
          "data": {
            "text/plain": [
              "          BACS  BARANYA  BEKES  BORSOD  BUDAPEST  CSONGRAD  FEJER  GYOR  \\\n",
              "BACS       1.0      1.0    0.0     0.0       0.0       1.0    1.0   0.0   \n",
              "BARANYA    1.0      1.0    0.0     0.0       0.0       0.0    0.0   0.0   \n",
              "BEKES      0.0      0.0    1.0     0.0       0.0       1.0    0.0   0.0   \n",
              "BORSOD     0.0      0.0    0.0     1.0       0.0       0.0    0.0   0.0   \n",
              "BUDAPEST   0.0      0.0    0.0     0.0       1.0       0.0    0.0   0.0   \n",
              "CSONGRAD   1.0      0.0    1.0     0.0       0.0       1.0    0.0   0.0   \n",
              "FEJER      1.0      0.0    0.0     0.0       0.0       0.0    1.0   0.0   \n",
              "GYOR       0.0      0.0    0.0     0.0       0.0       0.0    0.0   1.0   \n",
              "HAJDU      0.0      0.0    1.0     1.0       0.0       0.0    0.0   0.0   \n",
              "HEVES      0.0      0.0    0.0     1.0       0.0       0.0    0.0   0.0   \n",
              "JASZ       1.0      0.0    1.0     1.0       0.0       1.0    0.0   0.0   \n",
              "KOMAROM    0.0      0.0    0.0     0.0       0.0       0.0    1.0   1.0   \n",
              "NOGRAD     0.0      0.0    0.0     1.0       0.0       0.0    0.0   0.0   \n",
              "PEST       1.0      0.0    0.0     0.0       1.0       0.0    1.0   0.0   \n",
              "SOMOGY     0.0      1.0    0.0     0.0       0.0       0.0    1.0   0.0   \n",
              "SZABOLCS   0.0      0.0    0.0     1.0       0.0       0.0    0.0   0.0   \n",
              "TOLNA      1.0      1.0    0.0     0.0       0.0       0.0    1.0   0.0   \n",
              "VAS        0.0      0.0    0.0     0.0       0.0       0.0    0.0   1.0   \n",
              "VESZPREM   0.0      0.0    0.0     0.0       0.0       0.0    1.0   1.0   \n",
              "ZALA       0.0      0.0    0.0     0.0       0.0       0.0    0.0   0.0   \n",
              "\n",
              "          HAJDU  HEVES  JASZ  KOMAROM  NOGRAD  PEST  SOMOGY  SZABOLCS  TOLNA  \\\n",
              "BACS        0.0    0.0   1.0      0.0     0.0   1.0     0.0       0.0    1.0   \n",
              "BARANYA     0.0    0.0   0.0      0.0     0.0   0.0     1.0       0.0    1.0   \n",
              "BEKES       1.0    0.0   1.0      0.0     0.0   0.0     0.0       0.0    0.0   \n",
              "BORSOD      1.0    1.0   1.0      0.0     1.0   0.0     0.0       1.0    0.0   \n",
              "BUDAPEST    0.0    0.0   0.0      0.0     0.0   1.0     0.0       0.0    0.0   \n",
              "CSONGRAD    0.0    0.0   1.0      0.0     0.0   0.0     0.0       0.0    0.0   \n",
              "FEJER       0.0    0.0   0.0      1.0     0.0   1.0     1.0       0.0    1.0   \n",
              "GYOR        0.0    0.0   0.0      1.0     0.0   0.0     0.0       0.0    0.0   \n",
              "HAJDU       1.0    0.0   1.0      0.0     0.0   0.0     0.0       1.0    0.0   \n",
              "HEVES       0.0    1.0   1.0      0.0     1.0   1.0     0.0       0.0    0.0   \n",
              "JASZ        1.0    1.0   1.0      0.0     0.0   1.0     0.0       0.0    0.0   \n",
              "KOMAROM     0.0    0.0   0.0      1.0     0.0   1.0     0.0       0.0    0.0   \n",
              "NOGRAD      0.0    1.0   0.0      0.0     1.0   1.0     0.0       0.0    0.0   \n",
              "PEST        0.0    1.0   1.0      1.0     1.0   1.0     0.0       0.0    0.0   \n",
              "SOMOGY      0.0    0.0   0.0      0.0     0.0   0.0     1.0       0.0    1.0   \n",
              "SZABOLCS    1.0    0.0   0.0      0.0     0.0   0.0     0.0       1.0    0.0   \n",
              "TOLNA       0.0    0.0   0.0      0.0     0.0   0.0     1.0       0.0    1.0   \n",
              "VAS         0.0    0.0   0.0      0.0     0.0   0.0     0.0       0.0    0.0   \n",
              "VESZPREM    0.0    0.0   0.0      1.0     0.0   0.0     1.0       0.0    0.0   \n",
              "ZALA        0.0    0.0   0.0      0.0     0.0   0.0     1.0       0.0    0.0   \n",
              "\n",
              "          VAS  VESZPREM  ZALA  \n",
              "BACS      0.0       0.0   0.0  \n",
              "BARANYA   0.0       0.0   0.0  \n",
              "BEKES     0.0       0.0   0.0  \n",
              "BORSOD    0.0       0.0   0.0  \n",
              "BUDAPEST  0.0       0.0   0.0  \n",
              "CSONGRAD  0.0       0.0   0.0  \n",
              "FEJER     0.0       1.0   0.0  \n",
              "GYOR      1.0       1.0   0.0  \n",
              "HAJDU     0.0       0.0   0.0  \n",
              "HEVES     0.0       0.0   0.0  \n",
              "JASZ      0.0       0.0   0.0  \n",
              "KOMAROM   0.0       1.0   0.0  \n",
              "NOGRAD    0.0       0.0   0.0  \n",
              "PEST      0.0       0.0   0.0  \n",
              "SOMOGY    0.0       1.0   1.0  \n",
              "SZABOLCS  0.0       0.0   0.0  \n",
              "TOLNA     0.0       0.0   0.0  \n",
              "VAS       1.0       1.0   1.0  \n",
              "VESZPREM  1.0       1.0   1.0  \n",
              "ZALA      1.0       1.0   1.0  "
            ],
            "text/html": [
              "\n",
              "  <div id=\"df-0acf7292-fb8b-4c84-9f6c-19d1619b18aa\" class=\"colab-df-container\">\n",
              "    <div>\n",
              "<style scoped>\n",
              "    .dataframe tbody tr th:only-of-type {\n",
              "        vertical-align: middle;\n",
              "    }\n",
              "\n",
              "    .dataframe tbody tr th {\n",
              "        vertical-align: top;\n",
              "    }\n",
              "\n",
              "    .dataframe thead th {\n",
              "        text-align: right;\n",
              "    }\n",
              "</style>\n",
              "<table border=\"1\" class=\"dataframe\">\n",
              "  <thead>\n",
              "    <tr style=\"text-align: right;\">\n",
              "      <th></th>\n",
              "      <th>BACS</th>\n",
              "      <th>BARANYA</th>\n",
              "      <th>BEKES</th>\n",
              "      <th>BORSOD</th>\n",
              "      <th>BUDAPEST</th>\n",
              "      <th>CSONGRAD</th>\n",
              "      <th>FEJER</th>\n",
              "      <th>GYOR</th>\n",
              "      <th>HAJDU</th>\n",
              "      <th>HEVES</th>\n",
              "      <th>JASZ</th>\n",
              "      <th>KOMAROM</th>\n",
              "      <th>NOGRAD</th>\n",
              "      <th>PEST</th>\n",
              "      <th>SOMOGY</th>\n",
              "      <th>SZABOLCS</th>\n",
              "      <th>TOLNA</th>\n",
              "      <th>VAS</th>\n",
              "      <th>VESZPREM</th>\n",
              "      <th>ZALA</th>\n",
              "    </tr>\n",
              "  </thead>\n",
              "  <tbody>\n",
              "    <tr>\n",
              "      <th>BACS</th>\n",
              "      <td>1.0</td>\n",
              "      <td>1.0</td>\n",
              "      <td>0.0</td>\n",
              "      <td>0.0</td>\n",
              "      <td>0.0</td>\n",
              "      <td>1.0</td>\n",
              "      <td>1.0</td>\n",
              "      <td>0.0</td>\n",
              "      <td>0.0</td>\n",
              "      <td>0.0</td>\n",
              "      <td>1.0</td>\n",
              "      <td>0.0</td>\n",
              "      <td>0.0</td>\n",
              "      <td>1.0</td>\n",
              "      <td>0.0</td>\n",
              "      <td>0.0</td>\n",
              "      <td>1.0</td>\n",
              "      <td>0.0</td>\n",
              "      <td>0.0</td>\n",
              "      <td>0.0</td>\n",
              "    </tr>\n",
              "    <tr>\n",
              "      <th>BARANYA</th>\n",
              "      <td>1.0</td>\n",
              "      <td>1.0</td>\n",
              "      <td>0.0</td>\n",
              "      <td>0.0</td>\n",
              "      <td>0.0</td>\n",
              "      <td>0.0</td>\n",
              "      <td>0.0</td>\n",
              "      <td>0.0</td>\n",
              "      <td>0.0</td>\n",
              "      <td>0.0</td>\n",
              "      <td>0.0</td>\n",
              "      <td>0.0</td>\n",
              "      <td>0.0</td>\n",
              "      <td>0.0</td>\n",
              "      <td>1.0</td>\n",
              "      <td>0.0</td>\n",
              "      <td>1.0</td>\n",
              "      <td>0.0</td>\n",
              "      <td>0.0</td>\n",
              "      <td>0.0</td>\n",
              "    </tr>\n",
              "    <tr>\n",
              "      <th>BEKES</th>\n",
              "      <td>0.0</td>\n",
              "      <td>0.0</td>\n",
              "      <td>1.0</td>\n",
              "      <td>0.0</td>\n",
              "      <td>0.0</td>\n",
              "      <td>1.0</td>\n",
              "      <td>0.0</td>\n",
              "      <td>0.0</td>\n",
              "      <td>1.0</td>\n",
              "      <td>0.0</td>\n",
              "      <td>1.0</td>\n",
              "      <td>0.0</td>\n",
              "      <td>0.0</td>\n",
              "      <td>0.0</td>\n",
              "      <td>0.0</td>\n",
              "      <td>0.0</td>\n",
              "      <td>0.0</td>\n",
              "      <td>0.0</td>\n",
              "      <td>0.0</td>\n",
              "      <td>0.0</td>\n",
              "    </tr>\n",
              "    <tr>\n",
              "      <th>BORSOD</th>\n",
              "      <td>0.0</td>\n",
              "      <td>0.0</td>\n",
              "      <td>0.0</td>\n",
              "      <td>1.0</td>\n",
              "      <td>0.0</td>\n",
              "      <td>0.0</td>\n",
              "      <td>0.0</td>\n",
              "      <td>0.0</td>\n",
              "      <td>1.0</td>\n",
              "      <td>1.0</td>\n",
              "      <td>1.0</td>\n",
              "      <td>0.0</td>\n",
              "      <td>1.0</td>\n",
              "      <td>0.0</td>\n",
              "      <td>0.0</td>\n",
              "      <td>1.0</td>\n",
              "      <td>0.0</td>\n",
              "      <td>0.0</td>\n",
              "      <td>0.0</td>\n",
              "      <td>0.0</td>\n",
              "    </tr>\n",
              "    <tr>\n",
              "      <th>BUDAPEST</th>\n",
              "      <td>0.0</td>\n",
              "      <td>0.0</td>\n",
              "      <td>0.0</td>\n",
              "      <td>0.0</td>\n",
              "      <td>1.0</td>\n",
              "      <td>0.0</td>\n",
              "      <td>0.0</td>\n",
              "      <td>0.0</td>\n",
              "      <td>0.0</td>\n",
              "      <td>0.0</td>\n",
              "      <td>0.0</td>\n",
              "      <td>0.0</td>\n",
              "      <td>0.0</td>\n",
              "      <td>1.0</td>\n",
              "      <td>0.0</td>\n",
              "      <td>0.0</td>\n",
              "      <td>0.0</td>\n",
              "      <td>0.0</td>\n",
              "      <td>0.0</td>\n",
              "      <td>0.0</td>\n",
              "    </tr>\n",
              "    <tr>\n",
              "      <th>CSONGRAD</th>\n",
              "      <td>1.0</td>\n",
              "      <td>0.0</td>\n",
              "      <td>1.0</td>\n",
              "      <td>0.0</td>\n",
              "      <td>0.0</td>\n",
              "      <td>1.0</td>\n",
              "      <td>0.0</td>\n",
              "      <td>0.0</td>\n",
              "      <td>0.0</td>\n",
              "      <td>0.0</td>\n",
              "      <td>1.0</td>\n",
              "      <td>0.0</td>\n",
              "      <td>0.0</td>\n",
              "      <td>0.0</td>\n",
              "      <td>0.0</td>\n",
              "      <td>0.0</td>\n",
              "      <td>0.0</td>\n",
              "      <td>0.0</td>\n",
              "      <td>0.0</td>\n",
              "      <td>0.0</td>\n",
              "    </tr>\n",
              "    <tr>\n",
              "      <th>FEJER</th>\n",
              "      <td>1.0</td>\n",
              "      <td>0.0</td>\n",
              "      <td>0.0</td>\n",
              "      <td>0.0</td>\n",
              "      <td>0.0</td>\n",
              "      <td>0.0</td>\n",
              "      <td>1.0</td>\n",
              "      <td>0.0</td>\n",
              "      <td>0.0</td>\n",
              "      <td>0.0</td>\n",
              "      <td>0.0</td>\n",
              "      <td>1.0</td>\n",
              "      <td>0.0</td>\n",
              "      <td>1.0</td>\n",
              "      <td>1.0</td>\n",
              "      <td>0.0</td>\n",
              "      <td>1.0</td>\n",
              "      <td>0.0</td>\n",
              "      <td>1.0</td>\n",
              "      <td>0.0</td>\n",
              "    </tr>\n",
              "    <tr>\n",
              "      <th>GYOR</th>\n",
              "      <td>0.0</td>\n",
              "      <td>0.0</td>\n",
              "      <td>0.0</td>\n",
              "      <td>0.0</td>\n",
              "      <td>0.0</td>\n",
              "      <td>0.0</td>\n",
              "      <td>0.0</td>\n",
              "      <td>1.0</td>\n",
              "      <td>0.0</td>\n",
              "      <td>0.0</td>\n",
              "      <td>0.0</td>\n",
              "      <td>1.0</td>\n",
              "      <td>0.0</td>\n",
              "      <td>0.0</td>\n",
              "      <td>0.0</td>\n",
              "      <td>0.0</td>\n",
              "      <td>0.0</td>\n",
              "      <td>1.0</td>\n",
              "      <td>1.0</td>\n",
              "      <td>0.0</td>\n",
              "    </tr>\n",
              "    <tr>\n",
              "      <th>HAJDU</th>\n",
              "      <td>0.0</td>\n",
              "      <td>0.0</td>\n",
              "      <td>1.0</td>\n",
              "      <td>1.0</td>\n",
              "      <td>0.0</td>\n",
              "      <td>0.0</td>\n",
              "      <td>0.0</td>\n",
              "      <td>0.0</td>\n",
              "      <td>1.0</td>\n",
              "      <td>0.0</td>\n",
              "      <td>1.0</td>\n",
              "      <td>0.0</td>\n",
              "      <td>0.0</td>\n",
              "      <td>0.0</td>\n",
              "      <td>0.0</td>\n",
              "      <td>1.0</td>\n",
              "      <td>0.0</td>\n",
              "      <td>0.0</td>\n",
              "      <td>0.0</td>\n",
              "      <td>0.0</td>\n",
              "    </tr>\n",
              "    <tr>\n",
              "      <th>HEVES</th>\n",
              "      <td>0.0</td>\n",
              "      <td>0.0</td>\n",
              "      <td>0.0</td>\n",
              "      <td>1.0</td>\n",
              "      <td>0.0</td>\n",
              "      <td>0.0</td>\n",
              "      <td>0.0</td>\n",
              "      <td>0.0</td>\n",
              "      <td>0.0</td>\n",
              "      <td>1.0</td>\n",
              "      <td>1.0</td>\n",
              "      <td>0.0</td>\n",
              "      <td>1.0</td>\n",
              "      <td>1.0</td>\n",
              "      <td>0.0</td>\n",
              "      <td>0.0</td>\n",
              "      <td>0.0</td>\n",
              "      <td>0.0</td>\n",
              "      <td>0.0</td>\n",
              "      <td>0.0</td>\n",
              "    </tr>\n",
              "    <tr>\n",
              "      <th>JASZ</th>\n",
              "      <td>1.0</td>\n",
              "      <td>0.0</td>\n",
              "      <td>1.0</td>\n",
              "      <td>1.0</td>\n",
              "      <td>0.0</td>\n",
              "      <td>1.0</td>\n",
              "      <td>0.0</td>\n",
              "      <td>0.0</td>\n",
              "      <td>1.0</td>\n",
              "      <td>1.0</td>\n",
              "      <td>1.0</td>\n",
              "      <td>0.0</td>\n",
              "      <td>0.0</td>\n",
              "      <td>1.0</td>\n",
              "      <td>0.0</td>\n",
              "      <td>0.0</td>\n",
              "      <td>0.0</td>\n",
              "      <td>0.0</td>\n",
              "      <td>0.0</td>\n",
              "      <td>0.0</td>\n",
              "    </tr>\n",
              "    <tr>\n",
              "      <th>KOMAROM</th>\n",
              "      <td>0.0</td>\n",
              "      <td>0.0</td>\n",
              "      <td>0.0</td>\n",
              "      <td>0.0</td>\n",
              "      <td>0.0</td>\n",
              "      <td>0.0</td>\n",
              "      <td>1.0</td>\n",
              "      <td>1.0</td>\n",
              "      <td>0.0</td>\n",
              "      <td>0.0</td>\n",
              "      <td>0.0</td>\n",
              "      <td>1.0</td>\n",
              "      <td>0.0</td>\n",
              "      <td>1.0</td>\n",
              "      <td>0.0</td>\n",
              "      <td>0.0</td>\n",
              "      <td>0.0</td>\n",
              "      <td>0.0</td>\n",
              "      <td>1.0</td>\n",
              "      <td>0.0</td>\n",
              "    </tr>\n",
              "    <tr>\n",
              "      <th>NOGRAD</th>\n",
              "      <td>0.0</td>\n",
              "      <td>0.0</td>\n",
              "      <td>0.0</td>\n",
              "      <td>1.0</td>\n",
              "      <td>0.0</td>\n",
              "      <td>0.0</td>\n",
              "      <td>0.0</td>\n",
              "      <td>0.0</td>\n",
              "      <td>0.0</td>\n",
              "      <td>1.0</td>\n",
              "      <td>0.0</td>\n",
              "      <td>0.0</td>\n",
              "      <td>1.0</td>\n",
              "      <td>1.0</td>\n",
              "      <td>0.0</td>\n",
              "      <td>0.0</td>\n",
              "      <td>0.0</td>\n",
              "      <td>0.0</td>\n",
              "      <td>0.0</td>\n",
              "      <td>0.0</td>\n",
              "    </tr>\n",
              "    <tr>\n",
              "      <th>PEST</th>\n",
              "      <td>1.0</td>\n",
              "      <td>0.0</td>\n",
              "      <td>0.0</td>\n",
              "      <td>0.0</td>\n",
              "      <td>1.0</td>\n",
              "      <td>0.0</td>\n",
              "      <td>1.0</td>\n",
              "      <td>0.0</td>\n",
              "      <td>0.0</td>\n",
              "      <td>1.0</td>\n",
              "      <td>1.0</td>\n",
              "      <td>1.0</td>\n",
              "      <td>1.0</td>\n",
              "      <td>1.0</td>\n",
              "      <td>0.0</td>\n",
              "      <td>0.0</td>\n",
              "      <td>0.0</td>\n",
              "      <td>0.0</td>\n",
              "      <td>0.0</td>\n",
              "      <td>0.0</td>\n",
              "    </tr>\n",
              "    <tr>\n",
              "      <th>SOMOGY</th>\n",
              "      <td>0.0</td>\n",
              "      <td>1.0</td>\n",
              "      <td>0.0</td>\n",
              "      <td>0.0</td>\n",
              "      <td>0.0</td>\n",
              "      <td>0.0</td>\n",
              "      <td>1.0</td>\n",
              "      <td>0.0</td>\n",
              "      <td>0.0</td>\n",
              "      <td>0.0</td>\n",
              "      <td>0.0</td>\n",
              "      <td>0.0</td>\n",
              "      <td>0.0</td>\n",
              "      <td>0.0</td>\n",
              "      <td>1.0</td>\n",
              "      <td>0.0</td>\n",
              "      <td>1.0</td>\n",
              "      <td>0.0</td>\n",
              "      <td>1.0</td>\n",
              "      <td>1.0</td>\n",
              "    </tr>\n",
              "    <tr>\n",
              "      <th>SZABOLCS</th>\n",
              "      <td>0.0</td>\n",
              "      <td>0.0</td>\n",
              "      <td>0.0</td>\n",
              "      <td>1.0</td>\n",
              "      <td>0.0</td>\n",
              "      <td>0.0</td>\n",
              "      <td>0.0</td>\n",
              "      <td>0.0</td>\n",
              "      <td>1.0</td>\n",
              "      <td>0.0</td>\n",
              "      <td>0.0</td>\n",
              "      <td>0.0</td>\n",
              "      <td>0.0</td>\n",
              "      <td>0.0</td>\n",
              "      <td>0.0</td>\n",
              "      <td>1.0</td>\n",
              "      <td>0.0</td>\n",
              "      <td>0.0</td>\n",
              "      <td>0.0</td>\n",
              "      <td>0.0</td>\n",
              "    </tr>\n",
              "    <tr>\n",
              "      <th>TOLNA</th>\n",
              "      <td>1.0</td>\n",
              "      <td>1.0</td>\n",
              "      <td>0.0</td>\n",
              "      <td>0.0</td>\n",
              "      <td>0.0</td>\n",
              "      <td>0.0</td>\n",
              "      <td>1.0</td>\n",
              "      <td>0.0</td>\n",
              "      <td>0.0</td>\n",
              "      <td>0.0</td>\n",
              "      <td>0.0</td>\n",
              "      <td>0.0</td>\n",
              "      <td>0.0</td>\n",
              "      <td>0.0</td>\n",
              "      <td>1.0</td>\n",
              "      <td>0.0</td>\n",
              "      <td>1.0</td>\n",
              "      <td>0.0</td>\n",
              "      <td>0.0</td>\n",
              "      <td>0.0</td>\n",
              "    </tr>\n",
              "    <tr>\n",
              "      <th>VAS</th>\n",
              "      <td>0.0</td>\n",
              "      <td>0.0</td>\n",
              "      <td>0.0</td>\n",
              "      <td>0.0</td>\n",
              "      <td>0.0</td>\n",
              "      <td>0.0</td>\n",
              "      <td>0.0</td>\n",
              "      <td>1.0</td>\n",
              "      <td>0.0</td>\n",
              "      <td>0.0</td>\n",
              "      <td>0.0</td>\n",
              "      <td>0.0</td>\n",
              "      <td>0.0</td>\n",
              "      <td>0.0</td>\n",
              "      <td>0.0</td>\n",
              "      <td>0.0</td>\n",
              "      <td>0.0</td>\n",
              "      <td>1.0</td>\n",
              "      <td>1.0</td>\n",
              "      <td>1.0</td>\n",
              "    </tr>\n",
              "    <tr>\n",
              "      <th>VESZPREM</th>\n",
              "      <td>0.0</td>\n",
              "      <td>0.0</td>\n",
              "      <td>0.0</td>\n",
              "      <td>0.0</td>\n",
              "      <td>0.0</td>\n",
              "      <td>0.0</td>\n",
              "      <td>1.0</td>\n",
              "      <td>1.0</td>\n",
              "      <td>0.0</td>\n",
              "      <td>0.0</td>\n",
              "      <td>0.0</td>\n",
              "      <td>1.0</td>\n",
              "      <td>0.0</td>\n",
              "      <td>0.0</td>\n",
              "      <td>1.0</td>\n",
              "      <td>0.0</td>\n",
              "      <td>0.0</td>\n",
              "      <td>1.0</td>\n",
              "      <td>1.0</td>\n",
              "      <td>1.0</td>\n",
              "    </tr>\n",
              "    <tr>\n",
              "      <th>ZALA</th>\n",
              "      <td>0.0</td>\n",
              "      <td>0.0</td>\n",
              "      <td>0.0</td>\n",
              "      <td>0.0</td>\n",
              "      <td>0.0</td>\n",
              "      <td>0.0</td>\n",
              "      <td>0.0</td>\n",
              "      <td>0.0</td>\n",
              "      <td>0.0</td>\n",
              "      <td>0.0</td>\n",
              "      <td>0.0</td>\n",
              "      <td>0.0</td>\n",
              "      <td>0.0</td>\n",
              "      <td>0.0</td>\n",
              "      <td>1.0</td>\n",
              "      <td>0.0</td>\n",
              "      <td>0.0</td>\n",
              "      <td>1.0</td>\n",
              "      <td>1.0</td>\n",
              "      <td>1.0</td>\n",
              "    </tr>\n",
              "  </tbody>\n",
              "</table>\n",
              "</div>\n",
              "    <div class=\"colab-df-buttons\">\n",
              "\n",
              "  <div class=\"colab-df-container\">\n",
              "    <button class=\"colab-df-convert\" onclick=\"convertToInteractive('df-0acf7292-fb8b-4c84-9f6c-19d1619b18aa')\"\n",
              "            title=\"Convert this dataframe to an interactive table.\"\n",
              "            style=\"display:none;\">\n",
              "\n",
              "  <svg xmlns=\"http://www.w3.org/2000/svg\" height=\"24px\" viewBox=\"0 -960 960 960\">\n",
              "    <path d=\"M120-120v-720h720v720H120Zm60-500h600v-160H180v160Zm220 220h160v-160H400v160Zm0 220h160v-160H400v160ZM180-400h160v-160H180v160Zm440 0h160v-160H620v160ZM180-180h160v-160H180v160Zm440 0h160v-160H620v160Z\"/>\n",
              "  </svg>\n",
              "    </button>\n",
              "\n",
              "  <style>\n",
              "    .colab-df-container {\n",
              "      display:flex;\n",
              "      gap: 12px;\n",
              "    }\n",
              "\n",
              "    .colab-df-convert {\n",
              "      background-color: #E8F0FE;\n",
              "      border: none;\n",
              "      border-radius: 50%;\n",
              "      cursor: pointer;\n",
              "      display: none;\n",
              "      fill: #1967D2;\n",
              "      height: 32px;\n",
              "      padding: 0 0 0 0;\n",
              "      width: 32px;\n",
              "    }\n",
              "\n",
              "    .colab-df-convert:hover {\n",
              "      background-color: #E2EBFA;\n",
              "      box-shadow: 0px 1px 2px rgba(60, 64, 67, 0.3), 0px 1px 3px 1px rgba(60, 64, 67, 0.15);\n",
              "      fill: #174EA6;\n",
              "    }\n",
              "\n",
              "    .colab-df-buttons div {\n",
              "      margin-bottom: 4px;\n",
              "    }\n",
              "\n",
              "    [theme=dark] .colab-df-convert {\n",
              "      background-color: #3B4455;\n",
              "      fill: #D2E3FC;\n",
              "    }\n",
              "\n",
              "    [theme=dark] .colab-df-convert:hover {\n",
              "      background-color: #434B5C;\n",
              "      box-shadow: 0px 1px 3px 1px rgba(0, 0, 0, 0.15);\n",
              "      filter: drop-shadow(0px 1px 2px rgba(0, 0, 0, 0.3));\n",
              "      fill: #FFFFFF;\n",
              "    }\n",
              "  </style>\n",
              "\n",
              "    <script>\n",
              "      const buttonEl =\n",
              "        document.querySelector('#df-0acf7292-fb8b-4c84-9f6c-19d1619b18aa button.colab-df-convert');\n",
              "      buttonEl.style.display =\n",
              "        google.colab.kernel.accessAllowed ? 'block' : 'none';\n",
              "\n",
              "      async function convertToInteractive(key) {\n",
              "        const element = document.querySelector('#df-0acf7292-fb8b-4c84-9f6c-19d1619b18aa');\n",
              "        const dataTable =\n",
              "          await google.colab.kernel.invokeFunction('convertToInteractive',\n",
              "                                                    [key], {});\n",
              "        if (!dataTable) return;\n",
              "\n",
              "        const docLinkHtml = 'Like what you see? Visit the ' +\n",
              "          '<a target=\"_blank\" href=https://colab.research.google.com/notebooks/data_table.ipynb>data table notebook</a>'\n",
              "          + ' to learn more about interactive tables.';\n",
              "        element.innerHTML = '';\n",
              "        dataTable['output_type'] = 'display_data';\n",
              "        await google.colab.output.renderOutput(dataTable, element);\n",
              "        const docLink = document.createElement('div');\n",
              "        docLink.innerHTML = docLinkHtml;\n",
              "        element.appendChild(docLink);\n",
              "      }\n",
              "    </script>\n",
              "  </div>\n",
              "\n",
              "\n",
              "    <div id=\"df-ac23d1bd-217c-4fec-bf05-6ea7126840a0\">\n",
              "      <button class=\"colab-df-quickchart\" onclick=\"quickchart('df-ac23d1bd-217c-4fec-bf05-6ea7126840a0')\"\n",
              "                title=\"Suggest charts\"\n",
              "                style=\"display:none;\">\n",
              "\n",
              "<svg xmlns=\"http://www.w3.org/2000/svg\" height=\"24px\"viewBox=\"0 0 24 24\"\n",
              "     width=\"24px\">\n",
              "    <g>\n",
              "        <path d=\"M19 3H5c-1.1 0-2 .9-2 2v14c0 1.1.9 2 2 2h14c1.1 0 2-.9 2-2V5c0-1.1-.9-2-2-2zM9 17H7v-7h2v7zm4 0h-2V7h2v10zm4 0h-2v-4h2v4z\"/>\n",
              "    </g>\n",
              "</svg>\n",
              "      </button>\n",
              "\n",
              "<style>\n",
              "  .colab-df-quickchart {\n",
              "      --bg-color: #E8F0FE;\n",
              "      --fill-color: #1967D2;\n",
              "      --hover-bg-color: #E2EBFA;\n",
              "      --hover-fill-color: #174EA6;\n",
              "      --disabled-fill-color: #AAA;\n",
              "      --disabled-bg-color: #DDD;\n",
              "  }\n",
              "\n",
              "  [theme=dark] .colab-df-quickchart {\n",
              "      --bg-color: #3B4455;\n",
              "      --fill-color: #D2E3FC;\n",
              "      --hover-bg-color: #434B5C;\n",
              "      --hover-fill-color: #FFFFFF;\n",
              "      --disabled-bg-color: #3B4455;\n",
              "      --disabled-fill-color: #666;\n",
              "  }\n",
              "\n",
              "  .colab-df-quickchart {\n",
              "    background-color: var(--bg-color);\n",
              "    border: none;\n",
              "    border-radius: 50%;\n",
              "    cursor: pointer;\n",
              "    display: none;\n",
              "    fill: var(--fill-color);\n",
              "    height: 32px;\n",
              "    padding: 0;\n",
              "    width: 32px;\n",
              "  }\n",
              "\n",
              "  .colab-df-quickchart:hover {\n",
              "    background-color: var(--hover-bg-color);\n",
              "    box-shadow: 0 1px 2px rgba(60, 64, 67, 0.3), 0 1px 3px 1px rgba(60, 64, 67, 0.15);\n",
              "    fill: var(--button-hover-fill-color);\n",
              "  }\n",
              "\n",
              "  .colab-df-quickchart-complete:disabled,\n",
              "  .colab-df-quickchart-complete:disabled:hover {\n",
              "    background-color: var(--disabled-bg-color);\n",
              "    fill: var(--disabled-fill-color);\n",
              "    box-shadow: none;\n",
              "  }\n",
              "\n",
              "  .colab-df-spinner {\n",
              "    border: 2px solid var(--fill-color);\n",
              "    border-color: transparent;\n",
              "    border-bottom-color: var(--fill-color);\n",
              "    animation:\n",
              "      spin 1s steps(1) infinite;\n",
              "  }\n",
              "\n",
              "  @keyframes spin {\n",
              "    0% {\n",
              "      border-color: transparent;\n",
              "      border-bottom-color: var(--fill-color);\n",
              "      border-left-color: var(--fill-color);\n",
              "    }\n",
              "    20% {\n",
              "      border-color: transparent;\n",
              "      border-left-color: var(--fill-color);\n",
              "      border-top-color: var(--fill-color);\n",
              "    }\n",
              "    30% {\n",
              "      border-color: transparent;\n",
              "      border-left-color: var(--fill-color);\n",
              "      border-top-color: var(--fill-color);\n",
              "      border-right-color: var(--fill-color);\n",
              "    }\n",
              "    40% {\n",
              "      border-color: transparent;\n",
              "      border-right-color: var(--fill-color);\n",
              "      border-top-color: var(--fill-color);\n",
              "    }\n",
              "    60% {\n",
              "      border-color: transparent;\n",
              "      border-right-color: var(--fill-color);\n",
              "    }\n",
              "    80% {\n",
              "      border-color: transparent;\n",
              "      border-right-color: var(--fill-color);\n",
              "      border-bottom-color: var(--fill-color);\n",
              "    }\n",
              "    90% {\n",
              "      border-color: transparent;\n",
              "      border-bottom-color: var(--fill-color);\n",
              "    }\n",
              "  }\n",
              "</style>\n",
              "\n",
              "      <script>\n",
              "        async function quickchart(key) {\n",
              "          const quickchartButtonEl =\n",
              "            document.querySelector('#' + key + ' button');\n",
              "          quickchartButtonEl.disabled = true;  // To prevent multiple clicks.\n",
              "          quickchartButtonEl.classList.add('colab-df-spinner');\n",
              "          try {\n",
              "            const charts = await google.colab.kernel.invokeFunction(\n",
              "                'suggestCharts', [key], {});\n",
              "          } catch (error) {\n",
              "            console.error('Error during call to suggestCharts:', error);\n",
              "          }\n",
              "          quickchartButtonEl.classList.remove('colab-df-spinner');\n",
              "          quickchartButtonEl.classList.add('colab-df-quickchart-complete');\n",
              "        }\n",
              "        (() => {\n",
              "          let quickchartButtonEl =\n",
              "            document.querySelector('#df-ac23d1bd-217c-4fec-bf05-6ea7126840a0 button');\n",
              "          quickchartButtonEl.style.display =\n",
              "            google.colab.kernel.accessAllowed ? 'block' : 'none';\n",
              "        })();\n",
              "      </script>\n",
              "    </div>\n",
              "\n",
              "  <div id=\"id_813c39b0-62b4-49cc-b0c5-163bf6d17b3e\">\n",
              "    <style>\n",
              "      .colab-df-generate {\n",
              "        background-color: #E8F0FE;\n",
              "        border: none;\n",
              "        border-radius: 50%;\n",
              "        cursor: pointer;\n",
              "        display: none;\n",
              "        fill: #1967D2;\n",
              "        height: 32px;\n",
              "        padding: 0 0 0 0;\n",
              "        width: 32px;\n",
              "      }\n",
              "\n",
              "      .colab-df-generate:hover {\n",
              "        background-color: #E2EBFA;\n",
              "        box-shadow: 0px 1px 2px rgba(60, 64, 67, 0.3), 0px 1px 3px 1px rgba(60, 64, 67, 0.15);\n",
              "        fill: #174EA6;\n",
              "      }\n",
              "\n",
              "      [theme=dark] .colab-df-generate {\n",
              "        background-color: #3B4455;\n",
              "        fill: #D2E3FC;\n",
              "      }\n",
              "\n",
              "      [theme=dark] .colab-df-generate:hover {\n",
              "        background-color: #434B5C;\n",
              "        box-shadow: 0px 1px 3px 1px rgba(0, 0, 0, 0.15);\n",
              "        filter: drop-shadow(0px 1px 2px rgba(0, 0, 0, 0.3));\n",
              "        fill: #FFFFFF;\n",
              "      }\n",
              "    </style>\n",
              "    <button class=\"colab-df-generate\" onclick=\"generateWithVariable('adjacency_df')\"\n",
              "            title=\"Generate code using this dataframe.\"\n",
              "            style=\"display:none;\">\n",
              "\n",
              "  <svg xmlns=\"http://www.w3.org/2000/svg\" height=\"24px\"viewBox=\"0 0 24 24\"\n",
              "       width=\"24px\">\n",
              "    <path d=\"M7,19H8.4L18.45,9,17,7.55,7,17.6ZM5,21V16.75L18.45,3.32a2,2,0,0,1,2.83,0l1.4,1.43a1.91,1.91,0,0,1,.58,1.4,1.91,1.91,0,0,1-.58,1.4L9.25,21ZM18.45,9,17,7.55Zm-12,3A5.31,5.31,0,0,0,4.9,8.1,5.31,5.31,0,0,0,1,6.5,5.31,5.31,0,0,0,4.9,4.9,5.31,5.31,0,0,0,6.5,1,5.31,5.31,0,0,0,8.1,4.9,5.31,5.31,0,0,0,12,6.5,5.46,5.46,0,0,0,6.5,12Z\"/>\n",
              "  </svg>\n",
              "    </button>\n",
              "    <script>\n",
              "      (() => {\n",
              "      const buttonEl =\n",
              "        document.querySelector('#id_813c39b0-62b4-49cc-b0c5-163bf6d17b3e button.colab-df-generate');\n",
              "      buttonEl.style.display =\n",
              "        google.colab.kernel.accessAllowed ? 'block' : 'none';\n",
              "\n",
              "      buttonEl.onclick = () => {\n",
              "        google.colab.notebook.generateWithVariable('adjacency_df');\n",
              "      }\n",
              "      })();\n",
              "    </script>\n",
              "  </div>\n",
              "\n",
              "    </div>\n",
              "  </div>\n"
            ],
            "application/vnd.google.colaboratory.intrinsic+json": {
              "type": "dataframe",
              "variable_name": "adjacency_df",
              "summary": "{\n  \"name\": \"adjacency_df\",\n  \"rows\": 20,\n  \"fields\": [\n    {\n      \"column\": \"BACS\",\n      \"properties\": {\n        \"dtype\": \"number\",\n        \"std\": 0.48936048492959283,\n        \"min\": 0.0,\n        \"max\": 1.0,\n        \"num_unique_values\": 2,\n        \"samples\": [\n          0.0,\n          1.0\n        ],\n        \"semantic_type\": \"\",\n        \"description\": \"\"\n      }\n    },\n    {\n      \"column\": \"BARANYA\",\n      \"properties\": {\n        \"dtype\": \"number\",\n        \"std\": 0.4103913408340617,\n        \"min\": 0.0,\n        \"max\": 1.0,\n        \"num_unique_values\": 2,\n        \"samples\": [\n          0.0,\n          1.0\n        ],\n        \"semantic_type\": \"\",\n        \"description\": \"\"\n      }\n    },\n    {\n      \"column\": \"BEKES\",\n      \"properties\": {\n        \"dtype\": \"number\",\n        \"std\": 0.4103913408340617,\n        \"min\": 0.0,\n        \"max\": 1.0,\n        \"num_unique_values\": 2,\n        \"samples\": [\n          1.0,\n          0.0\n        ],\n        \"semantic_type\": \"\",\n        \"description\": \"\"\n      }\n    },\n    {\n      \"column\": \"BORSOD\",\n      \"properties\": {\n        \"dtype\": \"number\",\n        \"std\": 0.47016234598162715,\n        \"min\": 0.0,\n        \"max\": 1.0,\n        \"num_unique_values\": 2,\n        \"samples\": [\n          1.0,\n          0.0\n        ],\n        \"semantic_type\": \"\",\n        \"description\": \"\"\n      }\n    },\n    {\n      \"column\": \"BUDAPEST\",\n      \"properties\": {\n        \"dtype\": \"number\",\n        \"std\": 0.30779350562554625,\n        \"min\": 0.0,\n        \"max\": 1.0,\n        \"num_unique_values\": 2,\n        \"samples\": [\n          1.0,\n          0.0\n        ],\n        \"semantic_type\": \"\",\n        \"description\": \"\"\n      }\n    },\n    {\n      \"column\": \"CSONGRAD\",\n      \"properties\": {\n        \"dtype\": \"number\",\n        \"std\": 0.4103913408340617,\n        \"min\": 0.0,\n        \"max\": 1.0,\n        \"num_unique_values\": 2,\n        \"samples\": [\n          0.0,\n          1.0\n        ],\n        \"semantic_type\": \"\",\n        \"description\": \"\"\n      }\n    },\n    {\n      \"column\": \"FEJER\",\n      \"properties\": {\n        \"dtype\": \"number\",\n        \"std\": 0.4893604849295929,\n        \"min\": 0.0,\n        \"max\": 1.0,\n        \"num_unique_values\": 2,\n        \"samples\": [\n          0.0,\n          1.0\n        ],\n        \"semantic_type\": \"\",\n        \"description\": \"\"\n      }\n    },\n    {\n      \"column\": \"GYOR\",\n      \"properties\": {\n        \"dtype\": \"number\",\n        \"std\": 0.41039134083406165,\n        \"min\": 0.0,\n        \"max\": 1.0,\n        \"num_unique_values\": 2,\n        \"samples\": [\n          1.0,\n          0.0\n        ],\n        \"semantic_type\": \"\",\n        \"description\": \"\"\n      }\n    },\n    {\n      \"column\": \"HAJDU\",\n      \"properties\": {\n        \"dtype\": \"number\",\n        \"std\": 0.4442616583193193,\n        \"min\": 0.0,\n        \"max\": 1.0,\n        \"num_unique_values\": 2,\n        \"samples\": [\n          1.0,\n          0.0\n        ],\n        \"semantic_type\": \"\",\n        \"description\": \"\"\n      }\n    },\n    {\n      \"column\": \"HEVES\",\n      \"properties\": {\n        \"dtype\": \"number\",\n        \"std\": 0.4442616583193193,\n        \"min\": 0.0,\n        \"max\": 1.0,\n        \"num_unique_values\": 2,\n        \"samples\": [\n          1.0,\n          0.0\n        ],\n        \"semantic_type\": \"\",\n        \"description\": \"\"\n      }\n    },\n    {\n      \"column\": \"JASZ\",\n      \"properties\": {\n        \"dtype\": \"number\",\n        \"std\": 0.5026246899500346,\n        \"min\": 0.0,\n        \"max\": 1.0,\n        \"num_unique_values\": 2,\n        \"samples\": [\n          0.0,\n          1.0\n        ],\n        \"semantic_type\": \"\",\n        \"description\": \"\"\n      }\n    },\n    {\n      \"column\": \"KOMAROM\",\n      \"properties\": {\n        \"dtype\": \"number\",\n        \"std\": 0.4442616583193193,\n        \"min\": 0.0,\n        \"max\": 1.0,\n        \"num_unique_values\": 2,\n        \"samples\": [\n          1.0,\n          0.0\n        ],\n        \"semantic_type\": \"\",\n        \"description\": \"\"\n      }\n    },\n    {\n      \"column\": \"NOGRAD\",\n      \"properties\": {\n        \"dtype\": \"number\",\n        \"std\": 0.4103913408340617,\n        \"min\": 0.0,\n        \"max\": 1.0,\n        \"num_unique_values\": 2,\n        \"samples\": [\n          1.0,\n          0.0\n        ],\n        \"semantic_type\": \"\",\n        \"description\": \"\"\n      }\n    },\n    {\n      \"column\": \"PEST\",\n      \"properties\": {\n        \"dtype\": \"number\",\n        \"std\": 0.5026246899500346,\n        \"min\": 0.0,\n        \"max\": 1.0,\n        \"num_unique_values\": 2,\n        \"samples\": [\n          0.0,\n          1.0\n        ],\n        \"semantic_type\": \"\",\n        \"description\": \"\"\n      }\n    },\n    {\n      \"column\": \"SOMOGY\",\n      \"properties\": {\n        \"dtype\": \"number\",\n        \"std\": 0.4701623459816272,\n        \"min\": 0.0,\n        \"max\": 1.0,\n        \"num_unique_values\": 2,\n        \"samples\": [\n          1.0,\n          0.0\n        ],\n        \"semantic_type\": \"\",\n        \"description\": \"\"\n      }\n    },\n    {\n      \"column\": \"SZABOLCS\",\n      \"properties\": {\n        \"dtype\": \"number\",\n        \"std\": 0.36634754853252316,\n        \"min\": 0.0,\n        \"max\": 1.0,\n        \"num_unique_values\": 2,\n        \"samples\": [\n          1.0,\n          0.0\n        ],\n        \"semantic_type\": \"\",\n        \"description\": \"\"\n      }\n    },\n    {\n      \"column\": \"TOLNA\",\n      \"properties\": {\n        \"dtype\": \"number\",\n        \"std\": 0.4442616583193193,\n        \"min\": 0.0,\n        \"max\": 1.0,\n        \"num_unique_values\": 2,\n        \"samples\": [\n          0.0,\n          1.0\n        ],\n        \"semantic_type\": \"\",\n        \"description\": \"\"\n      }\n    },\n    {\n      \"column\": \"VAS\",\n      \"properties\": {\n        \"dtype\": \"number\",\n        \"std\": 0.41039134083406165,\n        \"min\": 0.0,\n        \"max\": 1.0,\n        \"num_unique_values\": 2,\n        \"samples\": [\n          1.0,\n          0.0\n        ],\n        \"semantic_type\": \"\",\n        \"description\": \"\"\n      }\n    },\n    {\n      \"column\": \"VESZPREM\",\n      \"properties\": {\n        \"dtype\": \"number\",\n        \"std\": 0.48936048492959294,\n        \"min\": 0.0,\n        \"max\": 1.0,\n        \"num_unique_values\": 2,\n        \"samples\": [\n          1.0,\n          0.0\n        ],\n        \"semantic_type\": \"\",\n        \"description\": \"\"\n      }\n    },\n    {\n      \"column\": \"ZALA\",\n      \"properties\": {\n        \"dtype\": \"number\",\n        \"std\": 0.41039134083406165,\n        \"min\": 0.0,\n        \"max\": 1.0,\n        \"num_unique_values\": 2,\n        \"samples\": [\n          1.0,\n          0.0\n        ],\n        \"semantic_type\": \"\",\n        \"description\": \"\"\n      }\n    }\n  ]\n}"
            }
          },
          "metadata": {},
          "execution_count": 9
        }
      ]
    },
    {
      "cell_type": "markdown",
      "source": [
        "### Other approach (Loading it in torch_geometric.data.Data object)"
      ],
      "metadata": {
        "id": "J02DHiG74RN6"
      },
      "id": "J02DHiG74RN6"
    },
    {
      "cell_type": "code",
      "source": [
        "!pip install torch_geometric"
      ],
      "metadata": {
        "id": "5yMTCxVN4mzb",
        "outputId": "3bd4e0f2-dee7-4c58-e707-005d165047d4",
        "colab": {
          "base_uri": "https://localhost:8080/"
        }
      },
      "id": "5yMTCxVN4mzb",
      "execution_count": 10,
      "outputs": [
        {
          "output_type": "stream",
          "name": "stdout",
          "text": [
            "Collecting torch_geometric\n",
            "  Downloading torch_geometric-2.6.1-py3-none-any.whl.metadata (63 kB)\n",
            "\u001b[?25l     \u001b[90m━━━━━━━━━━━━━━━━━━━━━━━━━━━━━━━━━━━━━━━━\u001b[0m \u001b[32m0.0/63.1 kB\u001b[0m \u001b[31m?\u001b[0m eta \u001b[36m-:--:--\u001b[0m\r\u001b[2K     \u001b[90m━━━━━━━━━━━━━━━━━━━━━━━━━━━━━━━━━━━━━━━━\u001b[0m \u001b[32m63.1/63.1 kB\u001b[0m \u001b[31m2.4 MB/s\u001b[0m eta \u001b[36m0:00:00\u001b[0m\n",
            "\u001b[?25hRequirement already satisfied: aiohttp in /usr/local/lib/python3.12/dist-packages (from torch_geometric) (3.12.15)\n",
            "Requirement already satisfied: fsspec in /usr/local/lib/python3.12/dist-packages (from torch_geometric) (2025.3.0)\n",
            "Requirement already satisfied: jinja2 in /usr/local/lib/python3.12/dist-packages (from torch_geometric) (3.1.6)\n",
            "Requirement already satisfied: numpy in /usr/local/lib/python3.12/dist-packages (from torch_geometric) (2.0.2)\n",
            "Requirement already satisfied: psutil>=5.8.0 in /usr/local/lib/python3.12/dist-packages (from torch_geometric) (5.9.5)\n",
            "Requirement already satisfied: pyparsing in /usr/local/lib/python3.12/dist-packages (from torch_geometric) (3.2.4)\n",
            "Requirement already satisfied: requests in /usr/local/lib/python3.12/dist-packages (from torch_geometric) (2.32.4)\n",
            "Requirement already satisfied: tqdm in /usr/local/lib/python3.12/dist-packages (from torch_geometric) (4.67.1)\n",
            "Requirement already satisfied: aiohappyeyeballs>=2.5.0 in /usr/local/lib/python3.12/dist-packages (from aiohttp->torch_geometric) (2.6.1)\n",
            "Requirement already satisfied: aiosignal>=1.4.0 in /usr/local/lib/python3.12/dist-packages (from aiohttp->torch_geometric) (1.4.0)\n",
            "Requirement already satisfied: attrs>=17.3.0 in /usr/local/lib/python3.12/dist-packages (from aiohttp->torch_geometric) (25.3.0)\n",
            "Requirement already satisfied: frozenlist>=1.1.1 in /usr/local/lib/python3.12/dist-packages (from aiohttp->torch_geometric) (1.7.0)\n",
            "Requirement already satisfied: multidict<7.0,>=4.5 in /usr/local/lib/python3.12/dist-packages (from aiohttp->torch_geometric) (6.6.4)\n",
            "Requirement already satisfied: propcache>=0.2.0 in /usr/local/lib/python3.12/dist-packages (from aiohttp->torch_geometric) (0.3.2)\n",
            "Requirement already satisfied: yarl<2.0,>=1.17.0 in /usr/local/lib/python3.12/dist-packages (from aiohttp->torch_geometric) (1.20.1)\n",
            "Requirement already satisfied: MarkupSafe>=2.0 in /usr/local/lib/python3.12/dist-packages (from jinja2->torch_geometric) (3.0.2)\n",
            "Requirement already satisfied: charset_normalizer<4,>=2 in /usr/local/lib/python3.12/dist-packages (from requests->torch_geometric) (3.4.3)\n",
            "Requirement already satisfied: idna<4,>=2.5 in /usr/local/lib/python3.12/dist-packages (from requests->torch_geometric) (3.10)\n",
            "Requirement already satisfied: urllib3<3,>=1.21.1 in /usr/local/lib/python3.12/dist-packages (from requests->torch_geometric) (2.5.0)\n",
            "Requirement already satisfied: certifi>=2017.4.17 in /usr/local/lib/python3.12/dist-packages (from requests->torch_geometric) (2025.8.3)\n",
            "Requirement already satisfied: typing-extensions>=4.2 in /usr/local/lib/python3.12/dist-packages (from aiosignal>=1.4.0->aiohttp->torch_geometric) (4.15.0)\n",
            "Downloading torch_geometric-2.6.1-py3-none-any.whl (1.1 MB)\n",
            "\u001b[2K   \u001b[90m━━━━━━━━━━━━━━━━━━━━━━━━━━━━━━━━━━━━━━━━\u001b[0m \u001b[32m1.1/1.1 MB\u001b[0m \u001b[31m19.4 MB/s\u001b[0m eta \u001b[36m0:00:00\u001b[0m\n",
            "\u001b[?25hInstalling collected packages: torch_geometric\n",
            "Successfully installed torch_geometric-2.6.1\n"
          ]
        }
      ]
    },
    {
      "cell_type": "code",
      "source": [
        "from torch_geometric.data import Data\n",
        "from torch_geometric.utils import to_dense_adj\n",
        "import torch\n"
      ],
      "metadata": {
        "id": "08ssyZ4A4ZCr"
      },
      "id": "08ssyZ4A4ZCr",
      "execution_count": 11,
      "outputs": []
    },
    {
      "cell_type": "code",
      "source": [
        "# get Adj List\n",
        "edge_list = torch.tensor(chickenpox_edges_dataset[[\"id_1\", \"id_2\"]].to_numpy(), dtype=torch.long)\n",
        "print(edge_list[:3])\n",
        "print()\n",
        "\n",
        "# Convert to torch geometric data object\n",
        "data = Data(x=chickenpox_features_dataset.values, edge_index=edge_list.t().contiguous())\n",
        "\n",
        "# Add information\n",
        "data.num_nodes = data.x.shape[1]\n",
        "data.num_temp_features = data.x.shape[0]\n",
        "\n",
        "# Add additional information to the data object\n",
        "data.dates = chickenpox_features_dataset.index.tolist() # Need to convert it back to a list because PyG does not support pd.DatetimeIndex\n",
        "data.county_names = chickenpox_features_dataset.columns.tolist()\n",
        "\n",
        "# b)\n",
        "# Number of nodes:\n",
        "print(\"Number of nodes: \", data.num_nodes)\n",
        "\n",
        "# Number of edges:\n",
        "print(\"Number of edges: \", data.num_edges)\n",
        "\n",
        "# Number of temporal features per node:\n",
        "print(\"Number of temporal features per node: \", data.num_temp_features)\n",
        "print()\n",
        "print(data)\n",
        "\n"
      ],
      "metadata": {
        "id": "nokmROPF4ohA",
        "outputId": "1309493d-105f-4f31-d8db-3da7676f3339",
        "colab": {
          "base_uri": "https://localhost:8080/"
        }
      },
      "id": "nokmROPF4ohA",
      "execution_count": 12,
      "outputs": [
        {
          "output_type": "stream",
          "name": "stdout",
          "text": [
            "tensor([[ 0, 10],\n",
            "        [ 0,  0],\n",
            "        [ 0,  1]])\n",
            "\n",
            "Number of nodes:  20\n",
            "Number of edges:  102\n",
            "Number of temporal features per node:  522\n",
            "\n",
            "Data(x=[522, 20], edge_index=[2, 102], num_nodes=20, num_temp_features=522, dates=[522], county_names=[20])\n"
          ]
        }
      ]
    },
    {
      "cell_type": "code",
      "source": [
        "# c)\n",
        "adj_mat = to_dense_adj(data.edge_index, max_num_nodes=data.num_nodes).squeeze().numpy()\n",
        "print(adj_mat)\n"
      ],
      "metadata": {
        "id": "2aRyCDk_5kvp",
        "outputId": "ac0c1b83-52cb-4c5b-c6ea-9ca723d4706c",
        "colab": {
          "base_uri": "https://localhost:8080/"
        }
      },
      "id": "2aRyCDk_5kvp",
      "execution_count": 13,
      "outputs": [
        {
          "output_type": "stream",
          "name": "stdout",
          "text": [
            "[[1. 1. 0. 0. 0. 1. 1. 0. 0. 0. 1. 0. 0. 1. 0. 0. 1. 0. 0. 0.]\n",
            " [1. 1. 0. 0. 0. 0. 0. 0. 0. 0. 0. 0. 0. 0. 1. 0. 1. 0. 0. 0.]\n",
            " [0. 0. 1. 0. 0. 1. 0. 0. 1. 0. 1. 0. 0. 0. 0. 0. 0. 0. 0. 0.]\n",
            " [0. 0. 0. 1. 0. 0. 0. 0. 1. 1. 1. 0. 1. 0. 0. 1. 0. 0. 0. 0.]\n",
            " [0. 0. 0. 0. 1. 0. 0. 0. 0. 0. 0. 0. 0. 1. 0. 0. 0. 0. 0. 0.]\n",
            " [1. 0. 1. 0. 0. 1. 0. 0. 0. 0. 1. 0. 0. 0. 0. 0. 0. 0. 0. 0.]\n",
            " [1. 0. 0. 0. 0. 0. 1. 0. 0. 0. 0. 1. 0. 1. 1. 0. 1. 0. 1. 0.]\n",
            " [0. 0. 0. 0. 0. 0. 0. 1. 0. 0. 0. 1. 0. 0. 0. 0. 0. 1. 1. 0.]\n",
            " [0. 0. 1. 1. 0. 0. 0. 0. 1. 0. 1. 0. 0. 0. 0. 1. 0. 0. 0. 0.]\n",
            " [0. 0. 0. 1. 0. 0. 0. 0. 0. 1. 1. 0. 1. 1. 0. 0. 0. 0. 0. 0.]\n",
            " [1. 0. 1. 1. 0. 1. 0. 0. 1. 1. 1. 0. 0. 1. 0. 0. 0. 0. 0. 0.]\n",
            " [0. 0. 0. 0. 0. 0. 1. 1. 0. 0. 0. 1. 0. 1. 0. 0. 0. 0. 1. 0.]\n",
            " [0. 0. 0. 1. 0. 0. 0. 0. 0. 1. 0. 0. 1. 1. 0. 0. 0. 0. 0. 0.]\n",
            " [1. 0. 0. 0. 1. 0. 1. 0. 0. 1. 1. 1. 1. 1. 0. 0. 0. 0. 0. 0.]\n",
            " [0. 1. 0. 0. 0. 0. 1. 0. 0. 0. 0. 0. 0. 0. 1. 0. 1. 0. 1. 1.]\n",
            " [0. 0. 0. 1. 0. 0. 0. 0. 1. 0. 0. 0. 0. 0. 0. 1. 0. 0. 0. 0.]\n",
            " [1. 1. 0. 0. 0. 0. 1. 0. 0. 0. 0. 0. 0. 0. 1. 0. 1. 0. 0. 0.]\n",
            " [0. 0. 0. 0. 0. 0. 0. 1. 0. 0. 0. 0. 0. 0. 0. 0. 0. 1. 1. 1.]\n",
            " [0. 0. 0. 0. 0. 0. 1. 1. 0. 0. 0. 1. 0. 0. 1. 0. 0. 1. 1. 1.]\n",
            " [0. 0. 0. 0. 0. 0. 0. 0. 0. 0. 0. 0. 0. 0. 1. 0. 0. 1. 1. 1.]]\n"
          ]
        }
      ]
    },
    {
      "cell_type": "markdown",
      "id": "51e92d6c",
      "metadata": {
        "id": "51e92d6c"
      },
      "source": [
        "# Task 2: Load the dataset into pytorch-geometric-temporal."
      ]
    },
    {
      "cell_type": "markdown",
      "id": "5a97f822",
      "metadata": {
        "id": "5a97f822"
      },
      "source": [
        "## a) Load the dataset with the class: ChickenpoxDatasetLoader"
      ]
    },
    {
      "cell_type": "code",
      "source": [
        "!pip install torch_scatter torch_sparse -f https://data.pyg.org/whl/torch-2.8.0+cu126.html"
      ],
      "metadata": {
        "id": "LJqQfqdz6mjD",
        "outputId": "d0fe1791-7078-436d-a4ce-61d8f1388cd5",
        "colab": {
          "base_uri": "https://localhost:8080/"
        }
      },
      "id": "LJqQfqdz6mjD",
      "execution_count": 14,
      "outputs": [
        {
          "output_type": "stream",
          "name": "stdout",
          "text": [
            "Looking in links: https://data.pyg.org/whl/torch-2.8.0+cu126.html\n",
            "Collecting torch_scatter\n",
            "  Downloading https://data.pyg.org/whl/torch-2.8.0%2Bcu126/torch_scatter-2.1.2%2Bpt28cu126-cp312-cp312-linux_x86_64.whl (10.9 MB)\n",
            "\u001b[2K     \u001b[90m━━━━━━━━━━━━━━━━━━━━━━━━━━━━━━━━━━━━━━━━\u001b[0m \u001b[32m10.9/10.9 MB\u001b[0m \u001b[31m64.3 MB/s\u001b[0m eta \u001b[36m0:00:00\u001b[0m\n",
            "\u001b[?25hCollecting torch_sparse\n",
            "  Downloading https://data.pyg.org/whl/torch-2.8.0%2Bcu126/torch_sparse-0.6.18%2Bpt28cu126-cp312-cp312-linux_x86_64.whl (5.2 MB)\n",
            "\u001b[2K     \u001b[90m━━━━━━━━━━━━━━━━━━━━━━━━━━━━━━━━━━━━━━━━\u001b[0m \u001b[32m5.2/5.2 MB\u001b[0m \u001b[31m38.9 MB/s\u001b[0m eta \u001b[36m0:00:00\u001b[0m\n",
            "\u001b[?25hRequirement already satisfied: scipy in /usr/local/lib/python3.12/dist-packages (from torch_sparse) (1.16.2)\n",
            "Requirement already satisfied: numpy<2.6,>=1.25.2 in /usr/local/lib/python3.12/dist-packages (from scipy->torch_sparse) (2.0.2)\n",
            "Installing collected packages: torch_scatter, torch_sparse\n",
            "Successfully installed torch_scatter-2.1.2+pt28cu126 torch_sparse-0.6.18+pt28cu126\n"
          ]
        }
      ]
    },
    {
      "cell_type": "code",
      "source": [
        "!pip install torch_geometric_temporal"
      ],
      "metadata": {
        "id": "N8HNrFYfX863",
        "outputId": "37b6afea-b212-4bfa-844c-5f61c64a6bcc",
        "colab": {
          "base_uri": "https://localhost:8080/"
        }
      },
      "id": "N8HNrFYfX863",
      "execution_count": 15,
      "outputs": [
        {
          "output_type": "stream",
          "name": "stdout",
          "text": [
            "Collecting torch_geometric_temporal\n",
            "  Downloading torch_geometric_temporal-0.56.2-py3-none-any.whl.metadata (1.9 kB)\n",
            "Requirement already satisfied: decorator==4.4.2 in /usr/local/lib/python3.12/dist-packages (from torch_geometric_temporal) (4.4.2)\n",
            "Requirement already satisfied: torch in /usr/local/lib/python3.12/dist-packages (from torch_geometric_temporal) (2.8.0+cu126)\n",
            "Requirement already satisfied: cython in /usr/local/lib/python3.12/dist-packages (from torch_geometric_temporal) (3.0.12)\n",
            "Requirement already satisfied: torch-sparse in /usr/local/lib/python3.12/dist-packages (from torch_geometric_temporal) (0.6.18+pt28cu126)\n",
            "Requirement already satisfied: torch-scatter in /usr/local/lib/python3.12/dist-packages (from torch_geometric_temporal) (2.1.2+pt28cu126)\n",
            "Requirement already satisfied: torch-geometric in /usr/local/lib/python3.12/dist-packages (from torch_geometric_temporal) (2.6.1)\n",
            "Requirement already satisfied: numpy in /usr/local/lib/python3.12/dist-packages (from torch_geometric_temporal) (2.0.2)\n",
            "Requirement already satisfied: networkx in /usr/local/lib/python3.12/dist-packages (from torch_geometric_temporal) (3.5)\n",
            "Requirement already satisfied: filelock in /usr/local/lib/python3.12/dist-packages (from torch->torch_geometric_temporal) (3.19.1)\n",
            "Requirement already satisfied: typing-extensions>=4.10.0 in /usr/local/lib/python3.12/dist-packages (from torch->torch_geometric_temporal) (4.15.0)\n",
            "Requirement already satisfied: setuptools in /usr/local/lib/python3.12/dist-packages (from torch->torch_geometric_temporal) (75.2.0)\n",
            "Requirement already satisfied: sympy>=1.13.3 in /usr/local/lib/python3.12/dist-packages (from torch->torch_geometric_temporal) (1.13.3)\n",
            "Requirement already satisfied: jinja2 in /usr/local/lib/python3.12/dist-packages (from torch->torch_geometric_temporal) (3.1.6)\n",
            "Requirement already satisfied: fsspec in /usr/local/lib/python3.12/dist-packages (from torch->torch_geometric_temporal) (2025.3.0)\n",
            "Requirement already satisfied: nvidia-cuda-nvrtc-cu12==12.6.77 in /usr/local/lib/python3.12/dist-packages (from torch->torch_geometric_temporal) (12.6.77)\n",
            "Requirement already satisfied: nvidia-cuda-runtime-cu12==12.6.77 in /usr/local/lib/python3.12/dist-packages (from torch->torch_geometric_temporal) (12.6.77)\n",
            "Requirement already satisfied: nvidia-cuda-cupti-cu12==12.6.80 in /usr/local/lib/python3.12/dist-packages (from torch->torch_geometric_temporal) (12.6.80)\n",
            "Requirement already satisfied: nvidia-cudnn-cu12==9.10.2.21 in /usr/local/lib/python3.12/dist-packages (from torch->torch_geometric_temporal) (9.10.2.21)\n",
            "Requirement already satisfied: nvidia-cublas-cu12==12.6.4.1 in /usr/local/lib/python3.12/dist-packages (from torch->torch_geometric_temporal) (12.6.4.1)\n",
            "Requirement already satisfied: nvidia-cufft-cu12==11.3.0.4 in /usr/local/lib/python3.12/dist-packages (from torch->torch_geometric_temporal) (11.3.0.4)\n",
            "Requirement already satisfied: nvidia-curand-cu12==10.3.7.77 in /usr/local/lib/python3.12/dist-packages (from torch->torch_geometric_temporal) (10.3.7.77)\n",
            "Requirement already satisfied: nvidia-cusolver-cu12==11.7.1.2 in /usr/local/lib/python3.12/dist-packages (from torch->torch_geometric_temporal) (11.7.1.2)\n",
            "Requirement already satisfied: nvidia-cusparse-cu12==12.5.4.2 in /usr/local/lib/python3.12/dist-packages (from torch->torch_geometric_temporal) (12.5.4.2)\n",
            "Requirement already satisfied: nvidia-cusparselt-cu12==0.7.1 in /usr/local/lib/python3.12/dist-packages (from torch->torch_geometric_temporal) (0.7.1)\n",
            "Requirement already satisfied: nvidia-nccl-cu12==2.27.3 in /usr/local/lib/python3.12/dist-packages (from torch->torch_geometric_temporal) (2.27.3)\n",
            "Requirement already satisfied: nvidia-nvtx-cu12==12.6.77 in /usr/local/lib/python3.12/dist-packages (from torch->torch_geometric_temporal) (12.6.77)\n",
            "Requirement already satisfied: nvidia-nvjitlink-cu12==12.6.85 in /usr/local/lib/python3.12/dist-packages (from torch->torch_geometric_temporal) (12.6.85)\n",
            "Requirement already satisfied: nvidia-cufile-cu12==1.11.1.6 in /usr/local/lib/python3.12/dist-packages (from torch->torch_geometric_temporal) (1.11.1.6)\n",
            "Requirement already satisfied: triton==3.4.0 in /usr/local/lib/python3.12/dist-packages (from torch->torch_geometric_temporal) (3.4.0)\n",
            "Requirement already satisfied: aiohttp in /usr/local/lib/python3.12/dist-packages (from torch-geometric->torch_geometric_temporal) (3.12.15)\n",
            "Requirement already satisfied: psutil>=5.8.0 in /usr/local/lib/python3.12/dist-packages (from torch-geometric->torch_geometric_temporal) (5.9.5)\n",
            "Requirement already satisfied: pyparsing in /usr/local/lib/python3.12/dist-packages (from torch-geometric->torch_geometric_temporal) (3.2.4)\n",
            "Requirement already satisfied: requests in /usr/local/lib/python3.12/dist-packages (from torch-geometric->torch_geometric_temporal) (2.32.4)\n",
            "Requirement already satisfied: tqdm in /usr/local/lib/python3.12/dist-packages (from torch-geometric->torch_geometric_temporal) (4.67.1)\n",
            "Requirement already satisfied: scipy in /usr/local/lib/python3.12/dist-packages (from torch-sparse->torch_geometric_temporal) (1.16.2)\n",
            "Requirement already satisfied: mpmath<1.4,>=1.1.0 in /usr/local/lib/python3.12/dist-packages (from sympy>=1.13.3->torch->torch_geometric_temporal) (1.3.0)\n",
            "Requirement already satisfied: aiohappyeyeballs>=2.5.0 in /usr/local/lib/python3.12/dist-packages (from aiohttp->torch-geometric->torch_geometric_temporal) (2.6.1)\n",
            "Requirement already satisfied: aiosignal>=1.4.0 in /usr/local/lib/python3.12/dist-packages (from aiohttp->torch-geometric->torch_geometric_temporal) (1.4.0)\n",
            "Requirement already satisfied: attrs>=17.3.0 in /usr/local/lib/python3.12/dist-packages (from aiohttp->torch-geometric->torch_geometric_temporal) (25.3.0)\n",
            "Requirement already satisfied: frozenlist>=1.1.1 in /usr/local/lib/python3.12/dist-packages (from aiohttp->torch-geometric->torch_geometric_temporal) (1.7.0)\n",
            "Requirement already satisfied: multidict<7.0,>=4.5 in /usr/local/lib/python3.12/dist-packages (from aiohttp->torch-geometric->torch_geometric_temporal) (6.6.4)\n",
            "Requirement already satisfied: propcache>=0.2.0 in /usr/local/lib/python3.12/dist-packages (from aiohttp->torch-geometric->torch_geometric_temporal) (0.3.2)\n",
            "Requirement already satisfied: yarl<2.0,>=1.17.0 in /usr/local/lib/python3.12/dist-packages (from aiohttp->torch-geometric->torch_geometric_temporal) (1.20.1)\n",
            "Requirement already satisfied: MarkupSafe>=2.0 in /usr/local/lib/python3.12/dist-packages (from jinja2->torch->torch_geometric_temporal) (3.0.2)\n",
            "Requirement already satisfied: charset_normalizer<4,>=2 in /usr/local/lib/python3.12/dist-packages (from requests->torch-geometric->torch_geometric_temporal) (3.4.3)\n",
            "Requirement already satisfied: idna<4,>=2.5 in /usr/local/lib/python3.12/dist-packages (from requests->torch-geometric->torch_geometric_temporal) (3.10)\n",
            "Requirement already satisfied: urllib3<3,>=1.21.1 in /usr/local/lib/python3.12/dist-packages (from requests->torch-geometric->torch_geometric_temporal) (2.5.0)\n",
            "Requirement already satisfied: certifi>=2017.4.17 in /usr/local/lib/python3.12/dist-packages (from requests->torch-geometric->torch_geometric_temporal) (2025.8.3)\n",
            "Downloading torch_geometric_temporal-0.56.2-py3-none-any.whl (102 kB)\n",
            "\u001b[2K   \u001b[90m━━━━━━━━━━━━━━━━━━━━━━━━━━━━━━━━━━━━━━━━\u001b[0m \u001b[32m102.3/102.3 kB\u001b[0m \u001b[31m2.0 MB/s\u001b[0m eta \u001b[36m0:00:00\u001b[0m\n",
            "\u001b[?25hInstalling collected packages: torch_geometric_temporal\n",
            "Successfully installed torch_geometric_temporal-0.56.2\n"
          ]
        }
      ]
    },
    {
      "cell_type": "code",
      "source": [
        "from torch_geometric_temporal.dataset import ChickenpoxDatasetLoader\n",
        "\n",
        "loader = ChickenpoxDatasetLoader()\n",
        "\n",
        "dataset = loader.get_dataset()"
      ],
      "metadata": {
        "id": "-NZGEyYnC0SI"
      },
      "id": "-NZGEyYnC0SI",
      "execution_count": 16,
      "outputs": []
    },
    {
      "cell_type": "markdown",
      "id": "f3a74c01",
      "metadata": {
        "id": "f3a74c01"
      },
      "source": [
        "## b) Identify the differences between loading the raw dataset from Task 1 and the processed dataset from this task."
      ]
    },
    {
      "cell_type": "code",
      "source": [
        "print(dataset[0])"
      ],
      "metadata": {
        "id": "bmC9TZHqD1ng",
        "outputId": "b8e82d48-85c3-4f75-ffca-20922408ec3a",
        "colab": {
          "base_uri": "https://localhost:8080/"
        }
      },
      "id": "bmC9TZHqD1ng",
      "execution_count": 17,
      "outputs": [
        {
          "output_type": "stream",
          "name": "stdout",
          "text": [
            "Data(x=[20, 4], edge_index=[2, 102], edge_attr=[102], y=[20])\n"
          ]
        }
      ]
    },
    {
      "cell_type": "code",
      "source": [
        "print(dataset.features[0][0:2])"
      ],
      "metadata": {
        "id": "5okiizCoGaEf",
        "outputId": "606390d3-26b6-49e3-fc9d-813522136e38",
        "colab": {
          "base_uri": "https://localhost:8080/"
        }
      },
      "id": "5okiizCoGaEf",
      "execution_count": 18,
      "outputs": [
        {
          "output_type": "stream",
          "name": "stdout",
          "text": [
            "[[-1.08135724e-03  2.85705967e-02  3.54742090e-01  2.95438182e-01]\n",
            " [-7.11136085e-01 -5.98430173e-01  1.90511208e-01  1.09215850e+00]]\n"
          ]
        }
      ]
    },
    {
      "cell_type": "code",
      "source": [
        "print(dataset.targets[0][0:2])"
      ],
      "metadata": {
        "id": "-tkoJDGPGfsF",
        "outputId": "bf249641-be0c-4757-b5ba-44b937fc7726",
        "colab": {
          "base_uri": "https://localhost:8080/"
        }
      },
      "id": "-tkoJDGPGfsF",
      "execution_count": 19,
      "outputs": [
        {
          "output_type": "stream",
          "name": "stdout",
          "text": [
            "[ 0.71056554 -0.07246925]\n"
          ]
        }
      ]
    },
    {
      "cell_type": "markdown",
      "source": [
        "Because the Labels have been removed, we need to map the county IDs later back to the raw dataset."
      ],
      "metadata": {
        "id": "Q0dZ9f4SGqwX"
      },
      "id": "Q0dZ9f4SGqwX"
    },
    {
      "cell_type": "markdown",
      "id": "fc5fd359",
      "metadata": {
        "id": "fc5fd359"
      },
      "source": [
        "# Task 3: Define a model using pytorch-geometric-temporal"
      ]
    },
    {
      "cell_type": "markdown",
      "id": "4de86c09",
      "metadata": {
        "id": "4de86c09"
      },
      "source": [
        "## i. Split the dataset into train and test."
      ]
    },
    {
      "cell_type": "code",
      "source": [
        "from torch_geometric_temporal.signal import temporal_signal_split"
      ],
      "metadata": {
        "id": "T9fNKO6pVcLA"
      },
      "id": "T9fNKO6pVcLA",
      "execution_count": 20,
      "outputs": []
    },
    {
      "cell_type": "code",
      "source": [
        "train_dataset, test_dataset = temporal_signal_split(dataset, train_ratio=0.8)\n",
        "\n",
        "\n",
        "print(train_dataset[0])\n",
        "print(test_dataset[0])\n",
        "print(len(list(train_dataset)))\n",
        "print(len(list(test_dataset)))"
      ],
      "metadata": {
        "id": "2CnfGXY4Vvdu",
        "outputId": "396131c1-0573-4e19-b4dd-a2dbb800b2ef",
        "colab": {
          "base_uri": "https://localhost:8080/"
        }
      },
      "id": "2CnfGXY4Vvdu",
      "execution_count": 21,
      "outputs": [
        {
          "output_type": "stream",
          "name": "stdout",
          "text": [
            "Data(x=[20, 4], edge_index=[2, 102], edge_attr=[102], y=[20])\n",
            "Data(x=[20, 4], edge_index=[2, 102], edge_attr=[102], y=[20])\n",
            "413\n",
            "104\n"
          ]
        }
      ]
    },
    {
      "cell_type": "code",
      "source": [
        "#for time, snapshot in enumerate(train_dataset):\n",
        "#    print(f'Time {time}:')\n",
        "#    print('snapshot', snapshot)"
      ],
      "metadata": {
        "id": "hR5wjjqteKBa"
      },
      "id": "hR5wjjqteKBa",
      "execution_count": 22,
      "outputs": []
    },
    {
      "cell_type": "markdown",
      "id": "b5308468",
      "metadata": {
        "id": "b5308468"
      },
      "source": [
        "\n",
        "## ii. Train your model on the training dataset\n"
      ]
    },
    {
      "cell_type": "code",
      "source": [
        "#implement the model\n",
        "torch.manual_seed(1)\n",
        "import torch.nn.functional as F\n",
        "from torch_geometric_temporal.nn.recurrent import DCRNN\n",
        "\n",
        "class RecurrentGCN(torch.nn.Module):\n",
        "    def __init__(self, node_features, out_channels=32, K=1):\n",
        "        super(RecurrentGCN, self).__init__()\n",
        "        self.recurrent = DCRNN(node_features, out_channels, K)\n",
        "        self.linear = torch.nn.Linear(out_channels, 1)\n",
        "\n",
        "    def forward(self, x, edge_index, edge_weight):\n",
        "        h = self.recurrent(x, edge_index, edge_weight)\n",
        "        h = F.relu(h)\n",
        "        h = self.linear(h)\n",
        "        return h"
      ],
      "metadata": {
        "id": "fezQBsthaPt-"
      },
      "id": "fezQBsthaPt-",
      "execution_count": 23,
      "outputs": []
    },
    {
      "cell_type": "code",
      "source": [
        "#train the model\n",
        "from tqdm import tqdm\n",
        "model = RecurrentGCN(node_features=4)\n",
        "\n",
        "optimizer = torch.optim.Adam(model.parameters(), lr=0.01)\n",
        "\n",
        "model.train()\n",
        "\n",
        "for epoch in tqdm(range(200)):\n",
        "    cost = 0\n",
        "    for time, snapshot in enumerate(train_dataset):\n",
        "        y_hat = model(snapshot.x, snapshot.edge_index, snapshot.edge_attr)\n",
        "        cost = cost + torch.mean((y_hat.squeeze() - snapshot.y)**2)\n",
        "    cost = cost / (time+1)\n",
        "    cost.backward()\n",
        "    optimizer.step()\n",
        "    optimizer.zero_grad()"
      ],
      "metadata": {
        "id": "mvNgi_ZGbRpR",
        "outputId": "8c042023-772b-4395-fd37-a2ce706d0db2",
        "colab": {
          "base_uri": "https://localhost:8080/",
          "height": 373
        }
      },
      "id": "mvNgi_ZGbRpR",
      "execution_count": 24,
      "outputs": [
        {
          "output_type": "stream",
          "name": "stderr",
          "text": [
            " 11%|█         | 22/200 [00:39<05:16,  1.78s/it]\n"
          ]
        },
        {
          "output_type": "error",
          "ename": "KeyboardInterrupt",
          "evalue": "",
          "traceback": [
            "\u001b[0;31m---------------------------------------------------------------------------\u001b[0m",
            "\u001b[0;31mKeyboardInterrupt\u001b[0m                         Traceback (most recent call last)",
            "\u001b[0;32m/tmp/ipython-input-1593011414.py\u001b[0m in \u001b[0;36m<cell line: 0>\u001b[0;34m()\u001b[0m\n\u001b[1;32m     10\u001b[0m     \u001b[0mcost\u001b[0m \u001b[0;34m=\u001b[0m \u001b[0;36m0\u001b[0m\u001b[0;34m\u001b[0m\u001b[0;34m\u001b[0m\u001b[0m\n\u001b[1;32m     11\u001b[0m     \u001b[0;32mfor\u001b[0m \u001b[0mtime\u001b[0m\u001b[0;34m,\u001b[0m \u001b[0msnapshot\u001b[0m \u001b[0;32min\u001b[0m \u001b[0menumerate\u001b[0m\u001b[0;34m(\u001b[0m\u001b[0mtrain_dataset\u001b[0m\u001b[0;34m)\u001b[0m\u001b[0;34m:\u001b[0m\u001b[0;34m\u001b[0m\u001b[0;34m\u001b[0m\u001b[0m\n\u001b[0;32m---> 12\u001b[0;31m         \u001b[0my_hat\u001b[0m \u001b[0;34m=\u001b[0m \u001b[0mmodel\u001b[0m\u001b[0;34m(\u001b[0m\u001b[0msnapshot\u001b[0m\u001b[0;34m.\u001b[0m\u001b[0mx\u001b[0m\u001b[0;34m,\u001b[0m \u001b[0msnapshot\u001b[0m\u001b[0;34m.\u001b[0m\u001b[0medge_index\u001b[0m\u001b[0;34m,\u001b[0m \u001b[0msnapshot\u001b[0m\u001b[0;34m.\u001b[0m\u001b[0medge_attr\u001b[0m\u001b[0;34m)\u001b[0m\u001b[0;34m\u001b[0m\u001b[0;34m\u001b[0m\u001b[0m\n\u001b[0m\u001b[1;32m     13\u001b[0m         \u001b[0mcost\u001b[0m \u001b[0;34m=\u001b[0m \u001b[0mcost\u001b[0m \u001b[0;34m+\u001b[0m \u001b[0mtorch\u001b[0m\u001b[0;34m.\u001b[0m\u001b[0mmean\u001b[0m\u001b[0;34m(\u001b[0m\u001b[0;34m(\u001b[0m\u001b[0my_hat\u001b[0m\u001b[0;34m.\u001b[0m\u001b[0msqueeze\u001b[0m\u001b[0;34m(\u001b[0m\u001b[0;34m)\u001b[0m \u001b[0;34m-\u001b[0m \u001b[0msnapshot\u001b[0m\u001b[0;34m.\u001b[0m\u001b[0my\u001b[0m\u001b[0;34m)\u001b[0m\u001b[0;34m**\u001b[0m\u001b[0;36m2\u001b[0m\u001b[0;34m)\u001b[0m\u001b[0;34m\u001b[0m\u001b[0;34m\u001b[0m\u001b[0m\n\u001b[1;32m     14\u001b[0m     \u001b[0mcost\u001b[0m \u001b[0;34m=\u001b[0m \u001b[0mcost\u001b[0m \u001b[0;34m/\u001b[0m \u001b[0;34m(\u001b[0m\u001b[0mtime\u001b[0m\u001b[0;34m+\u001b[0m\u001b[0;36m1\u001b[0m\u001b[0;34m)\u001b[0m\u001b[0;34m\u001b[0m\u001b[0;34m\u001b[0m\u001b[0m\n",
            "\u001b[0;32m/usr/local/lib/python3.12/dist-packages/torch/nn/modules/module.py\u001b[0m in \u001b[0;36m_wrapped_call_impl\u001b[0;34m(self, *args, **kwargs)\u001b[0m\n\u001b[1;32m   1771\u001b[0m             \u001b[0;32mreturn\u001b[0m \u001b[0mself\u001b[0m\u001b[0;34m.\u001b[0m\u001b[0m_compiled_call_impl\u001b[0m\u001b[0;34m(\u001b[0m\u001b[0;34m*\u001b[0m\u001b[0margs\u001b[0m\u001b[0;34m,\u001b[0m \u001b[0;34m**\u001b[0m\u001b[0mkwargs\u001b[0m\u001b[0;34m)\u001b[0m  \u001b[0;31m# type: ignore[misc]\u001b[0m\u001b[0;34m\u001b[0m\u001b[0;34m\u001b[0m\u001b[0m\n\u001b[1;32m   1772\u001b[0m         \u001b[0;32melse\u001b[0m\u001b[0;34m:\u001b[0m\u001b[0;34m\u001b[0m\u001b[0;34m\u001b[0m\u001b[0m\n\u001b[0;32m-> 1773\u001b[0;31m             \u001b[0;32mreturn\u001b[0m \u001b[0mself\u001b[0m\u001b[0;34m.\u001b[0m\u001b[0m_call_impl\u001b[0m\u001b[0;34m(\u001b[0m\u001b[0;34m*\u001b[0m\u001b[0margs\u001b[0m\u001b[0;34m,\u001b[0m \u001b[0;34m**\u001b[0m\u001b[0mkwargs\u001b[0m\u001b[0;34m)\u001b[0m\u001b[0;34m\u001b[0m\u001b[0;34m\u001b[0m\u001b[0m\n\u001b[0m\u001b[1;32m   1774\u001b[0m \u001b[0;34m\u001b[0m\u001b[0m\n\u001b[1;32m   1775\u001b[0m     \u001b[0;31m# torchrec tests the code consistency with the following code\u001b[0m\u001b[0;34m\u001b[0m\u001b[0;34m\u001b[0m\u001b[0m\n",
            "\u001b[0;32m/usr/local/lib/python3.12/dist-packages/torch/nn/modules/module.py\u001b[0m in \u001b[0;36m_call_impl\u001b[0;34m(self, *args, **kwargs)\u001b[0m\n\u001b[1;32m   1782\u001b[0m                 \u001b[0;32mor\u001b[0m \u001b[0m_global_backward_pre_hooks\u001b[0m \u001b[0;32mor\u001b[0m \u001b[0m_global_backward_hooks\u001b[0m\u001b[0;34m\u001b[0m\u001b[0;34m\u001b[0m\u001b[0m\n\u001b[1;32m   1783\u001b[0m                 or _global_forward_hooks or _global_forward_pre_hooks):\n\u001b[0;32m-> 1784\u001b[0;31m             \u001b[0;32mreturn\u001b[0m \u001b[0mforward_call\u001b[0m\u001b[0;34m(\u001b[0m\u001b[0;34m*\u001b[0m\u001b[0margs\u001b[0m\u001b[0;34m,\u001b[0m \u001b[0;34m**\u001b[0m\u001b[0mkwargs\u001b[0m\u001b[0;34m)\u001b[0m\u001b[0;34m\u001b[0m\u001b[0;34m\u001b[0m\u001b[0m\n\u001b[0m\u001b[1;32m   1785\u001b[0m \u001b[0;34m\u001b[0m\u001b[0m\n\u001b[1;32m   1786\u001b[0m         \u001b[0mresult\u001b[0m \u001b[0;34m=\u001b[0m \u001b[0;32mNone\u001b[0m\u001b[0;34m\u001b[0m\u001b[0;34m\u001b[0m\u001b[0m\n",
            "\u001b[0;32m/tmp/ipython-input-2454724824.py\u001b[0m in \u001b[0;36mforward\u001b[0;34m(self, x, edge_index, edge_weight)\u001b[0m\n\u001b[1;32m     11\u001b[0m \u001b[0;34m\u001b[0m\u001b[0m\n\u001b[1;32m     12\u001b[0m     \u001b[0;32mdef\u001b[0m \u001b[0mforward\u001b[0m\u001b[0;34m(\u001b[0m\u001b[0mself\u001b[0m\u001b[0;34m,\u001b[0m \u001b[0mx\u001b[0m\u001b[0;34m,\u001b[0m \u001b[0medge_index\u001b[0m\u001b[0;34m,\u001b[0m \u001b[0medge_weight\u001b[0m\u001b[0;34m)\u001b[0m\u001b[0;34m:\u001b[0m\u001b[0;34m\u001b[0m\u001b[0;34m\u001b[0m\u001b[0m\n\u001b[0;32m---> 13\u001b[0;31m         \u001b[0mh\u001b[0m \u001b[0;34m=\u001b[0m \u001b[0mself\u001b[0m\u001b[0;34m.\u001b[0m\u001b[0mrecurrent\u001b[0m\u001b[0;34m(\u001b[0m\u001b[0mx\u001b[0m\u001b[0;34m,\u001b[0m \u001b[0medge_index\u001b[0m\u001b[0;34m,\u001b[0m \u001b[0medge_weight\u001b[0m\u001b[0;34m)\u001b[0m\u001b[0;34m\u001b[0m\u001b[0;34m\u001b[0m\u001b[0m\n\u001b[0m\u001b[1;32m     14\u001b[0m         \u001b[0mh\u001b[0m \u001b[0;34m=\u001b[0m \u001b[0mF\u001b[0m\u001b[0;34m.\u001b[0m\u001b[0mrelu\u001b[0m\u001b[0;34m(\u001b[0m\u001b[0mh\u001b[0m\u001b[0;34m)\u001b[0m\u001b[0;34m\u001b[0m\u001b[0;34m\u001b[0m\u001b[0m\n\u001b[1;32m     15\u001b[0m         \u001b[0mh\u001b[0m \u001b[0;34m=\u001b[0m \u001b[0mself\u001b[0m\u001b[0;34m.\u001b[0m\u001b[0mlinear\u001b[0m\u001b[0;34m(\u001b[0m\u001b[0mh\u001b[0m\u001b[0;34m)\u001b[0m\u001b[0;34m\u001b[0m\u001b[0;34m\u001b[0m\u001b[0m\n",
            "\u001b[0;32m/usr/local/lib/python3.12/dist-packages/torch/nn/modules/module.py\u001b[0m in \u001b[0;36m_wrapped_call_impl\u001b[0;34m(self, *args, **kwargs)\u001b[0m\n\u001b[1;32m   1771\u001b[0m             \u001b[0;32mreturn\u001b[0m \u001b[0mself\u001b[0m\u001b[0;34m.\u001b[0m\u001b[0m_compiled_call_impl\u001b[0m\u001b[0;34m(\u001b[0m\u001b[0;34m*\u001b[0m\u001b[0margs\u001b[0m\u001b[0;34m,\u001b[0m \u001b[0;34m**\u001b[0m\u001b[0mkwargs\u001b[0m\u001b[0;34m)\u001b[0m  \u001b[0;31m# type: ignore[misc]\u001b[0m\u001b[0;34m\u001b[0m\u001b[0;34m\u001b[0m\u001b[0m\n\u001b[1;32m   1772\u001b[0m         \u001b[0;32melse\u001b[0m\u001b[0;34m:\u001b[0m\u001b[0;34m\u001b[0m\u001b[0;34m\u001b[0m\u001b[0m\n\u001b[0;32m-> 1773\u001b[0;31m             \u001b[0;32mreturn\u001b[0m \u001b[0mself\u001b[0m\u001b[0;34m.\u001b[0m\u001b[0m_call_impl\u001b[0m\u001b[0;34m(\u001b[0m\u001b[0;34m*\u001b[0m\u001b[0margs\u001b[0m\u001b[0;34m,\u001b[0m \u001b[0;34m**\u001b[0m\u001b[0mkwargs\u001b[0m\u001b[0;34m)\u001b[0m\u001b[0;34m\u001b[0m\u001b[0;34m\u001b[0m\u001b[0m\n\u001b[0m\u001b[1;32m   1774\u001b[0m \u001b[0;34m\u001b[0m\u001b[0m\n\u001b[1;32m   1775\u001b[0m     \u001b[0;31m# torchrec tests the code consistency with the following code\u001b[0m\u001b[0;34m\u001b[0m\u001b[0;34m\u001b[0m\u001b[0m\n",
            "\u001b[0;32m/usr/local/lib/python3.12/dist-packages/torch/nn/modules/module.py\u001b[0m in \u001b[0;36m_call_impl\u001b[0;34m(self, *args, **kwargs)\u001b[0m\n\u001b[1;32m   1782\u001b[0m                 \u001b[0;32mor\u001b[0m \u001b[0m_global_backward_pre_hooks\u001b[0m \u001b[0;32mor\u001b[0m \u001b[0m_global_backward_hooks\u001b[0m\u001b[0;34m\u001b[0m\u001b[0;34m\u001b[0m\u001b[0m\n\u001b[1;32m   1783\u001b[0m                 or _global_forward_hooks or _global_forward_pre_hooks):\n\u001b[0;32m-> 1784\u001b[0;31m             \u001b[0;32mreturn\u001b[0m \u001b[0mforward_call\u001b[0m\u001b[0;34m(\u001b[0m\u001b[0;34m*\u001b[0m\u001b[0margs\u001b[0m\u001b[0;34m,\u001b[0m \u001b[0;34m**\u001b[0m\u001b[0mkwargs\u001b[0m\u001b[0;34m)\u001b[0m\u001b[0;34m\u001b[0m\u001b[0;34m\u001b[0m\u001b[0m\n\u001b[0m\u001b[1;32m   1785\u001b[0m \u001b[0;34m\u001b[0m\u001b[0m\n\u001b[1;32m   1786\u001b[0m         \u001b[0mresult\u001b[0m \u001b[0;34m=\u001b[0m \u001b[0;32mNone\u001b[0m\u001b[0;34m\u001b[0m\u001b[0;34m\u001b[0m\u001b[0m\n",
            "\u001b[0;32m/usr/local/lib/python3.12/dist-packages/torch_geometric_temporal/nn/recurrent/dcrnn.py\u001b[0m in \u001b[0;36mforward\u001b[0;34m(self, X, edge_index, edge_weight, H)\u001b[0m\n\u001b[1;32m    215\u001b[0m         \u001b[0mZ\u001b[0m \u001b[0;34m=\u001b[0m \u001b[0mself\u001b[0m\u001b[0;34m.\u001b[0m\u001b[0m_calculate_update_gate\u001b[0m\u001b[0;34m(\u001b[0m\u001b[0mX\u001b[0m\u001b[0;34m,\u001b[0m \u001b[0medge_index\u001b[0m\u001b[0;34m,\u001b[0m \u001b[0medge_weight\u001b[0m\u001b[0;34m,\u001b[0m \u001b[0mH\u001b[0m\u001b[0;34m)\u001b[0m\u001b[0;34m\u001b[0m\u001b[0;34m\u001b[0m\u001b[0m\n\u001b[1;32m    216\u001b[0m         \u001b[0mR\u001b[0m \u001b[0;34m=\u001b[0m \u001b[0mself\u001b[0m\u001b[0;34m.\u001b[0m\u001b[0m_calculate_reset_gate\u001b[0m\u001b[0;34m(\u001b[0m\u001b[0mX\u001b[0m\u001b[0;34m,\u001b[0m \u001b[0medge_index\u001b[0m\u001b[0;34m,\u001b[0m \u001b[0medge_weight\u001b[0m\u001b[0;34m,\u001b[0m \u001b[0mH\u001b[0m\u001b[0;34m)\u001b[0m\u001b[0;34m\u001b[0m\u001b[0;34m\u001b[0m\u001b[0m\n\u001b[0;32m--> 217\u001b[0;31m         \u001b[0mH_tilde\u001b[0m \u001b[0;34m=\u001b[0m \u001b[0mself\u001b[0m\u001b[0;34m.\u001b[0m\u001b[0m_calculate_candidate_state\u001b[0m\u001b[0;34m(\u001b[0m\u001b[0mX\u001b[0m\u001b[0;34m,\u001b[0m \u001b[0medge_index\u001b[0m\u001b[0;34m,\u001b[0m \u001b[0medge_weight\u001b[0m\u001b[0;34m,\u001b[0m \u001b[0mH\u001b[0m\u001b[0;34m,\u001b[0m \u001b[0mR\u001b[0m\u001b[0;34m)\u001b[0m\u001b[0;34m\u001b[0m\u001b[0;34m\u001b[0m\u001b[0m\n\u001b[0m\u001b[1;32m    218\u001b[0m         \u001b[0mH\u001b[0m \u001b[0;34m=\u001b[0m \u001b[0mself\u001b[0m\u001b[0;34m.\u001b[0m\u001b[0m_calculate_hidden_state\u001b[0m\u001b[0;34m(\u001b[0m\u001b[0mZ\u001b[0m\u001b[0;34m,\u001b[0m \u001b[0mH\u001b[0m\u001b[0;34m,\u001b[0m \u001b[0mH_tilde\u001b[0m\u001b[0;34m)\u001b[0m\u001b[0;34m\u001b[0m\u001b[0;34m\u001b[0m\u001b[0m\n\u001b[1;32m    219\u001b[0m         \u001b[0;32mreturn\u001b[0m \u001b[0mH\u001b[0m\u001b[0;34m\u001b[0m\u001b[0;34m\u001b[0m\u001b[0m\n",
            "\u001b[0;32m/usr/local/lib/python3.12/dist-packages/torch_geometric_temporal/nn/recurrent/dcrnn.py\u001b[0m in \u001b[0;36m_calculate_candidate_state\u001b[0;34m(self, X, edge_index, edge_weight, H, R)\u001b[0m\n\u001b[1;32m    184\u001b[0m     \u001b[0;32mdef\u001b[0m \u001b[0m_calculate_candidate_state\u001b[0m\u001b[0;34m(\u001b[0m\u001b[0mself\u001b[0m\u001b[0;34m,\u001b[0m \u001b[0mX\u001b[0m\u001b[0;34m,\u001b[0m \u001b[0medge_index\u001b[0m\u001b[0;34m,\u001b[0m \u001b[0medge_weight\u001b[0m\u001b[0;34m,\u001b[0m \u001b[0mH\u001b[0m\u001b[0;34m,\u001b[0m \u001b[0mR\u001b[0m\u001b[0;34m)\u001b[0m\u001b[0;34m:\u001b[0m\u001b[0;34m\u001b[0m\u001b[0;34m\u001b[0m\u001b[0m\n\u001b[1;32m    185\u001b[0m         \u001b[0mH_tilde\u001b[0m \u001b[0;34m=\u001b[0m \u001b[0mtorch\u001b[0m\u001b[0;34m.\u001b[0m\u001b[0mcat\u001b[0m\u001b[0;34m(\u001b[0m\u001b[0;34m[\u001b[0m\u001b[0mX\u001b[0m\u001b[0;34m,\u001b[0m \u001b[0mH\u001b[0m \u001b[0;34m*\u001b[0m \u001b[0mR\u001b[0m\u001b[0;34m]\u001b[0m\u001b[0;34m,\u001b[0m \u001b[0mdim\u001b[0m\u001b[0;34m=\u001b[0m\u001b[0;36m1\u001b[0m\u001b[0;34m)\u001b[0m\u001b[0;34m\u001b[0m\u001b[0;34m\u001b[0m\u001b[0m\n\u001b[0;32m--> 186\u001b[0;31m         \u001b[0mH_tilde\u001b[0m \u001b[0;34m=\u001b[0m \u001b[0mself\u001b[0m\u001b[0;34m.\u001b[0m\u001b[0mconv_x_h\u001b[0m\u001b[0;34m(\u001b[0m\u001b[0mH_tilde\u001b[0m\u001b[0;34m,\u001b[0m \u001b[0medge_index\u001b[0m\u001b[0;34m,\u001b[0m \u001b[0medge_weight\u001b[0m\u001b[0;34m)\u001b[0m\u001b[0;34m\u001b[0m\u001b[0;34m\u001b[0m\u001b[0m\n\u001b[0m\u001b[1;32m    187\u001b[0m         \u001b[0mH_tilde\u001b[0m \u001b[0;34m=\u001b[0m \u001b[0mtorch\u001b[0m\u001b[0;34m.\u001b[0m\u001b[0mtanh\u001b[0m\u001b[0;34m(\u001b[0m\u001b[0mH_tilde\u001b[0m\u001b[0;34m)\u001b[0m\u001b[0;34m\u001b[0m\u001b[0;34m\u001b[0m\u001b[0m\n\u001b[1;32m    188\u001b[0m         \u001b[0;32mreturn\u001b[0m \u001b[0mH_tilde\u001b[0m\u001b[0;34m\u001b[0m\u001b[0;34m\u001b[0m\u001b[0m\n",
            "\u001b[0;32m/usr/local/lib/python3.12/dist-packages/torch/nn/modules/module.py\u001b[0m in \u001b[0;36m_wrapped_call_impl\u001b[0;34m(self, *args, **kwargs)\u001b[0m\n\u001b[1;32m   1771\u001b[0m             \u001b[0;32mreturn\u001b[0m \u001b[0mself\u001b[0m\u001b[0;34m.\u001b[0m\u001b[0m_compiled_call_impl\u001b[0m\u001b[0;34m(\u001b[0m\u001b[0;34m*\u001b[0m\u001b[0margs\u001b[0m\u001b[0;34m,\u001b[0m \u001b[0;34m**\u001b[0m\u001b[0mkwargs\u001b[0m\u001b[0;34m)\u001b[0m  \u001b[0;31m# type: ignore[misc]\u001b[0m\u001b[0;34m\u001b[0m\u001b[0;34m\u001b[0m\u001b[0m\n\u001b[1;32m   1772\u001b[0m         \u001b[0;32melse\u001b[0m\u001b[0;34m:\u001b[0m\u001b[0;34m\u001b[0m\u001b[0;34m\u001b[0m\u001b[0m\n\u001b[0;32m-> 1773\u001b[0;31m             \u001b[0;32mreturn\u001b[0m \u001b[0mself\u001b[0m\u001b[0;34m.\u001b[0m\u001b[0m_call_impl\u001b[0m\u001b[0;34m(\u001b[0m\u001b[0;34m*\u001b[0m\u001b[0margs\u001b[0m\u001b[0;34m,\u001b[0m \u001b[0;34m**\u001b[0m\u001b[0mkwargs\u001b[0m\u001b[0;34m)\u001b[0m\u001b[0;34m\u001b[0m\u001b[0;34m\u001b[0m\u001b[0m\n\u001b[0m\u001b[1;32m   1774\u001b[0m \u001b[0;34m\u001b[0m\u001b[0m\n\u001b[1;32m   1775\u001b[0m     \u001b[0;31m# torchrec tests the code consistency with the following code\u001b[0m\u001b[0;34m\u001b[0m\u001b[0;34m\u001b[0m\u001b[0m\n",
            "\u001b[0;32m/usr/local/lib/python3.12/dist-packages/torch/nn/modules/module.py\u001b[0m in \u001b[0;36m_call_impl\u001b[0;34m(self, *args, **kwargs)\u001b[0m\n\u001b[1;32m   1782\u001b[0m                 \u001b[0;32mor\u001b[0m \u001b[0m_global_backward_pre_hooks\u001b[0m \u001b[0;32mor\u001b[0m \u001b[0m_global_backward_hooks\u001b[0m\u001b[0;34m\u001b[0m\u001b[0;34m\u001b[0m\u001b[0m\n\u001b[1;32m   1783\u001b[0m                 or _global_forward_hooks or _global_forward_pre_hooks):\n\u001b[0;32m-> 1784\u001b[0;31m             \u001b[0;32mreturn\u001b[0m \u001b[0mforward_call\u001b[0m\u001b[0;34m(\u001b[0m\u001b[0;34m*\u001b[0m\u001b[0margs\u001b[0m\u001b[0;34m,\u001b[0m \u001b[0;34m**\u001b[0m\u001b[0mkwargs\u001b[0m\u001b[0;34m)\u001b[0m\u001b[0;34m\u001b[0m\u001b[0;34m\u001b[0m\u001b[0m\n\u001b[0m\u001b[1;32m   1785\u001b[0m \u001b[0;34m\u001b[0m\u001b[0m\n\u001b[1;32m   1786\u001b[0m         \u001b[0mresult\u001b[0m \u001b[0;34m=\u001b[0m \u001b[0;32mNone\u001b[0m\u001b[0;34m\u001b[0m\u001b[0;34m\u001b[0m\u001b[0m\n",
            "\u001b[0;32m/usr/local/lib/python3.12/dist-packages/torch_geometric_temporal/nn/recurrent/dcrnn.py\u001b[0m in \u001b[0;36mforward\u001b[0;34m(self, X, edge_index, edge_weight)\u001b[0m\n\u001b[1;32m     57\u001b[0m             \u001b[0;34m*\u001b[0m \u001b[0;34m**\u001b[0m\u001b[0mH\u001b[0m\u001b[0;34m**\u001b[0m \u001b[0;34m(\u001b[0m\u001b[0mPyTorch\u001b[0m \u001b[0mFloat\u001b[0m \u001b[0mTensor\u001b[0m\u001b[0;34m)\u001b[0m \u001b[0;34m-\u001b[0m \u001b[0mHidden\u001b[0m \u001b[0mstate\u001b[0m \u001b[0mmatrix\u001b[0m \u001b[0;32mfor\u001b[0m \u001b[0mall\u001b[0m \u001b[0mnodes\u001b[0m\u001b[0;34m.\u001b[0m\u001b[0;34m\u001b[0m\u001b[0;34m\u001b[0m\u001b[0m\n\u001b[1;32m     58\u001b[0m         \"\"\"\n\u001b[0;32m---> 59\u001b[0;31m         \u001b[0madj_mat\u001b[0m \u001b[0;34m=\u001b[0m \u001b[0mto_dense_adj\u001b[0m\u001b[0;34m(\u001b[0m\u001b[0medge_index\u001b[0m\u001b[0;34m,\u001b[0m \u001b[0medge_attr\u001b[0m\u001b[0;34m=\u001b[0m\u001b[0medge_weight\u001b[0m\u001b[0;34m)\u001b[0m\u001b[0;34m\u001b[0m\u001b[0;34m\u001b[0m\u001b[0m\n\u001b[0m\u001b[1;32m     60\u001b[0m         \u001b[0madj_mat\u001b[0m \u001b[0;34m=\u001b[0m \u001b[0madj_mat\u001b[0m\u001b[0;34m.\u001b[0m\u001b[0mreshape\u001b[0m\u001b[0;34m(\u001b[0m\u001b[0madj_mat\u001b[0m\u001b[0;34m.\u001b[0m\u001b[0msize\u001b[0m\u001b[0;34m(\u001b[0m\u001b[0;36m1\u001b[0m\u001b[0;34m)\u001b[0m\u001b[0;34m,\u001b[0m \u001b[0madj_mat\u001b[0m\u001b[0;34m.\u001b[0m\u001b[0msize\u001b[0m\u001b[0;34m(\u001b[0m\u001b[0;36m2\u001b[0m\u001b[0;34m)\u001b[0m\u001b[0;34m)\u001b[0m\u001b[0;34m\u001b[0m\u001b[0;34m\u001b[0m\u001b[0m\n\u001b[1;32m     61\u001b[0m         deg_out = torch.matmul(\n",
            "\u001b[0;32m/usr/local/lib/python3.12/dist-packages/torch_geometric/utils/_to_dense_adj.py\u001b[0m in \u001b[0;36mto_dense_adj\u001b[0;34m(edge_index, batch, edge_attr, max_num_nodes, batch_size)\u001b[0m\n\u001b[1;32m     91\u001b[0m \u001b[0;34m\u001b[0m\u001b[0m\n\u001b[1;32m     92\u001b[0m     \u001b[0msize\u001b[0m \u001b[0;34m=\u001b[0m \u001b[0;34m[\u001b[0m\u001b[0mbatch_size\u001b[0m\u001b[0;34m,\u001b[0m \u001b[0mmax_num_nodes\u001b[0m\u001b[0;34m,\u001b[0m \u001b[0mmax_num_nodes\u001b[0m\u001b[0;34m]\u001b[0m\u001b[0;34m\u001b[0m\u001b[0;34m\u001b[0m\u001b[0m\n\u001b[0;32m---> 93\u001b[0;31m     \u001b[0msize\u001b[0m \u001b[0;34m+=\u001b[0m \u001b[0mlist\u001b[0m\u001b[0;34m(\u001b[0m\u001b[0medge_attr\u001b[0m\u001b[0;34m.\u001b[0m\u001b[0msize\u001b[0m\u001b[0;34m(\u001b[0m\u001b[0;34m)\u001b[0m\u001b[0;34m)\u001b[0m\u001b[0;34m[\u001b[0m\u001b[0;36m1\u001b[0m\u001b[0;34m:\u001b[0m\u001b[0;34m]\u001b[0m\u001b[0;34m\u001b[0m\u001b[0;34m\u001b[0m\u001b[0m\n\u001b[0m\u001b[1;32m     94\u001b[0m     \u001b[0mflattened_size\u001b[0m \u001b[0;34m=\u001b[0m \u001b[0mbatch_size\u001b[0m \u001b[0;34m*\u001b[0m \u001b[0mmax_num_nodes\u001b[0m \u001b[0;34m*\u001b[0m \u001b[0mmax_num_nodes\u001b[0m\u001b[0;34m\u001b[0m\u001b[0;34m\u001b[0m\u001b[0m\n\u001b[1;32m     95\u001b[0m \u001b[0;34m\u001b[0m\u001b[0m\n",
            "\u001b[0;31mKeyboardInterrupt\u001b[0m: "
          ]
        }
      ]
    },
    {
      "cell_type": "markdown",
      "id": "85c75a2e",
      "metadata": {
        "id": "85c75a2e"
      },
      "source": [
        "\n",
        "## iii. Test your model on the test dataset and evaluate it for MSE."
      ]
    },
    {
      "cell_type": "code",
      "source": [
        "model.eval()\n",
        "cost = 0\n",
        "for time, snapshot in enumerate(test_dataset):\n",
        "    y_hat = model(snapshot.x, snapshot.edge_index, snapshot.edge_attr)\n",
        "    cost = cost + torch.mean((y_hat.squeeze() - snapshot.y)**2)\n",
        "cost = cost / (time+1)\n",
        "cost = cost.item()\n",
        "print(\"MSE: {:.4f}\".format(cost))"
      ],
      "metadata": {
        "id": "mOci77OueV3v"
      },
      "id": "mOci77OueV3v",
      "execution_count": null,
      "outputs": []
    },
    {
      "cell_type": "markdown",
      "source": [
        "Since our target here is a continous variable and we are doing a Regression (Forecasting the Chickenpox counts based on previous counts), we use MSE (or RMSE), which sums up the squared differnece between the truth and the predicted value. Since it squares the errors, big differneces are stongly penalized but it is also sensitive to outliers.\n",
        "\n",
        "Beacuse we are doing a regression task its better to use MSE or MAE. If we would do a classification task, metrics such as f1-score or accuracy or AUROC could be used."
      ],
      "metadata": {
        "id": "onJR2ZCbg8Mu"
      },
      "id": "onJR2ZCbg8Mu"
    },
    {
      "cell_type": "markdown",
      "id": "0137770b",
      "metadata": {
        "id": "0137770b"
      },
      "source": [
        "# Task 4: Set up a hyperparameter optimization pipeline with nested 5-fold cross-validation."
      ]
    },
    {
      "cell_type": "markdown",
      "id": "84f4ef05",
      "metadata": {
        "id": "84f4ef05"
      },
      "source": [
        "## i. Familiarize yourself with the hyperparameter optimization package optuna (https://optuna.org/ ).\n"
      ]
    },
    {
      "cell_type": "code",
      "source": [
        "class RGCNoptimization:\n",
        "    def __init__(self, train_dataset, val_dataset, input_feature=4, study_name=\"GCN_optimization\"):\n",
        "        self.data = data\n",
        "        self.train_dataset = train_dataset\n",
        "        self.val_dataset = val_dataset\n",
        "        self.input_feature = input_feature\n",
        "\n",
        "        self.study_name = study_name\n",
        "        self.storage_name = \"sqlite:///{}.db\".format(self.study_name)\n",
        "        self.study = optuna.create_study(study_name=self.study_name, storage=self.storage_name, load_if_exists=True)\n",
        "\n",
        "    def objective(self, trial):\n",
        "        # Define the hyperparameters to optimize\n",
        "\n",
        "        out_channels = trial.suggest_int(\"out_channels\", 16, 128) # Changed from suggest_float to suggest_int\n",
        "        K = trial.suggest_int(\"K\", 1, 5)\n",
        "        LR = trial.suggest_float(\"LR\", 0.001, 0.1)\n",
        "\n",
        "        # Create the GCN model with the suggested hyperparameters\n",
        "        model = RecurrentGCN(self.input_feature, out_channels, K)\n",
        "\n",
        "        # Train the model\n",
        "        optimizer = torch.optim.Adam(model.parameters(), lr=LR, weight_decay=5e-4)\n",
        "        criterion = torch.nn.MSELoss()\n",
        "\n",
        "        # Training loop\n",
        "        epochs = 100\n",
        "        model.train()\n",
        "        for epoch in range(1, epochs + 1):\n",
        "          loss = 0\n",
        "          for time, snapshot in enumerate(self.train_dataset):\n",
        "            optimizer.zero_grad()\n",
        "            out = model(snapshot.x, snapshot.edge_index, snapshot.edge_attr)  # forward pass\n",
        "            loss = loss + criterion(out, snapshot.y)\n",
        "\n",
        "          loss = loss / (time+1)\n",
        "          loss.backward()\n",
        "          optimizer.step()\n",
        "\n",
        "\n",
        "        # Validate the model\n",
        "        model.eval()\n",
        "        with torch.no_grad():\n",
        "          loss = 0\n",
        "          for time, snapshot in enumerate(self.val_dataset):\n",
        "            optimizer.zero_grad()\n",
        "            out = model(snapshot.x, snapshot.edge_index, snapshot.edge_attr)  # forward pass\n",
        "            loss = loss + criterion(out, snapshot.y)\n",
        "          loss = loss / (time+1)\n",
        "\n",
        "        return loss.item()"
      ],
      "metadata": {
        "id": "cJhJb1TB52zt"
      },
      "id": "cJhJb1TB52zt",
      "execution_count": null,
      "outputs": []
    },
    {
      "cell_type": "markdown",
      "id": "c6364058",
      "metadata": {
        "id": "c6364058"
      },
      "source": [
        "## ii. Integrate the logging package mlflow (https://mlflow.org/) to log your metrics.\n"
      ]
    },
    {
      "cell_type": "markdown",
      "id": "651142fc",
      "metadata": {
        "id": "651142fc"
      },
      "source": [
        "## iii. Train and test your models and report the evaluation metrics with mean and standard deviation for the nested CV."
      ]
    },
    {
      "cell_type": "code",
      "source": [
        "!pip install optuna"
      ],
      "metadata": {
        "id": "EooNX2ccjWxG"
      },
      "id": "EooNX2ccjWxG",
      "execution_count": null,
      "outputs": []
    },
    {
      "cell_type": "code",
      "source": [
        "!pip install wandb -q"
      ],
      "metadata": {
        "id": "RfNABaVjk_Ic"
      },
      "id": "RfNABaVjk_Ic",
      "execution_count": null,
      "outputs": []
    },
    {
      "cell_type": "code",
      "source": [
        "import optuna"
      ],
      "metadata": {
        "id": "mSsXy9WUjkSK"
      },
      "id": "mSsXy9WUjkSK",
      "execution_count": null,
      "outputs": []
    },
    {
      "cell_type": "code",
      "source": [
        " #Ignore excessive warnings\n",
        "import logging\n",
        "logging.propagate = False\n",
        "logging.getLogger().setLevel(logging.ERROR)\n",
        "\n",
        "# WandB – Import the wandb library\n",
        "import wandb"
      ],
      "metadata": {
        "id": "N-BlED8TlELG"
      },
      "id": "N-BlED8TlELG",
      "execution_count": null,
      "outputs": []
    },
    {
      "cell_type": "code",
      "source": [
        "!wandb login"
      ],
      "metadata": {
        "id": "ujs4HhPklHxU"
      },
      "id": "ujs4HhPklHxU",
      "execution_count": null,
      "outputs": []
    },
    {
      "cell_type": "code",
      "source": [
        "from sklearn.model_selection import TimeSeriesSplit"
      ],
      "metadata": {
        "id": "TGEvMPEBndoX"
      },
      "id": "TGEvMPEBndoX",
      "execution_count": null,
      "outputs": []
    },
    {
      "cell_type": "code",
      "source": [
        "dataset.snapshot_count"
      ],
      "metadata": {
        "id": "vIKOdpKb3Wjx"
      },
      "id": "vIKOdpKb3Wjx",
      "execution_count": null,
      "outputs": []
    },
    {
      "cell_type": "code",
      "source": [
        "1 - 10/517"
      ],
      "metadata": {
        "id": "QkTkDVeo3a_Y"
      },
      "id": "QkTkDVeo3a_Y",
      "execution_count": null,
      "outputs": []
    },
    {
      "cell_type": "code",
      "source": [
        "# getting last 10 Weeks as Model-test set which will be indepoendend of our training. Its needed to compare the models in the end.\n",
        "data, model_test = temporal_signal_split(dataset, train_ratio= 1-10/517)"
      ],
      "metadata": {
        "id": "VBWkzyfA292x"
      },
      "id": "VBWkzyfA292x",
      "execution_count": null,
      "outputs": []
    },
    {
      "cell_type": "code",
      "source": [
        "data.snapshot_count, model_test.snapshot_count"
      ],
      "metadata": {
        "id": "VjDN8axa3jEj"
      },
      "id": "VjDN8axa3jEj",
      "execution_count": null,
      "outputs": []
    },
    {
      "cell_type": "code",
      "source": [
        "dataset_lst = list(data)\n",
        "n_splits_outer = 5\n",
        "tscv = TimeSeriesSplit(n_splits=3)\n",
        "\n",
        "idx = np.arange(len(dataset_lst))\n",
        "for train_val_idx, test_idx in tscv.split(idx):\n",
        "  train_val_mask = np.isin(idx, train_val_idx)\n",
        "  test_mask = np.isin(idx, test_idx)\n",
        "\n",
        "  train_val_dataset_lst = [i for idx, i in enumerate(dataset_lst) if train_val_mask[idx]]\n",
        "  test_dataset_lst = [i for idx, i in enumerate(dataset_lst) if test_mask[idx]]\n",
        "\n",
        "  ## Inner Loop\n",
        "  tscv_inner = TimeSeriesSplit(n_splits=3)\n",
        "  idx_inner = np.arange(len(train_val_dataset_lst))\n",
        "\n",
        "\n",
        "  for train_idx, val_idx in tscv_inner.split(idx_inner):\n",
        "    train_mask = np.isin(idx_inner, train_idx)\n",
        "    val_mask = np.isin(idx_inner, val_idx)\n",
        "\n",
        "    train_dataset_lst = [i for idx, i in enumerate(train_val_dataset_lst) if train_mask[idx]]\n",
        "    val_dataset_lst = [i for idx, i in enumerate(train_val_dataset_lst) if val_mask[idx]]\n",
        "\n",
        "\n",
        "    # Optimize/Train model with optuna\n",
        "    gcn_op = RGCNoptimization(train_dataset_lst, val_dataset_lst, input_feature=4)\n",
        "    study = gcn_op.study\n",
        "    study.optimize(gcn_op.objective, n_trials=10)\n",
        "    best_params = study.best_params\n",
        "\n",
        "  ## End Inner Loop\n",
        "\n",
        "\n",
        "  # Train the best param model\n",
        "  model = RecurrentGCN(input_feature=4, out_channels=best_params[\"out_channels\"], K=best_params[\"K\"])\n",
        "  optimizer = torch.optim.Adam(model.parameters(), lr=0.01)\n",
        "  criterion = torch.nn.MSELoss()\n",
        "\n",
        "  # Training loop\n",
        "\n",
        "  epochs = 100\n",
        "  model.train()\n",
        "  for epoch in range(1, epochs + 1):\n",
        "    loss = 0\n",
        "    for time, snapshot in enumerate(train_val_dataset_lst):\n",
        "      optimizer.zero_grad()\n",
        "      out = model(snapshot.x, snapshot.edge_index, snapshot.edge_attr)  # forward pass\n",
        "      loss = loss + criterion(out, snapshot.y)\n",
        "\n",
        "    loss = loss / (time+1)\n",
        "    loss.backward()\n",
        "    optimizer.step()\n",
        "\n",
        "\n",
        "  # Validate the model\n",
        "  model.eval()\n",
        "  with torch.no_grad():\n",
        "    loss = 0\n",
        "    for time, snapshot in enumerate(test_dataset_lst):\n",
        "      optimizer.zero_grad()\n",
        "      out = model(snapshot.x, snapshot.edge_index, snapshot.edge_attr)  # forward pass\n",
        "      loss = loss + criterion(out, snapshot.y)\n",
        "    loss = loss / (time+1)"
      ],
      "metadata": {
        "id": "i181qey4lP5X"
      },
      "id": "i181qey4lP5X",
      "execution_count": null,
      "outputs": []
    },
    {
      "cell_type": "markdown",
      "id": "90338265",
      "metadata": {
        "id": "90338265"
      },
      "source": [
        "# Task 5: Test implementations of 3 different models (such as GConvLSTM, GConvGRU, STGCN, DCRNN) and find out the best performing model\n"
      ]
    },
    {
      "cell_type": "code",
      "source": [
        "\n",
        "import torch\n",
        "import torch.nn.functional as F\n",
        "from torch import nn\n",
        "from tqdm import tqdm\n",
        "from torch_geometric_temporal.dataset import ChickenpoxDatasetLoader\n",
        "from torch_geometric_temporal.nn.recurrent import DCRNN\n",
        "\n",
        "torch.manual_seed(1)\n",
        "\n",
        "lags = 8\n",
        "loader = ChickenpoxDatasetLoader()\n",
        "dataset = loader.get_dataset(lags=lags)   # reload for lags equal to 8\n",
        "snapshots = [s for s in dataset]\n",
        "#print(snapshots)"
      ],
      "metadata": {
        "id": "5JmyIgoUnltQ"
      },
      "id": "5JmyIgoUnltQ",
      "execution_count": 25,
      "outputs": []
    },
    {
      "cell_type": "code",
      "source": [
        "split = int(0.9806 * len(snapshots))\n",
        "train_snaps = snapshots[:split]\n",
        "test_snaps  = snapshots[split:]\n",
        "print(len(train_snaps), len(test_snaps))"
      ],
      "metadata": {
        "colab": {
          "base_uri": "https://localhost:8080/"
        },
        "id": "A45oY3dBnx45",
        "outputId": "368f2aa2-4aac-401f-dad4-cc7849ab99c1"
      },
      "id": "A45oY3dBnx45",
      "execution_count": 26,
      "outputs": [
        {
          "output_type": "stream",
          "name": "stdout",
          "text": [
            "503 10\n"
          ]
        }
      ]
    },
    {
      "cell_type": "code",
      "source": [
        "# First implementing our Model in the same way as described in the Paper:\n",
        "\n",
        "import torch\n",
        "import torch.nn.functional as F\n",
        "from torch_geometric_temporal.nn.recurrent import DCRNN, GConvLSTM, GConvGRU\n",
        "\n",
        "torch.manual_seed(1)\n",
        "snapshots = [s for s in dataset]          # list of temporal snapshots\n",
        "\n",
        "split = int(0.9806 * len(snapshots))\n",
        "train_snaps = snapshots[:split]\n",
        "test_snaps  = snapshots[split:]\n",
        "\n",
        "\n",
        "class RecurrentGCN(torch.nn.Module):\n",
        "    def __init__(self, node_features= 8, hidden_channels = 32):\n",
        "        super(RecurrentGCN, self).__init__()\n",
        "        # DCRNN: input_dim -> hidden_dim -> output_dim\n",
        "        self.recurrent = DCRNN(in_channels=node_features, out_channels=hidden_channels, K=1)\n",
        "        self.linear = torch.nn.Linear(hidden_channels, 1)\n",
        "\n",
        "    def forward(self, x, edge_index, edge_weight):\n",
        "        h = self.recurrent(x, edge_index, edge_weight)\n",
        "        h = F.relu(h)\n",
        "        h = self.linear(h)\n",
        "        return h.squeeze()\n",
        "\n",
        "\n",
        "class RecurrentGCN_GConvLSTM(torch.nn.Module):\n",
        "    def __init__(self, node_features= 8, hidden_channels = 32):\n",
        "        super(RecurrentGCN_GConvLSTM, self).__init__()\n",
        "        self.recurrent = GConvLSTM(in_channels=node_features, out_channels=hidden_channels, K=1)\n",
        "        self.linear = torch.nn.Linear(hidden_channels, 1)\n",
        "\n",
        "    def forward(self, x, edge_index, edge_weight):\n",
        "        h,_ = self.recurrent(x, edge_index, edge_weight)\n",
        "\n",
        "        h = F.relu(h)\n",
        "        h = self.linear(h)\n",
        "        return h.squeeze()\n",
        "\n",
        "\n",
        "class RecurrentGCN_GConvGRU(torch.nn.Module):\n",
        "    def __init__(self, node_features= 8, hidden_channels = 32):\n",
        "        super(RecurrentGCN_GConvGRU, self).__init__()\n",
        "        self.recurrent = GConvGRU(in_channels=node_features, out_channels=hidden_channels, K=1)\n",
        "        self.linear = torch.nn.Linear(hidden_channels, 1)\n",
        "\n",
        "    def forward(self, x, edge_index, edge_weight):\n",
        "        h = self.recurrent(x, edge_index, edge_weight)\n",
        "        h = F.relu(h)\n",
        "        h = self.linear(h)\n",
        "        return h.squeeze()"
      ],
      "metadata": {
        "id": "Fqli9Gt-HALU"
      },
      "id": "Fqli9Gt-HALU",
      "execution_count": 27,
      "outputs": []
    },
    {
      "cell_type": "code",
      "source": [
        "train_snaps[0].x.shape[1]"
      ],
      "metadata": {
        "id": "tQf4EYrsEh79",
        "outputId": "e9d917bf-5924-4a7b-85d9-9d0e04535c68",
        "colab": {
          "base_uri": "https://localhost:8080/"
        }
      },
      "id": "tQf4EYrsEh79",
      "execution_count": 28,
      "outputs": [
        {
          "output_type": "execute_result",
          "data": {
            "text/plain": [
              "8"
            ]
          },
          "metadata": {},
          "execution_count": 28
        }
      ]
    },
    {
      "cell_type": "code",
      "source": [
        "out = model_DCRNN(train_snaps[0].x,\n",
        "                  train_snaps[0].edge_index,\n",
        "                  train_snaps[0].edge_attr)\n",
        "print(train_snaps[0].x.shape, out.shape)"
      ],
      "metadata": {
        "id": "wx2zXp4OGLTy",
        "outputId": "ae61a71f-33cd-4937-da2d-7001bdc317b7",
        "colab": {
          "base_uri": "https://localhost:8080/",
          "height": 193
        }
      },
      "id": "wx2zXp4OGLTy",
      "execution_count": 29,
      "outputs": [
        {
          "output_type": "error",
          "ename": "NameError",
          "evalue": "name 'model_DCRNN' is not defined",
          "traceback": [
            "\u001b[0;31m---------------------------------------------------------------------------\u001b[0m",
            "\u001b[0;31mNameError\u001b[0m                                 Traceback (most recent call last)",
            "\u001b[0;32m/tmp/ipython-input-557098257.py\u001b[0m in \u001b[0;36m<cell line: 0>\u001b[0;34m()\u001b[0m\n\u001b[0;32m----> 1\u001b[0;31m out = model_DCRNN(train_snaps[0].x,\n\u001b[0m\u001b[1;32m      2\u001b[0m                   \u001b[0mtrain_snaps\u001b[0m\u001b[0;34m[\u001b[0m\u001b[0;36m0\u001b[0m\u001b[0;34m]\u001b[0m\u001b[0;34m.\u001b[0m\u001b[0medge_index\u001b[0m\u001b[0;34m,\u001b[0m\u001b[0;34m\u001b[0m\u001b[0;34m\u001b[0m\u001b[0m\n\u001b[1;32m      3\u001b[0m                   train_snaps[0].edge_attr)\n\u001b[1;32m      4\u001b[0m \u001b[0mprint\u001b[0m\u001b[0;34m(\u001b[0m\u001b[0mtrain_snaps\u001b[0m\u001b[0;34m[\u001b[0m\u001b[0;36m0\u001b[0m\u001b[0;34m]\u001b[0m\u001b[0;34m.\u001b[0m\u001b[0mx\u001b[0m\u001b[0;34m.\u001b[0m\u001b[0mshape\u001b[0m\u001b[0;34m,\u001b[0m \u001b[0mout\u001b[0m\u001b[0;34m.\u001b[0m\u001b[0mshape\u001b[0m\u001b[0;34m)\u001b[0m\u001b[0;34m\u001b[0m\u001b[0;34m\u001b[0m\u001b[0m\n",
            "\u001b[0;31mNameError\u001b[0m: name 'model_DCRNN' is not defined"
          ]
        }
      ]
    },
    {
      "cell_type": "code",
      "source": [
        "model_DCRNN = RecurrentGCN(node_features=8, hidden_channels=32)\n",
        "optimizer = torch.optim.Adam(model_DCRNN.parameters(), lr = 0.01)\n",
        "\n",
        "# training the model\n",
        "model_DCRNN.train()\n",
        "\n",
        "for epoch in tqdm(range(200)):\n",
        "    cost = 0\n",
        "    for time, snapshot in enumerate(train_snaps):\n",
        "        y_hat = model_DCRNN(snapshot.x, snapshot.edge_index, snapshot.edge_attr)\n",
        "        cost = cost + torch.mean((y_hat.squeeze() - snapshot.y)**2)\n",
        "    cost = cost / (time+1)\n",
        "    cost.backward()\n",
        "    optimizer.step()\n",
        "    optimizer.zero_grad()"
      ],
      "metadata": {
        "id": "-DE3WB_IHBxU",
        "colab": {
          "base_uri": "https://localhost:8080/"
        },
        "outputId": "70058fd3-c9af-40f8-bd40-4e293ecc2b43"
      },
      "id": "-DE3WB_IHBxU",
      "execution_count": 30,
      "outputs": [
        {
          "output_type": "stream",
          "name": "stderr",
          "text": [
            "100%|██████████| 200/200 [04:43<00:00,  1.42s/it]\n"
          ]
        }
      ]
    },
    {
      "cell_type": "code",
      "source": [
        "model_GConvGRU= RecurrentGCN_GConvGRU(node_features=8, hidden_channels=32)\n",
        "\n",
        "# training the model\n",
        "model_GConvGRU.train()\n",
        "\n",
        "for epoch in tqdm(range(200)):\n",
        "    cost = 0\n",
        "    for time, snapshot in enumerate(train_snaps):\n",
        "        y_hat = model_GConvGRU(snapshot.x, snapshot.edge_index, snapshot.edge_attr)\n",
        "        cost = cost + torch.mean((y_hat.squeeze() - snapshot.y)**2)\n",
        "    cost = cost / (time+1)\n",
        "    cost.backward()\n",
        "    optimizer.step()\n",
        "    optimizer.zero_grad()"
      ],
      "metadata": {
        "colab": {
          "base_uri": "https://localhost:8080/"
        },
        "id": "wiJoryX-0rFF",
        "outputId": "17e429d5-cfd2-4966-8a5b-dcff238f6fea"
      },
      "id": "wiJoryX-0rFF",
      "execution_count": 31,
      "outputs": [
        {
          "output_type": "stream",
          "name": "stderr",
          "text": [
            "100%|██████████| 200/200 [07:12<00:00,  2.16s/it]\n"
          ]
        }
      ]
    },
    {
      "cell_type": "code",
      "source": [
        "model_GConvLSTM= RecurrentGCN_GConvLSTM(node_features=8, hidden_channels=32)\n",
        "\n",
        "# training the model\n",
        "model_GConvLSTM.train()\n",
        "\n",
        "for epoch in tqdm(range(200)):\n",
        "    cost = 0\n",
        "    for time, snapshot in enumerate(train_snaps):\n",
        "        y_hat = model_GConvLSTM(snapshot.x, snapshot.edge_index, snapshot.edge_attr)\n",
        "        cost = cost + torch.mean((y_hat.squeeze() - snapshot.y)**2)\n",
        "    cost = cost / (time+1)\n",
        "    cost.backward()\n",
        "    optimizer.step()\n",
        "    optimizer.zero_grad()"
      ],
      "metadata": {
        "colab": {
          "base_uri": "https://localhost:8080/"
        },
        "id": "4XtE_fEX08Jx",
        "outputId": "2110355d-e641-4a74-e82c-f59f19bcb9df"
      },
      "id": "4XtE_fEX08Jx",
      "execution_count": 32,
      "outputs": [
        {
          "output_type": "stream",
          "name": "stderr",
          "text": [
            "100%|██████████| 200/200 [09:36<00:00,  2.88s/it]\n"
          ]
        }
      ]
    },
    {
      "cell_type": "code",
      "source": [
        "\n",
        "@torch.no_grad()\n",
        "def eval_horizon(model, snaps, horizon=10):\n",
        "    model.eval()\n",
        "    mse_sum, count = 0.0, 0\n",
        "\n",
        "    # We need at least `horizon` steps ahead available in the split\n",
        "    # If snaps cover indices [0..Ttest-1], last valid start is Ttest - horizon\n",
        "\n",
        "    for t in range(len(snaps)):\n",
        "        # fixed graph structure for this dataset; take from start t\n",
        "        base = snaps[t]\n",
        "        ei = base.edge_index\n",
        "        ew = None if base.edge_attr is None else base.edge_attr\n",
        "\n",
        "        # initialize lag window with actual lags at time t\n",
        "        x = base.x.clone()  # (num_nodes, lags)\n",
        "\n",
        "        # roll out predictions for h=1..horizon\n",
        "        for h in range(1, horizon + 1):\n",
        "            y_pred = model(x, ei, ew)  # (num_nodes,)\n",
        "            if h < horizon:\n",
        "                # shift lags left and append current prediction\n",
        "                x = torch.cat([x[:, 1:], y_pred.unsqueeze(-1)], dim=1)\n",
        "\n",
        "        # ground truth at t + horizon (the value we aimed to predict)\n",
        "        y_true = snaps[t].y.squeeze(-1)  # t+horizon corresponds to next target after lags\n",
        "\n",
        "        mse = F.mse_loss(y_pred, y_true).item()\n",
        "        mse_sum += mse\n",
        "        count += 1\n",
        "\n",
        "    return mse_sum / count\n",
        "\n",
        "horizon_10_mse_DCRNN = eval_horizon(model_DCRNN, test_snaps, horizon=10)\n",
        "horizon_10_mse_GConvGRU = eval_horizon(model_GConvGRU, test_snaps, horizon=10)\n",
        "horizon_10_mse_GConvLSTM = eval_horizon(model_GConvLSTM, test_snaps, horizon=10)\n",
        "\n",
        "print(f\"10-week horizon MSE DCRNN: {horizon_10_mse_DCRNN:.4f}\")\n",
        "print(f\"10-week horizon MSE GConvGRU: {horizon_10_mse_GConvGRU:.4f}\")\n",
        "print(f\"10-week horizon MSE GConvLSTM: {horizon_10_mse_GConvLSTM:.4f}\")\n",
        "\n"
      ],
      "metadata": {
        "colab": {
          "base_uri": "https://localhost:8080/"
        },
        "id": "5RVIMzr1xhF2",
        "outputId": "cc2a9437-c250-4188-8d39-769528031e36"
      },
      "id": "5RVIMzr1xhF2",
      "execution_count": 46,
      "outputs": [
        {
          "output_type": "stream",
          "name": "stdout",
          "text": [
            "10-week horizon MSE DCRNN: 0.7838\n",
            "10-week horizon MSE GConvGRU: 0.7584\n",
            "10-week horizon MSE GConvLSTM: 0.7736\n"
          ]
        }
      ]
    },
    {
      "cell_type": "markdown",
      "id": "52968a38",
      "metadata": {
        "id": "52968a38"
      },
      "source": [
        "# Task 6: Compare your results with the following study: https://arxiv.org/abs/2102.08100"
      ]
    },
    {
      "cell_type": "markdown",
      "source": [
        "Compared to the results with the Models from the study, our models achieved a slightly worse MSE averaged over a ten week horizon"
      ],
      "metadata": {
        "id": "5lV7lLAp7uRM"
      },
      "id": "5lV7lLAp7uRM"
    }
  ],
  "metadata": {
    "kernelspec": {
      "display_name": "Python 3",
      "name": "python3"
    },
    "language_info": {
      "name": "python",
      "version": "3.12.8"
    },
    "colab": {
      "provenance": [],
      "include_colab_link": true
    }
  },
  "nbformat": 4,
  "nbformat_minor": 5
}