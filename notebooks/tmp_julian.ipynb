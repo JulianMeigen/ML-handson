{
 "cells": [
  {
   "cell_type": "markdown",
   "id": "6628520d",
   "metadata": {},
   "source": [
    "# Assignment Day 8\n",
    "\n",
    "## Team members:\n",
    "- Samuel Nebgen s6sanebg@uni-bonn.de\n",
    "- Muhammad Humza Arain s27marai@uni-bonn.de\n",
    "- Julian Meigen s82jmeig@uni-bonn.de\n",
    "\n",
    "## 17.09.2025\n",
    "\n",
    "Contributions were made by all team members in around the same amount, either based on discussions or coding."
   ]
  },
  {
   "cell_type": "markdown",
   "id": "503ea462",
   "metadata": {},
   "source": [
    "# Task 1: Understand the dataset"
   ]
  },
  {
   "cell_type": "markdown",
   "id": "c002fcff",
   "metadata": {},
   "source": [
    "## a) Load the dataset Hungarian Chickenpox"
   ]
  },
  {
   "cell_type": "code",
   "execution_count": 1,
   "id": "2c678dec",
   "metadata": {},
   "outputs": [],
   "source": [
    "import numpy as np\n",
    "import pandas as pd\n",
    "import matplotlib.pyplot as plt\n",
    "import seaborn as sns\n",
    "import os\n"
   ]
  },
  {
   "cell_type": "code",
   "execution_count": 16,
   "id": "349194da",
   "metadata": {},
   "outputs": [],
   "source": [
    "path_time_series = os.path.join(\"..\", \"data\", \"raw\", \"hungary_chickenpox.csv\")\n",
    "path_graph = os.path.join(\"..\", \"data\", \"raw\", \"hungary_county_edges.csv\")\n",
    "\n",
    "df_time = pd.read_csv(path_time_series, index_col=0, )\n",
    "df_time.index = pd.to_datetime(df_time.index, format=\"%d/%m/%Y\")"
   ]
  },
  {
   "cell_type": "code",
   "execution_count": 18,
   "id": "35942c08",
   "metadata": {},
   "outputs": [
    {
     "data": {
      "text/html": [
       "<div>\n",
       "<style scoped>\n",
       "    .dataframe tbody tr th:only-of-type {\n",
       "        vertical-align: middle;\n",
       "    }\n",
       "\n",
       "    .dataframe tbody tr th {\n",
       "        vertical-align: top;\n",
       "    }\n",
       "\n",
       "    .dataframe thead th {\n",
       "        text-align: right;\n",
       "    }\n",
       "</style>\n",
       "<table border=\"1\" class=\"dataframe\">\n",
       "  <thead>\n",
       "    <tr style=\"text-align: right;\">\n",
       "      <th></th>\n",
       "      <th>BUDAPEST</th>\n",
       "      <th>BARANYA</th>\n",
       "      <th>BACS</th>\n",
       "      <th>BEKES</th>\n",
       "      <th>BORSOD</th>\n",
       "      <th>CSONGRAD</th>\n",
       "      <th>FEJER</th>\n",
       "      <th>GYOR</th>\n",
       "      <th>HAJDU</th>\n",
       "      <th>HEVES</th>\n",
       "      <th>JASZ</th>\n",
       "      <th>KOMAROM</th>\n",
       "      <th>NOGRAD</th>\n",
       "      <th>PEST</th>\n",
       "      <th>SOMOGY</th>\n",
       "      <th>SZABOLCS</th>\n",
       "      <th>TOLNA</th>\n",
       "      <th>VAS</th>\n",
       "      <th>VESZPREM</th>\n",
       "      <th>ZALA</th>\n",
       "    </tr>\n",
       "    <tr>\n",
       "      <th>Date</th>\n",
       "      <th></th>\n",
       "      <th></th>\n",
       "      <th></th>\n",
       "      <th></th>\n",
       "      <th></th>\n",
       "      <th></th>\n",
       "      <th></th>\n",
       "      <th></th>\n",
       "      <th></th>\n",
       "      <th></th>\n",
       "      <th></th>\n",
       "      <th></th>\n",
       "      <th></th>\n",
       "      <th></th>\n",
       "      <th></th>\n",
       "      <th></th>\n",
       "      <th></th>\n",
       "      <th></th>\n",
       "      <th></th>\n",
       "      <th></th>\n",
       "    </tr>\n",
       "  </thead>\n",
       "  <tbody>\n",
       "    <tr>\n",
       "      <th>2005-01-03</th>\n",
       "      <td>168</td>\n",
       "      <td>79</td>\n",
       "      <td>30</td>\n",
       "      <td>173</td>\n",
       "      <td>169</td>\n",
       "      <td>42</td>\n",
       "      <td>136</td>\n",
       "      <td>120</td>\n",
       "      <td>162</td>\n",
       "      <td>36</td>\n",
       "      <td>130</td>\n",
       "      <td>57</td>\n",
       "      <td>2</td>\n",
       "      <td>178</td>\n",
       "      <td>66</td>\n",
       "      <td>64</td>\n",
       "      <td>11</td>\n",
       "      <td>29</td>\n",
       "      <td>87</td>\n",
       "      <td>68</td>\n",
       "    </tr>\n",
       "    <tr>\n",
       "      <th>2005-01-10</th>\n",
       "      <td>157</td>\n",
       "      <td>60</td>\n",
       "      <td>30</td>\n",
       "      <td>92</td>\n",
       "      <td>200</td>\n",
       "      <td>53</td>\n",
       "      <td>51</td>\n",
       "      <td>70</td>\n",
       "      <td>84</td>\n",
       "      <td>28</td>\n",
       "      <td>80</td>\n",
       "      <td>50</td>\n",
       "      <td>29</td>\n",
       "      <td>141</td>\n",
       "      <td>48</td>\n",
       "      <td>29</td>\n",
       "      <td>58</td>\n",
       "      <td>53</td>\n",
       "      <td>68</td>\n",
       "      <td>26</td>\n",
       "    </tr>\n",
       "    <tr>\n",
       "      <th>2005-01-17</th>\n",
       "      <td>96</td>\n",
       "      <td>44</td>\n",
       "      <td>31</td>\n",
       "      <td>86</td>\n",
       "      <td>93</td>\n",
       "      <td>30</td>\n",
       "      <td>93</td>\n",
       "      <td>84</td>\n",
       "      <td>191</td>\n",
       "      <td>51</td>\n",
       "      <td>64</td>\n",
       "      <td>46</td>\n",
       "      <td>4</td>\n",
       "      <td>157</td>\n",
       "      <td>33</td>\n",
       "      <td>33</td>\n",
       "      <td>24</td>\n",
       "      <td>18</td>\n",
       "      <td>62</td>\n",
       "      <td>44</td>\n",
       "    </tr>\n",
       "    <tr>\n",
       "      <th>2005-01-24</th>\n",
       "      <td>163</td>\n",
       "      <td>49</td>\n",
       "      <td>43</td>\n",
       "      <td>126</td>\n",
       "      <td>46</td>\n",
       "      <td>39</td>\n",
       "      <td>52</td>\n",
       "      <td>114</td>\n",
       "      <td>107</td>\n",
       "      <td>42</td>\n",
       "      <td>63</td>\n",
       "      <td>54</td>\n",
       "      <td>14</td>\n",
       "      <td>107</td>\n",
       "      <td>66</td>\n",
       "      <td>50</td>\n",
       "      <td>25</td>\n",
       "      <td>21</td>\n",
       "      <td>43</td>\n",
       "      <td>31</td>\n",
       "    </tr>\n",
       "    <tr>\n",
       "      <th>2005-01-31</th>\n",
       "      <td>122</td>\n",
       "      <td>78</td>\n",
       "      <td>53</td>\n",
       "      <td>87</td>\n",
       "      <td>103</td>\n",
       "      <td>34</td>\n",
       "      <td>95</td>\n",
       "      <td>131</td>\n",
       "      <td>172</td>\n",
       "      <td>40</td>\n",
       "      <td>61</td>\n",
       "      <td>49</td>\n",
       "      <td>11</td>\n",
       "      <td>124</td>\n",
       "      <td>63</td>\n",
       "      <td>56</td>\n",
       "      <td>7</td>\n",
       "      <td>47</td>\n",
       "      <td>85</td>\n",
       "      <td>60</td>\n",
       "    </tr>\n",
       "  </tbody>\n",
       "</table>\n",
       "</div>"
      ],
      "text/plain": [
       "            BUDAPEST  BARANYA  BACS  BEKES  BORSOD  CSONGRAD  FEJER  GYOR  \\\n",
       "Date                                                                        \n",
       "2005-01-03       168       79    30    173     169        42    136   120   \n",
       "2005-01-10       157       60    30     92     200        53     51    70   \n",
       "2005-01-17        96       44    31     86      93        30     93    84   \n",
       "2005-01-24       163       49    43    126      46        39     52   114   \n",
       "2005-01-31       122       78    53     87     103        34     95   131   \n",
       "\n",
       "            HAJDU  HEVES  JASZ  KOMAROM  NOGRAD  PEST  SOMOGY  SZABOLCS  \\\n",
       "Date                                                                      \n",
       "2005-01-03    162     36   130       57       2   178      66        64   \n",
       "2005-01-10     84     28    80       50      29   141      48        29   \n",
       "2005-01-17    191     51    64       46       4   157      33        33   \n",
       "2005-01-24    107     42    63       54      14   107      66        50   \n",
       "2005-01-31    172     40    61       49      11   124      63        56   \n",
       "\n",
       "            TOLNA  VAS  VESZPREM  ZALA  \n",
       "Date                                    \n",
       "2005-01-03     11   29        87    68  \n",
       "2005-01-10     58   53        68    26  \n",
       "2005-01-17     24   18        62    44  \n",
       "2005-01-24     25   21        43    31  \n",
       "2005-01-31      7   47        85    60  "
      ]
     },
     "execution_count": 18,
     "metadata": {},
     "output_type": "execute_result"
    }
   ],
   "source": [
    "df_time.head()"
   ]
  },
  {
   "cell_type": "code",
   "execution_count": null,
   "id": "1ebe9b15",
   "metadata": {},
   "outputs": [],
   "source": []
  },
  {
   "cell_type": "markdown",
   "id": "971faae6",
   "metadata": {},
   "source": [
    "## b) Identify the number of edges, nodes, and temporal features."
   ]
  },
  {
   "cell_type": "markdown",
   "id": "6c55652e",
   "metadata": {},
   "source": [
    "## c) Plot the adjacency matrix of the counties."
   ]
  },
  {
   "cell_type": "markdown",
   "id": "7b15cca0",
   "metadata": {},
   "source": [
    "# Task 2: Load the dataset into pytorch-geometric-temporal."
   ]
  },
  {
   "cell_type": "markdown",
   "id": "79c54421",
   "metadata": {},
   "source": [
    "## a) Load the dataset with the class: ChickenpoxDatasetLoader"
   ]
  },
  {
   "cell_type": "markdown",
   "id": "4f4a200c",
   "metadata": {},
   "source": [
    "## b) Identify the differences between loading the raw dataset from Task 1 and the processed dataset from this task."
   ]
  },
  {
   "cell_type": "markdown",
   "id": "70e04593",
   "metadata": {},
   "source": [
    "# Task 3: Define a model using pytorch-geometric-temporal"
   ]
  },
  {
   "cell_type": "markdown",
   "id": "84002aab",
   "metadata": {},
   "source": [
    "## i. Split the dataset into train and test."
   ]
  },
  {
   "cell_type": "markdown",
   "id": "cb103d01",
   "metadata": {},
   "source": [
    "\n",
    "## ii. Train your model on the training dataset\n"
   ]
  },
  {
   "cell_type": "markdown",
   "id": "df1318cc",
   "metadata": {},
   "source": [
    "\n",
    "## iii. Test your model on the test dataset and evaluate it for MSE."
   ]
  },
  {
   "cell_type": "markdown",
   "id": "6d7c7df4",
   "metadata": {},
   "source": [
    "# Task 4: Set up a hyperparameter optimization pipeline with nested 5-fold cross-validation."
   ]
  },
  {
   "cell_type": "markdown",
   "id": "a12228ab",
   "metadata": {},
   "source": [
    "## i. Familiarize yourself with the hyperparameter optimization package optuna (https://optuna.org/ ).\n"
   ]
  },
  {
   "cell_type": "markdown",
   "id": "b2a1b593",
   "metadata": {},
   "source": [
    "## ii. Integrate the logging package mlflow (https://mlflow.org/) to log your metrics.\n"
   ]
  },
  {
   "cell_type": "markdown",
   "id": "b1c42d78",
   "metadata": {},
   "source": [
    "## iii. Train and test your models and report the evaluation metrics with mean and standard deviation for the nested CV."
   ]
  },
  {
   "cell_type": "markdown",
   "id": "61d14464",
   "metadata": {},
   "source": [
    "# Task 5: Test implementations of 3 different models (such as GConvLSTM, GConvGRU, STGCN, DCRNN) and find out the best performing model\n"
   ]
  },
  {
   "cell_type": "markdown",
   "id": "462e128f",
   "metadata": {},
   "source": [
    "# Task 6: Compare your results with the following study: https://arxiv.org/abs/2102.08100"
   ]
  }
 ],
 "metadata": {
  "kernelspec": {
   "display_name": "mlhandson",
   "language": "python",
   "name": "python3"
  },
  "language_info": {
   "codemirror_mode": {
    "name": "ipython",
    "version": 3
   },
   "file_extension": ".py",
   "mimetype": "text/x-python",
   "name": "python",
   "nbconvert_exporter": "python",
   "pygments_lexer": "ipython3",
   "version": "3.12.8"
  }
 },
 "nbformat": 4,
 "nbformat_minor": 5
}
