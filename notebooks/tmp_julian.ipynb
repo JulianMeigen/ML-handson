{
 "cells": [
  {
   "cell_type": "markdown",
   "id": "6628520d",
   "metadata": {},
   "source": [
    "# Assignment Day 8\n",
    "\n",
    "## Team members:\n",
    "- Samuel Nebgen s6sanebg@uni-bonn.de\n",
    "- Muhammad Humza Arain s27marai@uni-bonn.de\n",
    "- Julian Meigen s82jmeig@uni-bonn.de\n",
    "\n",
    "## 17.09.2025\n",
    "\n",
    "Contributions were made by all team members in around the same amount, either based on discussions or coding."
   ]
  },
  {
   "cell_type": "markdown",
   "id": "503ea462",
   "metadata": {},
   "source": [
    "# Task 1: Understand the dataset"
   ]
  },
  {
   "cell_type": "markdown",
   "id": "c002fcff",
   "metadata": {},
   "source": [
    "## a) Load the dataset Hungarian Chickenpox"
   ]
  },
  {
   "cell_type": "code",
   "execution_count": 1,
   "id": "2c678dec",
   "metadata": {},
   "outputs": [],
   "source": [
    "import numpy as np\n",
    "import pandas as pd\n",
    "import matplotlib.pyplot as plt\n",
    "import seaborn as sns\n",
    "import os\n"
   ]
  },
  {
   "cell_type": "code",
   "execution_count": 2,
   "id": "349194da",
   "metadata": {},
   "outputs": [],
   "source": [
    "path_time_series = os.path.join(\"..\", \"data\", \"raw\", \"hungary_chickenpox.csv\")\n",
    "path_graph = os.path.join(\"..\", \"data\", \"raw\", \"hungary_county_edges.csv\")\n",
    "\n",
    "df_time = pd.read_csv(path_time_series, index_col=0, )\n",
    "df_time.index = pd.to_datetime(df_time.index, format=\"%d/%m/%Y\")"
   ]
  },
  {
   "cell_type": "code",
   "execution_count": 3,
   "id": "35942c08",
   "metadata": {},
   "outputs": [
    {
     "data": {
      "text/html": [
       "<div>\n",
       "<style scoped>\n",
       "    .dataframe tbody tr th:only-of-type {\n",
       "        vertical-align: middle;\n",
       "    }\n",
       "\n",
       "    .dataframe tbody tr th {\n",
       "        vertical-align: top;\n",
       "    }\n",
       "\n",
       "    .dataframe thead th {\n",
       "        text-align: right;\n",
       "    }\n",
       "</style>\n",
       "<table border=\"1\" class=\"dataframe\">\n",
       "  <thead>\n",
       "    <tr style=\"text-align: right;\">\n",
       "      <th></th>\n",
       "      <th>BUDAPEST</th>\n",
       "      <th>BARANYA</th>\n",
       "      <th>BACS</th>\n",
       "      <th>BEKES</th>\n",
       "      <th>BORSOD</th>\n",
       "      <th>CSONGRAD</th>\n",
       "      <th>FEJER</th>\n",
       "      <th>GYOR</th>\n",
       "      <th>HAJDU</th>\n",
       "      <th>HEVES</th>\n",
       "      <th>JASZ</th>\n",
       "      <th>KOMAROM</th>\n",
       "      <th>NOGRAD</th>\n",
       "      <th>PEST</th>\n",
       "      <th>SOMOGY</th>\n",
       "      <th>SZABOLCS</th>\n",
       "      <th>TOLNA</th>\n",
       "      <th>VAS</th>\n",
       "      <th>VESZPREM</th>\n",
       "      <th>ZALA</th>\n",
       "    </tr>\n",
       "    <tr>\n",
       "      <th>Date</th>\n",
       "      <th></th>\n",
       "      <th></th>\n",
       "      <th></th>\n",
       "      <th></th>\n",
       "      <th></th>\n",
       "      <th></th>\n",
       "      <th></th>\n",
       "      <th></th>\n",
       "      <th></th>\n",
       "      <th></th>\n",
       "      <th></th>\n",
       "      <th></th>\n",
       "      <th></th>\n",
       "      <th></th>\n",
       "      <th></th>\n",
       "      <th></th>\n",
       "      <th></th>\n",
       "      <th></th>\n",
       "      <th></th>\n",
       "      <th></th>\n",
       "    </tr>\n",
       "  </thead>\n",
       "  <tbody>\n",
       "    <tr>\n",
       "      <th>2005-01-03</th>\n",
       "      <td>168</td>\n",
       "      <td>79</td>\n",
       "      <td>30</td>\n",
       "      <td>173</td>\n",
       "      <td>169</td>\n",
       "      <td>42</td>\n",
       "      <td>136</td>\n",
       "      <td>120</td>\n",
       "      <td>162</td>\n",
       "      <td>36</td>\n",
       "      <td>130</td>\n",
       "      <td>57</td>\n",
       "      <td>2</td>\n",
       "      <td>178</td>\n",
       "      <td>66</td>\n",
       "      <td>64</td>\n",
       "      <td>11</td>\n",
       "      <td>29</td>\n",
       "      <td>87</td>\n",
       "      <td>68</td>\n",
       "    </tr>\n",
       "    <tr>\n",
       "      <th>2005-01-10</th>\n",
       "      <td>157</td>\n",
       "      <td>60</td>\n",
       "      <td>30</td>\n",
       "      <td>92</td>\n",
       "      <td>200</td>\n",
       "      <td>53</td>\n",
       "      <td>51</td>\n",
       "      <td>70</td>\n",
       "      <td>84</td>\n",
       "      <td>28</td>\n",
       "      <td>80</td>\n",
       "      <td>50</td>\n",
       "      <td>29</td>\n",
       "      <td>141</td>\n",
       "      <td>48</td>\n",
       "      <td>29</td>\n",
       "      <td>58</td>\n",
       "      <td>53</td>\n",
       "      <td>68</td>\n",
       "      <td>26</td>\n",
       "    </tr>\n",
       "    <tr>\n",
       "      <th>2005-01-17</th>\n",
       "      <td>96</td>\n",
       "      <td>44</td>\n",
       "      <td>31</td>\n",
       "      <td>86</td>\n",
       "      <td>93</td>\n",
       "      <td>30</td>\n",
       "      <td>93</td>\n",
       "      <td>84</td>\n",
       "      <td>191</td>\n",
       "      <td>51</td>\n",
       "      <td>64</td>\n",
       "      <td>46</td>\n",
       "      <td>4</td>\n",
       "      <td>157</td>\n",
       "      <td>33</td>\n",
       "      <td>33</td>\n",
       "      <td>24</td>\n",
       "      <td>18</td>\n",
       "      <td>62</td>\n",
       "      <td>44</td>\n",
       "    </tr>\n",
       "    <tr>\n",
       "      <th>2005-01-24</th>\n",
       "      <td>163</td>\n",
       "      <td>49</td>\n",
       "      <td>43</td>\n",
       "      <td>126</td>\n",
       "      <td>46</td>\n",
       "      <td>39</td>\n",
       "      <td>52</td>\n",
       "      <td>114</td>\n",
       "      <td>107</td>\n",
       "      <td>42</td>\n",
       "      <td>63</td>\n",
       "      <td>54</td>\n",
       "      <td>14</td>\n",
       "      <td>107</td>\n",
       "      <td>66</td>\n",
       "      <td>50</td>\n",
       "      <td>25</td>\n",
       "      <td>21</td>\n",
       "      <td>43</td>\n",
       "      <td>31</td>\n",
       "    </tr>\n",
       "    <tr>\n",
       "      <th>2005-01-31</th>\n",
       "      <td>122</td>\n",
       "      <td>78</td>\n",
       "      <td>53</td>\n",
       "      <td>87</td>\n",
       "      <td>103</td>\n",
       "      <td>34</td>\n",
       "      <td>95</td>\n",
       "      <td>131</td>\n",
       "      <td>172</td>\n",
       "      <td>40</td>\n",
       "      <td>61</td>\n",
       "      <td>49</td>\n",
       "      <td>11</td>\n",
       "      <td>124</td>\n",
       "      <td>63</td>\n",
       "      <td>56</td>\n",
       "      <td>7</td>\n",
       "      <td>47</td>\n",
       "      <td>85</td>\n",
       "      <td>60</td>\n",
       "    </tr>\n",
       "  </tbody>\n",
       "</table>\n",
       "</div>"
      ],
      "text/plain": [
       "            BUDAPEST  BARANYA  BACS  BEKES  BORSOD  CSONGRAD  FEJER  GYOR  \\\n",
       "Date                                                                        \n",
       "2005-01-03       168       79    30    173     169        42    136   120   \n",
       "2005-01-10       157       60    30     92     200        53     51    70   \n",
       "2005-01-17        96       44    31     86      93        30     93    84   \n",
       "2005-01-24       163       49    43    126      46        39     52   114   \n",
       "2005-01-31       122       78    53     87     103        34     95   131   \n",
       "\n",
       "            HAJDU  HEVES  JASZ  KOMAROM  NOGRAD  PEST  SOMOGY  SZABOLCS  \\\n",
       "Date                                                                      \n",
       "2005-01-03    162     36   130       57       2   178      66        64   \n",
       "2005-01-10     84     28    80       50      29   141      48        29   \n",
       "2005-01-17    191     51    64       46       4   157      33        33   \n",
       "2005-01-24    107     42    63       54      14   107      66        50   \n",
       "2005-01-31    172     40    61       49      11   124      63        56   \n",
       "\n",
       "            TOLNA  VAS  VESZPREM  ZALA  \n",
       "Date                                    \n",
       "2005-01-03     11   29        87    68  \n",
       "2005-01-10     58   53        68    26  \n",
       "2005-01-17     24   18        62    44  \n",
       "2005-01-24     25   21        43    31  \n",
       "2005-01-31      7   47        85    60  "
      ]
     },
     "execution_count": 3,
     "metadata": {},
     "output_type": "execute_result"
    }
   ],
   "source": [
    "df_time.head()"
   ]
  },
  {
   "cell_type": "code",
   "execution_count": 4,
   "id": "fb9677f1",
   "metadata": {},
   "outputs": [],
   "source": [
    "from torch_geometric.data import Data\n",
    "import torch"
   ]
  },
  {
   "cell_type": "code",
   "execution_count": 5,
   "id": "1ebe9b15",
   "metadata": {},
   "outputs": [
    {
     "data": {
      "text/plain": [
       "tensor([[ 0, 10],\n",
       "        [ 0,  0],\n",
       "        [ 0,  1]])"
      ]
     },
     "execution_count": 5,
     "metadata": {},
     "output_type": "execute_result"
    }
   ],
   "source": [
    "edge_list = torch.tensor(pd.read_csv(path_graph)[[\"id_1\", \"id_2\"]].to_numpy(), dtype=torch.long)\n",
    "edge_list[:3]"
   ]
  },
  {
   "cell_type": "code",
   "execution_count": 6,
   "id": "8864bc97",
   "metadata": {},
   "outputs": [],
   "source": [
    "data = Data(x=df_time.values, edge_index=edge_list.t().contiguous())"
   ]
  },
  {
   "cell_type": "markdown",
   "id": "971faae6",
   "metadata": {},
   "source": [
    "## b) Identify the number of edges, nodes, and temporal features."
   ]
  },
  {
   "cell_type": "code",
   "execution_count": 7,
   "id": "82cc77b3",
   "metadata": {},
   "outputs": [
    {
     "name": "stdout",
     "output_type": "stream",
     "text": [
      "Number of nodes:  20\n",
      "Number of edges:  102\n",
      "Number of temporal features per node:  522\n"
     ]
    }
   ],
   "source": [
    "# Number of nodes:\n",
    "data.num_nodes = data.x.shape[1]\n",
    "print(\"Number of nodes: \", data.num_nodes)\n",
    "\n",
    "# Number of edges:\n",
    "print(\"Number of edges: \", data.num_edges)\n",
    "\n",
    "# Number of temporal features per node:\n",
    "data.num_temp_features = data.x.shape[0]\n",
    "print(\"Number of temporal features per node: \", data.num_temp_features)"
   ]
  },
  {
   "cell_type": "code",
   "execution_count": 8,
   "id": "2956fbf8",
   "metadata": {},
   "outputs": [],
   "source": [
    "# Add additional information to the data object\n",
    "data.dates = df_time.index.tolist() # Need to convert it back to a list because PyG does not support pd.DatetimeIndex\n",
    "data.county_names = df_time.columns.tolist()"
   ]
  },
  {
   "cell_type": "code",
   "execution_count": 9,
   "id": "c9673b4a",
   "metadata": {},
   "outputs": [
    {
     "name": "stdout",
     "output_type": "stream",
     "text": [
      "Data(x=[522, 20], edge_index=[2, 102], num_nodes=20, num_temp_features=522, dates=[522], county_names=[20])\n"
     ]
    }
   ],
   "source": [
    "print(data)"
   ]
  },
  {
   "cell_type": "markdown",
   "id": "6c55652e",
   "metadata": {},
   "source": [
    "## c) Plot the adjacency matrix of the counties."
   ]
  },
  {
   "cell_type": "code",
   "execution_count": 10,
   "id": "7b67ba8a",
   "metadata": {},
   "outputs": [],
   "source": [
    "from torch_geometric.utils import to_dense_adj\n"
   ]
  },
  {
   "cell_type": "code",
   "execution_count": 11,
   "id": "60292ed6",
   "metadata": {},
   "outputs": [],
   "source": [
    "adj_mat = to_dense_adj(data.edge_index, max_num_nodes=data.num_nodes).squeeze().numpy()"
   ]
  },
  {
   "cell_type": "code",
   "execution_count": 12,
   "id": "f84a985a",
   "metadata": {},
   "outputs": [
    {
     "name": "stdout",
     "output_type": "stream",
     "text": [
      "[[1. 1. 0. 0. 0. 1. 1. 0. 0. 0. 1. 0. 0. 1. 0. 0. 1. 0. 0. 0.]\n",
      " [1. 1. 0. 0. 0. 0. 0. 0. 0. 0. 0. 0. 0. 0. 1. 0. 1. 0. 0. 0.]\n",
      " [0. 0. 1. 0. 0. 1. 0. 0. 1. 0. 1. 0. 0. 0. 0. 0. 0. 0. 0. 0.]\n",
      " [0. 0. 0. 1. 0. 0. 0. 0. 1. 1. 1. 0. 1. 0. 0. 1. 0. 0. 0. 0.]\n",
      " [0. 0. 0. 0. 1. 0. 0. 0. 0. 0. 0. 0. 0. 1. 0. 0. 0. 0. 0. 0.]\n",
      " [1. 0. 1. 0. 0. 1. 0. 0. 0. 0. 1. 0. 0. 0. 0. 0. 0. 0. 0. 0.]\n",
      " [1. 0. 0. 0. 0. 0. 1. 0. 0. 0. 0. 1. 0. 1. 1. 0. 1. 0. 1. 0.]\n",
      " [0. 0. 0. 0. 0. 0. 0. 1. 0. 0. 0. 1. 0. 0. 0. 0. 0. 1. 1. 0.]\n",
      " [0. 0. 1. 1. 0. 0. 0. 0. 1. 0. 1. 0. 0. 0. 0. 1. 0. 0. 0. 0.]\n",
      " [0. 0. 0. 1. 0. 0. 0. 0. 0. 1. 1. 0. 1. 1. 0. 0. 0. 0. 0. 0.]\n",
      " [1. 0. 1. 1. 0. 1. 0. 0. 1. 1. 1. 0. 0. 1. 0. 0. 0. 0. 0. 0.]\n",
      " [0. 0. 0. 0. 0. 0. 1. 1. 0. 0. 0. 1. 0. 1. 0. 0. 0. 0. 1. 0.]\n",
      " [0. 0. 0. 1. 0. 0. 0. 0. 0. 1. 0. 0. 1. 1. 0. 0. 0. 0. 0. 0.]\n",
      " [1. 0. 0. 0. 1. 0. 1. 0. 0. 1. 1. 1. 1. 1. 0. 0. 0. 0. 0. 0.]\n",
      " [0. 1. 0. 0. 0. 0. 1. 0. 0. 0. 0. 0. 0. 0. 1. 0. 1. 0. 1. 1.]\n",
      " [0. 0. 0. 1. 0. 0. 0. 0. 1. 0. 0. 0. 0. 0. 0. 1. 0. 0. 0. 0.]\n",
      " [1. 1. 0. 0. 0. 0. 1. 0. 0. 0. 0. 0. 0. 0. 1. 0. 1. 0. 0. 0.]\n",
      " [0. 0. 0. 0. 0. 0. 0. 1. 0. 0. 0. 0. 0. 0. 0. 0. 0. 1. 1. 1.]\n",
      " [0. 0. 0. 0. 0. 0. 1. 1. 0. 0. 0. 1. 0. 0. 1. 0. 0. 1. 1. 1.]\n",
      " [0. 0. 0. 0. 0. 0. 0. 0. 0. 0. 0. 0. 0. 0. 1. 0. 0. 1. 1. 1.]]\n"
     ]
    }
   ],
   "source": [
    "print(adj_mat)"
   ]
  },
  {
   "cell_type": "markdown",
   "id": "7b15cca0",
   "metadata": {},
   "source": [
    "# Task 2: Load the dataset into pytorch-geometric-temporal."
   ]
  },
  {
   "cell_type": "markdown",
   "id": "79c54421",
   "metadata": {},
   "source": [
    "## a) Load the dataset with the class: ChickenpoxDatasetLoader"
   ]
  },
  {
   "cell_type": "code",
   "execution_count": 13,
   "id": "201ab488",
   "metadata": {},
   "outputs": [
    {
     "name": "stderr",
     "output_type": "stream",
     "text": [
      "/Users/julianmeigen/Uni/2_Semester/ML_BlockCourse/ML-handson/.venv/lib/python3.9/site-packages/urllib3/__init__.py:35: NotOpenSSLWarning: urllib3 v2 only supports OpenSSL 1.1.1+, currently the 'ssl' module is compiled with 'LibreSSL 2.8.3'. See: https://github.com/urllib3/urllib3/issues/3020\n",
      "  warnings.warn(\n"
     ]
    }
   ],
   "source": [
    "from torch_geometric_temporal.dataset import ChickenpoxDatasetLoader"
   ]
  },
  {
   "cell_type": "code",
   "execution_count": null,
   "id": "d37261fd",
   "metadata": {},
   "outputs": [],
   "source": [
    "loader = ChickenpoxDatasetLoader(lags=4)\n",
    "dataset = loader.get_dataset()"
   ]
  },
  {
   "cell_type": "code",
   "execution_count": 33,
   "id": "a0baa779",
   "metadata": {},
   "outputs": [
    {
     "name": "stdout",
     "output_type": "stream",
     "text": [
      "Data(x=[20, 4], edge_index=[2, 102], edge_attr=[102], y=[20])\n"
     ]
    }
   ],
   "source": [
    "snapshot = dataset[0]\n",
    "print(snapshot)"
   ]
  },
  {
   "cell_type": "markdown",
   "id": "4f4a200c",
   "metadata": {},
   "source": [
    "## b) Identify the differences between loading the raw dataset from Task 1 and the processed dataset from this task."
   ]
  },
  {
   "cell_type": "markdown",
   "id": "9c61b164",
   "metadata": {},
   "source": [
    "By loading the temporal dataset with ChickenpoxDatasetLoader(lags=4), the vertices are the lagged weekly count of chickenpox cases. That means that each node has 4 features which shows the Chickenpox cases at t, t-1, t-2 and t-4. \n",
    "\n",
    "The target y shows the Chickenpox case for each node (county) in the upcomming week t+1. \n",
    "\n",
    "The dataset has 517 different time-snapshots "
   ]
  },
  {
   "cell_type": "code",
   "execution_count": 47,
   "id": "a33d2f31",
   "metadata": {},
   "outputs": [
    {
     "name": "stdout",
     "output_type": "stream",
     "text": [
      "The temporal dataset has 517 snapshots.\n",
      "Each snapshot has 4 features per node. Which shows the lagged weekly count of chickenpox cases.\n",
      "Each snapshot shows the chickenpox cases (per node) in the upcoming week t+1 as target y.\n"
     ]
    }
   ],
   "source": [
    "print(f\"The temporal dataset has {dataset.snapshot_count} snapshots.\")\n",
    "print(f\"Each snapshot has {snapshot.num_features} features per node. Which shows the lagged weekly count of chickenpox cases.\")\n",
    "print(\"Each snapshot shows the chickenpox cases (per node) in the upcoming week t+1 as target y.\")"
   ]
  },
  {
   "cell_type": "code",
   "execution_count": 51,
   "id": "b95ca1fd",
   "metadata": {},
   "outputs": [
    {
     "data": {
      "text/plain": [
       "Data(x=[20, 4], edge_index=[2, 102], edge_attr=[102], y=[20])"
      ]
     },
     "execution_count": 51,
     "metadata": {},
     "output_type": "execute_result"
    }
   ],
   "source": [
    "snapshot"
   ]
  },
  {
   "cell_type": "code",
   "execution_count": 49,
   "id": "80cdf074",
   "metadata": {},
   "outputs": [
    {
     "name": "stdout",
     "output_type": "stream",
     "text": [
      "The normal dataset has 522 temporal features per node. Which shows the weekly count of chickenpox cases for the whole time period.\n",
      "Depending on the tasks, the target in the normal dataset can be defined freely.\n"
     ]
    }
   ],
   "source": [
    "print(f\"The normal dataset has {data.num_temp_features} temporal features per node. Which shows the weekly count of chickenpox cases for the whole time period.\")\n",
    "print(f\"Depending on the tasks, the target in the normal dataset can be defined freely.\")"
   ]
  },
  {
   "cell_type": "markdown",
   "id": "47b0b492",
   "metadata": {},
   "source": [
    "In other words: The temporal dataset gives us 517 different Graphs which account for the Time Series so that each Graph is similiar to a Time Series Forecasting Matrix where the features are the previous time steps and the taget the upcoming weeks. Since the lag is 4 the first 3 rows cannot be used. But we dont know why there are 5 rows  missing (522 -> 517)"
   ]
  },
  {
   "cell_type": "markdown",
   "id": "70e04593",
   "metadata": {},
   "source": [
    "# Task 3: Define a model using pytorch-geometric-temporal"
   ]
  },
  {
   "cell_type": "code",
   "execution_count": 52,
   "id": "b3314893",
   "metadata": {},
   "outputs": [],
   "source": [
    "from torch_geometric_temporal import temporal_signal_split"
   ]
  },
  {
   "cell_type": "markdown",
   "id": "84002aab",
   "metadata": {},
   "source": [
    "## i. Split the dataset into train and test."
   ]
  },
  {
   "cell_type": "code",
   "execution_count": null,
   "id": "ba61a7c9",
   "metadata": {},
   "outputs": [],
   "source": [
    "train_dataset, test_dataset = temporal_signal_split(dataset, train_ratio=0.8)"
   ]
  },
  {
   "cell_type": "markdown",
   "id": "cb103d01",
   "metadata": {},
   "source": [
    "\n",
    "## ii. Train your model on the training dataset\n"
   ]
  },
  {
   "cell_type": "code",
   "execution_count": 58,
   "id": "9a9f37eb",
   "metadata": {},
   "outputs": [],
   "source": [
    "import torch\n",
    "torch.manual_seed(42)\n",
    "import torch.nn.functional as F\n",
    "from torch_geometric_temporal.nn.recurrent import DCRNN\n",
    "\n",
    "class RecurrentGCN(torch.nn.Module):\n",
    "    def __init__(self, node_features):\n",
    "        super(RecurrentGCN, self).__init__()\n",
    "        self.recurrent = DCRNN(node_features, 32, 1)\n",
    "        self.linear = torch.nn.Linear(32, 1)\n",
    "\n",
    "    def forward(self, x, edge_index, edge_weight):\n",
    "        h = self.recurrent(x, edge_index, edge_weight)\n",
    "        h = F.relu(h)\n",
    "        h = self.linear(h)\n",
    "        return h"
   ]
  },
  {
   "cell_type": "code",
   "execution_count": 59,
   "id": "a2f1998c",
   "metadata": {},
   "outputs": [],
   "source": [
    "model = RecurrentGCN(node_features = 4)\n",
    "\n",
    "optimizer = torch.optim.Adam(model.parameters(), lr=0.01)\n",
    "\n",
    "model.train()\n",
    "\n",
    "for epoch in range(200):\n",
    "    cost = 0\n",
    "    for time, snapshot in enumerate(train_dataset):\n",
    "        y_hat = model(snapshot.x, snapshot.edge_index, snapshot.edge_attr)\n",
    "        cost = cost + torch.mean((y_hat.squeeze() - snapshot.y)**2)\n",
    "    cost = cost / (time+1)\n",
    "    cost.backward()\n",
    "    optimizer.step()\n",
    "    optimizer.zero_grad()"
   ]
  },
  {
   "cell_type": "markdown",
   "id": "df1318cc",
   "metadata": {},
   "source": [
    "\n",
    "## iii. Test your model on the test dataset and evaluate it for MSE."
   ]
  },
  {
   "cell_type": "code",
   "execution_count": 61,
   "id": "f1c77628",
   "metadata": {},
   "outputs": [
    {
     "name": "stdout",
     "output_type": "stream",
     "text": [
      "MSE: 0.7201\n"
     ]
    }
   ],
   "source": [
    "model.eval()\n",
    "cost = 0\n",
    "for time, snapshot in enumerate(test_dataset):\n",
    "    y_hat = model(snapshot.x, snapshot.edge_index, snapshot.edge_attr)\n",
    "    cost = cost + torch.mean((y_hat.squeeze() - snapshot.y)**2)\n",
    "cost = cost / (time+1)\n",
    "cost = cost.item()\n",
    "print(\"MSE: {:.4f}\".format(cost))"
   ]
  },
  {
   "cell_type": "markdown",
   "id": "29914066",
   "metadata": {},
   "source": [
    "Since our target here is a continous variable and we are doing a Regression (Forecasting the Chickenpox counts based on previous counts), we use MSE (or RMSE), which sums up the squared differnece between the truth and the predicted value. Since it squares the errors, big differneces are stongly penalized but it is also sensitive to outliers. \n",
    "\n",
    "Beacuse we are doing a regression task its better to use MSE or MAE. If we would do a classification task, metrics such as f1-score or accuracy or AUROC could be used."
   ]
  },
  {
   "cell_type": "markdown",
   "id": "6d7c7df4",
   "metadata": {},
   "source": [
    "# Task 4: Set up a hyperparameter optimization pipeline with nested 5-fold cross-validation."
   ]
  },
  {
   "cell_type": "code",
   "execution_count": null,
   "id": "d7f45aab",
   "metadata": {},
   "outputs": [],
   "source": []
  },
  {
   "cell_type": "markdown",
   "id": "61d14464",
   "metadata": {},
   "source": [
    "# Task 5: Test implementations of 3 different models (such as GConvLSTM, GConvGRU, STGCN, DCRNN) and find out the best performing model\n"
   ]
  },
  {
   "cell_type": "markdown",
   "id": "462e128f",
   "metadata": {},
   "source": [
    "# Task 6: Compare your results with the following study: https://arxiv.org/abs/2102.08100"
   ]
  }
 ],
 "metadata": {
  "kernelspec": {
   "display_name": ".venv",
   "language": "python",
   "name": "python3"
  },
  "language_info": {
   "codemirror_mode": {
    "name": "ipython",
    "version": 3
   },
   "file_extension": ".py",
   "mimetype": "text/x-python",
   "name": "python",
   "nbconvert_exporter": "python",
   "pygments_lexer": "ipython3",
   "version": "3.9.6"
  }
 },
 "nbformat": 4,
 "nbformat_minor": 5
}
