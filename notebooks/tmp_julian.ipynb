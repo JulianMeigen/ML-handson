{
 "cells": [
  {
   "cell_type": "markdown",
   "id": "fac41085",
   "metadata": {},
   "source": [
    "# Assignment Day 9\n",
    "\n",
    "## Team members:\n",
    "- Samuel Nebgen s6sanebg@uni-bonn.de\n",
    "- Muhammad Humza Arain s27marai@uni-bonn.de\n",
    "- Julian Meigen s82jmeig@uni-bonn.de\n",
    "\n",
    "## 18.09.2025\n",
    "\n",
    "Contributions were made by all team members in around the same amount, either based on discussions or coding."
   ]
  },
  {
   "cell_type": "markdown",
   "id": "4066c4b9",
   "metadata": {},
   "source": [
    "# Task 1: Load the Mutagenicity dataset from TUDatasets (https://chrsmrrs.github.io/datasets/docs/datasets/)\n"
   ]
  },
  {
   "cell_type": "code",
   "execution_count": 1,
   "id": "3428648d",
   "metadata": {},
   "outputs": [],
   "source": [
    "import os\n",
    "import numpy as np\n",
    "import pandas as pd\n",
    "import matplotlib.pyplot as plt\n"
   ]
  },
  {
   "cell_type": "markdown",
   "id": "646224b1",
   "metadata": {},
   "source": [
    "# Task 2: Visualize the data by drawing the molecule graph of one sample.\n"
   ]
  },
  {
   "cell_type": "markdown",
   "id": "fb6de274",
   "metadata": {},
   "source": [
    "# Task 3: Train a GNN model with 5 convolutional layers with pytorch-geometric.\n"
   ]
  },
  {
   "cell_type": "markdown",
   "id": "ba427397",
   "metadata": {},
   "source": [
    "## a. Define the model.\n"
   ]
  },
  {
   "cell_type": "markdown",
   "id": "6bee4eeb",
   "metadata": {},
   "source": [
    "## b. Define the train and test function.\n"
   ]
  },
  {
   "cell_type": "markdown",
   "id": "e323c3fa",
   "metadata": {},
   "source": [
    "## c. Train the model for 100 epochs.\n"
   ]
  },
  {
   "cell_type": "markdown",
   "id": "b184fb12",
   "metadata": {},
   "source": [
    "# Task 4: Explain the predictions using the captum package (https://captum.ai/) with the method Integrated Gradients.\n"
   ]
  },
  {
   "cell_type": "markdown",
   "id": "868584b1",
   "metadata": {},
   "source": [
    "## a. Familiarize yourself with the method, and the captum package (https://captum.ai/docs/extension/integrated_gradients). Summarize the method in your own words (5-8sentences).\n"
   ]
  },
  {
   "cell_type": "markdown",
   "id": "ebce728b",
   "metadata": {},
   "source": [
    "\n",
    "## b. Calculate the attributions of the input to the model’s predictions.\n"
   ]
  },
  {
   "cell_type": "markdown",
   "id": "c449b07a",
   "metadata": {},
   "source": [
    "## c. Visualize your results. Which were the most important inputs for a prediction?\n"
   ]
  },
  {
   "cell_type": "markdown",
   "id": "e35c1ec6",
   "metadata": {},
   "source": [
    "# Task 5: Use the GNNExplainer from pytorch-geometric to explain the model’s predictions.\n"
   ]
  },
  {
   "cell_type": "markdown",
   "id": "d51304bb",
   "metadata": {},
   "source": [
    "## a. Familiarize yourself with the method (https://arxiv.org/pdf/1903.03894 ). Summarize the method in your own words (5-8 sentences).\n"
   ]
  },
  {
   "cell_type": "markdown",
   "id": "b7231ea5",
   "metadata": {},
   "source": [
    "## b. Visualize your results. Choose an interesting prediction and show the most important input."
   ]
  }
 ],
 "metadata": {
  "kernelspec": {
   "display_name": ".venv",
   "language": "python",
   "name": "python3"
  },
  "language_info": {
   "codemirror_mode": {
    "name": "ipython",
    "version": 3
   },
   "file_extension": ".py",
   "mimetype": "text/x-python",
   "name": "python",
   "nbconvert_exporter": "python",
   "pygments_lexer": "ipython3",
   "version": "3.9.6"
  }
 },
 "nbformat": 4,
 "nbformat_minor": 5
}
